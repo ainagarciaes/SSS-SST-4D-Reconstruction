{
 "cells": [
  {
   "cell_type": "code",
   "execution_count": 11,
   "id": "9a1233e6-4894-46bb-8f6c-55f0e5f60ae9",
   "metadata": {},
   "outputs": [
    {
     "name": "stdout",
     "output_type": "stream",
     "text": [
      "Processing from 0 to 700. Total of dates is: 3798\n",
      "Running model fit\n"
     ]
    },
    {
     "name": "stderr",
     "output_type": "stream",
     "text": [
      "[Parallel(n_jobs=8)]: Using backend ThreadingBackend with 8 concurrent workers.\n"
     ]
    },
    {
     "name": "stdout",
     "output_type": "stream",
     "text": [
      "building tree 1 of 50\n",
      "building tree 2 of 50\n",
      "building tree 3 of 50\n",
      "building tree 4 of 50\n",
      "building tree 5 of 50\n",
      "building tree 6 of 50\n",
      "building tree 7 of 50\n",
      "building tree 8 of 50\n",
      "building tree 9 of 50\n",
      "building tree 10 of 50\n",
      "building tree 11 of 50\n",
      "building tree 12 of 50\n",
      "building tree 13 of 50\n",
      "building tree 14 of 50\n",
      "building tree 15 of 50\n",
      "building tree 16 of 50\n",
      "building tree 17 of 50\n",
      "building tree 18 of 50\n",
      "building tree 19 of 50\n",
      "building tree 20 of 50\n",
      "building tree 21 of 50\n",
      "building tree 22 of 50\n",
      "building tree 23 of 50\n",
      "building tree 24 of 50\n"
     ]
    },
    {
     "name": "stderr",
     "output_type": "stream",
     "text": [
      "[Parallel(n_jobs=8)]: Done  16 tasks      | elapsed:  1.3min\n"
     ]
    },
    {
     "name": "stdout",
     "output_type": "stream",
     "text": [
      "building tree 25 of 50\n",
      "building tree 26 of 50\n",
      "building tree 27 of 50\n",
      "building tree 28 of 50\n",
      "building tree 29 of 50\n",
      "building tree 30 of 50\n",
      "building tree 31 of 50\n",
      "building tree 32 of 50\n",
      "building tree 33 of 50\n",
      "building tree 34 of 50\n",
      "building tree 35 of 50\n",
      "building tree 36 of 50\n",
      "building tree 37 of 50\n",
      "building tree 38 of 50\n",
      "building tree 39 of 50\n",
      "building tree 40 of 50\n",
      "building tree 41 of 50\n",
      "building tree 42 of 50\n",
      "building tree 43 of 50\n",
      "building tree 44 of 50\n",
      "building tree 45 of 50\n",
      "building tree 46 of 50\n",
      "building tree 47 of 50\n",
      "building tree 48 of 50\n",
      "building tree 49 of 50\n",
      "building tree 50 of 50\n"
     ]
    },
    {
     "name": "stderr",
     "output_type": "stream",
     "text": [
      "[Parallel(n_jobs=8)]: Done  50 out of  50 | elapsed:  4.6min finished\n"
     ]
    },
    {
     "name": "stdout",
     "output_type": "stream",
     "text": [
      "Processing from 700 to 1400. Total of dates is: 3798\n",
      "Running model fit\n"
     ]
    },
    {
     "name": "stderr",
     "output_type": "stream",
     "text": [
      "[Parallel(n_jobs=8)]: Using backend ThreadingBackend with 8 concurrent workers.\n"
     ]
    },
    {
     "name": "stdout",
     "output_type": "stream",
     "text": [
      "building tree 1 of 60\n",
      "building tree 2 of 60\n",
      "building tree 3 of 60\n",
      "building tree 4 of 60\n",
      "building tree 5 of 60\n",
      "building tree 6 of 60\n",
      "building tree 7 of 60\n",
      "building tree 8 of 60\n",
      "building tree 9 of 60\n",
      "building tree 10 of 60\n",
      "building tree 11 of 60\n",
      "building tree 12 of 60\n",
      "building tree 13 of 60\n",
      "building tree 14 of 60\n",
      "building tree 15 of 60\n",
      "building tree 16 of 60\n",
      "building tree 17 of 60\n",
      "building tree 18 of 60\n",
      "building tree 19 of 60\n",
      "building tree 20 of 60\n",
      "building tree 21 of 60\n",
      "building tree 22 of 60\n",
      "building tree 23 of 60\n",
      "building tree 24 of 60\n"
     ]
    },
    {
     "name": "stderr",
     "output_type": "stream",
     "text": [
      "[Parallel(n_jobs=8)]: Done  16 tasks      | elapsed:  1.3min\n"
     ]
    },
    {
     "name": "stdout",
     "output_type": "stream",
     "text": [
      "building tree 25 of 60\n",
      "building tree 26 of 60\n",
      "building tree 27 of 60\n",
      "building tree 28 of 60\n",
      "building tree 29 of 60\n",
      "building tree 30 of 60\n",
      "building tree 31 of 60\n",
      "building tree 32 of 60\n",
      "building tree 33 of 60\n",
      "building tree 34 of 60\n",
      "building tree 35 of 60\n",
      "building tree 36 of 60\n",
      "building tree 37 of 60\n",
      "building tree 38 of 60\n",
      "building tree 39 of 60\n",
      "building tree 40 of 60\n",
      "building tree 41 of 60\n",
      "building tree 42 of 60\n",
      "building tree 43 of 60\n",
      "building tree 44 of 60\n",
      "building tree 45 of 60\n",
      "building tree 46 of 60\n",
      "building tree 47 of 60\n",
      "building tree 48 of 60\n",
      "building tree 49 of 60\n",
      "building tree 50 of 60\n",
      "building tree 51 of 60\n",
      "building tree 52 of 60\n",
      "building tree 53 of 60\n",
      "building tree 54 of 60\n",
      "building tree 55 of 60\n",
      "building tree 56 of 60\n",
      "building tree 57 of 60\n",
      "building tree 58 of 60\n",
      "building tree 59 of 60\n",
      "building tree 60 of 60\n"
     ]
    },
    {
     "name": "stderr",
     "output_type": "stream",
     "text": [
      "[Parallel(n_jobs=8)]: Done  60 out of  60 | elapsed:  5.3min finished\n"
     ]
    },
    {
     "name": "stdout",
     "output_type": "stream",
     "text": [
      "Processing from 1400 to 2100. Total of dates is: 3798\n",
      "Running model fit\n"
     ]
    },
    {
     "name": "stderr",
     "output_type": "stream",
     "text": [
      "[Parallel(n_jobs=8)]: Using backend ThreadingBackend with 8 concurrent workers.\n"
     ]
    },
    {
     "name": "stdout",
     "output_type": "stream",
     "text": [
      "building tree 1 of 70\n",
      "building tree 2 of 70\n",
      "building tree 3 of 70\n",
      "building tree 4 of 70\n",
      "building tree 5 of 70\n",
      "building tree 6 of 70\n",
      "building tree 7 of 70\n",
      "building tree 8 of 70\n",
      "building tree 9 of 70\n",
      "building tree 10 of 70\n",
      "building tree 11 of 70\n",
      "building tree 12 of 70\n",
      "building tree 13 of 70\n",
      "building tree 14 of 70\n",
      "building tree 15 of 70\n",
      "building tree 16 of 70\n",
      "building tree 17 of 70\n",
      "building tree 18 of 70\n",
      "building tree 19 of 70\n",
      "building tree 20 of 70\n",
      "building tree 21 of 70\n",
      "building tree 22 of 70\n",
      "building tree 23 of 70\n",
      "building tree 24 of 70\n"
     ]
    },
    {
     "name": "stderr",
     "output_type": "stream",
     "text": [
      "[Parallel(n_jobs=8)]: Done  16 tasks      | elapsed:  1.3min\n"
     ]
    },
    {
     "name": "stdout",
     "output_type": "stream",
     "text": [
      "building tree 25 of 70\n",
      "building tree 26 of 70\n",
      "building tree 27 of 70\n",
      "building tree 28 of 70\n",
      "building tree 29 of 70\n",
      "building tree 30 of 70\n",
      "building tree 31 of 70\n",
      "building tree 32 of 70\n",
      "building tree 33 of 70\n",
      "building tree 34 of 70\n",
      "building tree 35 of 70\n",
      "building tree 36 of 70\n",
      "building tree 37 of 70\n",
      "building tree 38 of 70\n",
      "building tree 39 of 70\n",
      "building tree 40 of 70\n",
      "building tree 41 of 70\n",
      "building tree 42 of 70\n",
      "building tree 43 of 70\n",
      "building tree 44 of 70\n",
      "building tree 45 of 70\n",
      "building tree 46 of 70\n",
      "building tree 47 of 70\n",
      "building tree 48 of 70\n",
      "building tree 49 of 70\n",
      "building tree 50 of 70\n",
      "building tree 51 of 70\n",
      "building tree 52 of 70\n",
      "building tree 53 of 70\n",
      "building tree 54 of 70\n",
      "building tree 55 of 70\n",
      "building tree 56 of 70\n",
      "building tree 57 of 70\n",
      "building tree 58 of 70\n",
      "building tree 59 of 70\n",
      "building tree 60 of 70\n",
      "building tree 61 of 70\n",
      "building tree 62 of 70\n",
      "building tree 63 of 70\n",
      "building tree 64 of 70\n",
      "building tree 65 of 70\n",
      "building tree 66 of 70\n",
      "building tree 67 of 70\n",
      "building tree 68 of 70\n",
      "building tree 69 of 70\n",
      "building tree 70 of 70\n"
     ]
    },
    {
     "name": "stderr",
     "output_type": "stream",
     "text": [
      "[Parallel(n_jobs=8)]: Done  70 out of  70 | elapsed:  5.9min finished\n"
     ]
    },
    {
     "name": "stdout",
     "output_type": "stream",
     "text": [
      "Processing from 2100 to 2800. Total of dates is: 3798\n",
      "Running model fit\n"
     ]
    },
    {
     "name": "stderr",
     "output_type": "stream",
     "text": [
      "[Parallel(n_jobs=8)]: Using backend ThreadingBackend with 8 concurrent workers.\n"
     ]
    },
    {
     "name": "stdout",
     "output_type": "stream",
     "text": [
      "building tree 1 of 80\n",
      "building tree 2 of 80\n",
      "building tree 3 of 80\n",
      "building tree 4 of 80\n",
      "building tree 5 of 80\n",
      "building tree 6 of 80\n",
      "building tree 7 of 80\n",
      "building tree 8 of 80\n",
      "building tree 9 of 80\n",
      "building tree 10 of 80\n",
      "building tree 11 of 80\n",
      "building tree 12 of 80\n",
      "building tree 13 of 80\n",
      "building tree 14 of 80\n",
      "building tree 15 of 80\n",
      "building tree 16 of 80\n",
      "building tree 17 of 80\n",
      "building tree 18 of 80\n",
      "building tree 19 of 80\n",
      "building tree 20 of 80\n",
      "building tree 21 of 80\n",
      "building tree 22 of 80\n",
      "building tree 23 of 80\n",
      "building tree 24 of 80\n"
     ]
    },
    {
     "name": "stderr",
     "output_type": "stream",
     "text": [
      "[Parallel(n_jobs=8)]: Done  16 tasks      | elapsed:  1.4min\n"
     ]
    },
    {
     "name": "stdout",
     "output_type": "stream",
     "text": [
      "building tree 25 of 80\n",
      "building tree 26 of 80\n",
      "building tree 27 of 80\n",
      "building tree 28 of 80\n",
      "building tree 29 of 80\n",
      "building tree 30 of 80\n",
      "building tree 31 of 80\n",
      "building tree 32 of 80\n",
      "building tree 33 of 80\n",
      "building tree 34 of 80\n",
      "building tree 35 of 80\n",
      "building tree 36 of 80\n",
      "building tree 37 of 80\n",
      "building tree 38 of 80\n",
      "building tree 39 of 80\n",
      "building tree 40 of 80\n",
      "building tree 41 of 80\n",
      "building tree 42 of 80\n",
      "building tree 43 of 80\n",
      "building tree 44 of 80\n",
      "building tree 45 of 80\n",
      "building tree 46 of 80\n",
      "building tree 47 of 80\n",
      "building tree 48 of 80\n",
      "building tree 49 of 80\n",
      "building tree 50 of 80\n",
      "building tree 51 of 80\n",
      "building tree 52 of 80\n",
      "building tree 53 of 80\n",
      "building tree 54 of 80\n",
      "building tree 55 of 80\n",
      "building tree 56 of 80\n",
      "building tree 57 of 80\n",
      "building tree 58 of 80\n",
      "building tree 59 of 80\n",
      "building tree 60 of 80\n",
      "building tree 61 of 80\n",
      "building tree 62 of 80\n",
      "building tree 63 of 80\n",
      "building tree 64 of 80\n",
      "building tree 65 of 80\n",
      "building tree 66 of 80\n",
      "building tree 67 of 80\n",
      "building tree 68 of 80\n",
      "building tree 69 of 80\n",
      "building tree 70 of 80\n",
      "building tree 71 of 80\n",
      "building tree 72 of 80\n",
      "building tree 73 of 80\n",
      "building tree 74 of 80\n",
      "building tree 75 of 80\n",
      "building tree 76 of 80\n",
      "building tree 77 of 80\n",
      "building tree 78 of 80\n",
      "building tree 79 of 80\n",
      "building tree 80 of 80\n"
     ]
    },
    {
     "name": "stderr",
     "output_type": "stream",
     "text": [
      "[Parallel(n_jobs=8)]: Done  80 out of  80 | elapsed:  6.8min finished\n"
     ]
    },
    {
     "name": "stdout",
     "output_type": "stream",
     "text": [
      "Processing from 2800 to 3500. Total of dates is: 3798\n",
      "Running model fit\n"
     ]
    },
    {
     "name": "stderr",
     "output_type": "stream",
     "text": [
      "[Parallel(n_jobs=8)]: Using backend ThreadingBackend with 8 concurrent workers.\n"
     ]
    },
    {
     "name": "stdout",
     "output_type": "stream",
     "text": [
      "building tree 1 of 90\n",
      "building tree 2 of 90\n",
      "building tree 3 of 90\n",
      "building tree 4 of 90\n",
      "building tree 5 of 90\n",
      "building tree 6 of 90\n",
      "building tree 7 of 90\n",
      "building tree 8 of 90\n",
      "building tree 9 of 90\n",
      "building tree 10 of 90\n",
      "building tree 11 of 90\n",
      "building tree 12 of 90\n",
      "building tree 13 of 90\n",
      "building tree 14 of 90\n",
      "building tree 15 of 90\n",
      "building tree 16 of 90\n",
      "building tree 17 of 90\n",
      "building tree 18 of 90\n",
      "building tree 19 of 90\n",
      "building tree 20 of 90\n",
      "building tree 21 of 90\n",
      "building tree 22 of 90\n",
      "building tree 23 of 90\n",
      "building tree 24 of 90\n"
     ]
    },
    {
     "name": "stderr",
     "output_type": "stream",
     "text": [
      "[Parallel(n_jobs=8)]: Done  16 tasks      | elapsed:  1.3min\n"
     ]
    },
    {
     "name": "stdout",
     "output_type": "stream",
     "text": [
      "building tree 25 of 90\n",
      "building tree 26 of 90\n",
      "building tree 27 of 90\n",
      "building tree 28 of 90\n",
      "building tree 29 of 90\n",
      "building tree 30 of 90\n",
      "building tree 31 of 90\n",
      "building tree 32 of 90\n",
      "building tree 33 of 90\n",
      "building tree 34 of 90\n",
      "building tree 35 of 90\n",
      "building tree 36 of 90\n",
      "building tree 37 of 90\n",
      "building tree 38 of 90\n",
      "building tree 39 of 90\n",
      "building tree 40 of 90\n",
      "building tree 41 of 90\n",
      "building tree 42 of 90\n",
      "building tree 43 of 90\n",
      "building tree 44 of 90\n",
      "building tree 45 of 90\n",
      "building tree 46 of 90\n",
      "building tree 47 of 90\n",
      "building tree 48 of 90\n",
      "building tree 49 of 90\n",
      "building tree 50 of 90\n",
      "building tree 51 of 90\n",
      "building tree 52 of 90\n",
      "building tree 53 of 90\n",
      "building tree 54 of 90\n",
      "building tree 55 of 90\n",
      "building tree 56 of 90\n",
      "building tree 57 of 90\n",
      "building tree 58 of 90\n",
      "building tree 59 of 90\n",
      "building tree 60 of 90\n",
      "building tree 61 of 90\n",
      "building tree 62 of 90\n",
      "building tree 63 of 90\n",
      "building tree 64 of 90\n",
      "building tree 65 of 90\n",
      "building tree 66 of 90\n",
      "building tree 67 of 90\n",
      "building tree 68 of 90\n",
      "building tree 69 of 90\n",
      "building tree 70 of 90\n",
      "building tree 71 of 90\n",
      "building tree 72 of 90\n",
      "building tree 73 of 90\n",
      "building tree 74 of 90\n",
      "building tree 75 of 90\n",
      "building tree 76 of 90\n",
      "building tree 77 of 90\n",
      "building tree 78 of 90\n",
      "building tree 79 of 90\n",
      "building tree 80 of 90\n",
      "building tree 81 of 90\n",
      "building tree 82 of 90\n",
      "building tree 83 of 90\n",
      "building tree 84 of 90\n",
      "building tree 85 of 90\n",
      "building tree 86 of 90\n",
      "building tree 87 of 90\n",
      "building tree 88 of 90\n",
      "building tree 89 of 90\n",
      "building tree 90 of 90\n"
     ]
    },
    {
     "name": "stderr",
     "output_type": "stream",
     "text": [
      "[Parallel(n_jobs=8)]: Done  90 out of  90 | elapsed:  7.8min finished\n"
     ]
    },
    {
     "name": "stdout",
     "output_type": "stream",
     "text": [
      "Processing from 3500 to 4200. Total of dates is: 3798\n",
      "Running model fit\n"
     ]
    },
    {
     "name": "stderr",
     "output_type": "stream",
     "text": [
      "[Parallel(n_jobs=8)]: Using backend ThreadingBackend with 8 concurrent workers.\n"
     ]
    },
    {
     "name": "stdout",
     "output_type": "stream",
     "text": [
      "building tree 1 of 100building tree 2 of 100\n",
      "\n",
      "building tree 3 of 100\n",
      "building tree 4 of 100\n",
      "building tree 5 of 100\n",
      "building tree 6 of 100\n",
      "building tree 7 of 100\n",
      "building tree 8 of 100\n",
      "building tree 9 of 100\n",
      "building tree 10 of 100\n",
      "building tree 11 of 100\n",
      "building tree 12 of 100\n",
      "building tree 13 of 100\n",
      "building tree 14 of 100\n",
      "building tree 15 of 100\n",
      "building tree 16 of 100\n",
      "building tree 17 of 100\n",
      "building tree 18 of 100\n",
      "building tree 19 of 100\n",
      "building tree 20 of 100\n",
      "building tree 21 of 100\n",
      "building tree 22 of 100\n",
      "building tree 23 of 100\n",
      "building tree 24 of 100\n"
     ]
    },
    {
     "name": "stderr",
     "output_type": "stream",
     "text": [
      "[Parallel(n_jobs=8)]: Done  16 tasks      | elapsed:   30.0s\n"
     ]
    },
    {
     "name": "stdout",
     "output_type": "stream",
     "text": [
      "building tree 25 of 100\n",
      "building tree 26 of 100\n",
      "building tree 27 of 100\n",
      "building tree 28 of 100\n",
      "building tree 29 of 100\n",
      "building tree 30 of 100\n",
      "building tree 31 of 100\n",
      "building tree 32 of 100\n",
      "building tree 33 of 100\n",
      "building tree 34 of 100\n",
      "building tree 35 of 100\n",
      "building tree 36 of 100\n",
      "building tree 37 of 100\n",
      "building tree 38 of 100\n",
      "building tree 39 of 100\n",
      "building tree 40 of 100\n",
      "building tree 41 of 100\n",
      "building tree 42 of 100\n",
      "building tree 43 of 100\n",
      "building tree 44 of 100\n",
      "building tree 45 of 100\n",
      "building tree 46 of 100\n",
      "building tree 47 of 100\n",
      "building tree 48 of 100\n",
      "building tree 49 of 100\n",
      "building tree 50 of 100\n",
      "building tree 51 of 100\n",
      "building tree 52 of 100\n",
      "building tree 53 of 100\n",
      "building tree 54 of 100\n",
      "building tree 55 of 100\n",
      "building tree 56 of 100\n",
      "building tree 57 of 100\n",
      "building tree 58 of 100\n",
      "building tree 59 of 100\n",
      "building tree 60 of 100\n",
      "building tree 61 of 100\n",
      "building tree 62 of 100\n",
      "building tree 63 of 100\n",
      "building tree 64 of 100\n",
      "building tree 65 of 100\n",
      "building tree 66 of 100\n",
      "building tree 67 of 100\n",
      "building tree 68 of 100\n",
      "building tree 69 of 100\n",
      "building tree 70 of 100\n",
      "building tree 71 of 100\n",
      "building tree 72 of 100\n",
      "building tree 73 of 100\n",
      "building tree 74 of 100\n",
      "building tree 75 of 100\n",
      "building tree 76 of 100\n",
      "building tree 77 of 100\n",
      "building tree 78 of 100\n",
      "building tree 79 of 100\n",
      "building tree 80 of 100\n",
      "building tree 81 of 100\n",
      "building tree 82 of 100\n",
      "building tree 83 of 100\n",
      "building tree 84 of 100\n",
      "building tree 85 of 100\n",
      "building tree 86 of 100\n",
      "building tree 87 of 100\n",
      "building tree 88 of 100\n",
      "building tree 89 of 100\n",
      "building tree 90 of 100\n",
      "building tree 91 of 100\n",
      "building tree 92 of 100\n",
      "building tree 93 of 100\n",
      "building tree 94 of 100\n",
      "building tree 95 of 100\n",
      "building tree 96 of 100\n",
      "building tree 97 of 100\n",
      "building tree 98 of 100\n",
      "building tree 99 of 100\n",
      "building tree 100 of 100\n"
     ]
    },
    {
     "name": "stderr",
     "output_type": "stream",
     "text": [
      "[Parallel(n_jobs=8)]: Done 100 out of 100 | elapsed:  3.2min finished\n"
     ]
    },
    {
     "data": {
      "text/plain": [
       "'\\nmodel = pickle.load(open(\"sst_sss_ssh_mld_ssdensity_CTEMP.pkl\", \\'rb\\')) \\n\\nprofiles = []\\nfor date in testing_dates:\\n    date_str = date.strftime(\\'%Y%m%d\\')\\n    profiles_data = pd.read_feather(f\\'{input_data_10d}/{date_str}.feather\\')\\n    if not profiles_data.empty:\\n        profiles.append(profiles_data) \\n            \\nif profiles:\\n    profiles = pd.concat(profiles, ignore_index=True)  \\n\\nprofiles.dropna(inplace=True)\\n\\naccuracy = model.score(profiles[feature_cols], profiles[target_cols])\\nprint(\"Accuracy:\", accuracy)\\n\\n# https://scikit-learn.org/stable/auto_examples/ensemble/plot_forest_importances.html\\n\\nimportances = model.feature_importances_\\nstd = np.std([tree.feature_importances_ for tree in model.estimators_], axis=0)\\n\\nimport pandas as pd\\n\\nforest_importances = pd.Series(importances, index=feature_cols)\\n\\nfig, ax = plt.subplots()\\nforest_importances.plot.bar(yerr=std, ax=ax)\\nax.set_title(\"Feature importances using MDI\")\\nax.set_ylabel(\"Mean decrease in impurity\")\\nfig.tight_layout()\\nplt.savefig(\"../figures/mdi_CTEMP.png\")\\n\\nfrom sklearn.inspection import permutation_importance\\n\\nresult = permutation_importance(\\n    model, profiles[feature_cols], profiles[target_cols], n_repeats=10, random_state=42, n_jobs=1\\n)\\n\\nforest_importances = pd.Series(result.importances_mean, index=feature_cols)\\n\\nfig, ax = plt.subplots()\\nforest_importances.plot.bar(yerr=result.importances_std, ax=ax)\\nax.set_title(\"Feature importances using permutation on full model\")\\nax.set_ylabel(\"Mean accuracy decrease\")\\nfig.tight_layout()\\nplt.savefig(\"../figures/permutation_CTEMP.png\")\\n'"
      ]
     },
     "execution_count": 11,
     "metadata": {},
     "output_type": "execute_result"
    }
   ],
   "source": [
    "#!/usr/bin/env python\n",
    "# coding: utf-8\n",
    "import os\n",
    "\n",
    "from sklearn.ensemble import RandomForestRegressor\n",
    "from sklearn.linear_model import SGDRegressor\n",
    "import numpy as np\n",
    "import random\n",
    "import matplotlib.pyplot as plt\n",
    "from datetime import datetime, timedelta\n",
    "import pandas as pd\n",
    "\n",
    "\n",
    "# ## Split training/test datasets\n",
    "input_data = '../model_collocated_10d_filled' \n",
    "start_date = '20100101'\n",
    "end_date = '20221231'\n",
    "\n",
    "# To reproduce the code\n",
    "random.seed(56)\n",
    "\n",
    "# Get all feather files (named by date)\n",
    "files = [f for f in os.listdir(input_data) if f.endswith('.feather') and os.path.isfile(os.path.join(input_data, f))]\n",
    "\n",
    "# Get dates (without extension) and shuffle\n",
    "file_names = [os.path.splitext(f)[0] for f in files]\n",
    "file_names = [date for date in file_names if date >= start_date]\n",
    "file_names = [date for date in file_names if date <= end_date]\n",
    "\n",
    "random.shuffle(file_names)\n",
    "\n",
    "# Set 0.8 training and 0.2 testing\n",
    "split_point = int(len(file_names) * 0.8)  \n",
    "\n",
    "# Split train/test\n",
    "training_dates = file_names[:split_point]\n",
    "testing_dates = file_names[split_point:]\n",
    "\n",
    "# Convert string dates to datetime objects\n",
    "training_dates = [datetime.strptime(date, '%Y%m%d') for date in training_dates]\n",
    "testing_dates = [datetime.strptime(date, '%Y%m%d') for date in testing_dates]\n",
    "\n",
    "n_days_profiles = 5 # How many profiles days to take before and after the central date\n",
    "chunk_size = 700\n",
    "\n",
    "model = RandomForestRegressor(n_estimators=40, n_jobs=8, min_samples_leaf = 10, max_depth = 20, verbose=3)\n",
    "\n",
    "def select_columns_by_prefix(df, prefixes):\n",
    "    \"\"\" Select columns from a DataFrame based on given prefixes. \"\"\"\n",
    "    return df[[col for col in df.columns if any(col.startswith(prefix) for prefix in prefixes)]]\n",
    "\n",
    "# Load data. For each day, we want to get the surrounding days data too. (only profiles)\n",
    "for i in range(0, len(training_dates), chunk_size):\n",
    "    model.n_estimators += 10\n",
    "    dates_to_process = training_dates[i:i+chunk_size]\n",
    "    print(f'Processing from {i} to {i+chunk_size}. Total of dates is: {len(training_dates)}')\n",
    "    profiles = []\n",
    "    for date in dates_to_process:\n",
    "        date_str = date.strftime('%Y%m%d')\n",
    "        \n",
    "        profiles_data = pd.read_feather(f'{input_data}/{date_str}.feather')\n",
    "        \n",
    "        if not profiles_data.empty:\n",
    "            profiles.append(profiles_data) \n",
    "            \n",
    "    if profiles:\n",
    "        profiles = pd.concat(profiles, ignore_index=True)\n",
    "\n",
    "    print('Running model fit')\n",
    "    profiles.dropna(inplace=True)\n",
    "    profiles = profiles[profiles['LATITUDE'] >= -60]\n",
    "    profiles = profiles[profiles['LATITUDE'] <= 60]\n",
    "    predictors_df = profiles.loc[:, ['LATITUDE', 'SSS', 'SST', 'SSH', 'UO', 'VO', 'MLD']]\n",
    "    #predictors_df = profiles.loc[:, ['SSS', 'SST']]\n",
    "    target_df = select_columns_by_prefix(profiles, ['ASAL_', 'CTEMP_'])\n",
    "    model.fit(predictors_df, target_df)\n",
    "# endloop\n",
    "\n",
    "\n",
    "import pickle\n",
    "\n",
    "with open(\"model_random_forest.pkl\", \"wb\") as f:\n",
    "    pickle.dump(model, f)"
   ]
  },
  {
   "cell_type": "code",
   "execution_count": null,
   "id": "6c2143f4-c60e-44ba-affa-6c5654704d6d",
   "metadata": {},
   "outputs": [],
   "source": []
  }
 ],
 "metadata": {
  "kernelspec": {
   "display_name": "Python 3 (ipykernel)",
   "language": "python",
   "name": "python3"
  },
  "language_info": {
   "codemirror_mode": {
    "name": "ipython",
    "version": 3
   },
   "file_extension": ".py",
   "mimetype": "text/x-python",
   "name": "python",
   "nbconvert_exporter": "python",
   "pygments_lexer": "ipython3",
   "version": "3.11.8"
  }
 },
 "nbformat": 4,
 "nbformat_minor": 5
}
