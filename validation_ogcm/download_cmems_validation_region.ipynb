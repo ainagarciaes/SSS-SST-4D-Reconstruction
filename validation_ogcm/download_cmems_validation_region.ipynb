{
 "cells": [
  {
   "cell_type": "code",
   "execution_count": 31,
   "metadata": {},
   "outputs": [
    {
     "name": "stdout",
     "output_type": "stream",
     "text": [
      "ERROR - 2024-04-26T14:02:36Z - Client version 0.10.1 is not compatible with current backend service. Please update to the latest client version.\n",
      "ERROR - 2024-04-26T14:02:36Z - Client version 0.10.1 is not compatible with current backend service. Please update to the latest client version.\n",
      "ERROR - 2024-04-26T14:02:36Z - Client version 0.10.1 is not compatible with current backend service. Please update to the latest client version.\n",
      "INFO - 2024-04-26T14:02:37Z - Selected dataset version is \"202311\"\n",
      "INFO - 2024-04-26T14:02:37Z - Downloading using service original-files...\n"
     ]
    },
    {
     "name": "stderr",
     "output_type": "stream",
     "text": [
      "100%|██████████| 1/1 [00:13<00:00, 13.49s/it]\n"
     ]
    },
    {
     "name": "stdout",
     "output_type": "stream",
     "text": [
      "ERROR - 2024-04-26T14:02:55Z - Client version 0.10.1 is not compatible with current backend service. Please update to the latest client version.\n",
      "ERROR - 2024-04-26T14:02:55Z - Client version 0.10.1 is not compatible with current backend service. Please update to the latest client version.\n",
      "ERROR - 2024-04-26T14:02:55Z - Client version 0.10.1 is not compatible with current backend service. Please update to the latest client version.\n",
      "INFO - 2024-04-26T14:02:55Z - Selected dataset version is \"202311\"\n",
      "INFO - 2024-04-26T14:02:55Z - Downloading using service original-files...\n"
     ]
    },
    {
     "name": "stderr",
     "output_type": "stream",
     "text": [
      "100%|██████████| 1/1 [00:13<00:00, 13.46s/it]\n"
     ]
    },
    {
     "name": "stdout",
     "output_type": "stream",
     "text": [
      "ERROR - 2024-04-26T14:03:14Z - Client version 0.10.1 is not compatible with current backend service. Please update to the latest client version.\n",
      "ERROR - 2024-04-26T14:03:14Z - Client version 0.10.1 is not compatible with current backend service. Please update to the latest client version.\n",
      "ERROR - 2024-04-26T14:03:14Z - Client version 0.10.1 is not compatible with current backend service. Please update to the latest client version.\n",
      "INFO - 2024-04-26T14:03:14Z - Selected dataset version is \"202311\"\n",
      "INFO - 2024-04-26T14:03:14Z - Downloading using service original-files...\n"
     ]
    },
    {
     "name": "stderr",
     "output_type": "stream",
     "text": [
      "100%|██████████| 1/1 [00:13<00:00, 13.59s/it]\n"
     ]
    },
    {
     "name": "stdout",
     "output_type": "stream",
     "text": [
      "ERROR - 2024-04-26T14:03:33Z - Client version 0.10.1 is not compatible with current backend service. Please update to the latest client version.\n",
      "ERROR - 2024-04-26T14:03:33Z - Client version 0.10.1 is not compatible with current backend service. Please update to the latest client version.\n",
      "ERROR - 2024-04-26T14:03:33Z - Client version 0.10.1 is not compatible with current backend service. Please update to the latest client version.\n",
      "INFO - 2024-04-26T14:03:34Z - Selected dataset version is \"202311\"\n",
      "INFO - 2024-04-26T14:03:34Z - Downloading using service original-files...\n"
     ]
    },
    {
     "name": "stderr",
     "output_type": "stream",
     "text": [
      "100%|██████████| 1/1 [00:13<00:00, 13.66s/it]\n"
     ]
    },
    {
     "name": "stdout",
     "output_type": "stream",
     "text": [
      "ERROR - 2024-04-26T14:03:53Z - Client version 0.10.1 is not compatible with current backend service. Please update to the latest client version.\n",
      "ERROR - 2024-04-26T14:03:53Z - Client version 0.10.1 is not compatible with current backend service. Please update to the latest client version.\n",
      "ERROR - 2024-04-26T14:03:53Z - Client version 0.10.1 is not compatible with current backend service. Please update to the latest client version.\n",
      "INFO - 2024-04-26T14:03:53Z - Selected dataset version is \"202311\"\n",
      "INFO - 2024-04-26T14:03:53Z - Downloading using service original-files...\n"
     ]
    },
    {
     "name": "stderr",
     "output_type": "stream",
     "text": [
      "100%|██████████| 1/1 [00:13<00:00, 13.57s/it]\n"
     ]
    },
    {
     "name": "stdout",
     "output_type": "stream",
     "text": [
      "ERROR - 2024-04-26T14:04:12Z - Client version 0.10.1 is not compatible with current backend service. Please update to the latest client version.\n",
      "ERROR - 2024-04-26T14:04:12Z - Client version 0.10.1 is not compatible with current backend service. Please update to the latest client version.\n",
      "ERROR - 2024-04-26T14:04:12Z - Client version 0.10.1 is not compatible with current backend service. Please update to the latest client version.\n",
      "INFO - 2024-04-26T14:04:12Z - Selected dataset version is \"202311\"\n",
      "INFO - 2024-04-26T14:04:12Z - Downloading using service original-files...\n"
     ]
    },
    {
     "name": "stderr",
     "output_type": "stream",
     "text": [
      "100%|██████████| 1/1 [00:13<00:00, 13.73s/it]\n"
     ]
    },
    {
     "name": "stdout",
     "output_type": "stream",
     "text": [
      "ERROR - 2024-04-26T14:04:31Z - Client version 0.10.1 is not compatible with current backend service. Please update to the latest client version.\n",
      "ERROR - 2024-04-26T14:04:31Z - Client version 0.10.1 is not compatible with current backend service. Please update to the latest client version.\n",
      "ERROR - 2024-04-26T14:04:31Z - Client version 0.10.1 is not compatible with current backend service. Please update to the latest client version.\n",
      "INFO - 2024-04-26T14:04:32Z - Selected dataset version is \"202311\"\n",
      "INFO - 2024-04-26T14:04:32Z - Downloading using service original-files...\n"
     ]
    },
    {
     "name": "stderr",
     "output_type": "stream",
     "text": [
      "100%|██████████| 1/1 [00:13<00:00, 13.56s/it]\n"
     ]
    },
    {
     "name": "stdout",
     "output_type": "stream",
     "text": [
      "ERROR - 2024-04-26T14:04:50Z - Client version 0.10.1 is not compatible with current backend service. Please update to the latest client version.\n",
      "ERROR - 2024-04-26T14:04:50Z - Client version 0.10.1 is not compatible with current backend service. Please update to the latest client version.\n",
      "ERROR - 2024-04-26T14:04:50Z - Client version 0.10.1 is not compatible with current backend service. Please update to the latest client version.\n",
      "INFO - 2024-04-26T14:04:50Z - Selected dataset version is \"202311\"\n",
      "INFO - 2024-04-26T14:04:50Z - Downloading using service original-files...\n"
     ]
    },
    {
     "name": "stderr",
     "output_type": "stream",
     "text": [
      "100%|██████████| 1/1 [00:13<00:00, 13.62s/it]\n"
     ]
    },
    {
     "name": "stdout",
     "output_type": "stream",
     "text": [
      "ERROR - 2024-04-26T14:05:09Z - Client version 0.10.1 is not compatible with current backend service. Please update to the latest client version.\n",
      "ERROR - 2024-04-26T14:05:09Z - Client version 0.10.1 is not compatible with current backend service. Please update to the latest client version.\n",
      "ERROR - 2024-04-26T14:05:09Z - Client version 0.10.1 is not compatible with current backend service. Please update to the latest client version.\n",
      "INFO - 2024-04-26T14:05:09Z - Selected dataset version is \"202311\"\n",
      "INFO - 2024-04-26T14:05:09Z - Downloading using service original-files...\n"
     ]
    },
    {
     "name": "stderr",
     "output_type": "stream",
     "text": [
      "100%|██████████| 1/1 [00:13<00:00, 13.50s/it]\n"
     ]
    },
    {
     "name": "stdout",
     "output_type": "stream",
     "text": [
      "ERROR - 2024-04-26T14:05:28Z - Client version 0.10.1 is not compatible with current backend service. Please update to the latest client version.\n",
      "ERROR - 2024-04-26T14:05:28Z - Client version 0.10.1 is not compatible with current backend service. Please update to the latest client version.\n",
      "ERROR - 2024-04-26T14:05:28Z - Client version 0.10.1 is not compatible with current backend service. Please update to the latest client version.\n",
      "INFO - 2024-04-26T14:05:28Z - Selected dataset version is \"202311\"\n",
      "INFO - 2024-04-26T14:05:28Z - Downloading using service original-files...\n"
     ]
    },
    {
     "name": "stderr",
     "output_type": "stream",
     "text": [
      "100%|██████████| 1/1 [00:13<00:00, 13.57s/it]\n"
     ]
    },
    {
     "name": "stdout",
     "output_type": "stream",
     "text": [
      "ERROR - 2024-04-26T14:05:47Z - Client version 0.10.1 is not compatible with current backend service. Please update to the latest client version.\n",
      "ERROR - 2024-04-26T14:05:47Z - Client version 0.10.1 is not compatible with current backend service. Please update to the latest client version.\n",
      "ERROR - 2024-04-26T14:05:47Z - Client version 0.10.1 is not compatible with current backend service. Please update to the latest client version.\n",
      "INFO - 2024-04-26T14:05:47Z - Selected dataset version is \"202311\"\n",
      "INFO - 2024-04-26T14:05:47Z - Downloading using service original-files...\n"
     ]
    },
    {
     "name": "stderr",
     "output_type": "stream",
     "text": [
      "100%|██████████| 1/1 [00:13<00:00, 13.87s/it]\n"
     ]
    },
    {
     "name": "stdout",
     "output_type": "stream",
     "text": [
      "ERROR - 2024-04-26T14:06:06Z - Client version 0.10.1 is not compatible with current backend service. Please update to the latest client version.\n",
      "ERROR - 2024-04-26T14:06:06Z - Client version 0.10.1 is not compatible with current backend service. Please update to the latest client version.\n",
      "ERROR - 2024-04-26T14:06:06Z - Client version 0.10.1 is not compatible with current backend service. Please update to the latest client version.\n",
      "INFO - 2024-04-26T14:06:06Z - Selected dataset version is \"202311\"\n",
      "INFO - 2024-04-26T14:06:06Z - Downloading using service original-files...\n"
     ]
    },
    {
     "name": "stderr",
     "output_type": "stream",
     "text": [
      "100%|██████████| 1/1 [00:13<00:00, 13.50s/it]\n"
     ]
    },
    {
     "name": "stdout",
     "output_type": "stream",
     "text": [
      "ERROR - 2024-04-26T14:06:25Z - Client version 0.10.1 is not compatible with current backend service. Please update to the latest client version.\n",
      "ERROR - 2024-04-26T14:06:25Z - Client version 0.10.1 is not compatible with current backend service. Please update to the latest client version.\n",
      "ERROR - 2024-04-26T14:06:25Z - Client version 0.10.1 is not compatible with current backend service. Please update to the latest client version.\n",
      "INFO - 2024-04-26T14:06:25Z - Selected dataset version is \"202311\"\n",
      "INFO - 2024-04-26T14:06:25Z - Downloading using service original-files...\n"
     ]
    },
    {
     "name": "stderr",
     "output_type": "stream",
     "text": [
      "100%|██████████| 1/1 [00:13<00:00, 13.63s/it]\n"
     ]
    },
    {
     "name": "stdout",
     "output_type": "stream",
     "text": [
      "ERROR - 2024-04-26T14:06:44Z - Client version 0.10.1 is not compatible with current backend service. Please update to the latest client version.\n",
      "ERROR - 2024-04-26T14:06:44Z - Client version 0.10.1 is not compatible with current backend service. Please update to the latest client version.\n",
      "ERROR - 2024-04-26T14:06:44Z - Client version 0.10.1 is not compatible with current backend service. Please update to the latest client version.\n",
      "INFO - 2024-04-26T14:06:44Z - Selected dataset version is \"202311\"\n",
      "INFO - 2024-04-26T14:06:44Z - Downloading using service original-files...\n"
     ]
    },
    {
     "name": "stderr",
     "output_type": "stream",
     "text": [
      "100%|██████████| 1/1 [00:13<00:00, 13.48s/it]\n"
     ]
    },
    {
     "name": "stdout",
     "output_type": "stream",
     "text": [
      "ERROR - 2024-04-26T14:07:02Z - Client version 0.10.1 is not compatible with current backend service. Please update to the latest client version.\n",
      "ERROR - 2024-04-26T14:07:02Z - Client version 0.10.1 is not compatible with current backend service. Please update to the latest client version.\n",
      "ERROR - 2024-04-26T14:07:02Z - Client version 0.10.1 is not compatible with current backend service. Please update to the latest client version.\n",
      "INFO - 2024-04-26T14:07:03Z - Selected dataset version is \"202311\"\n",
      "INFO - 2024-04-26T14:07:03Z - Downloading using service original-files...\n"
     ]
    },
    {
     "name": "stderr",
     "output_type": "stream",
     "text": [
      "100%|██████████| 1/1 [00:13<00:00, 13.49s/it]\n"
     ]
    },
    {
     "name": "stdout",
     "output_type": "stream",
     "text": [
      "ERROR - 2024-04-26T14:07:21Z - Client version 0.10.1 is not compatible with current backend service. Please update to the latest client version.\n",
      "ERROR - 2024-04-26T14:07:21Z - Client version 0.10.1 is not compatible with current backend service. Please update to the latest client version.\n",
      "ERROR - 2024-04-26T14:07:21Z - Client version 0.10.1 is not compatible with current backend service. Please update to the latest client version.\n",
      "INFO - 2024-04-26T14:07:21Z - Selected dataset version is \"202311\"\n",
      "INFO - 2024-04-26T14:07:21Z - Downloading using service original-files...\n"
     ]
    },
    {
     "name": "stderr",
     "output_type": "stream",
     "text": [
      "100%|██████████| 1/1 [00:13<00:00, 13.63s/it]\n"
     ]
    },
    {
     "name": "stdout",
     "output_type": "stream",
     "text": [
      "ERROR - 2024-04-26T14:07:40Z - Client version 0.10.1 is not compatible with current backend service. Please update to the latest client version.\n",
      "ERROR - 2024-04-26T14:07:40Z - Client version 0.10.1 is not compatible with current backend service. Please update to the latest client version.\n",
      "ERROR - 2024-04-26T14:07:40Z - Client version 0.10.1 is not compatible with current backend service. Please update to the latest client version.\n",
      "INFO - 2024-04-26T14:07:40Z - Selected dataset version is \"202311\"\n",
      "INFO - 2024-04-26T14:07:40Z - Downloading using service original-files...\n"
     ]
    },
    {
     "name": "stderr",
     "output_type": "stream",
     "text": [
      "100%|██████████| 1/1 [00:13<00:00, 13.56s/it]\n"
     ]
    },
    {
     "name": "stdout",
     "output_type": "stream",
     "text": [
      "ERROR - 2024-04-26T14:07:59Z - Client version 0.10.1 is not compatible with current backend service. Please update to the latest client version.\n",
      "ERROR - 2024-04-26T14:07:59Z - Client version 0.10.1 is not compatible with current backend service. Please update to the latest client version.\n",
      "ERROR - 2024-04-26T14:07:59Z - Client version 0.10.1 is not compatible with current backend service. Please update to the latest client version.\n",
      "INFO - 2024-04-26T14:07:59Z - Selected dataset version is \"202311\"\n",
      "INFO - 2024-04-26T14:07:59Z - Downloading using service original-files...\n"
     ]
    },
    {
     "name": "stderr",
     "output_type": "stream",
     "text": [
      "100%|██████████| 1/1 [00:13<00:00, 13.70s/it]\n"
     ]
    },
    {
     "name": "stdout",
     "output_type": "stream",
     "text": [
      "ERROR - 2024-04-26T14:08:18Z - Client version 0.10.1 is not compatible with current backend service. Please update to the latest client version.\n",
      "ERROR - 2024-04-26T14:08:18Z - Client version 0.10.1 is not compatible with current backend service. Please update to the latest client version.\n",
      "ERROR - 2024-04-26T14:08:18Z - Client version 0.10.1 is not compatible with current backend service. Please update to the latest client version.\n",
      "INFO - 2024-04-26T14:08:18Z - Selected dataset version is \"202311\"\n",
      "INFO - 2024-04-26T14:08:18Z - Downloading using service original-files...\n"
     ]
    },
    {
     "name": "stderr",
     "output_type": "stream",
     "text": [
      "100%|██████████| 1/1 [00:13<00:00, 13.76s/it]\n"
     ]
    },
    {
     "name": "stdout",
     "output_type": "stream",
     "text": [
      "ERROR - 2024-04-26T14:08:37Z - Client version 0.10.1 is not compatible with current backend service. Please update to the latest client version.\n",
      "ERROR - 2024-04-26T14:08:37Z - Client version 0.10.1 is not compatible with current backend service. Please update to the latest client version.\n",
      "ERROR - 2024-04-26T14:08:37Z - Client version 0.10.1 is not compatible with current backend service. Please update to the latest client version.\n",
      "INFO - 2024-04-26T14:08:38Z - Selected dataset version is \"202311\"\n",
      "INFO - 2024-04-26T14:08:38Z - Downloading using service original-files...\n"
     ]
    },
    {
     "name": "stderr",
     "output_type": "stream",
     "text": [
      "100%|██████████| 1/1 [00:13<00:00, 13.46s/it]\n"
     ]
    },
    {
     "name": "stdout",
     "output_type": "stream",
     "text": [
      "ERROR - 2024-04-26T14:08:56Z - Client version 0.10.1 is not compatible with current backend service. Please update to the latest client version.\n",
      "ERROR - 2024-04-26T14:08:56Z - Client version 0.10.1 is not compatible with current backend service. Please update to the latest client version.\n",
      "ERROR - 2024-04-26T14:08:56Z - Client version 0.10.1 is not compatible with current backend service. Please update to the latest client version.\n",
      "INFO - 2024-04-26T14:08:56Z - Selected dataset version is \"202311\"\n",
      "INFO - 2024-04-26T14:08:56Z - Downloading using service original-files...\n"
     ]
    },
    {
     "name": "stderr",
     "output_type": "stream",
     "text": [
      "100%|██████████| 1/1 [00:13<00:00, 13.71s/it]\n"
     ]
    },
    {
     "name": "stdout",
     "output_type": "stream",
     "text": [
      "ERROR - 2024-04-26T14:09:15Z - Client version 0.10.1 is not compatible with current backend service. Please update to the latest client version.\n",
      "ERROR - 2024-04-26T14:09:15Z - Client version 0.10.1 is not compatible with current backend service. Please update to the latest client version.\n",
      "ERROR - 2024-04-26T14:09:15Z - Client version 0.10.1 is not compatible with current backend service. Please update to the latest client version.\n",
      "INFO - 2024-04-26T14:09:15Z - Selected dataset version is \"202311\"\n",
      "INFO - 2024-04-26T14:09:15Z - Downloading using service original-files...\n"
     ]
    },
    {
     "name": "stderr",
     "output_type": "stream",
     "text": [
      "100%|██████████| 1/1 [00:13<00:00, 13.40s/it]\n"
     ]
    },
    {
     "name": "stdout",
     "output_type": "stream",
     "text": [
      "ERROR - 2024-04-26T14:09:34Z - Client version 0.10.1 is not compatible with current backend service. Please update to the latest client version.\n",
      "ERROR - 2024-04-26T14:09:34Z - Client version 0.10.1 is not compatible with current backend service. Please update to the latest client version.\n",
      "ERROR - 2024-04-26T14:09:34Z - Client version 0.10.1 is not compatible with current backend service. Please update to the latest client version.\n",
      "INFO - 2024-04-26T14:09:34Z - Selected dataset version is \"202311\"\n",
      "INFO - 2024-04-26T14:09:34Z - Downloading using service original-files...\n"
     ]
    },
    {
     "name": "stderr",
     "output_type": "stream",
     "text": [
      "100%|██████████| 1/1 [00:13<00:00, 13.50s/it]\n"
     ]
    },
    {
     "name": "stdout",
     "output_type": "stream",
     "text": [
      "ERROR - 2024-04-26T14:09:53Z - Client version 0.10.1 is not compatible with current backend service. Please update to the latest client version.\n",
      "ERROR - 2024-04-26T14:09:53Z - Client version 0.10.1 is not compatible with current backend service. Please update to the latest client version.\n",
      "ERROR - 2024-04-26T14:09:53Z - Client version 0.10.1 is not compatible with current backend service. Please update to the latest client version.\n",
      "INFO - 2024-04-26T14:09:53Z - Selected dataset version is \"202311\"\n",
      "INFO - 2024-04-26T14:09:53Z - Downloading using service original-files...\n"
     ]
    },
    {
     "name": "stderr",
     "output_type": "stream",
     "text": [
      "100%|██████████| 1/1 [00:13<00:00, 13.53s/it]\n"
     ]
    },
    {
     "name": "stdout",
     "output_type": "stream",
     "text": [
      "ERROR - 2024-04-26T14:10:12Z - Client version 0.10.1 is not compatible with current backend service. Please update to the latest client version.\n",
      "ERROR - 2024-04-26T14:10:12Z - Client version 0.10.1 is not compatible with current backend service. Please update to the latest client version.\n",
      "ERROR - 2024-04-26T14:10:12Z - Client version 0.10.1 is not compatible with current backend service. Please update to the latest client version.\n",
      "INFO - 2024-04-26T14:10:12Z - Selected dataset version is \"202311\"\n",
      "INFO - 2024-04-26T14:10:12Z - Downloading using service original-files...\n"
     ]
    },
    {
     "name": "stderr",
     "output_type": "stream",
     "text": [
      "100%|██████████| 1/1 [00:13<00:00, 13.39s/it]\n"
     ]
    },
    {
     "name": "stdout",
     "output_type": "stream",
     "text": [
      "ERROR - 2024-04-26T14:10:30Z - Client version 0.10.1 is not compatible with current backend service. Please update to the latest client version.\n",
      "ERROR - 2024-04-26T14:10:30Z - Client version 0.10.1 is not compatible with current backend service. Please update to the latest client version.\n",
      "ERROR - 2024-04-26T14:10:30Z - Client version 0.10.1 is not compatible with current backend service. Please update to the latest client version.\n",
      "INFO - 2024-04-26T14:10:31Z - Selected dataset version is \"202311\"\n",
      "INFO - 2024-04-26T14:10:31Z - Downloading using service original-files...\n"
     ]
    },
    {
     "name": "stderr",
     "output_type": "stream",
     "text": [
      "100%|██████████| 1/1 [00:14<00:00, 14.03s/it]\n"
     ]
    },
    {
     "name": "stdout",
     "output_type": "stream",
     "text": [
      "ERROR - 2024-04-26T14:10:50Z - Client version 0.10.1 is not compatible with current backend service. Please update to the latest client version.\n",
      "ERROR - 2024-04-26T14:10:50Z - Client version 0.10.1 is not compatible with current backend service. Please update to the latest client version.\n",
      "ERROR - 2024-04-26T14:10:50Z - Client version 0.10.1 is not compatible with current backend service. Please update to the latest client version.\n",
      "INFO - 2024-04-26T14:10:50Z - Selected dataset version is \"202311\"\n",
      "INFO - 2024-04-26T14:10:50Z - Downloading using service original-files...\n"
     ]
    },
    {
     "name": "stderr",
     "output_type": "stream",
     "text": [
      "100%|██████████| 1/1 [00:13<00:00, 13.62s/it]\n"
     ]
    },
    {
     "name": "stdout",
     "output_type": "stream",
     "text": [
      "ERROR - 2024-04-26T14:11:09Z - Client version 0.10.1 is not compatible with current backend service. Please update to the latest client version.\n",
      "ERROR - 2024-04-26T14:11:09Z - Client version 0.10.1 is not compatible with current backend service. Please update to the latest client version.\n",
      "ERROR - 2024-04-26T14:11:09Z - Client version 0.10.1 is not compatible with current backend service. Please update to the latest client version.\n",
      "INFO - 2024-04-26T14:11:09Z - Selected dataset version is \"202311\"\n",
      "INFO - 2024-04-26T14:11:09Z - Downloading using service original-files...\n"
     ]
    },
    {
     "name": "stderr",
     "output_type": "stream",
     "text": [
      "100%|██████████| 1/1 [00:13<00:00, 13.59s/it]\n"
     ]
    },
    {
     "name": "stdout",
     "output_type": "stream",
     "text": [
      "ERROR - 2024-04-26T14:11:28Z - Client version 0.10.1 is not compatible with current backend service. Please update to the latest client version.\n",
      "ERROR - 2024-04-26T14:11:28Z - Client version 0.10.1 is not compatible with current backend service. Please update to the latest client version.\n",
      "ERROR - 2024-04-26T14:11:28Z - Client version 0.10.1 is not compatible with current backend service. Please update to the latest client version.\n",
      "INFO - 2024-04-26T14:11:28Z - Selected dataset version is \"202311\"\n",
      "INFO - 2024-04-26T14:11:28Z - Downloading using service original-files...\n"
     ]
    },
    {
     "name": "stderr",
     "output_type": "stream",
     "text": [
      "100%|██████████| 1/1 [00:13<00:00, 13.29s/it]\n"
     ]
    },
    {
     "name": "stdout",
     "output_type": "stream",
     "text": [
      "ERROR - 2024-04-26T14:11:46Z - Client version 0.10.1 is not compatible with current backend service. Please update to the latest client version.\n",
      "ERROR - 2024-04-26T14:11:46Z - Client version 0.10.1 is not compatible with current backend service. Please update to the latest client version.\n",
      "ERROR - 2024-04-26T14:11:46Z - Client version 0.10.1 is not compatible with current backend service. Please update to the latest client version.\n",
      "INFO - 2024-04-26T14:11:47Z - Selected dataset version is \"202311\"\n",
      "INFO - 2024-04-26T14:11:47Z - Downloading using service original-files...\n"
     ]
    },
    {
     "name": "stderr",
     "output_type": "stream",
     "text": [
      "100%|██████████| 1/1 [00:13<00:00, 13.69s/it]\n"
     ]
    },
    {
     "name": "stdout",
     "output_type": "stream",
     "text": [
      "ERROR - 2024-04-26T14:12:06Z - Client version 0.10.1 is not compatible with current backend service. Please update to the latest client version.\n",
      "ERROR - 2024-04-26T14:12:06Z - Client version 0.10.1 is not compatible with current backend service. Please update to the latest client version.\n",
      "ERROR - 2024-04-26T14:12:06Z - Client version 0.10.1 is not compatible with current backend service. Please update to the latest client version.\n",
      "INFO - 2024-04-26T14:12:07Z - Selected dataset version is \"202311\"\n",
      "INFO - 2024-04-26T14:12:07Z - Downloading using service original-files...\n"
     ]
    },
    {
     "name": "stderr",
     "output_type": "stream",
     "text": [
      "100%|██████████| 1/1 [00:13<00:00, 13.67s/it]\n"
     ]
    },
    {
     "name": "stdout",
     "output_type": "stream",
     "text": [
      "ERROR - 2024-04-26T14:12:26Z - Client version 0.10.1 is not compatible with current backend service. Please update to the latest client version.\n",
      "ERROR - 2024-04-26T14:12:26Z - Client version 0.10.1 is not compatible with current backend service. Please update to the latest client version.\n",
      "ERROR - 2024-04-26T14:12:26Z - Client version 0.10.1 is not compatible with current backend service. Please update to the latest client version.\n",
      "INFO - 2024-04-26T14:12:26Z - Selected dataset version is \"202311\"\n",
      "INFO - 2024-04-26T14:12:26Z - Downloading using service original-files...\n"
     ]
    },
    {
     "name": "stderr",
     "output_type": "stream",
     "text": [
      "100%|██████████| 1/1 [00:13<00:00, 13.48s/it]\n"
     ]
    },
    {
     "name": "stdout",
     "output_type": "stream",
     "text": [
      "ERROR - 2024-04-26T14:12:45Z - Client version 0.10.1 is not compatible with current backend service. Please update to the latest client version.\n",
      "ERROR - 2024-04-26T14:12:45Z - Client version 0.10.1 is not compatible with current backend service. Please update to the latest client version.\n",
      "ERROR - 2024-04-26T14:12:45Z - Client version 0.10.1 is not compatible with current backend service. Please update to the latest client version.\n",
      "INFO - 2024-04-26T14:12:45Z - Selected dataset version is \"202311\"\n",
      "INFO - 2024-04-26T14:12:45Z - Downloading using service original-files...\n"
     ]
    },
    {
     "name": "stderr",
     "output_type": "stream",
     "text": [
      "100%|██████████| 1/1 [00:13<00:00, 13.40s/it]\n"
     ]
    },
    {
     "name": "stdout",
     "output_type": "stream",
     "text": [
      "ERROR - 2024-04-26T14:13:03Z - Client version 0.10.1 is not compatible with current backend service. Please update to the latest client version.\n",
      "ERROR - 2024-04-26T14:13:03Z - Client version 0.10.1 is not compatible with current backend service. Please update to the latest client version.\n",
      "ERROR - 2024-04-26T14:13:03Z - Client version 0.10.1 is not compatible with current backend service. Please update to the latest client version.\n",
      "INFO - 2024-04-26T14:13:04Z - Selected dataset version is \"202311\"\n",
      "INFO - 2024-04-26T14:13:04Z - Downloading using service original-files...\n"
     ]
    },
    {
     "name": "stderr",
     "output_type": "stream",
     "text": [
      "100%|██████████| 1/1 [00:13<00:00, 13.40s/it]\n"
     ]
    },
    {
     "name": "stdout",
     "output_type": "stream",
     "text": [
      "ERROR - 2024-04-26T14:13:22Z - Client version 0.10.1 is not compatible with current backend service. Please update to the latest client version.\n",
      "ERROR - 2024-04-26T14:13:22Z - Client version 0.10.1 is not compatible with current backend service. Please update to the latest client version.\n",
      "ERROR - 2024-04-26T14:13:22Z - Client version 0.10.1 is not compatible with current backend service. Please update to the latest client version.\n",
      "INFO - 2024-04-26T14:13:23Z - Selected dataset version is \"202311\"\n",
      "INFO - 2024-04-26T14:13:23Z - Downloading using service original-files...\n"
     ]
    },
    {
     "name": "stderr",
     "output_type": "stream",
     "text": [
      "100%|██████████| 1/1 [00:13<00:00, 13.53s/it]\n"
     ]
    },
    {
     "name": "stdout",
     "output_type": "stream",
     "text": [
      "ERROR - 2024-04-26T14:13:41Z - Client version 0.10.1 is not compatible with current backend service. Please update to the latest client version.\n",
      "ERROR - 2024-04-26T14:13:41Z - Client version 0.10.1 is not compatible with current backend service. Please update to the latest client version.\n",
      "ERROR - 2024-04-26T14:13:41Z - Client version 0.10.1 is not compatible with current backend service. Please update to the latest client version.\n",
      "INFO - 2024-04-26T14:13:41Z - Selected dataset version is \"202311\"\n",
      "INFO - 2024-04-26T14:13:41Z - Downloading using service original-files...\n"
     ]
    },
    {
     "name": "stderr",
     "output_type": "stream",
     "text": [
      "100%|██████████| 1/1 [00:13<00:00, 13.33s/it]\n"
     ]
    },
    {
     "name": "stdout",
     "output_type": "stream",
     "text": [
      "ERROR - 2024-04-26T14:14:00Z - Client version 0.10.1 is not compatible with current backend service. Please update to the latest client version.\n",
      "ERROR - 2024-04-26T14:14:00Z - Client version 0.10.1 is not compatible with current backend service. Please update to the latest client version.\n",
      "ERROR - 2024-04-26T14:14:00Z - Client version 0.10.1 is not compatible with current backend service. Please update to the latest client version.\n",
      "INFO - 2024-04-26T14:14:00Z - Selected dataset version is \"202311\"\n",
      "INFO - 2024-04-26T14:14:00Z - Downloading using service original-files...\n"
     ]
    },
    {
     "name": "stderr",
     "output_type": "stream",
     "text": [
      "100%|██████████| 1/1 [00:13<00:00, 13.45s/it]\n"
     ]
    },
    {
     "name": "stdout",
     "output_type": "stream",
     "text": [
      "ERROR - 2024-04-26T14:14:18Z - Client version 0.10.1 is not compatible with current backend service. Please update to the latest client version.\n",
      "ERROR - 2024-04-26T14:14:18Z - Client version 0.10.1 is not compatible with current backend service. Please update to the latest client version.\n",
      "ERROR - 2024-04-26T14:14:18Z - Client version 0.10.1 is not compatible with current backend service. Please update to the latest client version.\n",
      "INFO - 2024-04-26T14:14:18Z - Selected dataset version is \"202311\"\n",
      "INFO - 2024-04-26T14:14:18Z - Downloading using service original-files...\n"
     ]
    },
    {
     "name": "stderr",
     "output_type": "stream",
     "text": [
      "100%|██████████| 1/1 [00:13<00:00, 13.58s/it]\n"
     ]
    },
    {
     "name": "stdout",
     "output_type": "stream",
     "text": [
      "ERROR - 2024-04-26T14:14:37Z - Client version 0.10.1 is not compatible with current backend service. Please update to the latest client version.\n",
      "ERROR - 2024-04-26T14:14:37Z - Client version 0.10.1 is not compatible with current backend service. Please update to the latest client version.\n",
      "ERROR - 2024-04-26T14:14:37Z - Client version 0.10.1 is not compatible with current backend service. Please update to the latest client version.\n",
      "INFO - 2024-04-26T14:14:37Z - Selected dataset version is \"202311\"\n",
      "INFO - 2024-04-26T14:14:37Z - Downloading using service original-files...\n"
     ]
    },
    {
     "name": "stderr",
     "output_type": "stream",
     "text": [
      "100%|██████████| 1/1 [00:13<00:00, 13.45s/it]\n"
     ]
    },
    {
     "name": "stdout",
     "output_type": "stream",
     "text": [
      "ERROR - 2024-04-26T14:14:55Z - Client version 0.10.1 is not compatible with current backend service. Please update to the latest client version.\n",
      "ERROR - 2024-04-26T14:14:55Z - Client version 0.10.1 is not compatible with current backend service. Please update to the latest client version.\n",
      "ERROR - 2024-04-26T14:14:55Z - Client version 0.10.1 is not compatible with current backend service. Please update to the latest client version.\n",
      "INFO - 2024-04-26T14:14:56Z - Selected dataset version is \"202311\"\n",
      "INFO - 2024-04-26T14:14:56Z - Downloading using service original-files...\n"
     ]
    },
    {
     "name": "stderr",
     "output_type": "stream",
     "text": [
      "100%|██████████| 1/1 [00:13<00:00, 13.77s/it]\n"
     ]
    },
    {
     "name": "stdout",
     "output_type": "stream",
     "text": [
      "ERROR - 2024-04-26T14:15:15Z - Client version 0.10.1 is not compatible with current backend service. Please update to the latest client version.\n",
      "ERROR - 2024-04-26T14:15:15Z - Client version 0.10.1 is not compatible with current backend service. Please update to the latest client version.\n",
      "ERROR - 2024-04-26T14:15:15Z - Client version 0.10.1 is not compatible with current backend service. Please update to the latest client version.\n",
      "INFO - 2024-04-26T14:15:15Z - Selected dataset version is \"202311\"\n",
      "INFO - 2024-04-26T14:15:15Z - Downloading using service original-files...\n"
     ]
    },
    {
     "name": "stderr",
     "output_type": "stream",
     "text": [
      "100%|██████████| 1/1 [00:13<00:00, 13.83s/it]\n"
     ]
    },
    {
     "name": "stdout",
     "output_type": "stream",
     "text": [
      "ERROR - 2024-04-26T14:15:34Z - Client version 0.10.1 is not compatible with current backend service. Please update to the latest client version.\n",
      "ERROR - 2024-04-26T14:15:34Z - Client version 0.10.1 is not compatible with current backend service. Please update to the latest client version.\n",
      "ERROR - 2024-04-26T14:15:34Z - Client version 0.10.1 is not compatible with current backend service. Please update to the latest client version.\n",
      "INFO - 2024-04-26T14:15:34Z - Selected dataset version is \"202311\"\n",
      "INFO - 2024-04-26T14:15:34Z - Downloading using service original-files...\n"
     ]
    },
    {
     "name": "stderr",
     "output_type": "stream",
     "text": [
      "100%|██████████| 1/1 [00:13<00:00, 13.66s/it]\n"
     ]
    },
    {
     "name": "stdout",
     "output_type": "stream",
     "text": [
      "ERROR - 2024-04-26T14:15:52Z - Client version 0.10.1 is not compatible with current backend service. Please update to the latest client version.\n",
      "ERROR - 2024-04-26T14:15:52Z - Client version 0.10.1 is not compatible with current backend service. Please update to the latest client version.\n",
      "ERROR - 2024-04-26T14:15:52Z - Client version 0.10.1 is not compatible with current backend service. Please update to the latest client version.\n",
      "INFO - 2024-04-26T14:15:52Z - Selected dataset version is \"202311\"\n",
      "INFO - 2024-04-26T14:15:52Z - Downloading using service original-files...\n"
     ]
    },
    {
     "name": "stderr",
     "output_type": "stream",
     "text": [
      "100%|██████████| 1/1 [00:13<00:00, 13.64s/it]\n"
     ]
    },
    {
     "name": "stdout",
     "output_type": "stream",
     "text": [
      "ERROR - 2024-04-26T14:16:11Z - Client version 0.10.1 is not compatible with current backend service. Please update to the latest client version.\n",
      "ERROR - 2024-04-26T14:16:11Z - Client version 0.10.1 is not compatible with current backend service. Please update to the latest client version.\n",
      "ERROR - 2024-04-26T14:16:11Z - Client version 0.10.1 is not compatible with current backend service. Please update to the latest client version.\n",
      "INFO - 2024-04-26T14:16:11Z - Selected dataset version is \"202311\"\n",
      "INFO - 2024-04-26T14:16:11Z - Downloading using service original-files...\n"
     ]
    },
    {
     "name": "stderr",
     "output_type": "stream",
     "text": [
      "100%|██████████| 1/1 [00:13<00:00, 13.82s/it]\n"
     ]
    },
    {
     "name": "stdout",
     "output_type": "stream",
     "text": [
      "ERROR - 2024-04-26T14:16:30Z - Client version 0.10.1 is not compatible with current backend service. Please update to the latest client version.\n",
      "ERROR - 2024-04-26T14:16:30Z - Client version 0.10.1 is not compatible with current backend service. Please update to the latest client version.\n",
      "ERROR - 2024-04-26T14:16:30Z - Client version 0.10.1 is not compatible with current backend service. Please update to the latest client version.\n",
      "INFO - 2024-04-26T14:16:30Z - Selected dataset version is \"202311\"\n",
      "INFO - 2024-04-26T14:16:30Z - Downloading using service original-files...\n"
     ]
    },
    {
     "name": "stderr",
     "output_type": "stream",
     "text": [
      "100%|██████████| 1/1 [00:13<00:00, 13.46s/it]\n"
     ]
    },
    {
     "name": "stdout",
     "output_type": "stream",
     "text": [
      "ERROR - 2024-04-26T14:16:49Z - Client version 0.10.1 is not compatible with current backend service. Please update to the latest client version.\n",
      "ERROR - 2024-04-26T14:16:49Z - Client version 0.10.1 is not compatible with current backend service. Please update to the latest client version.\n",
      "ERROR - 2024-04-26T14:16:49Z - Client version 0.10.1 is not compatible with current backend service. Please update to the latest client version.\n",
      "INFO - 2024-04-26T14:16:49Z - Selected dataset version is \"202311\"\n",
      "INFO - 2024-04-26T14:16:49Z - Downloading using service original-files...\n"
     ]
    },
    {
     "name": "stderr",
     "output_type": "stream",
     "text": [
      "100%|██████████| 1/1 [00:13<00:00, 13.77s/it]\n"
     ]
    },
    {
     "name": "stdout",
     "output_type": "stream",
     "text": [
      "ERROR - 2024-04-26T14:17:08Z - Client version 0.10.1 is not compatible with current backend service. Please update to the latest client version.\n",
      "ERROR - 2024-04-26T14:17:08Z - Client version 0.10.1 is not compatible with current backend service. Please update to the latest client version.\n",
      "ERROR - 2024-04-26T14:17:08Z - Client version 0.10.1 is not compatible with current backend service. Please update to the latest client version.\n",
      "INFO - 2024-04-26T14:17:08Z - Selected dataset version is \"202311\"\n",
      "INFO - 2024-04-26T14:17:08Z - Downloading using service original-files...\n"
     ]
    },
    {
     "name": "stderr",
     "output_type": "stream",
     "text": [
      "100%|██████████| 1/1 [00:13<00:00, 13.57s/it]\n"
     ]
    },
    {
     "name": "stdout",
     "output_type": "stream",
     "text": [
      "ERROR - 2024-04-26T14:17:26Z - Client version 0.10.1 is not compatible with current backend service. Please update to the latest client version.\n",
      "ERROR - 2024-04-26T14:17:26Z - Client version 0.10.1 is not compatible with current backend service. Please update to the latest client version.\n",
      "ERROR - 2024-04-26T14:17:26Z - Client version 0.10.1 is not compatible with current backend service. Please update to the latest client version.\n",
      "INFO - 2024-04-26T14:17:26Z - Selected dataset version is \"202311\"\n",
      "INFO - 2024-04-26T14:17:26Z - Downloading using service original-files...\n"
     ]
    },
    {
     "name": "stderr",
     "output_type": "stream",
     "text": [
      "100%|██████████| 1/1 [00:13<00:00, 13.45s/it]\n"
     ]
    },
    {
     "name": "stdout",
     "output_type": "stream",
     "text": [
      "ERROR - 2024-04-26T14:17:45Z - Client version 0.10.1 is not compatible with current backend service. Please update to the latest client version.\n",
      "ERROR - 2024-04-26T14:17:45Z - Client version 0.10.1 is not compatible with current backend service. Please update to the latest client version.\n",
      "ERROR - 2024-04-26T14:17:45Z - Client version 0.10.1 is not compatible with current backend service. Please update to the latest client version.\n",
      "INFO - 2024-04-26T14:17:45Z - Selected dataset version is \"202311\"\n",
      "INFO - 2024-04-26T14:17:45Z - Downloading using service original-files...\n"
     ]
    },
    {
     "name": "stderr",
     "output_type": "stream",
     "text": [
      "100%|██████████| 1/1 [00:13<00:00, 13.54s/it]\n"
     ]
    },
    {
     "name": "stdout",
     "output_type": "stream",
     "text": [
      "ERROR - 2024-04-26T14:18:03Z - Client version 0.10.1 is not compatible with current backend service. Please update to the latest client version.\n",
      "ERROR - 2024-04-26T14:18:03Z - Client version 0.10.1 is not compatible with current backend service. Please update to the latest client version.\n",
      "ERROR - 2024-04-26T14:18:03Z - Client version 0.10.1 is not compatible with current backend service. Please update to the latest client version.\n",
      "INFO - 2024-04-26T14:18:04Z - Selected dataset version is \"202311\"\n",
      "INFO - 2024-04-26T14:18:04Z - Downloading using service original-files...\n"
     ]
    },
    {
     "name": "stderr",
     "output_type": "stream",
     "text": [
      "100%|██████████| 1/1 [00:13<00:00, 13.53s/it]\n"
     ]
    },
    {
     "name": "stdout",
     "output_type": "stream",
     "text": [
      "ERROR - 2024-04-26T14:18:22Z - Client version 0.10.1 is not compatible with current backend service. Please update to the latest client version.\n",
      "ERROR - 2024-04-26T14:18:22Z - Client version 0.10.1 is not compatible with current backend service. Please update to the latest client version.\n",
      "ERROR - 2024-04-26T14:18:22Z - Client version 0.10.1 is not compatible with current backend service. Please update to the latest client version.\n",
      "INFO - 2024-04-26T14:18:23Z - Selected dataset version is \"202311\"\n",
      "INFO - 2024-04-26T14:18:23Z - Downloading using service original-files...\n"
     ]
    },
    {
     "name": "stderr",
     "output_type": "stream",
     "text": [
      "100%|██████████| 1/1 [00:13<00:00, 13.34s/it]\n"
     ]
    },
    {
     "name": "stdout",
     "output_type": "stream",
     "text": [
      "ERROR - 2024-04-26T14:18:41Z - Client version 0.10.1 is not compatible with current backend service. Please update to the latest client version.\n",
      "ERROR - 2024-04-26T14:18:41Z - Client version 0.10.1 is not compatible with current backend service. Please update to the latest client version.\n",
      "ERROR - 2024-04-26T14:18:41Z - Client version 0.10.1 is not compatible with current backend service. Please update to the latest client version.\n",
      "INFO - 2024-04-26T14:18:41Z - Selected dataset version is \"202311\"\n",
      "INFO - 2024-04-26T14:18:41Z - Downloading using service original-files...\n"
     ]
    },
    {
     "name": "stderr",
     "output_type": "stream",
     "text": [
      "100%|██████████| 1/1 [00:13<00:00, 13.61s/it]\n"
     ]
    },
    {
     "name": "stdout",
     "output_type": "stream",
     "text": [
      "ERROR - 2024-04-26T14:18:59Z - Client version 0.10.1 is not compatible with current backend service. Please update to the latest client version.\n",
      "ERROR - 2024-04-26T14:18:59Z - Client version 0.10.1 is not compatible with current backend service. Please update to the latest client version.\n",
      "ERROR - 2024-04-26T14:18:59Z - Client version 0.10.1 is not compatible with current backend service. Please update to the latest client version.\n",
      "INFO - 2024-04-26T14:19:00Z - Selected dataset version is \"202311\"\n",
      "INFO - 2024-04-26T14:19:00Z - Downloading using service original-files...\n"
     ]
    },
    {
     "name": "stderr",
     "output_type": "stream",
     "text": [
      "100%|██████████| 1/1 [00:13<00:00, 13.60s/it]\n"
     ]
    },
    {
     "name": "stdout",
     "output_type": "stream",
     "text": [
      "ERROR - 2024-04-26T14:19:18Z - Client version 0.10.1 is not compatible with current backend service. Please update to the latest client version.\n",
      "ERROR - 2024-04-26T14:19:18Z - Client version 0.10.1 is not compatible with current backend service. Please update to the latest client version.\n",
      "ERROR - 2024-04-26T14:19:18Z - Client version 0.10.1 is not compatible with current backend service. Please update to the latest client version.\n",
      "INFO - 2024-04-26T14:19:19Z - Selected dataset version is \"202311\"\n",
      "INFO - 2024-04-26T14:19:19Z - Downloading using service original-files...\n"
     ]
    },
    {
     "name": "stderr",
     "output_type": "stream",
     "text": [
      "100%|██████████| 1/1 [00:13<00:00, 13.59s/it]\n"
     ]
    },
    {
     "name": "stdout",
     "output_type": "stream",
     "text": [
      "ERROR - 2024-04-26T14:19:37Z - Client version 0.10.1 is not compatible with current backend service. Please update to the latest client version.\n",
      "ERROR - 2024-04-26T14:19:37Z - Client version 0.10.1 is not compatible with current backend service. Please update to the latest client version.\n",
      "ERROR - 2024-04-26T14:19:37Z - Client version 0.10.1 is not compatible with current backend service. Please update to the latest client version.\n",
      "INFO - 2024-04-26T14:19:37Z - Selected dataset version is \"202311\"\n",
      "INFO - 2024-04-26T14:19:37Z - Downloading using service original-files...\n"
     ]
    },
    {
     "name": "stderr",
     "output_type": "stream",
     "text": [
      "100%|██████████| 1/1 [00:13<00:00, 13.58s/it]\n"
     ]
    },
    {
     "name": "stdout",
     "output_type": "stream",
     "text": [
      "ERROR - 2024-04-26T14:19:55Z - Client version 0.10.1 is not compatible with current backend service. Please update to the latest client version.\n",
      "ERROR - 2024-04-26T14:19:55Z - Client version 0.10.1 is not compatible with current backend service. Please update to the latest client version.\n",
      "ERROR - 2024-04-26T14:19:55Z - Client version 0.10.1 is not compatible with current backend service. Please update to the latest client version.\n",
      "INFO - 2024-04-26T14:19:56Z - Selected dataset version is \"202311\"\n",
      "INFO - 2024-04-26T14:19:56Z - Downloading using service original-files...\n"
     ]
    },
    {
     "name": "stderr",
     "output_type": "stream",
     "text": [
      "100%|██████████| 1/1 [00:13<00:00, 13.47s/it]\n"
     ]
    },
    {
     "name": "stdout",
     "output_type": "stream",
     "text": [
      "ERROR - 2024-04-26T14:20:14Z - Client version 0.10.1 is not compatible with current backend service. Please update to the latest client version.\n",
      "ERROR - 2024-04-26T14:20:14Z - Client version 0.10.1 is not compatible with current backend service. Please update to the latest client version.\n",
      "ERROR - 2024-04-26T14:20:14Z - Client version 0.10.1 is not compatible with current backend service. Please update to the latest client version.\n",
      "INFO - 2024-04-26T14:20:14Z - Selected dataset version is \"202311\"\n",
      "INFO - 2024-04-26T14:20:14Z - Downloading using service original-files...\n"
     ]
    },
    {
     "name": "stderr",
     "output_type": "stream",
     "text": [
      "100%|██████████| 1/1 [00:13<00:00, 13.96s/it]\n"
     ]
    },
    {
     "name": "stdout",
     "output_type": "stream",
     "text": [
      "ERROR - 2024-04-26T14:20:33Z - Client version 0.10.1 is not compatible with current backend service. Please update to the latest client version.\n",
      "ERROR - 2024-04-26T14:20:33Z - Client version 0.10.1 is not compatible with current backend service. Please update to the latest client version.\n",
      "ERROR - 2024-04-26T14:20:33Z - Client version 0.10.1 is not compatible with current backend service. Please update to the latest client version.\n",
      "INFO - 2024-04-26T14:20:33Z - Selected dataset version is \"202311\"\n",
      "INFO - 2024-04-26T14:20:33Z - Downloading using service original-files...\n"
     ]
    },
    {
     "name": "stderr",
     "output_type": "stream",
     "text": [
      "100%|██████████| 1/1 [00:13<00:00, 13.81s/it]\n"
     ]
    },
    {
     "name": "stdout",
     "output_type": "stream",
     "text": [
      "ERROR - 2024-04-26T14:20:52Z - Client version 0.10.1 is not compatible with current backend service. Please update to the latest client version.\n",
      "ERROR - 2024-04-26T14:20:52Z - Client version 0.10.1 is not compatible with current backend service. Please update to the latest client version.\n",
      "ERROR - 2024-04-26T14:20:52Z - Client version 0.10.1 is not compatible with current backend service. Please update to the latest client version.\n",
      "INFO - 2024-04-26T14:20:52Z - Selected dataset version is \"202311\"\n",
      "INFO - 2024-04-26T14:20:52Z - Downloading using service original-files...\n"
     ]
    },
    {
     "name": "stderr",
     "output_type": "stream",
     "text": [
      "100%|██████████| 1/1 [00:15<00:00, 15.67s/it]\n"
     ]
    },
    {
     "name": "stdout",
     "output_type": "stream",
     "text": [
      "ERROR - 2024-04-26T14:21:12Z - Client version 0.10.1 is not compatible with current backend service. Please update to the latest client version.\n",
      "ERROR - 2024-04-26T14:21:12Z - Client version 0.10.1 is not compatible with current backend service. Please update to the latest client version.\n",
      "ERROR - 2024-04-26T14:21:12Z - Client version 0.10.1 is not compatible with current backend service. Please update to the latest client version.\n",
      "INFO - 2024-04-26T14:21:13Z - Selected dataset version is \"202311\"\n",
      "INFO - 2024-04-26T14:21:13Z - Downloading using service original-files...\n"
     ]
    },
    {
     "name": "stderr",
     "output_type": "stream",
     "text": [
      "100%|██████████| 1/1 [00:13<00:00, 13.81s/it]\n"
     ]
    },
    {
     "name": "stdout",
     "output_type": "stream",
     "text": [
      "ERROR - 2024-04-26T14:21:32Z - Client version 0.10.1 is not compatible with current backend service. Please update to the latest client version.\n",
      "ERROR - 2024-04-26T14:21:32Z - Client version 0.10.1 is not compatible with current backend service. Please update to the latest client version.\n",
      "ERROR - 2024-04-26T14:21:32Z - Client version 0.10.1 is not compatible with current backend service. Please update to the latest client version.\n",
      "INFO - 2024-04-26T14:21:32Z - Selected dataset version is \"202311\"\n",
      "INFO - 2024-04-26T14:21:32Z - Downloading using service original-files...\n"
     ]
    },
    {
     "name": "stderr",
     "output_type": "stream",
     "text": [
      "100%|██████████| 1/1 [00:13<00:00, 13.52s/it]\n"
     ]
    },
    {
     "name": "stdout",
     "output_type": "stream",
     "text": [
      "ERROR - 2024-04-26T14:21:51Z - Client version 0.10.1 is not compatible with current backend service. Please update to the latest client version.\n",
      "ERROR - 2024-04-26T14:21:51Z - Client version 0.10.1 is not compatible with current backend service. Please update to the latest client version.\n",
      "ERROR - 2024-04-26T14:21:51Z - Client version 0.10.1 is not compatible with current backend service. Please update to the latest client version.\n",
      "INFO - 2024-04-26T14:21:51Z - Selected dataset version is \"202311\"\n",
      "INFO - 2024-04-26T14:21:51Z - Downloading using service original-files...\n"
     ]
    },
    {
     "name": "stderr",
     "output_type": "stream",
     "text": [
      "100%|██████████| 1/1 [00:13<00:00, 13.95s/it]\n"
     ]
    },
    {
     "name": "stdout",
     "output_type": "stream",
     "text": [
      "ERROR - 2024-04-26T14:22:10Z - Client version 0.10.1 is not compatible with current backend service. Please update to the latest client version.\n",
      "ERROR - 2024-04-26T14:22:10Z - Client version 0.10.1 is not compatible with current backend service. Please update to the latest client version.\n",
      "ERROR - 2024-04-26T14:22:10Z - Client version 0.10.1 is not compatible with current backend service. Please update to the latest client version.\n",
      "INFO - 2024-04-26T14:22:10Z - Selected dataset version is \"202311\"\n",
      "INFO - 2024-04-26T14:22:10Z - Downloading using service original-files...\n"
     ]
    },
    {
     "name": "stderr",
     "output_type": "stream",
     "text": [
      "100%|██████████| 1/1 [00:13<00:00, 13.53s/it]\n"
     ]
    },
    {
     "name": "stdout",
     "output_type": "stream",
     "text": [
      "ERROR - 2024-04-26T14:22:28Z - Client version 0.10.1 is not compatible with current backend service. Please update to the latest client version.\n",
      "ERROR - 2024-04-26T14:22:28Z - Client version 0.10.1 is not compatible with current backend service. Please update to the latest client version.\n",
      "ERROR - 2024-04-26T14:22:28Z - Client version 0.10.1 is not compatible with current backend service. Please update to the latest client version.\n",
      "INFO - 2024-04-26T14:22:29Z - Selected dataset version is \"202311\"\n",
      "INFO - 2024-04-26T14:22:29Z - Downloading using service original-files...\n"
     ]
    },
    {
     "name": "stderr",
     "output_type": "stream",
     "text": [
      "100%|██████████| 1/1 [00:13<00:00, 13.67s/it]\n"
     ]
    },
    {
     "name": "stdout",
     "output_type": "stream",
     "text": [
      "ERROR - 2024-04-26T14:22:47Z - Client version 0.10.1 is not compatible with current backend service. Please update to the latest client version.\n",
      "ERROR - 2024-04-26T14:22:47Z - Client version 0.10.1 is not compatible with current backend service. Please update to the latest client version.\n",
      "ERROR - 2024-04-26T14:22:47Z - Client version 0.10.1 is not compatible with current backend service. Please update to the latest client version.\n",
      "INFO - 2024-04-26T14:22:48Z - Selected dataset version is \"202311\"\n",
      "INFO - 2024-04-26T14:22:48Z - Downloading using service original-files...\n"
     ]
    },
    {
     "name": "stderr",
     "output_type": "stream",
     "text": [
      "100%|██████████| 1/1 [00:13<00:00, 13.48s/it]\n"
     ]
    },
    {
     "name": "stdout",
     "output_type": "stream",
     "text": [
      "ERROR - 2024-04-26T14:23:06Z - Client version 0.10.1 is not compatible with current backend service. Please update to the latest client version.\n",
      "ERROR - 2024-04-26T14:23:06Z - Client version 0.10.1 is not compatible with current backend service. Please update to the latest client version.\n",
      "ERROR - 2024-04-26T14:23:06Z - Client version 0.10.1 is not compatible with current backend service. Please update to the latest client version.\n",
      "INFO - 2024-04-26T14:23:06Z - Selected dataset version is \"202311\"\n",
      "INFO - 2024-04-26T14:23:06Z - Downloading using service original-files...\n"
     ]
    },
    {
     "name": "stderr",
     "output_type": "stream",
     "text": [
      "100%|██████████| 1/1 [00:13<00:00, 13.74s/it]\n"
     ]
    },
    {
     "name": "stdout",
     "output_type": "stream",
     "text": [
      "ERROR - 2024-04-26T14:23:25Z - Client version 0.10.1 is not compatible with current backend service. Please update to the latest client version.\n",
      "ERROR - 2024-04-26T14:23:25Z - Client version 0.10.1 is not compatible with current backend service. Please update to the latest client version.\n",
      "ERROR - 2024-04-26T14:23:25Z - Client version 0.10.1 is not compatible with current backend service. Please update to the latest client version.\n",
      "INFO - 2024-04-26T14:23:25Z - Selected dataset version is \"202311\"\n",
      "INFO - 2024-04-26T14:23:25Z - Downloading using service original-files...\n"
     ]
    },
    {
     "name": "stderr",
     "output_type": "stream",
     "text": [
      "100%|██████████| 1/1 [00:13<00:00, 13.45s/it]\n"
     ]
    },
    {
     "name": "stdout",
     "output_type": "stream",
     "text": [
      "ERROR - 2024-04-26T14:23:43Z - Client version 0.10.1 is not compatible with current backend service. Please update to the latest client version.\n",
      "ERROR - 2024-04-26T14:23:43Z - Client version 0.10.1 is not compatible with current backend service. Please update to the latest client version.\n",
      "ERROR - 2024-04-26T14:23:43Z - Client version 0.10.1 is not compatible with current backend service. Please update to the latest client version.\n",
      "INFO - 2024-04-26T14:23:44Z - Selected dataset version is \"202311\"\n",
      "INFO - 2024-04-26T14:23:44Z - Downloading using service original-files...\n"
     ]
    },
    {
     "name": "stderr",
     "output_type": "stream",
     "text": [
      "100%|██████████| 1/1 [00:13<00:00, 13.56s/it]\n"
     ]
    },
    {
     "name": "stdout",
     "output_type": "stream",
     "text": [
      "ERROR - 2024-04-26T14:24:02Z - Client version 0.10.1 is not compatible with current backend service. Please update to the latest client version.\n",
      "ERROR - 2024-04-26T14:24:02Z - Client version 0.10.1 is not compatible with current backend service. Please update to the latest client version.\n",
      "ERROR - 2024-04-26T14:24:02Z - Client version 0.10.1 is not compatible with current backend service. Please update to the latest client version.\n",
      "INFO - 2024-04-26T14:24:02Z - Selected dataset version is \"202311\"\n",
      "INFO - 2024-04-26T14:24:02Z - Downloading using service original-files...\n"
     ]
    },
    {
     "name": "stderr",
     "output_type": "stream",
     "text": [
      "100%|██████████| 1/1 [00:13<00:00, 13.52s/it]\n"
     ]
    },
    {
     "name": "stdout",
     "output_type": "stream",
     "text": [
      "ERROR - 2024-04-26T14:24:21Z - Client version 0.10.1 is not compatible with current backend service. Please update to the latest client version.\n",
      "ERROR - 2024-04-26T14:24:21Z - Client version 0.10.1 is not compatible with current backend service. Please update to the latest client version.\n",
      "ERROR - 2024-04-26T14:24:21Z - Client version 0.10.1 is not compatible with current backend service. Please update to the latest client version.\n",
      "INFO - 2024-04-26T14:24:21Z - Selected dataset version is \"202311\"\n",
      "INFO - 2024-04-26T14:24:21Z - Downloading using service original-files...\n"
     ]
    },
    {
     "name": "stderr",
     "output_type": "stream",
     "text": [
      "100%|██████████| 1/1 [00:13<00:00, 13.68s/it]\n"
     ]
    },
    {
     "name": "stdout",
     "output_type": "stream",
     "text": [
      "ERROR - 2024-04-26T14:24:39Z - Client version 0.10.1 is not compatible with current backend service. Please update to the latest client version.\n",
      "ERROR - 2024-04-26T14:24:39Z - Client version 0.10.1 is not compatible with current backend service. Please update to the latest client version.\n",
      "ERROR - 2024-04-26T14:24:39Z - Client version 0.10.1 is not compatible with current backend service. Please update to the latest client version.\n",
      "INFO - 2024-04-26T14:24:40Z - Selected dataset version is \"202311\"\n",
      "INFO - 2024-04-26T14:24:40Z - Downloading using service original-files...\n"
     ]
    },
    {
     "name": "stderr",
     "output_type": "stream",
     "text": [
      "100%|██████████| 1/1 [00:13<00:00, 13.63s/it]\n"
     ]
    },
    {
     "name": "stdout",
     "output_type": "stream",
     "text": [
      "ERROR - 2024-04-26T14:24:58Z - Client version 0.10.1 is not compatible with current backend service. Please update to the latest client version.\n",
      "ERROR - 2024-04-26T14:24:58Z - Client version 0.10.1 is not compatible with current backend service. Please update to the latest client version.\n",
      "ERROR - 2024-04-26T14:24:58Z - Client version 0.10.1 is not compatible with current backend service. Please update to the latest client version.\n",
      "INFO - 2024-04-26T14:24:59Z - Selected dataset version is \"202311\"\n",
      "INFO - 2024-04-26T14:24:59Z - Downloading using service original-files...\n"
     ]
    },
    {
     "name": "stderr",
     "output_type": "stream",
     "text": [
      "100%|██████████| 1/1 [00:13<00:00, 13.52s/it]\n"
     ]
    },
    {
     "name": "stdout",
     "output_type": "stream",
     "text": [
      "ERROR - 2024-04-26T14:25:17Z - Client version 0.10.1 is not compatible with current backend service. Please update to the latest client version.\n",
      "ERROR - 2024-04-26T14:25:17Z - Client version 0.10.1 is not compatible with current backend service. Please update to the latest client version.\n",
      "ERROR - 2024-04-26T14:25:17Z - Client version 0.10.1 is not compatible with current backend service. Please update to the latest client version.\n",
      "INFO - 2024-04-26T14:25:17Z - Selected dataset version is \"202311\"\n",
      "INFO - 2024-04-26T14:25:17Z - Downloading using service original-files...\n"
     ]
    },
    {
     "name": "stderr",
     "output_type": "stream",
     "text": [
      "100%|██████████| 1/1 [00:13<00:00, 13.45s/it]\n"
     ]
    },
    {
     "name": "stdout",
     "output_type": "stream",
     "text": [
      "ERROR - 2024-04-26T14:25:35Z - Client version 0.10.1 is not compatible with current backend service. Please update to the latest client version.\n",
      "ERROR - 2024-04-26T14:25:35Z - Client version 0.10.1 is not compatible with current backend service. Please update to the latest client version.\n",
      "ERROR - 2024-04-26T14:25:35Z - Client version 0.10.1 is not compatible with current backend service. Please update to the latest client version.\n",
      "INFO - 2024-04-26T14:25:36Z - Selected dataset version is \"202311\"\n",
      "INFO - 2024-04-26T14:25:36Z - Downloading using service original-files...\n"
     ]
    },
    {
     "name": "stderr",
     "output_type": "stream",
     "text": [
      "100%|██████████| 1/1 [00:13<00:00, 13.33s/it]\n"
     ]
    },
    {
     "name": "stdout",
     "output_type": "stream",
     "text": [
      "ERROR - 2024-04-26T14:25:54Z - Client version 0.10.1 is not compatible with current backend service. Please update to the latest client version.\n",
      "ERROR - 2024-04-26T14:25:54Z - Client version 0.10.1 is not compatible with current backend service. Please update to the latest client version.\n",
      "ERROR - 2024-04-26T14:25:54Z - Client version 0.10.1 is not compatible with current backend service. Please update to the latest client version.\n",
      "INFO - 2024-04-26T14:25:54Z - Selected dataset version is \"202311\"\n",
      "INFO - 2024-04-26T14:25:54Z - Downloading using service original-files...\n"
     ]
    },
    {
     "name": "stderr",
     "output_type": "stream",
     "text": [
      "100%|██████████| 1/1 [00:13<00:00, 13.37s/it]\n"
     ]
    },
    {
     "name": "stdout",
     "output_type": "stream",
     "text": [
      "ERROR - 2024-04-26T14:26:12Z - Client version 0.10.1 is not compatible with current backend service. Please update to the latest client version.\n",
      "ERROR - 2024-04-26T14:26:12Z - Client version 0.10.1 is not compatible with current backend service. Please update to the latest client version.\n",
      "ERROR - 2024-04-26T14:26:12Z - Client version 0.10.1 is not compatible with current backend service. Please update to the latest client version.\n",
      "INFO - 2024-04-26T14:26:13Z - Selected dataset version is \"202311\"\n",
      "INFO - 2024-04-26T14:26:13Z - Downloading using service original-files...\n"
     ]
    },
    {
     "name": "stderr",
     "output_type": "stream",
     "text": [
      "100%|██████████| 1/1 [00:13<00:00, 13.64s/it]\n"
     ]
    },
    {
     "name": "stdout",
     "output_type": "stream",
     "text": [
      "ERROR - 2024-04-26T14:26:31Z - Client version 0.10.1 is not compatible with current backend service. Please update to the latest client version.\n",
      "ERROR - 2024-04-26T14:26:31Z - Client version 0.10.1 is not compatible with current backend service. Please update to the latest client version.\n",
      "ERROR - 2024-04-26T14:26:31Z - Client version 0.10.1 is not compatible with current backend service. Please update to the latest client version.\n",
      "INFO - 2024-04-26T14:26:31Z - Selected dataset version is \"202311\"\n",
      "INFO - 2024-04-26T14:26:31Z - Downloading using service original-files...\n"
     ]
    },
    {
     "name": "stderr",
     "output_type": "stream",
     "text": [
      "100%|██████████| 1/1 [00:13<00:00, 13.71s/it]\n"
     ]
    },
    {
     "name": "stdout",
     "output_type": "stream",
     "text": [
      "ERROR - 2024-04-26T14:26:50Z - Client version 0.10.1 is not compatible with current backend service. Please update to the latest client version.\n",
      "ERROR - 2024-04-26T14:26:50Z - Client version 0.10.1 is not compatible with current backend service. Please update to the latest client version.\n",
      "ERROR - 2024-04-26T14:26:50Z - Client version 0.10.1 is not compatible with current backend service. Please update to the latest client version.\n",
      "INFO - 2024-04-26T14:26:50Z - Selected dataset version is \"202311\"\n",
      "INFO - 2024-04-26T14:26:50Z - Downloading using service original-files...\n"
     ]
    },
    {
     "name": "stderr",
     "output_type": "stream",
     "text": [
      "100%|██████████| 1/1 [00:13<00:00, 13.54s/it]\n"
     ]
    },
    {
     "name": "stdout",
     "output_type": "stream",
     "text": [
      "ERROR - 2024-04-26T14:27:09Z - Client version 0.10.1 is not compatible with current backend service. Please update to the latest client version.\n",
      "ERROR - 2024-04-26T14:27:09Z - Client version 0.10.1 is not compatible with current backend service. Please update to the latest client version.\n",
      "ERROR - 2024-04-26T14:27:09Z - Client version 0.10.1 is not compatible with current backend service. Please update to the latest client version.\n",
      "INFO - 2024-04-26T14:27:09Z - Selected dataset version is \"202311\"\n",
      "INFO - 2024-04-26T14:27:09Z - Downloading using service original-files...\n"
     ]
    },
    {
     "name": "stderr",
     "output_type": "stream",
     "text": [
      "100%|██████████| 1/1 [00:13<00:00, 13.63s/it]\n"
     ]
    },
    {
     "name": "stdout",
     "output_type": "stream",
     "text": [
      "ERROR - 2024-04-26T14:27:28Z - Client version 0.10.1 is not compatible with current backend service. Please update to the latest client version.\n",
      "ERROR - 2024-04-26T14:27:28Z - Client version 0.10.1 is not compatible with current backend service. Please update to the latest client version.\n",
      "ERROR - 2024-04-26T14:27:28Z - Client version 0.10.1 is not compatible with current backend service. Please update to the latest client version.\n",
      "INFO - 2024-04-26T14:27:28Z - Selected dataset version is \"202311\"\n",
      "INFO - 2024-04-26T14:27:28Z - Downloading using service original-files...\n"
     ]
    },
    {
     "name": "stderr",
     "output_type": "stream",
     "text": [
      "100%|██████████| 1/1 [00:13<00:00, 13.61s/it]\n"
     ]
    },
    {
     "name": "stdout",
     "output_type": "stream",
     "text": [
      "ERROR - 2024-04-26T14:27:46Z - Client version 0.10.1 is not compatible with current backend service. Please update to the latest client version.\n",
      "ERROR - 2024-04-26T14:27:46Z - Client version 0.10.1 is not compatible with current backend service. Please update to the latest client version.\n",
      "ERROR - 2024-04-26T14:27:46Z - Client version 0.10.1 is not compatible with current backend service. Please update to the latest client version.\n",
      "INFO - 2024-04-26T14:27:47Z - Selected dataset version is \"202311\"\n",
      "INFO - 2024-04-26T14:27:47Z - Downloading using service original-files...\n"
     ]
    },
    {
     "name": "stderr",
     "output_type": "stream",
     "text": [
      "100%|██████████| 1/1 [00:13<00:00, 13.45s/it]\n"
     ]
    },
    {
     "name": "stdout",
     "output_type": "stream",
     "text": [
      "ERROR - 2024-04-26T14:28:05Z - Client version 0.10.1 is not compatible with current backend service. Please update to the latest client version.\n",
      "ERROR - 2024-04-26T14:28:05Z - Client version 0.10.1 is not compatible with current backend service. Please update to the latest client version.\n",
      "ERROR - 2024-04-26T14:28:05Z - Client version 0.10.1 is not compatible with current backend service. Please update to the latest client version.\n",
      "INFO - 2024-04-26T14:28:05Z - Selected dataset version is \"202311\"\n",
      "INFO - 2024-04-26T14:28:05Z - Downloading using service original-files...\n"
     ]
    },
    {
     "name": "stderr",
     "output_type": "stream",
     "text": [
      "100%|██████████| 1/1 [00:14<00:00, 14.05s/it]\n"
     ]
    },
    {
     "name": "stdout",
     "output_type": "stream",
     "text": [
      "ERROR - 2024-04-26T14:28:24Z - Client version 0.10.1 is not compatible with current backend service. Please update to the latest client version.\n",
      "ERROR - 2024-04-26T14:28:24Z - Client version 0.10.1 is not compatible with current backend service. Please update to the latest client version.\n",
      "ERROR - 2024-04-26T14:28:24Z - Client version 0.10.1 is not compatible with current backend service. Please update to the latest client version.\n",
      "INFO - 2024-04-26T14:28:24Z - Selected dataset version is \"202311\"\n",
      "INFO - 2024-04-26T14:28:24Z - Downloading using service original-files...\n"
     ]
    },
    {
     "name": "stderr",
     "output_type": "stream",
     "text": [
      "100%|██████████| 1/1 [00:13<00:00, 13.59s/it]\n"
     ]
    },
    {
     "name": "stdout",
     "output_type": "stream",
     "text": [
      "ERROR - 2024-04-26T14:28:43Z - Client version 0.10.1 is not compatible with current backend service. Please update to the latest client version.\n",
      "ERROR - 2024-04-26T14:28:43Z - Client version 0.10.1 is not compatible with current backend service. Please update to the latest client version.\n",
      "ERROR - 2024-04-26T14:28:43Z - Client version 0.10.1 is not compatible with current backend service. Please update to the latest client version.\n",
      "INFO - 2024-04-26T14:28:43Z - Selected dataset version is \"202311\"\n",
      "INFO - 2024-04-26T14:28:43Z - Downloading using service original-files...\n"
     ]
    },
    {
     "name": "stderr",
     "output_type": "stream",
     "text": [
      "100%|██████████| 1/1 [00:13<00:00, 13.45s/it]\n"
     ]
    },
    {
     "name": "stdout",
     "output_type": "stream",
     "text": [
      "ERROR - 2024-04-26T14:29:01Z - Client version 0.10.1 is not compatible with current backend service. Please update to the latest client version.\n",
      "ERROR - 2024-04-26T14:29:01Z - Client version 0.10.1 is not compatible with current backend service. Please update to the latest client version.\n",
      "ERROR - 2024-04-26T14:29:01Z - Client version 0.10.1 is not compatible with current backend service. Please update to the latest client version.\n",
      "INFO - 2024-04-26T14:29:02Z - Selected dataset version is \"202311\"\n",
      "INFO - 2024-04-26T14:29:02Z - Downloading using service original-files...\n"
     ]
    },
    {
     "name": "stderr",
     "output_type": "stream",
     "text": [
      "100%|██████████| 1/1 [00:13<00:00, 13.40s/it]\n"
     ]
    },
    {
     "name": "stdout",
     "output_type": "stream",
     "text": [
      "ERROR - 2024-04-26T14:29:20Z - Client version 0.10.1 is not compatible with current backend service. Please update to the latest client version.\n",
      "ERROR - 2024-04-26T14:29:20Z - Client version 0.10.1 is not compatible with current backend service. Please update to the latest client version.\n",
      "ERROR - 2024-04-26T14:29:20Z - Client version 0.10.1 is not compatible with current backend service. Please update to the latest client version.\n",
      "INFO - 2024-04-26T14:29:20Z - Selected dataset version is \"202311\"\n",
      "INFO - 2024-04-26T14:29:20Z - Downloading using service original-files...\n"
     ]
    },
    {
     "name": "stderr",
     "output_type": "stream",
     "text": [
      "100%|██████████| 1/1 [00:13<00:00, 13.35s/it]\n"
     ]
    },
    {
     "name": "stdout",
     "output_type": "stream",
     "text": [
      "ERROR - 2024-04-26T14:29:38Z - Client version 0.10.1 is not compatible with current backend service. Please update to the latest client version.\n",
      "ERROR - 2024-04-26T14:29:38Z - Client version 0.10.1 is not compatible with current backend service. Please update to the latest client version.\n",
      "ERROR - 2024-04-26T14:29:38Z - Client version 0.10.1 is not compatible with current backend service. Please update to the latest client version.\n",
      "INFO - 2024-04-26T14:29:39Z - Selected dataset version is \"202311\"\n",
      "INFO - 2024-04-26T14:29:39Z - Downloading using service original-files...\n"
     ]
    },
    {
     "name": "stderr",
     "output_type": "stream",
     "text": [
      "100%|██████████| 1/1 [00:13<00:00, 13.61s/it]\n"
     ]
    },
    {
     "name": "stdout",
     "output_type": "stream",
     "text": [
      "ERROR - 2024-04-26T14:29:57Z - Client version 0.10.1 is not compatible with current backend service. Please update to the latest client version.\n",
      "ERROR - 2024-04-26T14:29:57Z - Client version 0.10.1 is not compatible with current backend service. Please update to the latest client version.\n",
      "ERROR - 2024-04-26T14:29:57Z - Client version 0.10.1 is not compatible with current backend service. Please update to the latest client version.\n",
      "INFO - 2024-04-26T14:29:57Z - Selected dataset version is \"202311\"\n",
      "INFO - 2024-04-26T14:29:57Z - Downloading using service original-files...\n"
     ]
    },
    {
     "name": "stderr",
     "output_type": "stream",
     "text": [
      "100%|██████████| 1/1 [00:13<00:00, 13.39s/it]\n"
     ]
    },
    {
     "name": "stdout",
     "output_type": "stream",
     "text": [
      "ERROR - 2024-04-26T14:30:15Z - Client version 0.10.1 is not compatible with current backend service. Please update to the latest client version.\n",
      "ERROR - 2024-04-26T14:30:15Z - Client version 0.10.1 is not compatible with current backend service. Please update to the latest client version.\n",
      "ERROR - 2024-04-26T14:30:15Z - Client version 0.10.1 is not compatible with current backend service. Please update to the latest client version.\n",
      "INFO - 2024-04-26T14:30:16Z - Selected dataset version is \"202311\"\n",
      "INFO - 2024-04-26T14:30:16Z - Downloading using service original-files...\n"
     ]
    },
    {
     "name": "stderr",
     "output_type": "stream",
     "text": [
      "100%|██████████| 1/1 [00:13<00:00, 13.65s/it]\n"
     ]
    },
    {
     "name": "stdout",
     "output_type": "stream",
     "text": [
      "ERROR - 2024-04-26T14:30:34Z - Client version 0.10.1 is not compatible with current backend service. Please update to the latest client version.\n",
      "ERROR - 2024-04-26T14:30:34Z - Client version 0.10.1 is not compatible with current backend service. Please update to the latest client version.\n",
      "ERROR - 2024-04-26T14:30:34Z - Client version 0.10.1 is not compatible with current backend service. Please update to the latest client version.\n",
      "INFO - 2024-04-26T14:30:34Z - Selected dataset version is \"202311\"\n",
      "INFO - 2024-04-26T14:30:34Z - Downloading using service original-files...\n"
     ]
    },
    {
     "name": "stderr",
     "output_type": "stream",
     "text": [
      "100%|██████████| 1/1 [00:13<00:00, 13.55s/it]\n"
     ]
    },
    {
     "name": "stdout",
     "output_type": "stream",
     "text": [
      "ERROR - 2024-04-26T14:30:53Z - Client version 0.10.1 is not compatible with current backend service. Please update to the latest client version.\n",
      "ERROR - 2024-04-26T14:30:53Z - Client version 0.10.1 is not compatible with current backend service. Please update to the latest client version.\n",
      "ERROR - 2024-04-26T14:30:53Z - Client version 0.10.1 is not compatible with current backend service. Please update to the latest client version.\n",
      "INFO - 2024-04-26T14:30:53Z - Selected dataset version is \"202311\"\n",
      "INFO - 2024-04-26T14:30:53Z - Downloading using service original-files...\n"
     ]
    },
    {
     "name": "stderr",
     "output_type": "stream",
     "text": [
      "100%|██████████| 1/1 [00:13<00:00, 13.67s/it]\n"
     ]
    },
    {
     "name": "stdout",
     "output_type": "stream",
     "text": [
      "ERROR - 2024-04-26T14:31:11Z - Client version 0.10.1 is not compatible with current backend service. Please update to the latest client version.\n",
      "ERROR - 2024-04-26T14:31:11Z - Client version 0.10.1 is not compatible with current backend service. Please update to the latest client version.\n",
      "ERROR - 2024-04-26T14:31:11Z - Client version 0.10.1 is not compatible with current backend service. Please update to the latest client version.\n",
      "INFO - 2024-04-26T14:31:12Z - Selected dataset version is \"202311\"\n",
      "INFO - 2024-04-26T14:31:12Z - Downloading using service original-files...\n"
     ]
    },
    {
     "name": "stderr",
     "output_type": "stream",
     "text": [
      "100%|██████████| 1/1 [00:13<00:00, 13.69s/it]\n"
     ]
    },
    {
     "name": "stdout",
     "output_type": "stream",
     "text": [
      "ERROR - 2024-04-26T14:31:30Z - Client version 0.10.1 is not compatible with current backend service. Please update to the latest client version.\n",
      "ERROR - 2024-04-26T14:31:30Z - Client version 0.10.1 is not compatible with current backend service. Please update to the latest client version.\n",
      "ERROR - 2024-04-26T14:31:30Z - Client version 0.10.1 is not compatible with current backend service. Please update to the latest client version.\n",
      "INFO - 2024-04-26T14:31:30Z - Selected dataset version is \"202311\"\n",
      "INFO - 2024-04-26T14:31:30Z - Downloading using service original-files...\n"
     ]
    },
    {
     "name": "stderr",
     "output_type": "stream",
     "text": [
      "100%|██████████| 1/1 [00:13<00:00, 13.51s/it]\n"
     ]
    },
    {
     "name": "stdout",
     "output_type": "stream",
     "text": [
      "ERROR - 2024-04-26T14:31:49Z - Client version 0.10.1 is not compatible with current backend service. Please update to the latest client version.\n",
      "ERROR - 2024-04-26T14:31:49Z - Client version 0.10.1 is not compatible with current backend service. Please update to the latest client version.\n",
      "ERROR - 2024-04-26T14:31:49Z - Client version 0.10.1 is not compatible with current backend service. Please update to the latest client version.\n",
      "INFO - 2024-04-26T14:31:49Z - Selected dataset version is \"202311\"\n",
      "INFO - 2024-04-26T14:31:49Z - Downloading using service original-files...\n"
     ]
    },
    {
     "name": "stderr",
     "output_type": "stream",
     "text": [
      "100%|██████████| 1/1 [00:13<00:00, 13.37s/it]\n"
     ]
    },
    {
     "name": "stdout",
     "output_type": "stream",
     "text": [
      "ERROR - 2024-04-26T14:32:07Z - Client version 0.10.1 is not compatible with current backend service. Please update to the latest client version.\n",
      "ERROR - 2024-04-26T14:32:07Z - Client version 0.10.1 is not compatible with current backend service. Please update to the latest client version.\n",
      "ERROR - 2024-04-26T14:32:07Z - Client version 0.10.1 is not compatible with current backend service. Please update to the latest client version.\n",
      "INFO - 2024-04-26T14:32:07Z - Selected dataset version is \"202311\"\n",
      "INFO - 2024-04-26T14:32:07Z - Downloading using service original-files...\n"
     ]
    },
    {
     "name": "stderr",
     "output_type": "stream",
     "text": [
      "100%|██████████| 1/1 [00:13<00:00, 13.69s/it]\n"
     ]
    },
    {
     "name": "stdout",
     "output_type": "stream",
     "text": [
      "ERROR - 2024-04-26T14:32:26Z - Client version 0.10.1 is not compatible with current backend service. Please update to the latest client version.\n",
      "ERROR - 2024-04-26T14:32:26Z - Client version 0.10.1 is not compatible with current backend service. Please update to the latest client version.\n",
      "ERROR - 2024-04-26T14:32:26Z - Client version 0.10.1 is not compatible with current backend service. Please update to the latest client version.\n",
      "INFO - 2024-04-26T14:32:26Z - Selected dataset version is \"202311\"\n",
      "INFO - 2024-04-26T14:32:26Z - Downloading using service original-files...\n"
     ]
    },
    {
     "name": "stderr",
     "output_type": "stream",
     "text": [
      "100%|██████████| 1/1 [00:13<00:00, 13.70s/it]\n"
     ]
    },
    {
     "name": "stdout",
     "output_type": "stream",
     "text": [
      "ERROR - 2024-04-26T14:32:45Z - Client version 0.10.1 is not compatible with current backend service. Please update to the latest client version.\n",
      "ERROR - 2024-04-26T14:32:45Z - Client version 0.10.1 is not compatible with current backend service. Please update to the latest client version.\n",
      "ERROR - 2024-04-26T14:32:45Z - Client version 0.10.1 is not compatible with current backend service. Please update to the latest client version.\n",
      "INFO - 2024-04-26T14:32:45Z - Selected dataset version is \"202311\"\n",
      "INFO - 2024-04-26T14:32:45Z - Downloading using service original-files...\n"
     ]
    },
    {
     "name": "stderr",
     "output_type": "stream",
     "text": [
      "100%|██████████| 1/1 [00:13<00:00, 13.72s/it]\n"
     ]
    },
    {
     "name": "stdout",
     "output_type": "stream",
     "text": [
      "ERROR - 2024-04-26T14:33:04Z - Client version 0.10.1 is not compatible with current backend service. Please update to the latest client version.\n",
      "ERROR - 2024-04-26T14:33:04Z - Client version 0.10.1 is not compatible with current backend service. Please update to the latest client version.\n",
      "ERROR - 2024-04-26T14:33:04Z - Client version 0.10.1 is not compatible with current backend service. Please update to the latest client version.\n",
      "INFO - 2024-04-26T14:33:04Z - Selected dataset version is \"202311\"\n",
      "INFO - 2024-04-26T14:33:04Z - Downloading using service original-files...\n"
     ]
    },
    {
     "name": "stderr",
     "output_type": "stream",
     "text": [
      "100%|██████████| 1/1 [00:13<00:00, 13.62s/it]\n"
     ]
    },
    {
     "name": "stdout",
     "output_type": "stream",
     "text": [
      "ERROR - 2024-04-26T14:33:22Z - Client version 0.10.1 is not compatible with current backend service. Please update to the latest client version.\n",
      "ERROR - 2024-04-26T14:33:22Z - Client version 0.10.1 is not compatible with current backend service. Please update to the latest client version.\n",
      "ERROR - 2024-04-26T14:33:22Z - Client version 0.10.1 is not compatible with current backend service. Please update to the latest client version.\n",
      "INFO - 2024-04-26T14:33:23Z - Selected dataset version is \"202311\"\n",
      "INFO - 2024-04-26T14:33:23Z - Downloading using service original-files...\n"
     ]
    },
    {
     "name": "stderr",
     "output_type": "stream",
     "text": [
      "100%|██████████| 1/1 [00:13<00:00, 13.61s/it]\n"
     ]
    },
    {
     "name": "stdout",
     "output_type": "stream",
     "text": [
      "ERROR - 2024-04-26T14:33:41Z - Client version 0.10.1 is not compatible with current backend service. Please update to the latest client version.\n",
      "ERROR - 2024-04-26T14:33:41Z - Client version 0.10.1 is not compatible with current backend service. Please update to the latest client version.\n",
      "ERROR - 2024-04-26T14:33:41Z - Client version 0.10.1 is not compatible with current backend service. Please update to the latest client version.\n",
      "INFO - 2024-04-26T14:33:41Z - Selected dataset version is \"202311\"\n",
      "INFO - 2024-04-26T14:33:41Z - Downloading using service original-files...\n"
     ]
    },
    {
     "name": "stderr",
     "output_type": "stream",
     "text": [
      "100%|██████████| 1/1 [00:13<00:00, 13.42s/it]\n"
     ]
    },
    {
     "name": "stdout",
     "output_type": "stream",
     "text": [
      "ERROR - 2024-04-26T14:33:59Z - Client version 0.10.1 is not compatible with current backend service. Please update to the latest client version.\n",
      "ERROR - 2024-04-26T14:33:59Z - Client version 0.10.1 is not compatible with current backend service. Please update to the latest client version.\n",
      "ERROR - 2024-04-26T14:33:59Z - Client version 0.10.1 is not compatible with current backend service. Please update to the latest client version.\n",
      "INFO - 2024-04-26T14:34:00Z - Selected dataset version is \"202311\"\n",
      "INFO - 2024-04-26T14:34:00Z - Downloading using service original-files...\n"
     ]
    },
    {
     "name": "stderr",
     "output_type": "stream",
     "text": [
      "100%|██████████| 1/1 [00:13<00:00, 13.53s/it]\n"
     ]
    },
    {
     "name": "stdout",
     "output_type": "stream",
     "text": [
      "ERROR - 2024-04-26T14:34:18Z - Client version 0.10.1 is not compatible with current backend service. Please update to the latest client version.\n",
      "ERROR - 2024-04-26T14:34:18Z - Client version 0.10.1 is not compatible with current backend service. Please update to the latest client version.\n",
      "ERROR - 2024-04-26T14:34:18Z - Client version 0.10.1 is not compatible with current backend service. Please update to the latest client version.\n",
      "INFO - 2024-04-26T14:34:19Z - Selected dataset version is \"202311\"\n",
      "INFO - 2024-04-26T14:34:19Z - Downloading using service original-files...\n"
     ]
    },
    {
     "name": "stderr",
     "output_type": "stream",
     "text": [
      "100%|██████████| 1/1 [00:13<00:00, 13.90s/it]\n"
     ]
    },
    {
     "name": "stdout",
     "output_type": "stream",
     "text": [
      "ERROR - 2024-04-26T14:34:37Z - Client version 0.10.1 is not compatible with current backend service. Please update to the latest client version.\n",
      "ERROR - 2024-04-26T14:34:37Z - Client version 0.10.1 is not compatible with current backend service. Please update to the latest client version.\n",
      "ERROR - 2024-04-26T14:34:37Z - Client version 0.10.1 is not compatible with current backend service. Please update to the latest client version.\n",
      "INFO - 2024-04-26T14:34:37Z - Selected dataset version is \"202311\"\n",
      "INFO - 2024-04-26T14:34:37Z - Downloading using service original-files...\n"
     ]
    },
    {
     "name": "stderr",
     "output_type": "stream",
     "text": [
      "100%|██████████| 1/1 [00:13<00:00, 13.59s/it]\n"
     ]
    },
    {
     "name": "stdout",
     "output_type": "stream",
     "text": [
      "ERROR - 2024-04-26T14:34:55Z - Client version 0.10.1 is not compatible with current backend service. Please update to the latest client version.\n",
      "ERROR - 2024-04-26T14:34:55Z - Client version 0.10.1 is not compatible with current backend service. Please update to the latest client version.\n",
      "ERROR - 2024-04-26T14:34:55Z - Client version 0.10.1 is not compatible with current backend service. Please update to the latest client version.\n",
      "INFO - 2024-04-26T14:34:56Z - Selected dataset version is \"202311\"\n",
      "INFO - 2024-04-26T14:34:56Z - Downloading using service original-files...\n"
     ]
    },
    {
     "name": "stderr",
     "output_type": "stream",
     "text": [
      "100%|██████████| 1/1 [00:13<00:00, 13.47s/it]\n"
     ]
    },
    {
     "name": "stdout",
     "output_type": "stream",
     "text": [
      "ERROR - 2024-04-26T14:35:14Z - Client version 0.10.1 is not compatible with current backend service. Please update to the latest client version.\n",
      "ERROR - 2024-04-26T14:35:14Z - Client version 0.10.1 is not compatible with current backend service. Please update to the latest client version.\n",
      "ERROR - 2024-04-26T14:35:14Z - Client version 0.10.1 is not compatible with current backend service. Please update to the latest client version.\n",
      "INFO - 2024-04-26T14:35:14Z - Selected dataset version is \"202311\"\n",
      "INFO - 2024-04-26T14:35:15Z - Downloading using service original-files...\n"
     ]
    },
    {
     "name": "stderr",
     "output_type": "stream",
     "text": [
      "100%|██████████| 1/1 [00:13<00:00, 13.60s/it]\n"
     ]
    },
    {
     "name": "stdout",
     "output_type": "stream",
     "text": [
      "ERROR - 2024-04-26T14:35:33Z - Client version 0.10.1 is not compatible with current backend service. Please update to the latest client version.\n",
      "ERROR - 2024-04-26T14:35:33Z - Client version 0.10.1 is not compatible with current backend service. Please update to the latest client version.\n",
      "ERROR - 2024-04-26T14:35:33Z - Client version 0.10.1 is not compatible with current backend service. Please update to the latest client version.\n",
      "INFO - 2024-04-26T14:35:33Z - Selected dataset version is \"202311\"\n",
      "INFO - 2024-04-26T14:35:33Z - Downloading using service original-files...\n"
     ]
    },
    {
     "name": "stderr",
     "output_type": "stream",
     "text": [
      "100%|██████████| 1/1 [00:13<00:00, 13.65s/it]\n"
     ]
    },
    {
     "name": "stdout",
     "output_type": "stream",
     "text": [
      "ERROR - 2024-04-26T14:35:52Z - Client version 0.10.1 is not compatible with current backend service. Please update to the latest client version.\n",
      "ERROR - 2024-04-26T14:35:52Z - Client version 0.10.1 is not compatible with current backend service. Please update to the latest client version.\n",
      "ERROR - 2024-04-26T14:35:52Z - Client version 0.10.1 is not compatible with current backend service. Please update to the latest client version.\n",
      "INFO - 2024-04-26T14:35:52Z - Selected dataset version is \"202311\"\n",
      "INFO - 2024-04-26T14:35:52Z - Downloading using service original-files...\n"
     ]
    },
    {
     "name": "stderr",
     "output_type": "stream",
     "text": [
      "100%|██████████| 1/1 [00:13<00:00, 13.62s/it]\n"
     ]
    },
    {
     "name": "stdout",
     "output_type": "stream",
     "text": [
      "ERROR - 2024-04-26T14:36:10Z - Client version 0.10.1 is not compatible with current backend service. Please update to the latest client version.\n",
      "ERROR - 2024-04-26T14:36:10Z - Client version 0.10.1 is not compatible with current backend service. Please update to the latest client version.\n",
      "ERROR - 2024-04-26T14:36:10Z - Client version 0.10.1 is not compatible with current backend service. Please update to the latest client version.\n",
      "INFO - 2024-04-26T14:36:11Z - Selected dataset version is \"202311\"\n",
      "INFO - 2024-04-26T14:36:11Z - Downloading using service original-files...\n"
     ]
    },
    {
     "name": "stderr",
     "output_type": "stream",
     "text": [
      "100%|██████████| 1/1 [00:13<00:00, 13.44s/it]\n"
     ]
    },
    {
     "name": "stdout",
     "output_type": "stream",
     "text": [
      "ERROR - 2024-04-26T14:36:29Z - Client version 0.10.1 is not compatible with current backend service. Please update to the latest client version.\n",
      "ERROR - 2024-04-26T14:36:29Z - Client version 0.10.1 is not compatible with current backend service. Please update to the latest client version.\n",
      "ERROR - 2024-04-26T14:36:29Z - Client version 0.10.1 is not compatible with current backend service. Please update to the latest client version.\n",
      "INFO - 2024-04-26T14:36:30Z - Selected dataset version is \"202311\"\n",
      "INFO - 2024-04-26T14:36:30Z - Downloading using service original-files...\n"
     ]
    },
    {
     "name": "stderr",
     "output_type": "stream",
     "text": [
      "100%|██████████| 1/1 [00:13<00:00, 13.65s/it]\n"
     ]
    },
    {
     "name": "stdout",
     "output_type": "stream",
     "text": [
      "ERROR - 2024-04-26T14:36:48Z - Client version 0.10.1 is not compatible with current backend service. Please update to the latest client version.\n",
      "ERROR - 2024-04-26T14:36:48Z - Client version 0.10.1 is not compatible with current backend service. Please update to the latest client version.\n",
      "ERROR - 2024-04-26T14:36:48Z - Client version 0.10.1 is not compatible with current backend service. Please update to the latest client version.\n",
      "INFO - 2024-04-26T14:36:49Z - Selected dataset version is \"202311\"\n",
      "INFO - 2024-04-26T14:36:49Z - Downloading using service original-files...\n"
     ]
    },
    {
     "name": "stderr",
     "output_type": "stream",
     "text": [
      "100%|██████████| 1/1 [00:13<00:00, 13.61s/it]\n"
     ]
    },
    {
     "name": "stdout",
     "output_type": "stream",
     "text": [
      "ERROR - 2024-04-26T14:37:07Z - Client version 0.10.1 is not compatible with current backend service. Please update to the latest client version.\n",
      "ERROR - 2024-04-26T14:37:07Z - Client version 0.10.1 is not compatible with current backend service. Please update to the latest client version.\n",
      "ERROR - 2024-04-26T14:37:07Z - Client version 0.10.1 is not compatible with current backend service. Please update to the latest client version.\n",
      "INFO - 2024-04-26T14:37:08Z - Selected dataset version is \"202311\"\n",
      "INFO - 2024-04-26T14:37:08Z - Downloading using service original-files...\n"
     ]
    },
    {
     "name": "stderr",
     "output_type": "stream",
     "text": [
      "100%|██████████| 1/1 [00:13<00:00, 13.42s/it]\n"
     ]
    },
    {
     "name": "stdout",
     "output_type": "stream",
     "text": [
      "ERROR - 2024-04-26T14:37:26Z - Client version 0.10.1 is not compatible with current backend service. Please update to the latest client version.\n",
      "ERROR - 2024-04-26T14:37:26Z - Client version 0.10.1 is not compatible with current backend service. Please update to the latest client version.\n",
      "ERROR - 2024-04-26T14:37:26Z - Client version 0.10.1 is not compatible with current backend service. Please update to the latest client version.\n",
      "INFO - 2024-04-26T14:37:26Z - Selected dataset version is \"202311\"\n",
      "INFO - 2024-04-26T14:37:26Z - Downloading using service original-files...\n"
     ]
    },
    {
     "name": "stderr",
     "output_type": "stream",
     "text": [
      "100%|██████████| 1/1 [00:13<00:00, 13.30s/it]\n"
     ]
    },
    {
     "name": "stdout",
     "output_type": "stream",
     "text": [
      "ERROR - 2024-04-26T14:37:45Z - Client version 0.10.1 is not compatible with current backend service. Please update to the latest client version.\n",
      "ERROR - 2024-04-26T14:37:45Z - Client version 0.10.1 is not compatible with current backend service. Please update to the latest client version.\n",
      "ERROR - 2024-04-26T14:37:45Z - Client version 0.10.1 is not compatible with current backend service. Please update to the latest client version.\n",
      "INFO - 2024-04-26T14:37:45Z - Selected dataset version is \"202311\"\n",
      "INFO - 2024-04-26T14:37:45Z - Downloading using service original-files...\n"
     ]
    },
    {
     "name": "stderr",
     "output_type": "stream",
     "text": [
      "100%|██████████| 1/1 [00:13<00:00, 13.51s/it]\n"
     ]
    },
    {
     "name": "stdout",
     "output_type": "stream",
     "text": [
      "ERROR - 2024-04-26T14:38:03Z - Client version 0.10.1 is not compatible with current backend service. Please update to the latest client version.\n",
      "ERROR - 2024-04-26T14:38:03Z - Client version 0.10.1 is not compatible with current backend service. Please update to the latest client version.\n",
      "ERROR - 2024-04-26T14:38:03Z - Client version 0.10.1 is not compatible with current backend service. Please update to the latest client version.\n",
      "INFO - 2024-04-26T14:38:04Z - Selected dataset version is \"202311\"\n",
      "INFO - 2024-04-26T14:38:04Z - Downloading using service original-files...\n"
     ]
    },
    {
     "name": "stderr",
     "output_type": "stream",
     "text": [
      "100%|██████████| 1/1 [00:13<00:00, 13.47s/it]\n"
     ]
    },
    {
     "name": "stdout",
     "output_type": "stream",
     "text": [
      "ERROR - 2024-04-26T14:38:22Z - Client version 0.10.1 is not compatible with current backend service. Please update to the latest client version.\n",
      "ERROR - 2024-04-26T14:38:22Z - Client version 0.10.1 is not compatible with current backend service. Please update to the latest client version.\n",
      "ERROR - 2024-04-26T14:38:22Z - Client version 0.10.1 is not compatible with current backend service. Please update to the latest client version.\n",
      "INFO - 2024-04-26T14:38:23Z - Selected dataset version is \"202311\"\n",
      "INFO - 2024-04-26T14:38:23Z - Downloading using service original-files...\n"
     ]
    },
    {
     "name": "stderr",
     "output_type": "stream",
     "text": [
      "100%|██████████| 1/1 [00:13<00:00, 13.28s/it]\n"
     ]
    },
    {
     "name": "stdout",
     "output_type": "stream",
     "text": [
      "ERROR - 2024-04-26T14:38:41Z - Client version 0.10.1 is not compatible with current backend service. Please update to the latest client version.\n",
      "ERROR - 2024-04-26T14:38:41Z - Client version 0.10.1 is not compatible with current backend service. Please update to the latest client version.\n",
      "ERROR - 2024-04-26T14:38:41Z - Client version 0.10.1 is not compatible with current backend service. Please update to the latest client version.\n",
      "INFO - 2024-04-26T14:38:41Z - Selected dataset version is \"202311\"\n",
      "INFO - 2024-04-26T14:38:41Z - Downloading using service original-files...\n"
     ]
    },
    {
     "name": "stderr",
     "output_type": "stream",
     "text": [
      "100%|██████████| 1/1 [00:13<00:00, 13.64s/it]\n"
     ]
    },
    {
     "name": "stdout",
     "output_type": "stream",
     "text": [
      "ERROR - 2024-04-26T14:39:00Z - Client version 0.10.1 is not compatible with current backend service. Please update to the latest client version.\n",
      "ERROR - 2024-04-26T14:39:00Z - Client version 0.10.1 is not compatible with current backend service. Please update to the latest client version.\n",
      "ERROR - 2024-04-26T14:39:00Z - Client version 0.10.1 is not compatible with current backend service. Please update to the latest client version.\n",
      "INFO - 2024-04-26T14:39:01Z - Selected dataset version is \"202311\"\n",
      "INFO - 2024-04-26T14:39:01Z - Downloading using service original-files...\n"
     ]
    },
    {
     "name": "stderr",
     "output_type": "stream",
     "text": [
      "100%|██████████| 1/1 [00:13<00:00, 13.71s/it]\n"
     ]
    },
    {
     "name": "stdout",
     "output_type": "stream",
     "text": [
      "ERROR - 2024-04-26T14:39:19Z - Client version 0.10.1 is not compatible with current backend service. Please update to the latest client version.\n",
      "ERROR - 2024-04-26T14:39:19Z - Client version 0.10.1 is not compatible with current backend service. Please update to the latest client version.\n",
      "ERROR - 2024-04-26T14:39:19Z - Client version 0.10.1 is not compatible with current backend service. Please update to the latest client version.\n",
      "INFO - 2024-04-26T14:39:19Z - Selected dataset version is \"202311\"\n",
      "INFO - 2024-04-26T14:39:19Z - Downloading using service original-files...\n"
     ]
    },
    {
     "name": "stderr",
     "output_type": "stream",
     "text": [
      "100%|██████████| 1/1 [00:13<00:00, 13.61s/it]\n"
     ]
    },
    {
     "name": "stdout",
     "output_type": "stream",
     "text": [
      "ERROR - 2024-04-26T14:39:38Z - Client version 0.10.1 is not compatible with current backend service. Please update to the latest client version.\n",
      "ERROR - 2024-04-26T14:39:38Z - Client version 0.10.1 is not compatible with current backend service. Please update to the latest client version.\n",
      "ERROR - 2024-04-26T14:39:38Z - Client version 0.10.1 is not compatible with current backend service. Please update to the latest client version.\n",
      "INFO - 2024-04-26T14:39:38Z - Selected dataset version is \"202311\"\n",
      "INFO - 2024-04-26T14:39:38Z - Downloading using service original-files...\n"
     ]
    },
    {
     "name": "stderr",
     "output_type": "stream",
     "text": [
      "100%|██████████| 1/1 [00:13<00:00, 13.64s/it]\n"
     ]
    },
    {
     "name": "stdout",
     "output_type": "stream",
     "text": [
      "ERROR - 2024-04-26T14:39:58Z - Client version 0.10.1 is not compatible with current backend service. Please update to the latest client version.\n",
      "ERROR - 2024-04-26T14:39:58Z - Client version 0.10.1 is not compatible with current backend service. Please update to the latest client version.\n",
      "ERROR - 2024-04-26T14:39:58Z - Client version 0.10.1 is not compatible with current backend service. Please update to the latest client version.\n",
      "INFO - 2024-04-26T14:39:58Z - Selected dataset version is \"202311\"\n",
      "INFO - 2024-04-26T14:39:58Z - Downloading using service original-files...\n"
     ]
    },
    {
     "name": "stderr",
     "output_type": "stream",
     "text": [
      "100%|██████████| 1/1 [00:13<00:00, 13.45s/it]\n"
     ]
    },
    {
     "name": "stdout",
     "output_type": "stream",
     "text": [
      "ERROR - 2024-04-26T14:40:17Z - Client version 0.10.1 is not compatible with current backend service. Please update to the latest client version.\n",
      "ERROR - 2024-04-26T14:40:17Z - Client version 0.10.1 is not compatible with current backend service. Please update to the latest client version.\n",
      "ERROR - 2024-04-26T14:40:17Z - Client version 0.10.1 is not compatible with current backend service. Please update to the latest client version.\n",
      "INFO - 2024-04-26T14:40:17Z - Selected dataset version is \"202311\"\n",
      "INFO - 2024-04-26T14:40:17Z - Downloading using service original-files...\n"
     ]
    },
    {
     "name": "stderr",
     "output_type": "stream",
     "text": [
      "100%|██████████| 1/1 [00:13<00:00, 13.69s/it]\n"
     ]
    },
    {
     "name": "stdout",
     "output_type": "stream",
     "text": [
      "ERROR - 2024-04-26T14:40:36Z - Client version 0.10.1 is not compatible with current backend service. Please update to the latest client version.\n",
      "ERROR - 2024-04-26T14:40:36Z - Client version 0.10.1 is not compatible with current backend service. Please update to the latest client version.\n",
      "ERROR - 2024-04-26T14:40:36Z - Client version 0.10.1 is not compatible with current backend service. Please update to the latest client version.\n",
      "INFO - 2024-04-26T14:40:36Z - Selected dataset version is \"202311\"\n",
      "INFO - 2024-04-26T14:40:36Z - Downloading using service original-files...\n"
     ]
    },
    {
     "name": "stderr",
     "output_type": "stream",
     "text": [
      "100%|██████████| 1/1 [00:13<00:00, 13.60s/it]\n"
     ]
    },
    {
     "name": "stdout",
     "output_type": "stream",
     "text": [
      "ERROR - 2024-04-26T14:40:54Z - Client version 0.10.1 is not compatible with current backend service. Please update to the latest client version.\n",
      "ERROR - 2024-04-26T14:40:54Z - Client version 0.10.1 is not compatible with current backend service. Please update to the latest client version.\n",
      "ERROR - 2024-04-26T14:40:54Z - Client version 0.10.1 is not compatible with current backend service. Please update to the latest client version.\n",
      "INFO - 2024-04-26T14:40:55Z - Selected dataset version is \"202311\"\n",
      "INFO - 2024-04-26T14:40:55Z - Downloading using service original-files...\n"
     ]
    },
    {
     "name": "stderr",
     "output_type": "stream",
     "text": [
      "100%|██████████| 1/1 [00:13<00:00, 13.74s/it]\n"
     ]
    },
    {
     "name": "stdout",
     "output_type": "stream",
     "text": [
      "ERROR - 2024-04-26T14:41:14Z - Client version 0.10.1 is not compatible with current backend service. Please update to the latest client version.\n",
      "ERROR - 2024-04-26T14:41:14Z - Client version 0.10.1 is not compatible with current backend service. Please update to the latest client version.\n",
      "ERROR - 2024-04-26T14:41:14Z - Client version 0.10.1 is not compatible with current backend service. Please update to the latest client version.\n",
      "INFO - 2024-04-26T14:41:14Z - Selected dataset version is \"202311\"\n",
      "INFO - 2024-04-26T14:41:14Z - Downloading using service original-files...\n"
     ]
    },
    {
     "name": "stderr",
     "output_type": "stream",
     "text": [
      "100%|██████████| 1/1 [00:13<00:00, 13.58s/it]\n"
     ]
    },
    {
     "name": "stdout",
     "output_type": "stream",
     "text": [
      "ERROR - 2024-04-26T14:41:33Z - Client version 0.10.1 is not compatible with current backend service. Please update to the latest client version.\n",
      "ERROR - 2024-04-26T14:41:33Z - Client version 0.10.1 is not compatible with current backend service. Please update to the latest client version.\n",
      "ERROR - 2024-04-26T14:41:33Z - Client version 0.10.1 is not compatible with current backend service. Please update to the latest client version.\n",
      "INFO - 2024-04-26T14:41:33Z - Selected dataset version is \"202311\"\n",
      "INFO - 2024-04-26T14:41:33Z - Downloading using service original-files...\n"
     ]
    },
    {
     "name": "stderr",
     "output_type": "stream",
     "text": [
      "100%|██████████| 1/1 [00:13<00:00, 13.53s/it]\n"
     ]
    },
    {
     "name": "stdout",
     "output_type": "stream",
     "text": [
      "ERROR - 2024-04-26T14:41:51Z - Client version 0.10.1 is not compatible with current backend service. Please update to the latest client version.\n",
      "ERROR - 2024-04-26T14:41:51Z - Client version 0.10.1 is not compatible with current backend service. Please update to the latest client version.\n",
      "ERROR - 2024-04-26T14:41:51Z - Client version 0.10.1 is not compatible with current backend service. Please update to the latest client version.\n",
      "INFO - 2024-04-26T14:41:52Z - Selected dataset version is \"202311\"\n",
      "INFO - 2024-04-26T14:41:52Z - Downloading using service original-files...\n"
     ]
    },
    {
     "name": "stderr",
     "output_type": "stream",
     "text": [
      "100%|██████████| 1/1 [00:13<00:00, 13.54s/it]\n"
     ]
    },
    {
     "name": "stdout",
     "output_type": "stream",
     "text": [
      "ERROR - 2024-04-26T14:42:10Z - Client version 0.10.1 is not compatible with current backend service. Please update to the latest client version.\n",
      "ERROR - 2024-04-26T14:42:10Z - Client version 0.10.1 is not compatible with current backend service. Please update to the latest client version.\n",
      "ERROR - 2024-04-26T14:42:10Z - Client version 0.10.1 is not compatible with current backend service. Please update to the latest client version.\n",
      "INFO - 2024-04-26T14:42:11Z - Selected dataset version is \"202311\"\n",
      "INFO - 2024-04-26T14:42:11Z - Downloading using service original-files...\n"
     ]
    },
    {
     "name": "stderr",
     "output_type": "stream",
     "text": [
      "100%|██████████| 1/1 [00:13<00:00, 13.53s/it]\n"
     ]
    },
    {
     "name": "stdout",
     "output_type": "stream",
     "text": [
      "ERROR - 2024-04-26T14:42:29Z - Client version 0.10.1 is not compatible with current backend service. Please update to the latest client version.\n",
      "ERROR - 2024-04-26T14:42:29Z - Client version 0.10.1 is not compatible with current backend service. Please update to the latest client version.\n",
      "ERROR - 2024-04-26T14:42:29Z - Client version 0.10.1 is not compatible with current backend service. Please update to the latest client version.\n",
      "INFO - 2024-04-26T14:42:30Z - Selected dataset version is \"202311\"\n",
      "INFO - 2024-04-26T14:42:30Z - Downloading using service original-files...\n"
     ]
    },
    {
     "name": "stderr",
     "output_type": "stream",
     "text": [
      "100%|██████████| 1/1 [00:13<00:00, 13.52s/it]\n"
     ]
    },
    {
     "name": "stdout",
     "output_type": "stream",
     "text": [
      "ERROR - 2024-04-26T14:42:48Z - Client version 0.10.1 is not compatible with current backend service. Please update to the latest client version.\n",
      "ERROR - 2024-04-26T14:42:48Z - Client version 0.10.1 is not compatible with current backend service. Please update to the latest client version.\n",
      "ERROR - 2024-04-26T14:42:48Z - Client version 0.10.1 is not compatible with current backend service. Please update to the latest client version.\n",
      "INFO - 2024-04-26T14:42:48Z - Selected dataset version is \"202311\"\n",
      "INFO - 2024-04-26T14:42:48Z - Downloading using service original-files...\n"
     ]
    },
    {
     "name": "stderr",
     "output_type": "stream",
     "text": [
      "100%|██████████| 1/1 [00:13<00:00, 13.49s/it]\n"
     ]
    },
    {
     "name": "stdout",
     "output_type": "stream",
     "text": [
      "ERROR - 2024-04-26T14:43:07Z - Client version 0.10.1 is not compatible with current backend service. Please update to the latest client version.\n",
      "ERROR - 2024-04-26T14:43:07Z - Client version 0.10.1 is not compatible with current backend service. Please update to the latest client version.\n",
      "ERROR - 2024-04-26T14:43:07Z - Client version 0.10.1 is not compatible with current backend service. Please update to the latest client version.\n",
      "INFO - 2024-04-26T14:43:07Z - Selected dataset version is \"202311\"\n",
      "INFO - 2024-04-26T14:43:07Z - Downloading using service original-files...\n"
     ]
    },
    {
     "name": "stderr",
     "output_type": "stream",
     "text": [
      "100%|██████████| 1/1 [00:13<00:00, 13.45s/it]\n"
     ]
    },
    {
     "name": "stdout",
     "output_type": "stream",
     "text": [
      "ERROR - 2024-04-26T14:43:26Z - Client version 0.10.1 is not compatible with current backend service. Please update to the latest client version.\n",
      "ERROR - 2024-04-26T14:43:26Z - Client version 0.10.1 is not compatible with current backend service. Please update to the latest client version.\n",
      "ERROR - 2024-04-26T14:43:26Z - Client version 0.10.1 is not compatible with current backend service. Please update to the latest client version.\n",
      "INFO - 2024-04-26T14:43:26Z - Selected dataset version is \"202311\"\n",
      "INFO - 2024-04-26T14:43:26Z - Downloading using service original-files...\n"
     ]
    },
    {
     "name": "stderr",
     "output_type": "stream",
     "text": [
      "100%|██████████| 1/1 [00:13<00:00, 13.69s/it]\n"
     ]
    },
    {
     "name": "stdout",
     "output_type": "stream",
     "text": [
      "ERROR - 2024-04-26T14:43:45Z - Client version 0.10.1 is not compatible with current backend service. Please update to the latest client version.\n",
      "ERROR - 2024-04-26T14:43:45Z - Client version 0.10.1 is not compatible with current backend service. Please update to the latest client version.\n",
      "ERROR - 2024-04-26T14:43:45Z - Client version 0.10.1 is not compatible with current backend service. Please update to the latest client version.\n",
      "INFO - 2024-04-26T14:43:45Z - Selected dataset version is \"202311\"\n",
      "INFO - 2024-04-26T14:43:45Z - Downloading using service original-files...\n"
     ]
    },
    {
     "name": "stderr",
     "output_type": "stream",
     "text": [
      "100%|██████████| 1/1 [00:13<00:00, 13.41s/it]\n"
     ]
    },
    {
     "name": "stdout",
     "output_type": "stream",
     "text": [
      "ERROR - 2024-04-26T14:44:03Z - Client version 0.10.1 is not compatible with current backend service. Please update to the latest client version.\n",
      "ERROR - 2024-04-26T14:44:03Z - Client version 0.10.1 is not compatible with current backend service. Please update to the latest client version.\n",
      "ERROR - 2024-04-26T14:44:03Z - Client version 0.10.1 is not compatible with current backend service. Please update to the latest client version.\n",
      "INFO - 2024-04-26T14:44:04Z - Selected dataset version is \"202311\"\n",
      "INFO - 2024-04-26T14:44:04Z - Downloading using service original-files...\n"
     ]
    },
    {
     "name": "stderr",
     "output_type": "stream",
     "text": [
      "100%|██████████| 1/1 [00:13<00:00, 13.27s/it]\n"
     ]
    },
    {
     "name": "stdout",
     "output_type": "stream",
     "text": [
      "ERROR - 2024-04-26T14:44:22Z - Client version 0.10.1 is not compatible with current backend service. Please update to the latest client version.\n",
      "ERROR - 2024-04-26T14:44:22Z - Client version 0.10.1 is not compatible with current backend service. Please update to the latest client version.\n",
      "ERROR - 2024-04-26T14:44:22Z - Client version 0.10.1 is not compatible with current backend service. Please update to the latest client version.\n",
      "INFO - 2024-04-26T14:44:22Z - Selected dataset version is \"202311\"\n",
      "INFO - 2024-04-26T14:44:22Z - Downloading using service original-files...\n"
     ]
    },
    {
     "name": "stderr",
     "output_type": "stream",
     "text": [
      "100%|██████████| 1/1 [00:13<00:00, 13.43s/it]\n"
     ]
    },
    {
     "name": "stdout",
     "output_type": "stream",
     "text": [
      "ERROR - 2024-04-26T14:44:41Z - Client version 0.10.1 is not compatible with current backend service. Please update to the latest client version.\n",
      "ERROR - 2024-04-26T14:44:41Z - Client version 0.10.1 is not compatible with current backend service. Please update to the latest client version.\n",
      "ERROR - 2024-04-26T14:44:41Z - Client version 0.10.1 is not compatible with current backend service. Please update to the latest client version.\n",
      "INFO - 2024-04-26T14:44:41Z - Selected dataset version is \"202311\"\n",
      "INFO - 2024-04-26T14:44:41Z - Downloading using service original-files...\n"
     ]
    },
    {
     "name": "stderr",
     "output_type": "stream",
     "text": [
      "100%|██████████| 1/1 [00:13<00:00, 13.39s/it]\n"
     ]
    },
    {
     "name": "stdout",
     "output_type": "stream",
     "text": [
      "ERROR - 2024-04-26T14:45:00Z - Client version 0.10.1 is not compatible with current backend service. Please update to the latest client version.\n",
      "ERROR - 2024-04-26T14:45:00Z - Client version 0.10.1 is not compatible with current backend service. Please update to the latest client version.\n",
      "ERROR - 2024-04-26T14:45:00Z - Client version 0.10.1 is not compatible with current backend service. Please update to the latest client version.\n",
      "INFO - 2024-04-26T14:45:00Z - Selected dataset version is \"202311\"\n",
      "INFO - 2024-04-26T14:45:00Z - Downloading using service original-files...\n"
     ]
    },
    {
     "name": "stderr",
     "output_type": "stream",
     "text": [
      "100%|██████████| 1/1 [00:13<00:00, 13.26s/it]\n"
     ]
    },
    {
     "name": "stdout",
     "output_type": "stream",
     "text": [
      "ERROR - 2024-04-26T14:45:18Z - Client version 0.10.1 is not compatible with current backend service. Please update to the latest client version.\n",
      "ERROR - 2024-04-26T14:45:18Z - Client version 0.10.1 is not compatible with current backend service. Please update to the latest client version.\n",
      "ERROR - 2024-04-26T14:45:18Z - Client version 0.10.1 is not compatible with current backend service. Please update to the latest client version.\n",
      "INFO - 2024-04-26T14:45:19Z - Selected dataset version is \"202311\"\n",
      "INFO - 2024-04-26T14:45:19Z - Downloading using service original-files...\n"
     ]
    },
    {
     "name": "stderr",
     "output_type": "stream",
     "text": [
      "100%|██████████| 1/1 [00:13<00:00, 13.74s/it]\n"
     ]
    },
    {
     "name": "stdout",
     "output_type": "stream",
     "text": [
      "ERROR - 2024-04-26T14:45:38Z - Client version 0.10.1 is not compatible with current backend service. Please update to the latest client version.\n",
      "ERROR - 2024-04-26T14:45:38Z - Client version 0.10.1 is not compatible with current backend service. Please update to the latest client version.\n",
      "ERROR - 2024-04-26T14:45:38Z - Client version 0.10.1 is not compatible with current backend service. Please update to the latest client version.\n",
      "INFO - 2024-04-26T14:45:38Z - Selected dataset version is \"202311\"\n",
      "INFO - 2024-04-26T14:45:38Z - Downloading using service original-files...\n"
     ]
    },
    {
     "name": "stderr",
     "output_type": "stream",
     "text": [
      "100%|██████████| 1/1 [00:13<00:00, 13.50s/it]\n"
     ]
    },
    {
     "name": "stdout",
     "output_type": "stream",
     "text": [
      "ERROR - 2024-04-26T14:45:56Z - Client version 0.10.1 is not compatible with current backend service. Please update to the latest client version.\n",
      "ERROR - 2024-04-26T14:45:56Z - Client version 0.10.1 is not compatible with current backend service. Please update to the latest client version.\n",
      "ERROR - 2024-04-26T14:45:56Z - Client version 0.10.1 is not compatible with current backend service. Please update to the latest client version.\n",
      "INFO - 2024-04-26T14:45:57Z - Selected dataset version is \"202311\"\n",
      "INFO - 2024-04-26T14:45:57Z - Downloading using service original-files...\n"
     ]
    },
    {
     "name": "stderr",
     "output_type": "stream",
     "text": [
      "100%|██████████| 1/1 [00:13<00:00, 13.31s/it]\n"
     ]
    },
    {
     "name": "stdout",
     "output_type": "stream",
     "text": [
      "ERROR - 2024-04-26T14:46:15Z - Client version 0.10.1 is not compatible with current backend service. Please update to the latest client version.\n",
      "ERROR - 2024-04-26T14:46:15Z - Client version 0.10.1 is not compatible with current backend service. Please update to the latest client version.\n",
      "ERROR - 2024-04-26T14:46:15Z - Client version 0.10.1 is not compatible with current backend service. Please update to the latest client version.\n",
      "INFO - 2024-04-26T14:46:15Z - Selected dataset version is \"202311\"\n",
      "INFO - 2024-04-26T14:46:15Z - Downloading using service original-files...\n"
     ]
    },
    {
     "name": "stderr",
     "output_type": "stream",
     "text": [
      "100%|██████████| 1/1 [00:13<00:00, 13.38s/it]\n"
     ]
    },
    {
     "name": "stdout",
     "output_type": "stream",
     "text": [
      "ERROR - 2024-04-26T14:46:34Z - Client version 0.10.1 is not compatible with current backend service. Please update to the latest client version.\n",
      "ERROR - 2024-04-26T14:46:34Z - Client version 0.10.1 is not compatible with current backend service. Please update to the latest client version.\n",
      "ERROR - 2024-04-26T14:46:34Z - Client version 0.10.1 is not compatible with current backend service. Please update to the latest client version.\n",
      "INFO - 2024-04-26T14:46:34Z - Selected dataset version is \"202311\"\n",
      "INFO - 2024-04-26T14:46:34Z - Downloading using service original-files...\n"
     ]
    },
    {
     "name": "stderr",
     "output_type": "stream",
     "text": [
      "100%|██████████| 1/1 [00:13<00:00, 13.67s/it]\n"
     ]
    },
    {
     "name": "stdout",
     "output_type": "stream",
     "text": [
      "ERROR - 2024-04-26T14:46:53Z - Client version 0.10.1 is not compatible with current backend service. Please update to the latest client version.\n",
      "ERROR - 2024-04-26T14:46:53Z - Client version 0.10.1 is not compatible with current backend service. Please update to the latest client version.\n",
      "ERROR - 2024-04-26T14:46:53Z - Client version 0.10.1 is not compatible with current backend service. Please update to the latest client version.\n",
      "INFO - 2024-04-26T14:46:53Z - Selected dataset version is \"202311\"\n",
      "INFO - 2024-04-26T14:46:53Z - Downloading using service original-files...\n"
     ]
    },
    {
     "name": "stderr",
     "output_type": "stream",
     "text": [
      "100%|██████████| 1/1 [00:13<00:00, 13.83s/it]\n"
     ]
    },
    {
     "name": "stdout",
     "output_type": "stream",
     "text": [
      "ERROR - 2024-04-26T14:47:12Z - Client version 0.10.1 is not compatible with current backend service. Please update to the latest client version.\n",
      "ERROR - 2024-04-26T14:47:12Z - Client version 0.10.1 is not compatible with current backend service. Please update to the latest client version.\n",
      "ERROR - 2024-04-26T14:47:12Z - Client version 0.10.1 is not compatible with current backend service. Please update to the latest client version.\n",
      "INFO - 2024-04-26T14:47:12Z - Selected dataset version is \"202311\"\n",
      "INFO - 2024-04-26T14:47:12Z - Downloading using service original-files...\n"
     ]
    },
    {
     "name": "stderr",
     "output_type": "stream",
     "text": [
      "100%|██████████| 1/1 [00:13<00:00, 13.63s/it]\n"
     ]
    },
    {
     "name": "stdout",
     "output_type": "stream",
     "text": [
      "ERROR - 2024-04-26T14:47:31Z - Client version 0.10.1 is not compatible with current backend service. Please update to the latest client version.\n",
      "ERROR - 2024-04-26T14:47:31Z - Client version 0.10.1 is not compatible with current backend service. Please update to the latest client version.\n",
      "ERROR - 2024-04-26T14:47:31Z - Client version 0.10.1 is not compatible with current backend service. Please update to the latest client version.\n",
      "INFO - 2024-04-26T14:47:31Z - Selected dataset version is \"202311\"\n",
      "INFO - 2024-04-26T14:47:31Z - Downloading using service original-files...\n"
     ]
    },
    {
     "name": "stderr",
     "output_type": "stream",
     "text": [
      "100%|██████████| 1/1 [00:13<00:00, 13.80s/it]\n"
     ]
    },
    {
     "name": "stdout",
     "output_type": "stream",
     "text": [
      "ERROR - 2024-04-26T14:47:50Z - Client version 0.10.1 is not compatible with current backend service. Please update to the latest client version.\n",
      "ERROR - 2024-04-26T14:47:50Z - Client version 0.10.1 is not compatible with current backend service. Please update to the latest client version.\n",
      "ERROR - 2024-04-26T14:47:50Z - Client version 0.10.1 is not compatible with current backend service. Please update to the latest client version.\n",
      "INFO - 2024-04-26T14:47:50Z - Selected dataset version is \"202311\"\n",
      "INFO - 2024-04-26T14:47:50Z - Downloading using service original-files...\n"
     ]
    },
    {
     "name": "stderr",
     "output_type": "stream",
     "text": [
      "100%|██████████| 1/1 [00:13<00:00, 13.56s/it]\n"
     ]
    },
    {
     "name": "stdout",
     "output_type": "stream",
     "text": [
      "ERROR - 2024-04-26T14:48:09Z - Client version 0.10.1 is not compatible with current backend service. Please update to the latest client version.\n",
      "ERROR - 2024-04-26T14:48:09Z - Client version 0.10.1 is not compatible with current backend service. Please update to the latest client version.\n",
      "ERROR - 2024-04-26T14:48:09Z - Client version 0.10.1 is not compatible with current backend service. Please update to the latest client version.\n",
      "INFO - 2024-04-26T14:48:09Z - Selected dataset version is \"202311\"\n",
      "INFO - 2024-04-26T14:48:09Z - Downloading using service original-files...\n"
     ]
    },
    {
     "name": "stderr",
     "output_type": "stream",
     "text": [
      "100%|██████████| 1/1 [00:13<00:00, 13.49s/it]\n"
     ]
    },
    {
     "name": "stdout",
     "output_type": "stream",
     "text": [
      "ERROR - 2024-04-26T14:48:28Z - Client version 0.10.1 is not compatible with current backend service. Please update to the latest client version.\n",
      "ERROR - 2024-04-26T14:48:28Z - Client version 0.10.1 is not compatible with current backend service. Please update to the latest client version.\n",
      "ERROR - 2024-04-26T14:48:28Z - Client version 0.10.1 is not compatible with current backend service. Please update to the latest client version.\n",
      "INFO - 2024-04-26T14:48:28Z - Selected dataset version is \"202311\"\n",
      "INFO - 2024-04-26T14:48:28Z - Downloading using service original-files...\n"
     ]
    },
    {
     "name": "stderr",
     "output_type": "stream",
     "text": [
      "100%|██████████| 1/1 [00:13<00:00, 13.41s/it]\n"
     ]
    },
    {
     "name": "stdout",
     "output_type": "stream",
     "text": [
      "ERROR - 2024-04-26T14:48:46Z - Client version 0.10.1 is not compatible with current backend service. Please update to the latest client version.\n",
      "ERROR - 2024-04-26T14:48:46Z - Client version 0.10.1 is not compatible with current backend service. Please update to the latest client version.\n",
      "ERROR - 2024-04-26T14:48:46Z - Client version 0.10.1 is not compatible with current backend service. Please update to the latest client version.\n",
      "INFO - 2024-04-26T14:48:47Z - Selected dataset version is \"202311\"\n",
      "INFO - 2024-04-26T14:48:47Z - Downloading using service original-files...\n"
     ]
    },
    {
     "name": "stderr",
     "output_type": "stream",
     "text": [
      "100%|██████████| 1/1 [00:13<00:00, 13.55s/it]\n"
     ]
    },
    {
     "name": "stdout",
     "output_type": "stream",
     "text": [
      "ERROR - 2024-04-26T14:49:05Z - Client version 0.10.1 is not compatible with current backend service. Please update to the latest client version.\n",
      "ERROR - 2024-04-26T14:49:05Z - Client version 0.10.1 is not compatible with current backend service. Please update to the latest client version.\n",
      "ERROR - 2024-04-26T14:49:05Z - Client version 0.10.1 is not compatible with current backend service. Please update to the latest client version.\n",
      "INFO - 2024-04-26T14:49:05Z - Selected dataset version is \"202311\"\n",
      "INFO - 2024-04-26T14:49:05Z - Downloading using service original-files...\n"
     ]
    },
    {
     "name": "stderr",
     "output_type": "stream",
     "text": [
      "100%|██████████| 1/1 [00:13<00:00, 13.48s/it]\n"
     ]
    },
    {
     "name": "stdout",
     "output_type": "stream",
     "text": [
      "ERROR - 2024-04-26T14:49:24Z - Client version 0.10.1 is not compatible with current backend service. Please update to the latest client version.\n",
      "ERROR - 2024-04-26T14:49:24Z - Client version 0.10.1 is not compatible with current backend service. Please update to the latest client version.\n",
      "ERROR - 2024-04-26T14:49:24Z - Client version 0.10.1 is not compatible with current backend service. Please update to the latest client version.\n",
      "INFO - 2024-04-26T14:49:24Z - Selected dataset version is \"202311\"\n",
      "INFO - 2024-04-26T14:49:24Z - Downloading using service original-files...\n"
     ]
    },
    {
     "name": "stderr",
     "output_type": "stream",
     "text": [
      "100%|██████████| 1/1 [00:13<00:00, 13.66s/it]\n"
     ]
    },
    {
     "name": "stdout",
     "output_type": "stream",
     "text": [
      "ERROR - 2024-04-26T14:49:43Z - Client version 0.10.1 is not compatible with current backend service. Please update to the latest client version.\n",
      "ERROR - 2024-04-26T14:49:43Z - Client version 0.10.1 is not compatible with current backend service. Please update to the latest client version.\n",
      "ERROR - 2024-04-26T14:49:43Z - Client version 0.10.1 is not compatible with current backend service. Please update to the latest client version.\n",
      "INFO - 2024-04-26T14:49:43Z - Selected dataset version is \"202311\"\n",
      "INFO - 2024-04-26T14:49:43Z - Downloading using service original-files...\n"
     ]
    },
    {
     "name": "stderr",
     "output_type": "stream",
     "text": [
      "100%|██████████| 1/1 [00:13<00:00, 13.60s/it]\n"
     ]
    },
    {
     "name": "stdout",
     "output_type": "stream",
     "text": [
      "ERROR - 2024-04-26T14:50:02Z - Client version 0.10.1 is not compatible with current backend service. Please update to the latest client version.\n",
      "ERROR - 2024-04-26T14:50:02Z - Client version 0.10.1 is not compatible with current backend service. Please update to the latest client version.\n",
      "ERROR - 2024-04-26T14:50:02Z - Client version 0.10.1 is not compatible with current backend service. Please update to the latest client version.\n",
      "INFO - 2024-04-26T14:50:02Z - Selected dataset version is \"202311\"\n",
      "INFO - 2024-04-26T14:50:02Z - Downloading using service original-files...\n"
     ]
    },
    {
     "name": "stderr",
     "output_type": "stream",
     "text": [
      "100%|██████████| 1/1 [00:13<00:00, 13.37s/it]\n"
     ]
    },
    {
     "name": "stdout",
     "output_type": "stream",
     "text": [
      "ERROR - 2024-04-26T14:50:21Z - Client version 0.10.1 is not compatible with current backend service. Please update to the latest client version.\n",
      "ERROR - 2024-04-26T14:50:21Z - Client version 0.10.1 is not compatible with current backend service. Please update to the latest client version.\n",
      "ERROR - 2024-04-26T14:50:21Z - Client version 0.10.1 is not compatible with current backend service. Please update to the latest client version.\n",
      "INFO - 2024-04-26T14:50:21Z - Selected dataset version is \"202311\"\n",
      "INFO - 2024-04-26T14:50:21Z - Downloading using service original-files...\n"
     ]
    },
    {
     "name": "stderr",
     "output_type": "stream",
     "text": [
      "100%|██████████| 1/1 [00:13<00:00, 13.31s/it]\n"
     ]
    },
    {
     "name": "stdout",
     "output_type": "stream",
     "text": [
      "ERROR - 2024-04-26T14:50:39Z - Client version 0.10.1 is not compatible with current backend service. Please update to the latest client version.\n",
      "ERROR - 2024-04-26T14:50:39Z - Client version 0.10.1 is not compatible with current backend service. Please update to the latest client version.\n",
      "ERROR - 2024-04-26T14:50:39Z - Client version 0.10.1 is not compatible with current backend service. Please update to the latest client version.\n",
      "INFO - 2024-04-26T14:50:40Z - Selected dataset version is \"202311\"\n",
      "INFO - 2024-04-26T14:50:40Z - Downloading using service original-files...\n"
     ]
    },
    {
     "name": "stderr",
     "output_type": "stream",
     "text": [
      "100%|██████████| 1/1 [00:13<00:00, 13.64s/it]\n"
     ]
    },
    {
     "name": "stdout",
     "output_type": "stream",
     "text": [
      "ERROR - 2024-04-26T14:50:58Z - Client version 0.10.1 is not compatible with current backend service. Please update to the latest client version.\n",
      "ERROR - 2024-04-26T14:50:58Z - Client version 0.10.1 is not compatible with current backend service. Please update to the latest client version.\n",
      "ERROR - 2024-04-26T14:50:58Z - Client version 0.10.1 is not compatible with current backend service. Please update to the latest client version.\n",
      "INFO - 2024-04-26T14:50:59Z - Selected dataset version is \"202311\"\n",
      "INFO - 2024-04-26T14:50:59Z - Downloading using service original-files...\n"
     ]
    },
    {
     "name": "stderr",
     "output_type": "stream",
     "text": [
      "100%|██████████| 1/1 [00:13<00:00, 13.65s/it]\n"
     ]
    },
    {
     "name": "stdout",
     "output_type": "stream",
     "text": [
      "ERROR - 2024-04-26T14:51:17Z - Client version 0.10.1 is not compatible with current backend service. Please update to the latest client version.\n",
      "ERROR - 2024-04-26T14:51:17Z - Client version 0.10.1 is not compatible with current backend service. Please update to the latest client version.\n",
      "ERROR - 2024-04-26T14:51:17Z - Client version 0.10.1 is not compatible with current backend service. Please update to the latest client version.\n",
      "INFO - 2024-04-26T14:51:18Z - Selected dataset version is \"202311\"\n",
      "INFO - 2024-04-26T14:51:18Z - Downloading using service original-files...\n"
     ]
    },
    {
     "name": "stderr",
     "output_type": "stream",
     "text": [
      "100%|██████████| 1/1 [00:13<00:00, 13.49s/it]\n"
     ]
    },
    {
     "name": "stdout",
     "output_type": "stream",
     "text": [
      "ERROR - 2024-04-26T14:51:36Z - Client version 0.10.1 is not compatible with current backend service. Please update to the latest client version.\n",
      "ERROR - 2024-04-26T14:51:36Z - Client version 0.10.1 is not compatible with current backend service. Please update to the latest client version.\n",
      "ERROR - 2024-04-26T14:51:36Z - Client version 0.10.1 is not compatible with current backend service. Please update to the latest client version.\n",
      "INFO - 2024-04-26T14:51:37Z - Selected dataset version is \"202311\"\n",
      "INFO - 2024-04-26T14:51:37Z - Downloading using service original-files...\n"
     ]
    },
    {
     "name": "stderr",
     "output_type": "stream",
     "text": [
      "100%|██████████| 1/1 [00:13<00:00, 13.43s/it]\n"
     ]
    },
    {
     "name": "stdout",
     "output_type": "stream",
     "text": [
      "ERROR - 2024-04-26T14:51:55Z - Client version 0.10.1 is not compatible with current backend service. Please update to the latest client version.\n",
      "ERROR - 2024-04-26T14:51:55Z - Client version 0.10.1 is not compatible with current backend service. Please update to the latest client version.\n",
      "ERROR - 2024-04-26T14:51:55Z - Client version 0.10.1 is not compatible with current backend service. Please update to the latest client version.\n",
      "INFO - 2024-04-26T14:51:55Z - Selected dataset version is \"202311\"\n",
      "INFO - 2024-04-26T14:51:55Z - Downloading using service original-files...\n"
     ]
    },
    {
     "name": "stderr",
     "output_type": "stream",
     "text": [
      "100%|██████████| 1/1 [00:13<00:00, 13.67s/it]\n"
     ]
    },
    {
     "name": "stdout",
     "output_type": "stream",
     "text": [
      "ERROR - 2024-04-26T14:52:14Z - Client version 0.10.1 is not compatible with current backend service. Please update to the latest client version.\n",
      "ERROR - 2024-04-26T14:52:14Z - Client version 0.10.1 is not compatible with current backend service. Please update to the latest client version.\n",
      "ERROR - 2024-04-26T14:52:14Z - Client version 0.10.1 is not compatible with current backend service. Please update to the latest client version.\n",
      "INFO - 2024-04-26T14:52:15Z - Selected dataset version is \"202311\"\n",
      "INFO - 2024-04-26T14:52:15Z - Downloading using service original-files...\n"
     ]
    },
    {
     "name": "stderr",
     "output_type": "stream",
     "text": [
      "100%|██████████| 1/1 [00:13<00:00, 13.54s/it]\n"
     ]
    },
    {
     "name": "stdout",
     "output_type": "stream",
     "text": [
      "ERROR - 2024-04-26T14:52:33Z - Client version 0.10.1 is not compatible with current backend service. Please update to the latest client version.\n",
      "ERROR - 2024-04-26T14:52:33Z - Client version 0.10.1 is not compatible with current backend service. Please update to the latest client version.\n",
      "ERROR - 2024-04-26T14:52:33Z - Client version 0.10.1 is not compatible with current backend service. Please update to the latest client version.\n",
      "INFO - 2024-04-26T14:52:33Z - Selected dataset version is \"202311\"\n",
      "INFO - 2024-04-26T14:52:33Z - Downloading using service original-files...\n"
     ]
    },
    {
     "name": "stderr",
     "output_type": "stream",
     "text": [
      "100%|██████████| 1/1 [00:13<00:00, 13.63s/it]\n"
     ]
    },
    {
     "name": "stdout",
     "output_type": "stream",
     "text": [
      "ERROR - 2024-04-26T14:52:52Z - Client version 0.10.1 is not compatible with current backend service. Please update to the latest client version.\n",
      "ERROR - 2024-04-26T14:52:52Z - Client version 0.10.1 is not compatible with current backend service. Please update to the latest client version.\n",
      "ERROR - 2024-04-26T14:52:52Z - Client version 0.10.1 is not compatible with current backend service. Please update to the latest client version.\n",
      "INFO - 2024-04-26T14:52:52Z - Selected dataset version is \"202311\"\n",
      "INFO - 2024-04-26T14:52:52Z - Downloading using service original-files...\n"
     ]
    },
    {
     "name": "stderr",
     "output_type": "stream",
     "text": [
      "100%|██████████| 1/1 [00:13<00:00, 13.64s/it]\n"
     ]
    },
    {
     "name": "stdout",
     "output_type": "stream",
     "text": [
      "ERROR - 2024-04-26T14:53:11Z - Client version 0.10.1 is not compatible with current backend service. Please update to the latest client version.\n",
      "ERROR - 2024-04-26T14:53:11Z - Client version 0.10.1 is not compatible with current backend service. Please update to the latest client version.\n",
      "ERROR - 2024-04-26T14:53:11Z - Client version 0.10.1 is not compatible with current backend service. Please update to the latest client version.\n",
      "INFO - 2024-04-26T14:53:12Z - Selected dataset version is \"202311\"\n",
      "INFO - 2024-04-26T14:53:12Z - Downloading using service original-files...\n"
     ]
    },
    {
     "name": "stderr",
     "output_type": "stream",
     "text": [
      "100%|██████████| 1/1 [00:13<00:00, 13.64s/it]\n"
     ]
    },
    {
     "name": "stdout",
     "output_type": "stream",
     "text": [
      "ERROR - 2024-04-26T14:53:30Z - Client version 0.10.1 is not compatible with current backend service. Please update to the latest client version.\n",
      "ERROR - 2024-04-26T14:53:30Z - Client version 0.10.1 is not compatible with current backend service. Please update to the latest client version.\n",
      "ERROR - 2024-04-26T14:53:30Z - Client version 0.10.1 is not compatible with current backend service. Please update to the latest client version.\n",
      "INFO - 2024-04-26T14:53:31Z - Selected dataset version is \"202311\"\n",
      "INFO - 2024-04-26T14:53:31Z - Downloading using service original-files...\n"
     ]
    },
    {
     "name": "stderr",
     "output_type": "stream",
     "text": [
      "100%|██████████| 1/1 [00:13<00:00, 13.74s/it]\n"
     ]
    },
    {
     "name": "stdout",
     "output_type": "stream",
     "text": [
      "ERROR - 2024-04-26T14:53:49Z - Client version 0.10.1 is not compatible with current backend service. Please update to the latest client version.\n",
      "ERROR - 2024-04-26T14:53:49Z - Client version 0.10.1 is not compatible with current backend service. Please update to the latest client version.\n",
      "ERROR - 2024-04-26T14:53:49Z - Client version 0.10.1 is not compatible with current backend service. Please update to the latest client version.\n",
      "INFO - 2024-04-26T14:53:50Z - Selected dataset version is \"202311\"\n",
      "INFO - 2024-04-26T14:53:50Z - Downloading using service original-files...\n"
     ]
    },
    {
     "name": "stderr",
     "output_type": "stream",
     "text": [
      "100%|██████████| 1/1 [00:13<00:00, 13.32s/it]\n"
     ]
    },
    {
     "name": "stdout",
     "output_type": "stream",
     "text": [
      "ERROR - 2024-04-26T14:54:08Z - Client version 0.10.1 is not compatible with current backend service. Please update to the latest client version.\n",
      "ERROR - 2024-04-26T14:54:08Z - Client version 0.10.1 is not compatible with current backend service. Please update to the latest client version.\n",
      "ERROR - 2024-04-26T14:54:08Z - Client version 0.10.1 is not compatible with current backend service. Please update to the latest client version.\n",
      "INFO - 2024-04-26T14:54:09Z - Selected dataset version is \"202311\"\n",
      "INFO - 2024-04-26T14:54:09Z - Downloading using service original-files...\n"
     ]
    },
    {
     "name": "stderr",
     "output_type": "stream",
     "text": [
      "100%|██████████| 1/1 [00:13<00:00, 13.68s/it]\n"
     ]
    },
    {
     "name": "stdout",
     "output_type": "stream",
     "text": [
      "ERROR - 2024-04-26T14:54:27Z - Client version 0.10.1 is not compatible with current backend service. Please update to the latest client version.\n",
      "ERROR - 2024-04-26T14:54:27Z - Client version 0.10.1 is not compatible with current backend service. Please update to the latest client version.\n",
      "ERROR - 2024-04-26T14:54:27Z - Client version 0.10.1 is not compatible with current backend service. Please update to the latest client version.\n",
      "INFO - 2024-04-26T14:54:27Z - Selected dataset version is \"202311\"\n",
      "INFO - 2024-04-26T14:54:27Z - Downloading using service original-files...\n"
     ]
    },
    {
     "name": "stderr",
     "output_type": "stream",
     "text": [
      "100%|██████████| 1/1 [00:13<00:00, 13.74s/it]\n"
     ]
    },
    {
     "name": "stdout",
     "output_type": "stream",
     "text": [
      "ERROR - 2024-04-26T14:54:46Z - Client version 0.10.1 is not compatible with current backend service. Please update to the latest client version.\n",
      "ERROR - 2024-04-26T14:54:46Z - Client version 0.10.1 is not compatible with current backend service. Please update to the latest client version.\n",
      "ERROR - 2024-04-26T14:54:46Z - Client version 0.10.1 is not compatible with current backend service. Please update to the latest client version.\n",
      "INFO - 2024-04-26T14:54:46Z - Selected dataset version is \"202311\"\n",
      "INFO - 2024-04-26T14:54:46Z - Downloading using service original-files...\n"
     ]
    },
    {
     "name": "stderr",
     "output_type": "stream",
     "text": [
      "100%|██████████| 1/1 [00:13<00:00, 13.71s/it]\n"
     ]
    },
    {
     "name": "stdout",
     "output_type": "stream",
     "text": [
      "ERROR - 2024-04-26T14:55:05Z - Client version 0.10.1 is not compatible with current backend service. Please update to the latest client version.\n",
      "ERROR - 2024-04-26T14:55:05Z - Client version 0.10.1 is not compatible with current backend service. Please update to the latest client version.\n",
      "ERROR - 2024-04-26T14:55:05Z - Client version 0.10.1 is not compatible with current backend service. Please update to the latest client version.\n",
      "INFO - 2024-04-26T14:55:06Z - Selected dataset version is \"202311\"\n",
      "INFO - 2024-04-26T14:55:06Z - Downloading using service original-files...\n"
     ]
    },
    {
     "name": "stderr",
     "output_type": "stream",
     "text": [
      "100%|██████████| 1/1 [00:13<00:00, 13.79s/it]\n"
     ]
    },
    {
     "name": "stdout",
     "output_type": "stream",
     "text": [
      "ERROR - 2024-04-26T14:55:25Z - Client version 0.10.1 is not compatible with current backend service. Please update to the latest client version.\n",
      "ERROR - 2024-04-26T14:55:25Z - Client version 0.10.1 is not compatible with current backend service. Please update to the latest client version.\n",
      "ERROR - 2024-04-26T14:55:25Z - Client version 0.10.1 is not compatible with current backend service. Please update to the latest client version.\n",
      "INFO - 2024-04-26T14:55:25Z - Selected dataset version is \"202311\"\n",
      "INFO - 2024-04-26T14:55:25Z - Downloading using service original-files...\n"
     ]
    },
    {
     "name": "stderr",
     "output_type": "stream",
     "text": [
      "100%|██████████| 1/1 [00:13<00:00, 13.46s/it]\n"
     ]
    },
    {
     "name": "stdout",
     "output_type": "stream",
     "text": [
      "ERROR - 2024-04-26T14:55:44Z - Client version 0.10.1 is not compatible with current backend service. Please update to the latest client version.\n",
      "ERROR - 2024-04-26T14:55:44Z - Client version 0.10.1 is not compatible with current backend service. Please update to the latest client version.\n",
      "ERROR - 2024-04-26T14:55:44Z - Client version 0.10.1 is not compatible with current backend service. Please update to the latest client version.\n",
      "INFO - 2024-04-26T14:55:44Z - Selected dataset version is \"202311\"\n",
      "INFO - 2024-04-26T14:55:44Z - Downloading using service original-files...\n"
     ]
    },
    {
     "name": "stderr",
     "output_type": "stream",
     "text": [
      "100%|██████████| 1/1 [00:13<00:00, 13.66s/it]\n"
     ]
    },
    {
     "name": "stdout",
     "output_type": "stream",
     "text": [
      "ERROR - 2024-04-26T14:56:02Z - Client version 0.10.1 is not compatible with current backend service. Please update to the latest client version.\n",
      "ERROR - 2024-04-26T14:56:02Z - Client version 0.10.1 is not compatible with current backend service. Please update to the latest client version.\n",
      "ERROR - 2024-04-26T14:56:02Z - Client version 0.10.1 is not compatible with current backend service. Please update to the latest client version.\n",
      "INFO - 2024-04-26T14:56:03Z - Selected dataset version is \"202311\"\n",
      "INFO - 2024-04-26T14:56:03Z - Downloading using service original-files...\n"
     ]
    },
    {
     "name": "stderr",
     "output_type": "stream",
     "text": [
      "100%|██████████| 1/1 [00:13<00:00, 13.53s/it]\n"
     ]
    },
    {
     "name": "stdout",
     "output_type": "stream",
     "text": [
      "ERROR - 2024-04-26T14:56:21Z - Client version 0.10.1 is not compatible with current backend service. Please update to the latest client version.\n",
      "ERROR - 2024-04-26T14:56:21Z - Client version 0.10.1 is not compatible with current backend service. Please update to the latest client version.\n",
      "ERROR - 2024-04-26T14:56:21Z - Client version 0.10.1 is not compatible with current backend service. Please update to the latest client version.\n",
      "INFO - 2024-04-26T14:56:22Z - Selected dataset version is \"202311\"\n",
      "INFO - 2024-04-26T14:56:22Z - Downloading using service original-files...\n"
     ]
    },
    {
     "name": "stderr",
     "output_type": "stream",
     "text": [
      "100%|██████████| 1/1 [00:13<00:00, 13.34s/it]\n"
     ]
    },
    {
     "name": "stdout",
     "output_type": "stream",
     "text": [
      "ERROR - 2024-04-26T14:56:40Z - Client version 0.10.1 is not compatible with current backend service. Please update to the latest client version.\n",
      "ERROR - 2024-04-26T14:56:40Z - Client version 0.10.1 is not compatible with current backend service. Please update to the latest client version.\n",
      "ERROR - 2024-04-26T14:56:40Z - Client version 0.10.1 is not compatible with current backend service. Please update to the latest client version.\n",
      "INFO - 2024-04-26T14:56:40Z - Selected dataset version is \"202311\"\n",
      "INFO - 2024-04-26T14:56:40Z - Downloading using service original-files...\n"
     ]
    },
    {
     "name": "stderr",
     "output_type": "stream",
     "text": [
      "100%|██████████| 1/1 [00:13<00:00, 13.51s/it]\n"
     ]
    },
    {
     "name": "stdout",
     "output_type": "stream",
     "text": [
      "ERROR - 2024-04-26T14:56:59Z - Client version 0.10.1 is not compatible with current backend service. Please update to the latest client version.\n",
      "ERROR - 2024-04-26T14:56:59Z - Client version 0.10.1 is not compatible with current backend service. Please update to the latest client version.\n",
      "ERROR - 2024-04-26T14:56:59Z - Client version 0.10.1 is not compatible with current backend service. Please update to the latest client version.\n",
      "INFO - 2024-04-26T14:56:59Z - Selected dataset version is \"202311\"\n",
      "INFO - 2024-04-26T14:56:59Z - Downloading using service original-files...\n"
     ]
    },
    {
     "name": "stderr",
     "output_type": "stream",
     "text": [
      "100%|██████████| 1/1 [00:13<00:00, 13.49s/it]\n"
     ]
    },
    {
     "name": "stdout",
     "output_type": "stream",
     "text": [
      "ERROR - 2024-04-26T14:57:18Z - Client version 0.10.1 is not compatible with current backend service. Please update to the latest client version.\n",
      "ERROR - 2024-04-26T14:57:18Z - Client version 0.10.1 is not compatible with current backend service. Please update to the latest client version.\n",
      "ERROR - 2024-04-26T14:57:18Z - Client version 0.10.1 is not compatible with current backend service. Please update to the latest client version.\n",
      "INFO - 2024-04-26T14:57:18Z - Selected dataset version is \"202311\"\n",
      "INFO - 2024-04-26T14:57:18Z - Downloading using service original-files...\n"
     ]
    },
    {
     "name": "stderr",
     "output_type": "stream",
     "text": [
      "100%|██████████| 1/1 [00:13<00:00, 13.39s/it]\n"
     ]
    },
    {
     "name": "stdout",
     "output_type": "stream",
     "text": [
      "ERROR - 2024-04-26T14:57:37Z - Client version 0.10.1 is not compatible with current backend service. Please update to the latest client version.\n",
      "ERROR - 2024-04-26T14:57:37Z - Client version 0.10.1 is not compatible with current backend service. Please update to the latest client version.\n",
      "ERROR - 2024-04-26T14:57:37Z - Client version 0.10.1 is not compatible with current backend service. Please update to the latest client version.\n",
      "INFO - 2024-04-26T14:57:37Z - Selected dataset version is \"202311\"\n",
      "INFO - 2024-04-26T14:57:37Z - Downloading using service original-files...\n"
     ]
    },
    {
     "name": "stderr",
     "output_type": "stream",
     "text": [
      "100%|██████████| 1/1 [00:13<00:00, 13.51s/it]\n"
     ]
    },
    {
     "name": "stdout",
     "output_type": "stream",
     "text": [
      "ERROR - 2024-04-26T14:57:55Z - Client version 0.10.1 is not compatible with current backend service. Please update to the latest client version.\n",
      "ERROR - 2024-04-26T14:57:55Z - Client version 0.10.1 is not compatible with current backend service. Please update to the latest client version.\n",
      "ERROR - 2024-04-26T14:57:55Z - Client version 0.10.1 is not compatible with current backend service. Please update to the latest client version.\n",
      "INFO - 2024-04-26T14:57:56Z - Selected dataset version is \"202311\"\n",
      "INFO - 2024-04-26T14:57:56Z - Downloading using service original-files...\n"
     ]
    },
    {
     "name": "stderr",
     "output_type": "stream",
     "text": [
      "100%|██████████| 1/1 [00:13<00:00, 13.61s/it]\n"
     ]
    },
    {
     "name": "stdout",
     "output_type": "stream",
     "text": [
      "ERROR - 2024-04-26T14:58:14Z - Client version 0.10.1 is not compatible with current backend service. Please update to the latest client version.\n",
      "ERROR - 2024-04-26T14:58:14Z - Client version 0.10.1 is not compatible with current backend service. Please update to the latest client version.\n",
      "ERROR - 2024-04-26T14:58:14Z - Client version 0.10.1 is not compatible with current backend service. Please update to the latest client version.\n",
      "INFO - 2024-04-26T14:58:15Z - Selected dataset version is \"202311\"\n",
      "INFO - 2024-04-26T14:58:15Z - Downloading using service original-files...\n"
     ]
    },
    {
     "name": "stderr",
     "output_type": "stream",
     "text": [
      "100%|██████████| 1/1 [00:13<00:00, 13.50s/it]\n"
     ]
    },
    {
     "name": "stdout",
     "output_type": "stream",
     "text": [
      "ERROR - 2024-04-26T14:58:33Z - Client version 0.10.1 is not compatible with current backend service. Please update to the latest client version.\n",
      "ERROR - 2024-04-26T14:58:33Z - Client version 0.10.1 is not compatible with current backend service. Please update to the latest client version.\n",
      "ERROR - 2024-04-26T14:58:33Z - Client version 0.10.1 is not compatible with current backend service. Please update to the latest client version.\n",
      "INFO - 2024-04-26T14:58:33Z - Selected dataset version is \"202311\"\n",
      "INFO - 2024-04-26T14:58:33Z - Downloading using service original-files...\n"
     ]
    },
    {
     "name": "stderr",
     "output_type": "stream",
     "text": [
      "100%|██████████| 1/1 [00:13<00:00, 13.51s/it]\n"
     ]
    },
    {
     "name": "stdout",
     "output_type": "stream",
     "text": [
      "ERROR - 2024-04-26T14:58:52Z - Client version 0.10.1 is not compatible with current backend service. Please update to the latest client version.\n",
      "ERROR - 2024-04-26T14:58:52Z - Client version 0.10.1 is not compatible with current backend service. Please update to the latest client version.\n",
      "ERROR - 2024-04-26T14:58:52Z - Client version 0.10.1 is not compatible with current backend service. Please update to the latest client version.\n",
      "INFO - 2024-04-26T14:58:52Z - Selected dataset version is \"202311\"\n",
      "INFO - 2024-04-26T14:58:52Z - Downloading using service original-files...\n"
     ]
    },
    {
     "name": "stderr",
     "output_type": "stream",
     "text": [
      "100%|██████████| 1/1 [00:13<00:00, 13.47s/it]\n"
     ]
    },
    {
     "name": "stdout",
     "output_type": "stream",
     "text": [
      "ERROR - 2024-04-26T14:59:11Z - Client version 0.10.1 is not compatible with current backend service. Please update to the latest client version.\n",
      "ERROR - 2024-04-26T14:59:11Z - Client version 0.10.1 is not compatible with current backend service. Please update to the latest client version.\n",
      "ERROR - 2024-04-26T14:59:11Z - Client version 0.10.1 is not compatible with current backend service. Please update to the latest client version.\n",
      "INFO - 2024-04-26T14:59:11Z - Selected dataset version is \"202311\"\n",
      "INFO - 2024-04-26T14:59:11Z - Downloading using service original-files...\n"
     ]
    },
    {
     "name": "stderr",
     "output_type": "stream",
     "text": [
      "100%|██████████| 1/1 [00:13<00:00, 13.38s/it]\n"
     ]
    },
    {
     "name": "stdout",
     "output_type": "stream",
     "text": [
      "ERROR - 2024-04-26T14:59:29Z - Client version 0.10.1 is not compatible with current backend service. Please update to the latest client version.\n",
      "ERROR - 2024-04-26T14:59:29Z - Client version 0.10.1 is not compatible with current backend service. Please update to the latest client version.\n",
      "ERROR - 2024-04-26T14:59:29Z - Client version 0.10.1 is not compatible with current backend service. Please update to the latest client version.\n",
      "INFO - 2024-04-26T14:59:30Z - Selected dataset version is \"202311\"\n",
      "INFO - 2024-04-26T14:59:30Z - Downloading using service original-files...\n"
     ]
    },
    {
     "name": "stderr",
     "output_type": "stream",
     "text": [
      "100%|██████████| 1/1 [00:13<00:00, 13.53s/it]\n"
     ]
    },
    {
     "name": "stdout",
     "output_type": "stream",
     "text": [
      "ERROR - 2024-04-26T14:59:48Z - Client version 0.10.1 is not compatible with current backend service. Please update to the latest client version.\n",
      "ERROR - 2024-04-26T14:59:48Z - Client version 0.10.1 is not compatible with current backend service. Please update to the latest client version.\n",
      "ERROR - 2024-04-26T14:59:48Z - Client version 0.10.1 is not compatible with current backend service. Please update to the latest client version.\n",
      "INFO - 2024-04-26T14:59:49Z - Selected dataset version is \"202311\"\n",
      "INFO - 2024-04-26T14:59:49Z - Downloading using service original-files...\n"
     ]
    },
    {
     "name": "stderr",
     "output_type": "stream",
     "text": [
      "100%|██████████| 1/1 [00:13<00:00, 13.67s/it]\n"
     ]
    },
    {
     "name": "stdout",
     "output_type": "stream",
     "text": [
      "ERROR - 2024-04-26T15:00:07Z - Client version 0.10.1 is not compatible with current backend service. Please update to the latest client version.\n",
      "ERROR - 2024-04-26T15:00:07Z - Client version 0.10.1 is not compatible with current backend service. Please update to the latest client version.\n",
      "ERROR - 2024-04-26T15:00:07Z - Client version 0.10.1 is not compatible with current backend service. Please update to the latest client version.\n",
      "INFO - 2024-04-26T15:00:08Z - Selected dataset version is \"202311\"\n",
      "INFO - 2024-04-26T15:00:08Z - Downloading using service original-files...\n"
     ]
    },
    {
     "name": "stderr",
     "output_type": "stream",
     "text": [
      "100%|██████████| 1/1 [00:13<00:00, 13.43s/it]\n"
     ]
    },
    {
     "name": "stdout",
     "output_type": "stream",
     "text": [
      "ERROR - 2024-04-26T15:00:26Z - Client version 0.10.1 is not compatible with current backend service. Please update to the latest client version.\n",
      "ERROR - 2024-04-26T15:00:26Z - Client version 0.10.1 is not compatible with current backend service. Please update to the latest client version.\n",
      "ERROR - 2024-04-26T15:00:26Z - Client version 0.10.1 is not compatible with current backend service. Please update to the latest client version.\n",
      "INFO - 2024-04-26T15:00:26Z - Selected dataset version is \"202311\"\n",
      "INFO - 2024-04-26T15:00:26Z - Downloading using service original-files...\n"
     ]
    },
    {
     "name": "stderr",
     "output_type": "stream",
     "text": [
      "100%|██████████| 1/1 [00:13<00:00, 13.32s/it]\n"
     ]
    },
    {
     "name": "stdout",
     "output_type": "stream",
     "text": [
      "ERROR - 2024-04-26T15:00:45Z - Client version 0.10.1 is not compatible with current backend service. Please update to the latest client version.\n",
      "ERROR - 2024-04-26T15:00:45Z - Client version 0.10.1 is not compatible with current backend service. Please update to the latest client version.\n",
      "ERROR - 2024-04-26T15:00:45Z - Client version 0.10.1 is not compatible with current backend service. Please update to the latest client version.\n",
      "INFO - 2024-04-26T15:00:45Z - Selected dataset version is \"202311\"\n",
      "INFO - 2024-04-26T15:00:45Z - Downloading using service original-files...\n"
     ]
    },
    {
     "name": "stderr",
     "output_type": "stream",
     "text": [
      "100%|██████████| 1/1 [00:13<00:00, 13.49s/it]\n"
     ]
    },
    {
     "name": "stdout",
     "output_type": "stream",
     "text": [
      "ERROR - 2024-04-26T15:01:03Z - Client version 0.10.1 is not compatible with current backend service. Please update to the latest client version.\n",
      "ERROR - 2024-04-26T15:01:03Z - Client version 0.10.1 is not compatible with current backend service. Please update to the latest client version.\n",
      "ERROR - 2024-04-26T15:01:03Z - Client version 0.10.1 is not compatible with current backend service. Please update to the latest client version.\n",
      "INFO - 2024-04-26T15:01:04Z - Selected dataset version is \"202311\"\n",
      "INFO - 2024-04-26T15:01:04Z - Downloading using service original-files...\n"
     ]
    },
    {
     "name": "stderr",
     "output_type": "stream",
     "text": [
      "100%|██████████| 1/1 [00:13<00:00, 13.53s/it]\n"
     ]
    },
    {
     "name": "stdout",
     "output_type": "stream",
     "text": [
      "ERROR - 2024-04-26T15:01:22Z - Client version 0.10.1 is not compatible with current backend service. Please update to the latest client version.\n",
      "ERROR - 2024-04-26T15:01:22Z - Client version 0.10.1 is not compatible with current backend service. Please update to the latest client version.\n",
      "ERROR - 2024-04-26T15:01:22Z - Client version 0.10.1 is not compatible with current backend service. Please update to the latest client version.\n",
      "INFO - 2024-04-26T15:01:22Z - Selected dataset version is \"202311\"\n",
      "INFO - 2024-04-26T15:01:22Z - Downloading using service original-files...\n"
     ]
    },
    {
     "name": "stderr",
     "output_type": "stream",
     "text": [
      "100%|██████████| 1/1 [00:13<00:00, 13.47s/it]\n"
     ]
    },
    {
     "name": "stdout",
     "output_type": "stream",
     "text": [
      "ERROR - 2024-04-26T15:01:41Z - Client version 0.10.1 is not compatible with current backend service. Please update to the latest client version.\n",
      "ERROR - 2024-04-26T15:01:41Z - Client version 0.10.1 is not compatible with current backend service. Please update to the latest client version.\n",
      "ERROR - 2024-04-26T15:01:41Z - Client version 0.10.1 is not compatible with current backend service. Please update to the latest client version.\n",
      "INFO - 2024-04-26T15:01:41Z - Selected dataset version is \"202311\"\n",
      "INFO - 2024-04-26T15:01:41Z - Downloading using service original-files...\n"
     ]
    },
    {
     "name": "stderr",
     "output_type": "stream",
     "text": [
      "100%|██████████| 1/1 [00:13<00:00, 13.47s/it]\n"
     ]
    },
    {
     "name": "stdout",
     "output_type": "stream",
     "text": [
      "ERROR - 2024-04-26T15:02:00Z - Client version 0.10.1 is not compatible with current backend service. Please update to the latest client version.\n",
      "ERROR - 2024-04-26T15:02:00Z - Client version 0.10.1 is not compatible with current backend service. Please update to the latest client version.\n",
      "ERROR - 2024-04-26T15:02:00Z - Client version 0.10.1 is not compatible with current backend service. Please update to the latest client version.\n",
      "INFO - 2024-04-26T15:02:00Z - Selected dataset version is \"202311\"\n",
      "INFO - 2024-04-26T15:02:00Z - Downloading using service original-files...\n"
     ]
    },
    {
     "name": "stderr",
     "output_type": "stream",
     "text": [
      "100%|██████████| 1/1 [00:13<00:00, 13.68s/it]\n"
     ]
    },
    {
     "name": "stdout",
     "output_type": "stream",
     "text": [
      "ERROR - 2024-04-26T15:02:19Z - Client version 0.10.1 is not compatible with current backend service. Please update to the latest client version.\n",
      "ERROR - 2024-04-26T15:02:19Z - Client version 0.10.1 is not compatible with current backend service. Please update to the latest client version.\n",
      "ERROR - 2024-04-26T15:02:19Z - Client version 0.10.1 is not compatible with current backend service. Please update to the latest client version.\n",
      "INFO - 2024-04-26T15:02:20Z - Selected dataset version is \"202311\"\n",
      "INFO - 2024-04-26T15:02:20Z - Downloading using service original-files...\n"
     ]
    },
    {
     "name": "stderr",
     "output_type": "stream",
     "text": [
      "100%|██████████| 1/1 [00:13<00:00, 13.49s/it]\n"
     ]
    },
    {
     "name": "stdout",
     "output_type": "stream",
     "text": [
      "ERROR - 2024-04-26T15:02:38Z - Client version 0.10.1 is not compatible with current backend service. Please update to the latest client version.\n",
      "ERROR - 2024-04-26T15:02:38Z - Client version 0.10.1 is not compatible with current backend service. Please update to the latest client version.\n",
      "ERROR - 2024-04-26T15:02:38Z - Client version 0.10.1 is not compatible with current backend service. Please update to the latest client version.\n",
      "INFO - 2024-04-26T15:02:38Z - Selected dataset version is \"202311\"\n",
      "INFO - 2024-04-26T15:02:38Z - Downloading using service original-files...\n"
     ]
    },
    {
     "name": "stderr",
     "output_type": "stream",
     "text": [
      "100%|██████████| 1/1 [00:13<00:00, 13.49s/it]\n"
     ]
    },
    {
     "name": "stdout",
     "output_type": "stream",
     "text": [
      "ERROR - 2024-04-26T15:02:56Z - Client version 0.10.1 is not compatible with current backend service. Please update to the latest client version.\n",
      "ERROR - 2024-04-26T15:02:56Z - Client version 0.10.1 is not compatible with current backend service. Please update to the latest client version.\n",
      "ERROR - 2024-04-26T15:02:56Z - Client version 0.10.1 is not compatible with current backend service. Please update to the latest client version.\n",
      "INFO - 2024-04-26T15:02:57Z - Selected dataset version is \"202311\"\n",
      "INFO - 2024-04-26T15:02:57Z - Downloading using service original-files...\n"
     ]
    },
    {
     "name": "stderr",
     "output_type": "stream",
     "text": [
      "100%|██████████| 1/1 [00:13<00:00, 13.54s/it]\n"
     ]
    },
    {
     "name": "stdout",
     "output_type": "stream",
     "text": [
      "ERROR - 2024-04-26T15:03:15Z - Client version 0.10.1 is not compatible with current backend service. Please update to the latest client version.\n",
      "ERROR - 2024-04-26T15:03:15Z - Client version 0.10.1 is not compatible with current backend service. Please update to the latest client version.\n",
      "ERROR - 2024-04-26T15:03:15Z - Client version 0.10.1 is not compatible with current backend service. Please update to the latest client version.\n",
      "INFO - 2024-04-26T15:03:16Z - Selected dataset version is \"202311\"\n",
      "INFO - 2024-04-26T15:03:16Z - Downloading using service original-files...\n"
     ]
    },
    {
     "name": "stderr",
     "output_type": "stream",
     "text": [
      "100%|██████████| 1/1 [00:13<00:00, 13.52s/it]\n"
     ]
    },
    {
     "name": "stdout",
     "output_type": "stream",
     "text": [
      "ERROR - 2024-04-26T15:03:34Z - Client version 0.10.1 is not compatible with current backend service. Please update to the latest client version.\n",
      "ERROR - 2024-04-26T15:03:34Z - Client version 0.10.1 is not compatible with current backend service. Please update to the latest client version.\n",
      "ERROR - 2024-04-26T15:03:34Z - Client version 0.10.1 is not compatible with current backend service. Please update to the latest client version.\n",
      "INFO - 2024-04-26T15:03:35Z - Selected dataset version is \"202311\"\n",
      "INFO - 2024-04-26T15:03:35Z - Downloading using service original-files...\n"
     ]
    },
    {
     "name": "stderr",
     "output_type": "stream",
     "text": [
      "100%|██████████| 1/1 [00:13<00:00, 13.98s/it]\n"
     ]
    },
    {
     "name": "stdout",
     "output_type": "stream",
     "text": [
      "ERROR - 2024-04-26T15:03:54Z - Client version 0.10.1 is not compatible with current backend service. Please update to the latest client version.\n",
      "ERROR - 2024-04-26T15:03:54Z - Client version 0.10.1 is not compatible with current backend service. Please update to the latest client version.\n",
      "ERROR - 2024-04-26T15:03:54Z - Client version 0.10.1 is not compatible with current backend service. Please update to the latest client version.\n",
      "INFO - 2024-04-26T15:03:54Z - Selected dataset version is \"202311\"\n",
      "INFO - 2024-04-26T15:03:54Z - Downloading using service original-files...\n"
     ]
    },
    {
     "name": "stderr",
     "output_type": "stream",
     "text": [
      "100%|██████████| 1/1 [00:13<00:00, 13.71s/it]\n"
     ]
    },
    {
     "name": "stdout",
     "output_type": "stream",
     "text": [
      "ERROR - 2024-04-26T15:04:13Z - Client version 0.10.1 is not compatible with current backend service. Please update to the latest client version.\n",
      "ERROR - 2024-04-26T15:04:13Z - Client version 0.10.1 is not compatible with current backend service. Please update to the latest client version.\n",
      "ERROR - 2024-04-26T15:04:13Z - Client version 0.10.1 is not compatible with current backend service. Please update to the latest client version.\n",
      "INFO - 2024-04-26T15:04:13Z - Selected dataset version is \"202311\"\n",
      "INFO - 2024-04-26T15:04:13Z - Downloading using service original-files...\n"
     ]
    },
    {
     "name": "stderr",
     "output_type": "stream",
     "text": [
      "100%|██████████| 1/1 [00:13<00:00, 13.54s/it]\n"
     ]
    },
    {
     "name": "stdout",
     "output_type": "stream",
     "text": [
      "ERROR - 2024-04-26T15:04:32Z - Client version 0.10.1 is not compatible with current backend service. Please update to the latest client version.\n",
      "ERROR - 2024-04-26T15:04:32Z - Client version 0.10.1 is not compatible with current backend service. Please update to the latest client version.\n",
      "ERROR - 2024-04-26T15:04:32Z - Client version 0.10.1 is not compatible with current backend service. Please update to the latest client version.\n",
      "INFO - 2024-04-26T15:04:32Z - Selected dataset version is \"202311\"\n",
      "INFO - 2024-04-26T15:04:32Z - Downloading using service original-files...\n"
     ]
    },
    {
     "name": "stderr",
     "output_type": "stream",
     "text": [
      "100%|██████████| 1/1 [00:13<00:00, 13.56s/it]\n"
     ]
    },
    {
     "name": "stdout",
     "output_type": "stream",
     "text": [
      "ERROR - 2024-04-26T15:04:51Z - Client version 0.10.1 is not compatible with current backend service. Please update to the latest client version.\n",
      "ERROR - 2024-04-26T15:04:51Z - Client version 0.10.1 is not compatible with current backend service. Please update to the latest client version.\n",
      "ERROR - 2024-04-26T15:04:51Z - Client version 0.10.1 is not compatible with current backend service. Please update to the latest client version.\n",
      "INFO - 2024-04-26T15:04:51Z - Selected dataset version is \"202311\"\n",
      "INFO - 2024-04-26T15:04:51Z - Downloading using service original-files...\n"
     ]
    },
    {
     "name": "stderr",
     "output_type": "stream",
     "text": [
      "100%|██████████| 1/1 [00:13<00:00, 13.61s/it]\n"
     ]
    },
    {
     "name": "stdout",
     "output_type": "stream",
     "text": [
      "ERROR - 2024-04-26T15:05:10Z - Client version 0.10.1 is not compatible with current backend service. Please update to the latest client version.\n",
      "ERROR - 2024-04-26T15:05:10Z - Client version 0.10.1 is not compatible with current backend service. Please update to the latest client version.\n",
      "ERROR - 2024-04-26T15:05:10Z - Client version 0.10.1 is not compatible with current backend service. Please update to the latest client version.\n",
      "INFO - 2024-04-26T15:05:10Z - Selected dataset version is \"202311\"\n",
      "INFO - 2024-04-26T15:05:10Z - Downloading using service original-files...\n"
     ]
    },
    {
     "name": "stderr",
     "output_type": "stream",
     "text": [
      "100%|██████████| 1/1 [00:13<00:00, 13.37s/it]\n"
     ]
    },
    {
     "name": "stdout",
     "output_type": "stream",
     "text": [
      "ERROR - 2024-04-26T15:05:29Z - Client version 0.10.1 is not compatible with current backend service. Please update to the latest client version.\n",
      "ERROR - 2024-04-26T15:05:29Z - Client version 0.10.1 is not compatible with current backend service. Please update to the latest client version.\n",
      "ERROR - 2024-04-26T15:05:29Z - Client version 0.10.1 is not compatible with current backend service. Please update to the latest client version.\n",
      "INFO - 2024-04-26T15:05:29Z - Selected dataset version is \"202311\"\n",
      "INFO - 2024-04-26T15:05:29Z - Downloading using service original-files...\n"
     ]
    },
    {
     "name": "stderr",
     "output_type": "stream",
     "text": [
      "100%|██████████| 1/1 [00:13<00:00, 13.52s/it]\n"
     ]
    },
    {
     "name": "stdout",
     "output_type": "stream",
     "text": [
      "ERROR - 2024-04-26T15:05:48Z - Client version 0.10.1 is not compatible with current backend service. Please update to the latest client version.\n",
      "ERROR - 2024-04-26T15:05:48Z - Client version 0.10.1 is not compatible with current backend service. Please update to the latest client version.\n",
      "ERROR - 2024-04-26T15:05:48Z - Client version 0.10.1 is not compatible with current backend service. Please update to the latest client version.\n",
      "INFO - 2024-04-26T15:05:48Z - Selected dataset version is \"202311\"\n",
      "INFO - 2024-04-26T15:05:48Z - Downloading using service original-files...\n"
     ]
    },
    {
     "name": "stderr",
     "output_type": "stream",
     "text": [
      "100%|██████████| 1/1 [00:13<00:00, 13.81s/it]\n"
     ]
    },
    {
     "name": "stdout",
     "output_type": "stream",
     "text": [
      "ERROR - 2024-04-26T15:06:07Z - Client version 0.10.1 is not compatible with current backend service. Please update to the latest client version.\n",
      "ERROR - 2024-04-26T15:06:07Z - Client version 0.10.1 is not compatible with current backend service. Please update to the latest client version.\n",
      "ERROR - 2024-04-26T15:06:07Z - Client version 0.10.1 is not compatible with current backend service. Please update to the latest client version.\n",
      "INFO - 2024-04-26T15:06:07Z - Selected dataset version is \"202311\"\n",
      "INFO - 2024-04-26T15:06:07Z - Downloading using service original-files...\n"
     ]
    },
    {
     "name": "stderr",
     "output_type": "stream",
     "text": [
      "100%|██████████| 1/1 [00:13<00:00, 13.38s/it]\n"
     ]
    },
    {
     "name": "stdout",
     "output_type": "stream",
     "text": [
      "ERROR - 2024-04-26T15:06:25Z - Client version 0.10.1 is not compatible with current backend service. Please update to the latest client version.\n",
      "ERROR - 2024-04-26T15:06:25Z - Client version 0.10.1 is not compatible with current backend service. Please update to the latest client version.\n",
      "ERROR - 2024-04-26T15:06:25Z - Client version 0.10.1 is not compatible with current backend service. Please update to the latest client version.\n",
      "INFO - 2024-04-26T15:06:26Z - Selected dataset version is \"202311\"\n",
      "INFO - 2024-04-26T15:06:26Z - Downloading using service original-files...\n"
     ]
    },
    {
     "name": "stderr",
     "output_type": "stream",
     "text": [
      "100%|██████████| 1/1 [00:13<00:00, 13.51s/it]\n"
     ]
    },
    {
     "name": "stdout",
     "output_type": "stream",
     "text": [
      "ERROR - 2024-04-26T15:06:44Z - Client version 0.10.1 is not compatible with current backend service. Please update to the latest client version.\n",
      "ERROR - 2024-04-26T15:06:44Z - Client version 0.10.1 is not compatible with current backend service. Please update to the latest client version.\n",
      "ERROR - 2024-04-26T15:06:44Z - Client version 0.10.1 is not compatible with current backend service. Please update to the latest client version.\n",
      "INFO - 2024-04-26T15:06:45Z - Selected dataset version is \"202311\"\n",
      "INFO - 2024-04-26T15:06:45Z - Downloading using service original-files...\n"
     ]
    },
    {
     "name": "stderr",
     "output_type": "stream",
     "text": [
      "100%|██████████| 1/1 [00:13<00:00, 13.58s/it]\n"
     ]
    },
    {
     "name": "stdout",
     "output_type": "stream",
     "text": [
      "ERROR - 2024-04-26T15:07:03Z - Client version 0.10.1 is not compatible with current backend service. Please update to the latest client version.\n",
      "ERROR - 2024-04-26T15:07:03Z - Client version 0.10.1 is not compatible with current backend service. Please update to the latest client version.\n",
      "ERROR - 2024-04-26T15:07:03Z - Client version 0.10.1 is not compatible with current backend service. Please update to the latest client version.\n",
      "INFO - 2024-04-26T15:07:04Z - Selected dataset version is \"202311\"\n",
      "INFO - 2024-04-26T15:07:04Z - Downloading using service original-files...\n"
     ]
    },
    {
     "name": "stderr",
     "output_type": "stream",
     "text": [
      "100%|██████████| 1/1 [00:13<00:00, 13.50s/it]\n"
     ]
    },
    {
     "name": "stdout",
     "output_type": "stream",
     "text": [
      "ERROR - 2024-04-26T15:07:22Z - Client version 0.10.1 is not compatible with current backend service. Please update to the latest client version.\n",
      "ERROR - 2024-04-26T15:07:22Z - Client version 0.10.1 is not compatible with current backend service. Please update to the latest client version.\n",
      "ERROR - 2024-04-26T15:07:22Z - Client version 0.10.1 is not compatible with current backend service. Please update to the latest client version.\n",
      "INFO - 2024-04-26T15:07:23Z - Selected dataset version is \"202311\"\n",
      "INFO - 2024-04-26T15:07:23Z - Downloading using service original-files...\n"
     ]
    },
    {
     "name": "stderr",
     "output_type": "stream",
     "text": [
      "100%|██████████| 1/1 [00:13<00:00, 13.49s/it]\n"
     ]
    },
    {
     "name": "stdout",
     "output_type": "stream",
     "text": [
      "ERROR - 2024-04-26T15:07:41Z - Client version 0.10.1 is not compatible with current backend service. Please update to the latest client version.\n",
      "ERROR - 2024-04-26T15:07:41Z - Client version 0.10.1 is not compatible with current backend service. Please update to the latest client version.\n",
      "ERROR - 2024-04-26T15:07:41Z - Client version 0.10.1 is not compatible with current backend service. Please update to the latest client version.\n",
      "INFO - 2024-04-26T15:07:42Z - Selected dataset version is \"202311\"\n",
      "INFO - 2024-04-26T15:07:42Z - Downloading using service original-files...\n"
     ]
    },
    {
     "name": "stderr",
     "output_type": "stream",
     "text": [
      "100%|██████████| 1/1 [00:13<00:00, 13.72s/it]\n"
     ]
    },
    {
     "name": "stdout",
     "output_type": "stream",
     "text": [
      "ERROR - 2024-04-26T15:08:00Z - Client version 0.10.1 is not compatible with current backend service. Please update to the latest client version.\n",
      "ERROR - 2024-04-26T15:08:00Z - Client version 0.10.1 is not compatible with current backend service. Please update to the latest client version.\n",
      "ERROR - 2024-04-26T15:08:00Z - Client version 0.10.1 is not compatible with current backend service. Please update to the latest client version.\n",
      "INFO - 2024-04-26T15:08:01Z - Selected dataset version is \"202311\"\n",
      "INFO - 2024-04-26T15:08:01Z - Downloading using service original-files...\n"
     ]
    },
    {
     "name": "stderr",
     "output_type": "stream",
     "text": [
      "100%|██████████| 1/1 [00:13<00:00, 13.75s/it]\n"
     ]
    },
    {
     "name": "stdout",
     "output_type": "stream",
     "text": [
      "ERROR - 2024-04-26T15:08:19Z - Client version 0.10.1 is not compatible with current backend service. Please update to the latest client version.\n",
      "ERROR - 2024-04-26T15:08:19Z - Client version 0.10.1 is not compatible with current backend service. Please update to the latest client version.\n",
      "ERROR - 2024-04-26T15:08:19Z - Client version 0.10.1 is not compatible with current backend service. Please update to the latest client version.\n",
      "INFO - 2024-04-26T15:08:20Z - Selected dataset version is \"202311\"\n",
      "INFO - 2024-04-26T15:08:20Z - Downloading using service original-files...\n"
     ]
    },
    {
     "name": "stderr",
     "output_type": "stream",
     "text": [
      "100%|██████████| 1/1 [00:13<00:00, 13.54s/it]\n"
     ]
    },
    {
     "name": "stdout",
     "output_type": "stream",
     "text": [
      "ERROR - 2024-04-26T15:08:38Z - Client version 0.10.1 is not compatible with current backend service. Please update to the latest client version.\n",
      "ERROR - 2024-04-26T15:08:38Z - Client version 0.10.1 is not compatible with current backend service. Please update to the latest client version.\n",
      "ERROR - 2024-04-26T15:08:38Z - Client version 0.10.1 is not compatible with current backend service. Please update to the latest client version.\n",
      "INFO - 2024-04-26T15:08:39Z - Selected dataset version is \"202311\"\n",
      "INFO - 2024-04-26T15:08:39Z - Downloading using service original-files...\n"
     ]
    },
    {
     "name": "stderr",
     "output_type": "stream",
     "text": [
      "100%|██████████| 1/1 [00:13<00:00, 13.51s/it]\n"
     ]
    },
    {
     "name": "stdout",
     "output_type": "stream",
     "text": [
      "ERROR - 2024-04-26T15:08:57Z - Client version 0.10.1 is not compatible with current backend service. Please update to the latest client version.\n",
      "ERROR - 2024-04-26T15:08:57Z - Client version 0.10.1 is not compatible with current backend service. Please update to the latest client version.\n",
      "ERROR - 2024-04-26T15:08:57Z - Client version 0.10.1 is not compatible with current backend service. Please update to the latest client version.\n",
      "INFO - 2024-04-26T15:08:57Z - Selected dataset version is \"202311\"\n",
      "INFO - 2024-04-26T15:08:57Z - Downloading using service original-files...\n"
     ]
    },
    {
     "name": "stderr",
     "output_type": "stream",
     "text": [
      "100%|██████████| 1/1 [00:13<00:00, 13.59s/it]\n"
     ]
    },
    {
     "name": "stdout",
     "output_type": "stream",
     "text": [
      "ERROR - 2024-04-26T15:09:16Z - Client version 0.10.1 is not compatible with current backend service. Please update to the latest client version.\n",
      "ERROR - 2024-04-26T15:09:16Z - Client version 0.10.1 is not compatible with current backend service. Please update to the latest client version.\n",
      "ERROR - 2024-04-26T15:09:16Z - Client version 0.10.1 is not compatible with current backend service. Please update to the latest client version.\n",
      "INFO - 2024-04-26T15:09:16Z - Selected dataset version is \"202311\"\n",
      "INFO - 2024-04-26T15:09:16Z - Downloading using service original-files...\n"
     ]
    },
    {
     "name": "stderr",
     "output_type": "stream",
     "text": [
      "100%|██████████| 1/1 [00:13<00:00, 13.76s/it]\n"
     ]
    },
    {
     "name": "stdout",
     "output_type": "stream",
     "text": [
      "ERROR - 2024-04-26T15:09:35Z - Client version 0.10.1 is not compatible with current backend service. Please update to the latest client version.\n",
      "ERROR - 2024-04-26T15:09:35Z - Client version 0.10.1 is not compatible with current backend service. Please update to the latest client version.\n",
      "ERROR - 2024-04-26T15:09:35Z - Client version 0.10.1 is not compatible with current backend service. Please update to the latest client version.\n",
      "INFO - 2024-04-26T15:09:35Z - Selected dataset version is \"202311\"\n",
      "INFO - 2024-04-26T15:09:35Z - Downloading using service original-files...\n"
     ]
    },
    {
     "name": "stderr",
     "output_type": "stream",
     "text": [
      "100%|██████████| 1/1 [00:13<00:00, 13.73s/it]\n"
     ]
    },
    {
     "name": "stdout",
     "output_type": "stream",
     "text": [
      "ERROR - 2024-04-26T15:09:54Z - Client version 0.10.1 is not compatible with current backend service. Please update to the latest client version.\n",
      "ERROR - 2024-04-26T15:09:54Z - Client version 0.10.1 is not compatible with current backend service. Please update to the latest client version.\n",
      "ERROR - 2024-04-26T15:09:54Z - Client version 0.10.1 is not compatible with current backend service. Please update to the latest client version.\n",
      "INFO - 2024-04-26T15:09:55Z - Selected dataset version is \"202311\"\n",
      "INFO - 2024-04-26T15:09:55Z - Downloading using service original-files...\n"
     ]
    },
    {
     "name": "stderr",
     "output_type": "stream",
     "text": [
      "100%|██████████| 1/1 [00:13<00:00, 13.40s/it]\n"
     ]
    },
    {
     "name": "stdout",
     "output_type": "stream",
     "text": [
      "ERROR - 2024-04-26T15:10:13Z - Client version 0.10.1 is not compatible with current backend service. Please update to the latest client version.\n",
      "ERROR - 2024-04-26T15:10:13Z - Client version 0.10.1 is not compatible with current backend service. Please update to the latest client version.\n",
      "ERROR - 2024-04-26T15:10:13Z - Client version 0.10.1 is not compatible with current backend service. Please update to the latest client version.\n",
      "INFO - 2024-04-26T15:10:13Z - Selected dataset version is \"202311\"\n",
      "INFO - 2024-04-26T15:10:13Z - Downloading using service original-files...\n"
     ]
    },
    {
     "name": "stderr",
     "output_type": "stream",
     "text": [
      "100%|██████████| 1/1 [00:13<00:00, 13.50s/it]\n"
     ]
    },
    {
     "name": "stdout",
     "output_type": "stream",
     "text": [
      "ERROR - 2024-04-26T15:10:32Z - Client version 0.10.1 is not compatible with current backend service. Please update to the latest client version.\n",
      "ERROR - 2024-04-26T15:10:32Z - Client version 0.10.1 is not compatible with current backend service. Please update to the latest client version.\n",
      "ERROR - 2024-04-26T15:10:32Z - Client version 0.10.1 is not compatible with current backend service. Please update to the latest client version.\n",
      "INFO - 2024-04-26T15:10:32Z - Selected dataset version is \"202311\"\n",
      "INFO - 2024-04-26T15:10:32Z - Downloading using service original-files...\n"
     ]
    },
    {
     "name": "stderr",
     "output_type": "stream",
     "text": [
      "100%|██████████| 1/1 [00:13<00:00, 13.70s/it]\n"
     ]
    },
    {
     "name": "stdout",
     "output_type": "stream",
     "text": [
      "ERROR - 2024-04-26T15:10:50Z - Client version 0.10.1 is not compatible with current backend service. Please update to the latest client version.\n",
      "ERROR - 2024-04-26T15:10:50Z - Client version 0.10.1 is not compatible with current backend service. Please update to the latest client version.\n",
      "ERROR - 2024-04-26T15:10:50Z - Client version 0.10.1 is not compatible with current backend service. Please update to the latest client version.\n",
      "INFO - 2024-04-26T15:10:51Z - Selected dataset version is \"202311\"\n",
      "INFO - 2024-04-26T15:10:51Z - Downloading using service original-files...\n"
     ]
    },
    {
     "name": "stderr",
     "output_type": "stream",
     "text": [
      "100%|██████████| 1/1 [00:13<00:00, 13.37s/it]\n"
     ]
    },
    {
     "name": "stdout",
     "output_type": "stream",
     "text": [
      "ERROR - 2024-04-26T15:11:09Z - Client version 0.10.1 is not compatible with current backend service. Please update to the latest client version.\n",
      "ERROR - 2024-04-26T15:11:09Z - Client version 0.10.1 is not compatible with current backend service. Please update to the latest client version.\n",
      "ERROR - 2024-04-26T15:11:09Z - Client version 0.10.1 is not compatible with current backend service. Please update to the latest client version.\n",
      "INFO - 2024-04-26T15:11:10Z - Selected dataset version is \"202311\"\n",
      "INFO - 2024-04-26T15:11:10Z - Downloading using service original-files...\n"
     ]
    },
    {
     "name": "stderr",
     "output_type": "stream",
     "text": [
      "100%|██████████| 1/1 [00:13<00:00, 13.74s/it]\n"
     ]
    },
    {
     "name": "stdout",
     "output_type": "stream",
     "text": [
      "ERROR - 2024-04-26T15:11:28Z - Client version 0.10.1 is not compatible with current backend service. Please update to the latest client version.\n",
      "ERROR - 2024-04-26T15:11:28Z - Client version 0.10.1 is not compatible with current backend service. Please update to the latest client version.\n",
      "ERROR - 2024-04-26T15:11:28Z - Client version 0.10.1 is not compatible with current backend service. Please update to the latest client version.\n",
      "INFO - 2024-04-26T15:11:29Z - Selected dataset version is \"202311\"\n",
      "INFO - 2024-04-26T15:11:29Z - Downloading using service original-files...\n"
     ]
    },
    {
     "name": "stderr",
     "output_type": "stream",
     "text": [
      "100%|██████████| 1/1 [00:13<00:00, 13.35s/it]\n"
     ]
    },
    {
     "name": "stdout",
     "output_type": "stream",
     "text": [
      "ERROR - 2024-04-26T15:11:47Z - Client version 0.10.1 is not compatible with current backend service. Please update to the latest client version.\n",
      "ERROR - 2024-04-26T15:11:47Z - Client version 0.10.1 is not compatible with current backend service. Please update to the latest client version.\n",
      "ERROR - 2024-04-26T15:11:47Z - Client version 0.10.1 is not compatible with current backend service. Please update to the latest client version.\n",
      "INFO - 2024-04-26T15:11:47Z - Selected dataset version is \"202311\"\n",
      "INFO - 2024-04-26T15:11:47Z - Downloading using service original-files...\n"
     ]
    },
    {
     "name": "stderr",
     "output_type": "stream",
     "text": [
      "100%|██████████| 1/1 [00:13<00:00, 13.77s/it]\n"
     ]
    },
    {
     "name": "stdout",
     "output_type": "stream",
     "text": [
      "ERROR - 2024-04-26T15:12:06Z - Client version 0.10.1 is not compatible with current backend service. Please update to the latest client version.\n",
      "ERROR - 2024-04-26T15:12:06Z - Client version 0.10.1 is not compatible with current backend service. Please update to the latest client version.\n",
      "ERROR - 2024-04-26T15:12:06Z - Client version 0.10.1 is not compatible with current backend service. Please update to the latest client version.\n",
      "INFO - 2024-04-26T15:12:07Z - Selected dataset version is \"202311\"\n",
      "INFO - 2024-04-26T15:12:07Z - Downloading using service original-files...\n"
     ]
    },
    {
     "name": "stderr",
     "output_type": "stream",
     "text": [
      "100%|██████████| 1/1 [00:13<00:00, 13.43s/it]\n"
     ]
    },
    {
     "name": "stdout",
     "output_type": "stream",
     "text": [
      "ERROR - 2024-04-26T15:12:25Z - Client version 0.10.1 is not compatible with current backend service. Please update to the latest client version.\n",
      "ERROR - 2024-04-26T15:12:25Z - Client version 0.10.1 is not compatible with current backend service. Please update to the latest client version.\n",
      "ERROR - 2024-04-26T15:12:25Z - Client version 0.10.1 is not compatible with current backend service. Please update to the latest client version.\n",
      "INFO - 2024-04-26T15:12:26Z - Selected dataset version is \"202311\"\n",
      "INFO - 2024-04-26T15:12:26Z - Downloading using service original-files...\n"
     ]
    },
    {
     "name": "stderr",
     "output_type": "stream",
     "text": [
      "100%|██████████| 1/1 [00:13<00:00, 13.46s/it]\n"
     ]
    },
    {
     "name": "stdout",
     "output_type": "stream",
     "text": [
      "ERROR - 2024-04-26T15:12:44Z - Client version 0.10.1 is not compatible with current backend service. Please update to the latest client version.\n",
      "ERROR - 2024-04-26T15:12:44Z - Client version 0.10.1 is not compatible with current backend service. Please update to the latest client version.\n",
      "ERROR - 2024-04-26T15:12:44Z - Client version 0.10.1 is not compatible with current backend service. Please update to the latest client version.\n",
      "INFO - 2024-04-26T15:12:45Z - Selected dataset version is \"202311\"\n",
      "INFO - 2024-04-26T15:12:45Z - Downloading using service original-files...\n"
     ]
    },
    {
     "name": "stderr",
     "output_type": "stream",
     "text": [
      "100%|██████████| 1/1 [00:13<00:00, 13.62s/it]\n"
     ]
    },
    {
     "name": "stdout",
     "output_type": "stream",
     "text": [
      "ERROR - 2024-04-26T15:13:03Z - Client version 0.10.1 is not compatible with current backend service. Please update to the latest client version.\n",
      "ERROR - 2024-04-26T15:13:03Z - Client version 0.10.1 is not compatible with current backend service. Please update to the latest client version.\n",
      "ERROR - 2024-04-26T15:13:03Z - Client version 0.10.1 is not compatible with current backend service. Please update to the latest client version.\n",
      "INFO - 2024-04-26T15:13:04Z - Selected dataset version is \"202311\"\n",
      "INFO - 2024-04-26T15:13:04Z - Downloading using service original-files...\n"
     ]
    },
    {
     "name": "stderr",
     "output_type": "stream",
     "text": [
      "100%|██████████| 1/1 [00:13<00:00, 13.47s/it]\n"
     ]
    },
    {
     "name": "stdout",
     "output_type": "stream",
     "text": [
      "ERROR - 2024-04-26T15:13:22Z - Client version 0.10.1 is not compatible with current backend service. Please update to the latest client version.\n",
      "ERROR - 2024-04-26T15:13:22Z - Client version 0.10.1 is not compatible with current backend service. Please update to the latest client version.\n",
      "ERROR - 2024-04-26T15:13:22Z - Client version 0.10.1 is not compatible with current backend service. Please update to the latest client version.\n",
      "INFO - 2024-04-26T15:13:23Z - Selected dataset version is \"202311\"\n",
      "INFO - 2024-04-26T15:13:23Z - Downloading using service original-files...\n"
     ]
    },
    {
     "name": "stderr",
     "output_type": "stream",
     "text": [
      "100%|██████████| 1/1 [00:13<00:00, 13.30s/it]\n"
     ]
    },
    {
     "name": "stdout",
     "output_type": "stream",
     "text": [
      "ERROR - 2024-04-26T15:13:41Z - Client version 0.10.1 is not compatible with current backend service. Please update to the latest client version.\n",
      "ERROR - 2024-04-26T15:13:41Z - Client version 0.10.1 is not compatible with current backend service. Please update to the latest client version.\n",
      "ERROR - 2024-04-26T15:13:41Z - Client version 0.10.1 is not compatible with current backend service. Please update to the latest client version.\n",
      "INFO - 2024-04-26T15:13:41Z - Selected dataset version is \"202311\"\n",
      "INFO - 2024-04-26T15:13:41Z - Downloading using service original-files...\n"
     ]
    },
    {
     "name": "stderr",
     "output_type": "stream",
     "text": [
      "100%|██████████| 1/1 [00:13<00:00, 13.65s/it]\n"
     ]
    },
    {
     "name": "stdout",
     "output_type": "stream",
     "text": [
      "ERROR - 2024-04-26T15:14:00Z - Client version 0.10.1 is not compatible with current backend service. Please update to the latest client version.\n",
      "ERROR - 2024-04-26T15:14:00Z - Client version 0.10.1 is not compatible with current backend service. Please update to the latest client version.\n",
      "ERROR - 2024-04-26T15:14:00Z - Client version 0.10.1 is not compatible with current backend service. Please update to the latest client version.\n",
      "INFO - 2024-04-26T15:14:00Z - Selected dataset version is \"202311\"\n",
      "INFO - 2024-04-26T15:14:00Z - Downloading using service original-files...\n"
     ]
    },
    {
     "name": "stderr",
     "output_type": "stream",
     "text": [
      "100%|██████████| 1/1 [00:13<00:00, 13.48s/it]\n"
     ]
    },
    {
     "name": "stdout",
     "output_type": "stream",
     "text": [
      "ERROR - 2024-04-26T15:14:19Z - Client version 0.10.1 is not compatible with current backend service. Please update to the latest client version.\n",
      "ERROR - 2024-04-26T15:14:19Z - Client version 0.10.1 is not compatible with current backend service. Please update to the latest client version.\n",
      "ERROR - 2024-04-26T15:14:19Z - Client version 0.10.1 is not compatible with current backend service. Please update to the latest client version.\n",
      "INFO - 2024-04-26T15:14:19Z - Selected dataset version is \"202311\"\n",
      "INFO - 2024-04-26T15:14:19Z - Downloading using service original-files...\n"
     ]
    },
    {
     "name": "stderr",
     "output_type": "stream",
     "text": [
      "100%|██████████| 1/1 [00:13<00:00, 13.59s/it]\n"
     ]
    },
    {
     "name": "stdout",
     "output_type": "stream",
     "text": [
      "ERROR - 2024-04-26T15:14:38Z - Client version 0.10.1 is not compatible with current backend service. Please update to the latest client version.\n",
      "ERROR - 2024-04-26T15:14:38Z - Client version 0.10.1 is not compatible with current backend service. Please update to the latest client version.\n",
      "ERROR - 2024-04-26T15:14:38Z - Client version 0.10.1 is not compatible with current backend service. Please update to the latest client version.\n",
      "INFO - 2024-04-26T15:14:38Z - Selected dataset version is \"202311\"\n",
      "INFO - 2024-04-26T15:14:38Z - Downloading using service original-files...\n"
     ]
    },
    {
     "name": "stderr",
     "output_type": "stream",
     "text": [
      "100%|██████████| 1/1 [00:13<00:00, 13.40s/it]\n"
     ]
    },
    {
     "name": "stdout",
     "output_type": "stream",
     "text": [
      "ERROR - 2024-04-26T15:14:57Z - Client version 0.10.1 is not compatible with current backend service. Please update to the latest client version.\n",
      "ERROR - 2024-04-26T15:14:57Z - Client version 0.10.1 is not compatible with current backend service. Please update to the latest client version.\n",
      "ERROR - 2024-04-26T15:14:57Z - Client version 0.10.1 is not compatible with current backend service. Please update to the latest client version.\n",
      "INFO - 2024-04-26T15:14:57Z - Selected dataset version is \"202311\"\n",
      "INFO - 2024-04-26T15:14:57Z - Downloading using service original-files...\n"
     ]
    },
    {
     "name": "stderr",
     "output_type": "stream",
     "text": [
      "100%|██████████| 1/1 [00:13<00:00, 13.38s/it]\n"
     ]
    },
    {
     "name": "stdout",
     "output_type": "stream",
     "text": [
      "ERROR - 2024-04-26T15:15:15Z - Client version 0.10.1 is not compatible with current backend service. Please update to the latest client version.\n",
      "ERROR - 2024-04-26T15:15:15Z - Client version 0.10.1 is not compatible with current backend service. Please update to the latest client version.\n",
      "ERROR - 2024-04-26T15:15:15Z - Client version 0.10.1 is not compatible with current backend service. Please update to the latest client version.\n",
      "INFO - 2024-04-26T15:15:16Z - Selected dataset version is \"202311\"\n",
      "INFO - 2024-04-26T15:15:16Z - Downloading using service original-files...\n"
     ]
    },
    {
     "name": "stderr",
     "output_type": "stream",
     "text": [
      "100%|██████████| 1/1 [00:13<00:00, 13.53s/it]\n"
     ]
    },
    {
     "name": "stdout",
     "output_type": "stream",
     "text": [
      "ERROR - 2024-04-26T15:15:34Z - Client version 0.10.1 is not compatible with current backend service. Please update to the latest client version.\n",
      "ERROR - 2024-04-26T15:15:34Z - Client version 0.10.1 is not compatible with current backend service. Please update to the latest client version.\n",
      "ERROR - 2024-04-26T15:15:34Z - Client version 0.10.1 is not compatible with current backend service. Please update to the latest client version.\n",
      "INFO - 2024-04-26T15:15:35Z - Selected dataset version is \"202311\"\n",
      "INFO - 2024-04-26T15:15:35Z - Downloading using service original-files...\n"
     ]
    },
    {
     "name": "stderr",
     "output_type": "stream",
     "text": [
      "100%|██████████| 1/1 [00:13<00:00, 13.46s/it]\n"
     ]
    },
    {
     "name": "stdout",
     "output_type": "stream",
     "text": [
      "ERROR - 2024-04-26T15:15:53Z - Client version 0.10.1 is not compatible with current backend service. Please update to the latest client version.\n",
      "ERROR - 2024-04-26T15:15:53Z - Client version 0.10.1 is not compatible with current backend service. Please update to the latest client version.\n",
      "ERROR - 2024-04-26T15:15:53Z - Client version 0.10.1 is not compatible with current backend service. Please update to the latest client version.\n",
      "INFO - 2024-04-26T15:15:53Z - Selected dataset version is \"202311\"\n",
      "INFO - 2024-04-26T15:15:53Z - Downloading using service original-files...\n"
     ]
    },
    {
     "name": "stderr",
     "output_type": "stream",
     "text": [
      "100%|██████████| 1/1 [00:13<00:00, 13.49s/it]\n"
     ]
    },
    {
     "name": "stdout",
     "output_type": "stream",
     "text": [
      "ERROR - 2024-04-26T15:16:12Z - Client version 0.10.1 is not compatible with current backend service. Please update to the latest client version.\n",
      "ERROR - 2024-04-26T15:16:12Z - Client version 0.10.1 is not compatible with current backend service. Please update to the latest client version.\n",
      "ERROR - 2024-04-26T15:16:12Z - Client version 0.10.1 is not compatible with current backend service. Please update to the latest client version.\n",
      "INFO - 2024-04-26T15:16:12Z - Selected dataset version is \"202311\"\n",
      "INFO - 2024-04-26T15:16:12Z - Downloading using service original-files...\n"
     ]
    },
    {
     "name": "stderr",
     "output_type": "stream",
     "text": [
      "100%|██████████| 1/1 [00:13<00:00, 13.39s/it]\n"
     ]
    },
    {
     "name": "stdout",
     "output_type": "stream",
     "text": [
      "ERROR - 2024-04-26T15:16:31Z - Client version 0.10.1 is not compatible with current backend service. Please update to the latest client version.\n",
      "ERROR - 2024-04-26T15:16:31Z - Client version 0.10.1 is not compatible with current backend service. Please update to the latest client version.\n",
      "ERROR - 2024-04-26T15:16:31Z - Client version 0.10.1 is not compatible with current backend service. Please update to the latest client version.\n",
      "INFO - 2024-04-26T15:16:31Z - Selected dataset version is \"202311\"\n",
      "INFO - 2024-04-26T15:16:31Z - Downloading using service original-files...\n"
     ]
    },
    {
     "name": "stderr",
     "output_type": "stream",
     "text": [
      "100%|██████████| 1/1 [00:13<00:00, 13.49s/it]\n"
     ]
    },
    {
     "name": "stdout",
     "output_type": "stream",
     "text": [
      "ERROR - 2024-04-26T15:16:50Z - Client version 0.10.1 is not compatible with current backend service. Please update to the latest client version.\n",
      "ERROR - 2024-04-26T15:16:50Z - Client version 0.10.1 is not compatible with current backend service. Please update to the latest client version.\n",
      "ERROR - 2024-04-26T15:16:50Z - Client version 0.10.1 is not compatible with current backend service. Please update to the latest client version.\n",
      "INFO - 2024-04-26T15:16:50Z - Selected dataset version is \"202311\"\n",
      "INFO - 2024-04-26T15:16:50Z - Downloading using service original-files...\n"
     ]
    },
    {
     "name": "stderr",
     "output_type": "stream",
     "text": [
      "100%|██████████| 1/1 [00:13<00:00, 13.56s/it]\n"
     ]
    },
    {
     "name": "stdout",
     "output_type": "stream",
     "text": [
      "ERROR - 2024-04-26T15:17:08Z - Client version 0.10.1 is not compatible with current backend service. Please update to the latest client version.\n",
      "ERROR - 2024-04-26T15:17:08Z - Client version 0.10.1 is not compatible with current backend service. Please update to the latest client version.\n",
      "ERROR - 2024-04-26T15:17:08Z - Client version 0.10.1 is not compatible with current backend service. Please update to the latest client version.\n",
      "INFO - 2024-04-26T15:17:09Z - Selected dataset version is \"202311\"\n",
      "INFO - 2024-04-26T15:17:09Z - Downloading using service original-files...\n"
     ]
    },
    {
     "name": "stderr",
     "output_type": "stream",
     "text": [
      "100%|██████████| 1/1 [00:13<00:00, 13.53s/it]\n"
     ]
    },
    {
     "name": "stdout",
     "output_type": "stream",
     "text": [
      "ERROR - 2024-04-26T15:17:27Z - Client version 0.10.1 is not compatible with current backend service. Please update to the latest client version.\n",
      "ERROR - 2024-04-26T15:17:27Z - Client version 0.10.1 is not compatible with current backend service. Please update to the latest client version.\n",
      "ERROR - 2024-04-26T15:17:27Z - Client version 0.10.1 is not compatible with current backend service. Please update to the latest client version.\n",
      "INFO - 2024-04-26T15:17:28Z - Selected dataset version is \"202311\"\n",
      "INFO - 2024-04-26T15:17:28Z - Downloading using service original-files...\n"
     ]
    },
    {
     "name": "stderr",
     "output_type": "stream",
     "text": [
      "100%|██████████| 1/1 [00:13<00:00, 13.42s/it]\n"
     ]
    },
    {
     "name": "stdout",
     "output_type": "stream",
     "text": [
      "ERROR - 2024-04-26T15:17:46Z - Client version 0.10.1 is not compatible with current backend service. Please update to the latest client version.\n",
      "ERROR - 2024-04-26T15:17:46Z - Client version 0.10.1 is not compatible with current backend service. Please update to the latest client version.\n",
      "ERROR - 2024-04-26T15:17:46Z - Client version 0.10.1 is not compatible with current backend service. Please update to the latest client version.\n",
      "INFO - 2024-04-26T15:17:47Z - Selected dataset version is \"202311\"\n",
      "INFO - 2024-04-26T15:17:47Z - Downloading using service original-files...\n"
     ]
    },
    {
     "name": "stderr",
     "output_type": "stream",
     "text": [
      "100%|██████████| 1/1 [00:13<00:00, 13.36s/it]\n"
     ]
    },
    {
     "name": "stdout",
     "output_type": "stream",
     "text": [
      "ERROR - 2024-04-26T15:18:05Z - Client version 0.10.1 is not compatible with current backend service. Please update to the latest client version.\n",
      "ERROR - 2024-04-26T15:18:05Z - Client version 0.10.1 is not compatible with current backend service. Please update to the latest client version.\n",
      "ERROR - 2024-04-26T15:18:05Z - Client version 0.10.1 is not compatible with current backend service. Please update to the latest client version.\n",
      "INFO - 2024-04-26T15:18:06Z - Selected dataset version is \"202311\"\n",
      "INFO - 2024-04-26T15:18:06Z - Downloading using service original-files...\n"
     ]
    },
    {
     "name": "stderr",
     "output_type": "stream",
     "text": [
      "100%|██████████| 1/1 [00:13<00:00, 13.93s/it]\n"
     ]
    },
    {
     "name": "stdout",
     "output_type": "stream",
     "text": [
      "ERROR - 2024-04-26T15:18:24Z - Client version 0.10.1 is not compatible with current backend service. Please update to the latest client version.\n",
      "ERROR - 2024-04-26T15:18:24Z - Client version 0.10.1 is not compatible with current backend service. Please update to the latest client version.\n",
      "ERROR - 2024-04-26T15:18:24Z - Client version 0.10.1 is not compatible with current backend service. Please update to the latest client version.\n",
      "INFO - 2024-04-26T15:18:25Z - Selected dataset version is \"202311\"\n",
      "INFO - 2024-04-26T15:18:25Z - Downloading using service original-files...\n"
     ]
    },
    {
     "name": "stderr",
     "output_type": "stream",
     "text": [
      "100%|██████████| 1/1 [00:13<00:00, 13.48s/it]\n"
     ]
    },
    {
     "name": "stdout",
     "output_type": "stream",
     "text": [
      "ERROR - 2024-04-26T15:18:43Z - Client version 0.10.1 is not compatible with current backend service. Please update to the latest client version.\n",
      "ERROR - 2024-04-26T15:18:43Z - Client version 0.10.1 is not compatible with current backend service. Please update to the latest client version.\n",
      "ERROR - 2024-04-26T15:18:43Z - Client version 0.10.1 is not compatible with current backend service. Please update to the latest client version.\n",
      "INFO - 2024-04-26T15:18:44Z - Selected dataset version is \"202311\"\n",
      "INFO - 2024-04-26T15:18:44Z - Downloading using service original-files...\n"
     ]
    },
    {
     "name": "stderr",
     "output_type": "stream",
     "text": [
      "100%|██████████| 1/1 [00:13<00:00, 13.44s/it]\n"
     ]
    },
    {
     "name": "stdout",
     "output_type": "stream",
     "text": [
      "ERROR - 2024-04-26T15:19:02Z - Client version 0.10.1 is not compatible with current backend service. Please update to the latest client version.\n",
      "ERROR - 2024-04-26T15:19:02Z - Client version 0.10.1 is not compatible with current backend service. Please update to the latest client version.\n",
      "ERROR - 2024-04-26T15:19:02Z - Client version 0.10.1 is not compatible with current backend service. Please update to the latest client version.\n",
      "INFO - 2024-04-26T15:19:03Z - Selected dataset version is \"202311\"\n",
      "INFO - 2024-04-26T15:19:03Z - Downloading using service original-files...\n"
     ]
    },
    {
     "name": "stderr",
     "output_type": "stream",
     "text": [
      "100%|██████████| 1/1 [00:13<00:00, 13.84s/it]\n"
     ]
    },
    {
     "name": "stdout",
     "output_type": "stream",
     "text": [
      "ERROR - 2024-04-26T15:19:21Z - Client version 0.10.1 is not compatible with current backend service. Please update to the latest client version.\n",
      "ERROR - 2024-04-26T15:19:21Z - Client version 0.10.1 is not compatible with current backend service. Please update to the latest client version.\n",
      "ERROR - 2024-04-26T15:19:21Z - Client version 0.10.1 is not compatible with current backend service. Please update to the latest client version.\n",
      "INFO - 2024-04-26T15:19:22Z - Selected dataset version is \"202311\"\n",
      "INFO - 2024-04-26T15:19:22Z - Downloading using service original-files...\n"
     ]
    },
    {
     "name": "stderr",
     "output_type": "stream",
     "text": [
      "100%|██████████| 1/1 [00:13<00:00, 13.74s/it]\n"
     ]
    },
    {
     "name": "stdout",
     "output_type": "stream",
     "text": [
      "ERROR - 2024-04-26T15:19:41Z - Client version 0.10.1 is not compatible with current backend service. Please update to the latest client version.\n",
      "ERROR - 2024-04-26T15:19:41Z - Client version 0.10.1 is not compatible with current backend service. Please update to the latest client version.\n",
      "ERROR - 2024-04-26T15:19:41Z - Client version 0.10.1 is not compatible with current backend service. Please update to the latest client version.\n",
      "INFO - 2024-04-26T15:19:41Z - Selected dataset version is \"202311\"\n",
      "INFO - 2024-04-26T15:19:41Z - Downloading using service original-files...\n"
     ]
    },
    {
     "name": "stderr",
     "output_type": "stream",
     "text": [
      "100%|██████████| 1/1 [00:13<00:00, 13.73s/it]\n"
     ]
    },
    {
     "name": "stdout",
     "output_type": "stream",
     "text": [
      "ERROR - 2024-04-26T15:20:00Z - Client version 0.10.1 is not compatible with current backend service. Please update to the latest client version.\n",
      "ERROR - 2024-04-26T15:20:00Z - Client version 0.10.1 is not compatible with current backend service. Please update to the latest client version.\n",
      "ERROR - 2024-04-26T15:20:00Z - Client version 0.10.1 is not compatible with current backend service. Please update to the latest client version.\n",
      "INFO - 2024-04-26T15:20:00Z - Selected dataset version is \"202311\"\n",
      "INFO - 2024-04-26T15:20:00Z - Downloading using service original-files...\n"
     ]
    },
    {
     "name": "stderr",
     "output_type": "stream",
     "text": [
      "100%|██████████| 1/1 [00:13<00:00, 13.69s/it]\n"
     ]
    },
    {
     "name": "stdout",
     "output_type": "stream",
     "text": [
      "ERROR - 2024-04-26T15:20:19Z - Client version 0.10.1 is not compatible with current backend service. Please update to the latest client version.\n",
      "ERROR - 2024-04-26T15:20:19Z - Client version 0.10.1 is not compatible with current backend service. Please update to the latest client version.\n",
      "ERROR - 2024-04-26T15:20:19Z - Client version 0.10.1 is not compatible with current backend service. Please update to the latest client version.\n",
      "INFO - 2024-04-26T15:20:19Z - Selected dataset version is \"202311\"\n",
      "INFO - 2024-04-26T15:20:19Z - Downloading using service original-files...\n"
     ]
    },
    {
     "name": "stderr",
     "output_type": "stream",
     "text": [
      "100%|██████████| 1/1 [00:13<00:00, 13.67s/it]\n"
     ]
    },
    {
     "name": "stdout",
     "output_type": "stream",
     "text": [
      "ERROR - 2024-04-26T15:20:38Z - Client version 0.10.1 is not compatible with current backend service. Please update to the latest client version.\n",
      "ERROR - 2024-04-26T15:20:38Z - Client version 0.10.1 is not compatible with current backend service. Please update to the latest client version.\n",
      "ERROR - 2024-04-26T15:20:38Z - Client version 0.10.1 is not compatible with current backend service. Please update to the latest client version.\n",
      "INFO - 2024-04-26T15:20:38Z - Selected dataset version is \"202311\"\n",
      "INFO - 2024-04-26T15:20:38Z - Downloading using service original-files...\n"
     ]
    },
    {
     "name": "stderr",
     "output_type": "stream",
     "text": [
      "100%|██████████| 1/1 [00:13<00:00, 13.43s/it]\n"
     ]
    },
    {
     "name": "stdout",
     "output_type": "stream",
     "text": [
      "ERROR - 2024-04-26T15:20:57Z - Client version 0.10.1 is not compatible with current backend service. Please update to the latest client version.\n",
      "ERROR - 2024-04-26T15:20:57Z - Client version 0.10.1 is not compatible with current backend service. Please update to the latest client version.\n",
      "ERROR - 2024-04-26T15:20:57Z - Client version 0.10.1 is not compatible with current backend service. Please update to the latest client version.\n",
      "INFO - 2024-04-26T15:20:57Z - Selected dataset version is \"202311\"\n",
      "INFO - 2024-04-26T15:20:57Z - Downloading using service original-files...\n"
     ]
    },
    {
     "name": "stderr",
     "output_type": "stream",
     "text": [
      "100%|██████████| 1/1 [00:13<00:00, 13.54s/it]\n"
     ]
    },
    {
     "name": "stdout",
     "output_type": "stream",
     "text": [
      "ERROR - 2024-04-26T15:21:15Z - Client version 0.10.1 is not compatible with current backend service. Please update to the latest client version.\n",
      "ERROR - 2024-04-26T15:21:15Z - Client version 0.10.1 is not compatible with current backend service. Please update to the latest client version.\n",
      "ERROR - 2024-04-26T15:21:15Z - Client version 0.10.1 is not compatible with current backend service. Please update to the latest client version.\n",
      "INFO - 2024-04-26T15:21:16Z - Selected dataset version is \"202311\"\n",
      "INFO - 2024-04-26T15:21:16Z - Downloading using service original-files...\n"
     ]
    },
    {
     "name": "stderr",
     "output_type": "stream",
     "text": [
      "100%|██████████| 1/1 [00:13<00:00, 13.45s/it]\n"
     ]
    },
    {
     "name": "stdout",
     "output_type": "stream",
     "text": [
      "ERROR - 2024-04-26T15:21:34Z - Client version 0.10.1 is not compatible with current backend service. Please update to the latest client version.\n",
      "ERROR - 2024-04-26T15:21:34Z - Client version 0.10.1 is not compatible with current backend service. Please update to the latest client version.\n",
      "ERROR - 2024-04-26T15:21:34Z - Client version 0.10.1 is not compatible with current backend service. Please update to the latest client version.\n",
      "INFO - 2024-04-26T15:21:35Z - Selected dataset version is \"202311\"\n",
      "INFO - 2024-04-26T15:21:35Z - Downloading using service original-files...\n"
     ]
    },
    {
     "name": "stderr",
     "output_type": "stream",
     "text": [
      "100%|██████████| 1/1 [00:13<00:00, 13.36s/it]\n"
     ]
    },
    {
     "name": "stdout",
     "output_type": "stream",
     "text": [
      "ERROR - 2024-04-26T15:21:53Z - Client version 0.10.1 is not compatible with current backend service. Please update to the latest client version.\n",
      "ERROR - 2024-04-26T15:21:53Z - Client version 0.10.1 is not compatible with current backend service. Please update to the latest client version.\n",
      "ERROR - 2024-04-26T15:21:53Z - Client version 0.10.1 is not compatible with current backend service. Please update to the latest client version.\n",
      "INFO - 2024-04-26T15:21:54Z - Selected dataset version is \"202311\"\n",
      "INFO - 2024-04-26T15:21:54Z - Downloading using service original-files...\n"
     ]
    },
    {
     "name": "stderr",
     "output_type": "stream",
     "text": [
      "100%|██████████| 1/1 [00:13<00:00, 13.59s/it]\n"
     ]
    },
    {
     "name": "stdout",
     "output_type": "stream",
     "text": [
      "ERROR - 2024-04-26T15:22:12Z - Client version 0.10.1 is not compatible with current backend service. Please update to the latest client version.\n",
      "ERROR - 2024-04-26T15:22:12Z - Client version 0.10.1 is not compatible with current backend service. Please update to the latest client version.\n",
      "ERROR - 2024-04-26T15:22:12Z - Client version 0.10.1 is not compatible with current backend service. Please update to the latest client version.\n",
      "INFO - 2024-04-26T15:22:12Z - Selected dataset version is \"202311\"\n",
      "INFO - 2024-04-26T15:22:12Z - Downloading using service original-files...\n"
     ]
    },
    {
     "name": "stderr",
     "output_type": "stream",
     "text": [
      "100%|██████████| 1/1 [00:13<00:00, 13.66s/it]\n"
     ]
    },
    {
     "name": "stdout",
     "output_type": "stream",
     "text": [
      "ERROR - 2024-04-26T15:22:31Z - Client version 0.10.1 is not compatible with current backend service. Please update to the latest client version.\n",
      "ERROR - 2024-04-26T15:22:31Z - Client version 0.10.1 is not compatible with current backend service. Please update to the latest client version.\n",
      "ERROR - 2024-04-26T15:22:31Z - Client version 0.10.1 is not compatible with current backend service. Please update to the latest client version.\n",
      "INFO - 2024-04-26T15:22:31Z - Selected dataset version is \"202311\"\n",
      "INFO - 2024-04-26T15:22:31Z - Downloading using service original-files...\n"
     ]
    },
    {
     "name": "stderr",
     "output_type": "stream",
     "text": [
      "100%|██████████| 1/1 [00:13<00:00, 13.39s/it]\n"
     ]
    },
    {
     "name": "stdout",
     "output_type": "stream",
     "text": [
      "ERROR - 2024-04-26T15:22:50Z - Client version 0.10.1 is not compatible with current backend service. Please update to the latest client version.\n",
      "ERROR - 2024-04-26T15:22:50Z - Client version 0.10.1 is not compatible with current backend service. Please update to the latest client version.\n",
      "ERROR - 2024-04-26T15:22:50Z - Client version 0.10.1 is not compatible with current backend service. Please update to the latest client version.\n",
      "INFO - 2024-04-26T15:22:50Z - Selected dataset version is \"202311\"\n",
      "INFO - 2024-04-26T15:22:50Z - Downloading using service original-files...\n"
     ]
    },
    {
     "name": "stderr",
     "output_type": "stream",
     "text": [
      "100%|██████████| 1/1 [00:13<00:00, 13.42s/it]\n"
     ]
    },
    {
     "name": "stdout",
     "output_type": "stream",
     "text": [
      "ERROR - 2024-04-26T15:23:08Z - Client version 0.10.1 is not compatible with current backend service. Please update to the latest client version.\n",
      "ERROR - 2024-04-26T15:23:08Z - Client version 0.10.1 is not compatible with current backend service. Please update to the latest client version.\n",
      "ERROR - 2024-04-26T15:23:08Z - Client version 0.10.1 is not compatible with current backend service. Please update to the latest client version.\n",
      "INFO - 2024-04-26T15:23:09Z - Selected dataset version is \"202311\"\n",
      "INFO - 2024-04-26T15:23:09Z - Downloading using service original-files...\n"
     ]
    },
    {
     "name": "stderr",
     "output_type": "stream",
     "text": [
      "100%|██████████| 1/1 [00:13<00:00, 13.40s/it]\n"
     ]
    },
    {
     "name": "stdout",
     "output_type": "stream",
     "text": [
      "ERROR - 2024-04-26T15:23:27Z - Client version 0.10.1 is not compatible with current backend service. Please update to the latest client version.\n",
      "ERROR - 2024-04-26T15:23:27Z - Client version 0.10.1 is not compatible with current backend service. Please update to the latest client version.\n",
      "ERROR - 2024-04-26T15:23:27Z - Client version 0.10.1 is not compatible with current backend service. Please update to the latest client version.\n",
      "INFO - 2024-04-26T15:23:28Z - Selected dataset version is \"202311\"\n",
      "INFO - 2024-04-26T15:23:28Z - Downloading using service original-files...\n"
     ]
    },
    {
     "name": "stderr",
     "output_type": "stream",
     "text": [
      "100%|██████████| 1/1 [00:13<00:00, 13.56s/it]\n"
     ]
    },
    {
     "name": "stdout",
     "output_type": "stream",
     "text": [
      "ERROR - 2024-04-26T15:23:46Z - Client version 0.10.1 is not compatible with current backend service. Please update to the latest client version.\n",
      "ERROR - 2024-04-26T15:23:46Z - Client version 0.10.1 is not compatible with current backend service. Please update to the latest client version.\n",
      "ERROR - 2024-04-26T15:23:46Z - Client version 0.10.1 is not compatible with current backend service. Please update to the latest client version.\n",
      "INFO - 2024-04-26T15:23:46Z - Selected dataset version is \"202311\"\n",
      "INFO - 2024-04-26T15:23:46Z - Downloading using service original-files...\n"
     ]
    },
    {
     "name": "stderr",
     "output_type": "stream",
     "text": [
      "100%|██████████| 1/1 [00:13<00:00, 13.46s/it]\n"
     ]
    },
    {
     "name": "stdout",
     "output_type": "stream",
     "text": [
      "ERROR - 2024-04-26T15:24:05Z - Client version 0.10.1 is not compatible with current backend service. Please update to the latest client version.\n",
      "ERROR - 2024-04-26T15:24:05Z - Client version 0.10.1 is not compatible with current backend service. Please update to the latest client version.\n",
      "ERROR - 2024-04-26T15:24:05Z - Client version 0.10.1 is not compatible with current backend service. Please update to the latest client version.\n",
      "INFO - 2024-04-26T15:24:05Z - Selected dataset version is \"202311\"\n",
      "INFO - 2024-04-26T15:24:05Z - Downloading using service original-files...\n"
     ]
    },
    {
     "name": "stderr",
     "output_type": "stream",
     "text": [
      "100%|██████████| 1/1 [00:13<00:00, 13.38s/it]\n"
     ]
    },
    {
     "name": "stdout",
     "output_type": "stream",
     "text": [
      "ERROR - 2024-04-26T15:24:24Z - Client version 0.10.1 is not compatible with current backend service. Please update to the latest client version.\n",
      "ERROR - 2024-04-26T15:24:24Z - Client version 0.10.1 is not compatible with current backend service. Please update to the latest client version.\n",
      "ERROR - 2024-04-26T15:24:24Z - Client version 0.10.1 is not compatible with current backend service. Please update to the latest client version.\n",
      "INFO - 2024-04-26T15:24:24Z - Selected dataset version is \"202311\"\n",
      "INFO - 2024-04-26T15:24:24Z - Downloading using service original-files...\n"
     ]
    },
    {
     "name": "stderr",
     "output_type": "stream",
     "text": [
      "100%|██████████| 1/1 [00:13<00:00, 13.47s/it]\n"
     ]
    },
    {
     "name": "stdout",
     "output_type": "stream",
     "text": [
      "ERROR - 2024-04-26T15:24:42Z - Client version 0.10.1 is not compatible with current backend service. Please update to the latest client version.\n",
      "ERROR - 2024-04-26T15:24:42Z - Client version 0.10.1 is not compatible with current backend service. Please update to the latest client version.\n",
      "ERROR - 2024-04-26T15:24:42Z - Client version 0.10.1 is not compatible with current backend service. Please update to the latest client version.\n",
      "INFO - 2024-04-26T15:24:43Z - Selected dataset version is \"202311\"\n",
      "INFO - 2024-04-26T15:24:43Z - Downloading using service original-files...\n"
     ]
    },
    {
     "name": "stderr",
     "output_type": "stream",
     "text": [
      "100%|██████████| 1/1 [00:13<00:00, 13.60s/it]\n"
     ]
    },
    {
     "name": "stdout",
     "output_type": "stream",
     "text": [
      "ERROR - 2024-04-26T15:25:01Z - Client version 0.10.1 is not compatible with current backend service. Please update to the latest client version.\n",
      "ERROR - 2024-04-26T15:25:01Z - Client version 0.10.1 is not compatible with current backend service. Please update to the latest client version.\n",
      "ERROR - 2024-04-26T15:25:01Z - Client version 0.10.1 is not compatible with current backend service. Please update to the latest client version.\n",
      "INFO - 2024-04-26T15:25:02Z - Selected dataset version is \"202311\"\n",
      "INFO - 2024-04-26T15:25:02Z - Downloading using service original-files...\n"
     ]
    },
    {
     "name": "stderr",
     "output_type": "stream",
     "text": [
      "100%|██████████| 1/1 [00:13<00:00, 13.47s/it]\n"
     ]
    },
    {
     "name": "stdout",
     "output_type": "stream",
     "text": [
      "ERROR - 2024-04-26T15:25:20Z - Client version 0.10.1 is not compatible with current backend service. Please update to the latest client version.\n",
      "ERROR - 2024-04-26T15:25:20Z - Client version 0.10.1 is not compatible with current backend service. Please update to the latest client version.\n",
      "ERROR - 2024-04-26T15:25:20Z - Client version 0.10.1 is not compatible with current backend service. Please update to the latest client version.\n",
      "INFO - 2024-04-26T15:25:21Z - Selected dataset version is \"202311\"\n",
      "INFO - 2024-04-26T15:25:21Z - Downloading using service original-files...\n"
     ]
    },
    {
     "name": "stderr",
     "output_type": "stream",
     "text": [
      "100%|██████████| 1/1 [00:13<00:00, 13.88s/it]\n"
     ]
    },
    {
     "name": "stdout",
     "output_type": "stream",
     "text": [
      "ERROR - 2024-04-26T15:25:39Z - Client version 0.10.1 is not compatible with current backend service. Please update to the latest client version.\n",
      "ERROR - 2024-04-26T15:25:39Z - Client version 0.10.1 is not compatible with current backend service. Please update to the latest client version.\n",
      "ERROR - 2024-04-26T15:25:39Z - Client version 0.10.1 is not compatible with current backend service. Please update to the latest client version.\n",
      "INFO - 2024-04-26T15:25:40Z - Selected dataset version is \"202311\"\n",
      "INFO - 2024-04-26T15:25:40Z - Downloading using service original-files...\n"
     ]
    },
    {
     "name": "stderr",
     "output_type": "stream",
     "text": [
      "100%|██████████| 1/1 [00:13<00:00, 13.48s/it]\n"
     ]
    },
    {
     "name": "stdout",
     "output_type": "stream",
     "text": [
      "ERROR - 2024-04-26T15:25:58Z - Client version 0.10.1 is not compatible with current backend service. Please update to the latest client version.\n",
      "ERROR - 2024-04-26T15:25:58Z - Client version 0.10.1 is not compatible with current backend service. Please update to the latest client version.\n",
      "ERROR - 2024-04-26T15:25:58Z - Client version 0.10.1 is not compatible with current backend service. Please update to the latest client version.\n",
      "INFO - 2024-04-26T15:25:59Z - Selected dataset version is \"202311\"\n",
      "INFO - 2024-04-26T15:25:59Z - Downloading using service original-files...\n"
     ]
    },
    {
     "name": "stderr",
     "output_type": "stream",
     "text": [
      "100%|██████████| 1/1 [00:13<00:00, 13.44s/it]\n"
     ]
    },
    {
     "name": "stdout",
     "output_type": "stream",
     "text": [
      "ERROR - 2024-04-26T15:26:17Z - Client version 0.10.1 is not compatible with current backend service. Please update to the latest client version.\n",
      "ERROR - 2024-04-26T15:26:17Z - Client version 0.10.1 is not compatible with current backend service. Please update to the latest client version.\n",
      "ERROR - 2024-04-26T15:26:17Z - Client version 0.10.1 is not compatible with current backend service. Please update to the latest client version.\n",
      "INFO - 2024-04-26T15:26:17Z - Selected dataset version is \"202311\"\n",
      "INFO - 2024-04-26T15:26:17Z - Downloading using service original-files...\n"
     ]
    },
    {
     "name": "stderr",
     "output_type": "stream",
     "text": [
      "100%|██████████| 1/1 [00:13<00:00, 13.41s/it]\n"
     ]
    },
    {
     "name": "stdout",
     "output_type": "stream",
     "text": [
      "ERROR - 2024-04-26T15:26:36Z - Client version 0.10.1 is not compatible with current backend service. Please update to the latest client version.\n",
      "ERROR - 2024-04-26T15:26:36Z - Client version 0.10.1 is not compatible with current backend service. Please update to the latest client version.\n",
      "ERROR - 2024-04-26T15:26:36Z - Client version 0.10.1 is not compatible with current backend service. Please update to the latest client version.\n",
      "INFO - 2024-04-26T15:26:36Z - Selected dataset version is \"202311\"\n",
      "INFO - 2024-04-26T15:26:36Z - Downloading using service original-files...\n"
     ]
    },
    {
     "name": "stderr",
     "output_type": "stream",
     "text": [
      "100%|██████████| 1/1 [00:13<00:00, 13.73s/it]\n"
     ]
    },
    {
     "name": "stdout",
     "output_type": "stream",
     "text": [
      "ERROR - 2024-04-26T15:26:55Z - Client version 0.10.1 is not compatible with current backend service. Please update to the latest client version.\n",
      "ERROR - 2024-04-26T15:26:55Z - Client version 0.10.1 is not compatible with current backend service. Please update to the latest client version.\n",
      "ERROR - 2024-04-26T15:26:55Z - Client version 0.10.1 is not compatible with current backend service. Please update to the latest client version.\n",
      "INFO - 2024-04-26T15:26:55Z - Selected dataset version is \"202311\"\n",
      "INFO - 2024-04-26T15:26:55Z - Downloading using service original-files...\n"
     ]
    },
    {
     "name": "stderr",
     "output_type": "stream",
     "text": [
      "100%|██████████| 1/1 [00:13<00:00, 13.54s/it]\n"
     ]
    },
    {
     "name": "stdout",
     "output_type": "stream",
     "text": [
      "ERROR - 2024-04-26T15:27:14Z - Client version 0.10.1 is not compatible with current backend service. Please update to the latest client version.\n",
      "ERROR - 2024-04-26T15:27:14Z - Client version 0.10.1 is not compatible with current backend service. Please update to the latest client version.\n",
      "ERROR - 2024-04-26T15:27:14Z - Client version 0.10.1 is not compatible with current backend service. Please update to the latest client version.\n",
      "INFO - 2024-04-26T15:27:14Z - Selected dataset version is \"202311\"\n",
      "INFO - 2024-04-26T15:27:14Z - Downloading using service original-files...\n"
     ]
    },
    {
     "name": "stderr",
     "output_type": "stream",
     "text": [
      "100%|██████████| 1/1 [00:13<00:00, 13.79s/it]\n"
     ]
    },
    {
     "name": "stdout",
     "output_type": "stream",
     "text": [
      "ERROR - 2024-04-26T15:27:33Z - Client version 0.10.1 is not compatible with current backend service. Please update to the latest client version.\n",
      "ERROR - 2024-04-26T15:27:33Z - Client version 0.10.1 is not compatible with current backend service. Please update to the latest client version.\n",
      "ERROR - 2024-04-26T15:27:33Z - Client version 0.10.1 is not compatible with current backend service. Please update to the latest client version.\n",
      "INFO - 2024-04-26T15:27:33Z - Selected dataset version is \"202311\"\n",
      "INFO - 2024-04-26T15:27:33Z - Downloading using service original-files...\n"
     ]
    },
    {
     "name": "stderr",
     "output_type": "stream",
     "text": [
      "100%|██████████| 1/1 [00:13<00:00, 13.59s/it]\n"
     ]
    },
    {
     "name": "stdout",
     "output_type": "stream",
     "text": [
      "ERROR - 2024-04-26T15:27:52Z - Client version 0.10.1 is not compatible with current backend service. Please update to the latest client version.\n",
      "ERROR - 2024-04-26T15:27:52Z - Client version 0.10.1 is not compatible with current backend service. Please update to the latest client version.\n",
      "ERROR - 2024-04-26T15:27:52Z - Client version 0.10.1 is not compatible with current backend service. Please update to the latest client version.\n",
      "INFO - 2024-04-26T15:27:52Z - Selected dataset version is \"202311\"\n",
      "INFO - 2024-04-26T15:27:52Z - Downloading using service original-files...\n"
     ]
    },
    {
     "name": "stderr",
     "output_type": "stream",
     "text": [
      "100%|██████████| 1/1 [00:13<00:00, 13.53s/it]\n"
     ]
    },
    {
     "name": "stdout",
     "output_type": "stream",
     "text": [
      "ERROR - 2024-04-26T15:28:11Z - Client version 0.10.1 is not compatible with current backend service. Please update to the latest client version.\n",
      "ERROR - 2024-04-26T15:28:11Z - Client version 0.10.1 is not compatible with current backend service. Please update to the latest client version.\n",
      "ERROR - 2024-04-26T15:28:11Z - Client version 0.10.1 is not compatible with current backend service. Please update to the latest client version.\n",
      "INFO - 2024-04-26T15:28:11Z - Selected dataset version is \"202311\"\n",
      "INFO - 2024-04-26T15:28:11Z - Downloading using service original-files...\n"
     ]
    },
    {
     "name": "stderr",
     "output_type": "stream",
     "text": [
      "100%|██████████| 1/1 [00:13<00:00, 13.47s/it]\n"
     ]
    },
    {
     "name": "stdout",
     "output_type": "stream",
     "text": [
      "ERROR - 2024-04-26T15:28:29Z - Client version 0.10.1 is not compatible with current backend service. Please update to the latest client version.\n",
      "ERROR - 2024-04-26T15:28:29Z - Client version 0.10.1 is not compatible with current backend service. Please update to the latest client version.\n",
      "ERROR - 2024-04-26T15:28:29Z - Client version 0.10.1 is not compatible with current backend service. Please update to the latest client version.\n",
      "INFO - 2024-04-26T15:28:30Z - Selected dataset version is \"202311\"\n",
      "INFO - 2024-04-26T15:28:30Z - Downloading using service original-files...\n"
     ]
    },
    {
     "name": "stderr",
     "output_type": "stream",
     "text": [
      "100%|██████████| 1/1 [00:13<00:00, 13.47s/it]\n"
     ]
    },
    {
     "name": "stdout",
     "output_type": "stream",
     "text": [
      "ERROR - 2024-04-26T15:28:48Z - Client version 0.10.1 is not compatible with current backend service. Please update to the latest client version.\n",
      "ERROR - 2024-04-26T15:28:48Z - Client version 0.10.1 is not compatible with current backend service. Please update to the latest client version.\n",
      "ERROR - 2024-04-26T15:28:48Z - Client version 0.10.1 is not compatible with current backend service. Please update to the latest client version.\n",
      "INFO - 2024-04-26T15:28:49Z - Selected dataset version is \"202311\"\n",
      "INFO - 2024-04-26T15:28:49Z - Downloading using service original-files...\n"
     ]
    },
    {
     "name": "stderr",
     "output_type": "stream",
     "text": [
      "100%|██████████| 1/1 [00:13<00:00, 13.53s/it]\n"
     ]
    },
    {
     "name": "stdout",
     "output_type": "stream",
     "text": [
      "ERROR - 2024-04-26T15:29:07Z - Client version 0.10.1 is not compatible with current backend service. Please update to the latest client version.\n",
      "ERROR - 2024-04-26T15:29:07Z - Client version 0.10.1 is not compatible with current backend service. Please update to the latest client version.\n",
      "ERROR - 2024-04-26T15:29:07Z - Client version 0.10.1 is not compatible with current backend service. Please update to the latest client version.\n",
      "INFO - 2024-04-26T15:29:08Z - Selected dataset version is \"202311\"\n",
      "INFO - 2024-04-26T15:29:08Z - Downloading using service original-files...\n"
     ]
    },
    {
     "name": "stderr",
     "output_type": "stream",
     "text": [
      "100%|██████████| 1/1 [00:13<00:00, 13.61s/it]\n"
     ]
    },
    {
     "name": "stdout",
     "output_type": "stream",
     "text": [
      "ERROR - 2024-04-26T15:29:26Z - Client version 0.10.1 is not compatible with current backend service. Please update to the latest client version.\n",
      "ERROR - 2024-04-26T15:29:26Z - Client version 0.10.1 is not compatible with current backend service. Please update to the latest client version.\n",
      "ERROR - 2024-04-26T15:29:26Z - Client version 0.10.1 is not compatible with current backend service. Please update to the latest client version.\n",
      "INFO - 2024-04-26T15:29:27Z - Selected dataset version is \"202311\"\n",
      "INFO - 2024-04-26T15:29:27Z - Downloading using service original-files...\n"
     ]
    },
    {
     "name": "stderr",
     "output_type": "stream",
     "text": [
      "100%|██████████| 1/1 [00:13<00:00, 13.60s/it]\n"
     ]
    },
    {
     "name": "stdout",
     "output_type": "stream",
     "text": [
      "ERROR - 2024-04-26T15:29:45Z - Client version 0.10.1 is not compatible with current backend service. Please update to the latest client version.\n",
      "ERROR - 2024-04-26T15:29:45Z - Client version 0.10.1 is not compatible with current backend service. Please update to the latest client version.\n",
      "ERROR - 2024-04-26T15:29:45Z - Client version 0.10.1 is not compatible with current backend service. Please update to the latest client version.\n",
      "INFO - 2024-04-26T15:29:46Z - Selected dataset version is \"202311\"\n",
      "INFO - 2024-04-26T15:29:46Z - Downloading using service original-files...\n"
     ]
    },
    {
     "name": "stderr",
     "output_type": "stream",
     "text": [
      "100%|██████████| 1/1 [00:13<00:00, 13.41s/it]\n"
     ]
    },
    {
     "name": "stdout",
     "output_type": "stream",
     "text": [
      "ERROR - 2024-04-26T15:30:04Z - Client version 0.10.1 is not compatible with current backend service. Please update to the latest client version.\n",
      "ERROR - 2024-04-26T15:30:04Z - Client version 0.10.1 is not compatible with current backend service. Please update to the latest client version.\n",
      "ERROR - 2024-04-26T15:30:04Z - Client version 0.10.1 is not compatible with current backend service. Please update to the latest client version.\n",
      "INFO - 2024-04-26T15:30:05Z - Selected dataset version is \"202311\"\n",
      "INFO - 2024-04-26T15:30:05Z - Downloading using service original-files...\n"
     ]
    },
    {
     "name": "stderr",
     "output_type": "stream",
     "text": [
      "100%|██████████| 1/1 [00:13<00:00, 13.56s/it]\n"
     ]
    },
    {
     "name": "stdout",
     "output_type": "stream",
     "text": [
      "ERROR - 2024-04-26T15:30:23Z - Client version 0.10.1 is not compatible with current backend service. Please update to the latest client version.\n",
      "ERROR - 2024-04-26T15:30:23Z - Client version 0.10.1 is not compatible with current backend service. Please update to the latest client version.\n",
      "ERROR - 2024-04-26T15:30:23Z - Client version 0.10.1 is not compatible with current backend service. Please update to the latest client version.\n",
      "INFO - 2024-04-26T15:30:24Z - Selected dataset version is \"202311\"\n",
      "INFO - 2024-04-26T15:30:24Z - Downloading using service original-files...\n"
     ]
    },
    {
     "name": "stderr",
     "output_type": "stream",
     "text": [
      "100%|██████████| 1/1 [00:13<00:00, 13.56s/it]\n"
     ]
    },
    {
     "name": "stdout",
     "output_type": "stream",
     "text": [
      "ERROR - 2024-04-26T15:30:42Z - Client version 0.10.1 is not compatible with current backend service. Please update to the latest client version.\n",
      "ERROR - 2024-04-26T15:30:42Z - Client version 0.10.1 is not compatible with current backend service. Please update to the latest client version.\n",
      "ERROR - 2024-04-26T15:30:42Z - Client version 0.10.1 is not compatible with current backend service. Please update to the latest client version.\n",
      "INFO - 2024-04-26T15:30:42Z - Selected dataset version is \"202311\"\n",
      "INFO - 2024-04-26T15:30:42Z - Downloading using service original-files...\n"
     ]
    },
    {
     "name": "stderr",
     "output_type": "stream",
     "text": [
      "100%|██████████| 1/1 [00:13<00:00, 13.43s/it]\n"
     ]
    },
    {
     "name": "stdout",
     "output_type": "stream",
     "text": [
      "ERROR - 2024-04-26T15:31:01Z - Client version 0.10.1 is not compatible with current backend service. Please update to the latest client version.\n",
      "ERROR - 2024-04-26T15:31:01Z - Client version 0.10.1 is not compatible with current backend service. Please update to the latest client version.\n",
      "ERROR - 2024-04-26T15:31:01Z - Client version 0.10.1 is not compatible with current backend service. Please update to the latest client version.\n",
      "INFO - 2024-04-26T15:31:01Z - Selected dataset version is \"202311\"\n",
      "INFO - 2024-04-26T15:31:01Z - Downloading using service original-files...\n"
     ]
    },
    {
     "name": "stderr",
     "output_type": "stream",
     "text": [
      "100%|██████████| 1/1 [00:13<00:00, 13.50s/it]\n"
     ]
    },
    {
     "name": "stdout",
     "output_type": "stream",
     "text": [
      "ERROR - 2024-04-26T15:31:19Z - Client version 0.10.1 is not compatible with current backend service. Please update to the latest client version.\n",
      "ERROR - 2024-04-26T15:31:19Z - Client version 0.10.1 is not compatible with current backend service. Please update to the latest client version.\n",
      "ERROR - 2024-04-26T15:31:19Z - Client version 0.10.1 is not compatible with current backend service. Please update to the latest client version.\n",
      "INFO - 2024-04-26T15:31:20Z - Selected dataset version is \"202311\"\n",
      "INFO - 2024-04-26T15:31:20Z - Downloading using service original-files...\n"
     ]
    },
    {
     "name": "stderr",
     "output_type": "stream",
     "text": [
      "100%|██████████| 1/1 [00:13<00:00, 13.35s/it]\n"
     ]
    },
    {
     "name": "stdout",
     "output_type": "stream",
     "text": [
      "ERROR - 2024-04-26T15:31:38Z - Client version 0.10.1 is not compatible with current backend service. Please update to the latest client version.\n",
      "ERROR - 2024-04-26T15:31:38Z - Client version 0.10.1 is not compatible with current backend service. Please update to the latest client version.\n",
      "ERROR - 2024-04-26T15:31:38Z - Client version 0.10.1 is not compatible with current backend service. Please update to the latest client version.\n",
      "INFO - 2024-04-26T15:31:39Z - Selected dataset version is \"202311\"\n",
      "INFO - 2024-04-26T15:31:39Z - Downloading using service original-files...\n"
     ]
    },
    {
     "name": "stderr",
     "output_type": "stream",
     "text": [
      "100%|██████████| 1/1 [00:13<00:00, 13.56s/it]\n"
     ]
    },
    {
     "name": "stdout",
     "output_type": "stream",
     "text": [
      "ERROR - 2024-04-26T15:31:57Z - Client version 0.10.1 is not compatible with current backend service. Please update to the latest client version.\n",
      "ERROR - 2024-04-26T15:31:57Z - Client version 0.10.1 is not compatible with current backend service. Please update to the latest client version.\n",
      "ERROR - 2024-04-26T15:31:57Z - Client version 0.10.1 is not compatible with current backend service. Please update to the latest client version.\n",
      "INFO - 2024-04-26T15:31:58Z - Selected dataset version is \"202311\"\n",
      "INFO - 2024-04-26T15:31:58Z - Downloading using service original-files...\n"
     ]
    },
    {
     "name": "stderr",
     "output_type": "stream",
     "text": [
      "100%|██████████| 1/1 [00:13<00:00, 13.92s/it]\n"
     ]
    },
    {
     "name": "stdout",
     "output_type": "stream",
     "text": [
      "ERROR - 2024-04-26T15:32:16Z - Client version 0.10.1 is not compatible with current backend service. Please update to the latest client version.\n",
      "ERROR - 2024-04-26T15:32:16Z - Client version 0.10.1 is not compatible with current backend service. Please update to the latest client version.\n",
      "ERROR - 2024-04-26T15:32:16Z - Client version 0.10.1 is not compatible with current backend service. Please update to the latest client version.\n",
      "INFO - 2024-04-26T15:32:17Z - Selected dataset version is \"202311\"\n",
      "INFO - 2024-04-26T15:32:17Z - Downloading using service original-files...\n"
     ]
    },
    {
     "name": "stderr",
     "output_type": "stream",
     "text": [
      "100%|██████████| 1/1 [00:13<00:00, 13.66s/it]\n"
     ]
    },
    {
     "name": "stdout",
     "output_type": "stream",
     "text": [
      "ERROR - 2024-04-26T15:32:35Z - Client version 0.10.1 is not compatible with current backend service. Please update to the latest client version.\n",
      "ERROR - 2024-04-26T15:32:35Z - Client version 0.10.1 is not compatible with current backend service. Please update to the latest client version.\n",
      "ERROR - 2024-04-26T15:32:35Z - Client version 0.10.1 is not compatible with current backend service. Please update to the latest client version.\n",
      "INFO - 2024-04-26T15:32:36Z - Selected dataset version is \"202311\"\n",
      "INFO - 2024-04-26T15:32:36Z - Downloading using service original-files...\n"
     ]
    },
    {
     "name": "stderr",
     "output_type": "stream",
     "text": [
      "100%|██████████| 1/1 [00:13<00:00, 13.60s/it]\n"
     ]
    },
    {
     "name": "stdout",
     "output_type": "stream",
     "text": [
      "ERROR - 2024-04-26T15:32:54Z - Client version 0.10.1 is not compatible with current backend service. Please update to the latest client version.\n",
      "ERROR - 2024-04-26T15:32:54Z - Client version 0.10.1 is not compatible with current backend service. Please update to the latest client version.\n",
      "ERROR - 2024-04-26T15:32:54Z - Client version 0.10.1 is not compatible with current backend service. Please update to the latest client version.\n",
      "INFO - 2024-04-26T15:32:55Z - Selected dataset version is \"202311\"\n",
      "INFO - 2024-04-26T15:32:55Z - Downloading using service original-files...\n"
     ]
    },
    {
     "name": "stderr",
     "output_type": "stream",
     "text": [
      "100%|██████████| 1/1 [00:13<00:00, 13.46s/it]\n"
     ]
    },
    {
     "name": "stdout",
     "output_type": "stream",
     "text": [
      "ERROR - 2024-04-26T15:33:13Z - Client version 0.10.1 is not compatible with current backend service. Please update to the latest client version.\n",
      "ERROR - 2024-04-26T15:33:13Z - Client version 0.10.1 is not compatible with current backend service. Please update to the latest client version.\n",
      "ERROR - 2024-04-26T15:33:13Z - Client version 0.10.1 is not compatible with current backend service. Please update to the latest client version.\n",
      "INFO - 2024-04-26T15:33:14Z - Selected dataset version is \"202311\"\n",
      "INFO - 2024-04-26T15:33:14Z - Downloading using service original-files...\n"
     ]
    },
    {
     "name": "stderr",
     "output_type": "stream",
     "text": [
      "100%|██████████| 1/1 [00:13<00:00, 13.46s/it]\n"
     ]
    },
    {
     "name": "stdout",
     "output_type": "stream",
     "text": [
      "ERROR - 2024-04-26T15:33:32Z - Client version 0.10.1 is not compatible with current backend service. Please update to the latest client version.\n",
      "ERROR - 2024-04-26T15:33:32Z - Client version 0.10.1 is not compatible with current backend service. Please update to the latest client version.\n",
      "ERROR - 2024-04-26T15:33:32Z - Client version 0.10.1 is not compatible with current backend service. Please update to the latest client version.\n",
      "INFO - 2024-04-26T15:33:33Z - Selected dataset version is \"202311\"\n",
      "INFO - 2024-04-26T15:33:33Z - Downloading using service original-files...\n"
     ]
    },
    {
     "name": "stderr",
     "output_type": "stream",
     "text": [
      "100%|██████████| 1/1 [00:13<00:00, 13.67s/it]\n"
     ]
    },
    {
     "name": "stdout",
     "output_type": "stream",
     "text": [
      "ERROR - 2024-04-26T15:33:51Z - Client version 0.10.1 is not compatible with current backend service. Please update to the latest client version.\n",
      "ERROR - 2024-04-26T15:33:51Z - Client version 0.10.1 is not compatible with current backend service. Please update to the latest client version.\n",
      "ERROR - 2024-04-26T15:33:51Z - Client version 0.10.1 is not compatible with current backend service. Please update to the latest client version.\n",
      "INFO - 2024-04-26T15:33:52Z - Selected dataset version is \"202311\"\n",
      "INFO - 2024-04-26T15:33:52Z - Downloading using service original-files...\n"
     ]
    },
    {
     "name": "stderr",
     "output_type": "stream",
     "text": [
      "100%|██████████| 1/1 [00:13<00:00, 13.33s/it]\n"
     ]
    },
    {
     "name": "stdout",
     "output_type": "stream",
     "text": [
      "ERROR - 2024-04-26T15:34:10Z - Client version 0.10.1 is not compatible with current backend service. Please update to the latest client version.\n",
      "ERROR - 2024-04-26T15:34:10Z - Client version 0.10.1 is not compatible with current backend service. Please update to the latest client version.\n",
      "ERROR - 2024-04-26T15:34:10Z - Client version 0.10.1 is not compatible with current backend service. Please update to the latest client version.\n",
      "INFO - 2024-04-26T15:34:10Z - Selected dataset version is \"202311\"\n",
      "INFO - 2024-04-26T15:34:10Z - Downloading using service original-files...\n"
     ]
    },
    {
     "name": "stderr",
     "output_type": "stream",
     "text": [
      "100%|██████████| 1/1 [00:13<00:00, 13.60s/it]\n"
     ]
    },
    {
     "name": "stdout",
     "output_type": "stream",
     "text": [
      "ERROR - 2024-04-26T15:34:29Z - Client version 0.10.1 is not compatible with current backend service. Please update to the latest client version.\n",
      "ERROR - 2024-04-26T15:34:29Z - Client version 0.10.1 is not compatible with current backend service. Please update to the latest client version.\n",
      "ERROR - 2024-04-26T15:34:29Z - Client version 0.10.1 is not compatible with current backend service. Please update to the latest client version.\n",
      "INFO - 2024-04-26T15:34:29Z - Selected dataset version is \"202311\"\n",
      "INFO - 2024-04-26T15:34:29Z - Downloading using service original-files...\n"
     ]
    },
    {
     "name": "stderr",
     "output_type": "stream",
     "text": [
      "100%|██████████| 1/1 [00:13<00:00, 13.72s/it]\n"
     ]
    },
    {
     "name": "stdout",
     "output_type": "stream",
     "text": [
      "ERROR - 2024-04-26T15:34:48Z - Client version 0.10.1 is not compatible with current backend service. Please update to the latest client version.\n",
      "ERROR - 2024-04-26T15:34:48Z - Client version 0.10.1 is not compatible with current backend service. Please update to the latest client version.\n",
      "ERROR - 2024-04-26T15:34:48Z - Client version 0.10.1 is not compatible with current backend service. Please update to the latest client version.\n",
      "INFO - 2024-04-26T15:34:48Z - Selected dataset version is \"202311\"\n",
      "INFO - 2024-04-26T15:34:48Z - Downloading using service original-files...\n"
     ]
    },
    {
     "name": "stderr",
     "output_type": "stream",
     "text": [
      "100%|██████████| 1/1 [00:13<00:00, 13.56s/it]\n"
     ]
    },
    {
     "name": "stdout",
     "output_type": "stream",
     "text": [
      "ERROR - 2024-04-26T15:35:07Z - Client version 0.10.1 is not compatible with current backend service. Please update to the latest client version.\n",
      "ERROR - 2024-04-26T15:35:07Z - Client version 0.10.1 is not compatible with current backend service. Please update to the latest client version.\n",
      "ERROR - 2024-04-26T15:35:07Z - Client version 0.10.1 is not compatible with current backend service. Please update to the latest client version.\n",
      "INFO - 2024-04-26T15:35:08Z - Selected dataset version is \"202311\"\n",
      "INFO - 2024-04-26T15:35:08Z - Downloading using service original-files...\n"
     ]
    },
    {
     "name": "stderr",
     "output_type": "stream",
     "text": [
      "100%|██████████| 1/1 [00:13<00:00, 13.61s/it]\n"
     ]
    },
    {
     "name": "stdout",
     "output_type": "stream",
     "text": [
      "ERROR - 2024-04-26T15:35:26Z - Client version 0.10.1 is not compatible with current backend service. Please update to the latest client version.\n",
      "ERROR - 2024-04-26T15:35:26Z - Client version 0.10.1 is not compatible with current backend service. Please update to the latest client version.\n",
      "ERROR - 2024-04-26T15:35:26Z - Client version 0.10.1 is not compatible with current backend service. Please update to the latest client version.\n",
      "INFO - 2024-04-26T15:35:27Z - Selected dataset version is \"202311\"\n",
      "INFO - 2024-04-26T15:35:27Z - Downloading using service original-files...\n"
     ]
    },
    {
     "name": "stderr",
     "output_type": "stream",
     "text": [
      "100%|██████████| 1/1 [00:13<00:00, 13.47s/it]\n"
     ]
    },
    {
     "name": "stdout",
     "output_type": "stream",
     "text": [
      "ERROR - 2024-04-26T15:35:45Z - Client version 0.10.1 is not compatible with current backend service. Please update to the latest client version.\n",
      "ERROR - 2024-04-26T15:35:45Z - Client version 0.10.1 is not compatible with current backend service. Please update to the latest client version.\n",
      "ERROR - 2024-04-26T15:35:45Z - Client version 0.10.1 is not compatible with current backend service. Please update to the latest client version.\n",
      "INFO - 2024-04-26T15:35:45Z - Selected dataset version is \"202311\"\n",
      "INFO - 2024-04-26T15:35:45Z - Downloading using service original-files...\n"
     ]
    },
    {
     "name": "stderr",
     "output_type": "stream",
     "text": [
      "100%|██████████| 1/1 [00:13<00:00, 13.45s/it]\n"
     ]
    },
    {
     "name": "stdout",
     "output_type": "stream",
     "text": [
      "ERROR - 2024-04-26T15:36:04Z - Client version 0.10.1 is not compatible with current backend service. Please update to the latest client version.\n",
      "ERROR - 2024-04-26T15:36:04Z - Client version 0.10.1 is not compatible with current backend service. Please update to the latest client version.\n",
      "ERROR - 2024-04-26T15:36:04Z - Client version 0.10.1 is not compatible with current backend service. Please update to the latest client version.\n",
      "INFO - 2024-04-26T15:36:04Z - Selected dataset version is \"202311\"\n",
      "INFO - 2024-04-26T15:36:04Z - Downloading using service original-files...\n"
     ]
    },
    {
     "name": "stderr",
     "output_type": "stream",
     "text": [
      "100%|██████████| 1/1 [00:13<00:00, 13.32s/it]\n"
     ]
    },
    {
     "name": "stdout",
     "output_type": "stream",
     "text": [
      "ERROR - 2024-04-26T15:36:23Z - Client version 0.10.1 is not compatible with current backend service. Please update to the latest client version.\n",
      "ERROR - 2024-04-26T15:36:23Z - Client version 0.10.1 is not compatible with current backend service. Please update to the latest client version.\n",
      "ERROR - 2024-04-26T15:36:23Z - Client version 0.10.1 is not compatible with current backend service. Please update to the latest client version.\n",
      "INFO - 2024-04-26T15:36:23Z - Selected dataset version is \"202311\"\n",
      "INFO - 2024-04-26T15:36:23Z - Downloading using service original-files...\n"
     ]
    },
    {
     "name": "stderr",
     "output_type": "stream",
     "text": [
      "100%|██████████| 1/1 [00:13<00:00, 13.93s/it]\n"
     ]
    },
    {
     "name": "stdout",
     "output_type": "stream",
     "text": [
      "ERROR - 2024-04-26T15:36:42Z - Client version 0.10.1 is not compatible with current backend service. Please update to the latest client version.\n",
      "ERROR - 2024-04-26T15:36:42Z - Client version 0.10.1 is not compatible with current backend service. Please update to the latest client version.\n",
      "ERROR - 2024-04-26T15:36:42Z - Client version 0.10.1 is not compatible with current backend service. Please update to the latest client version.\n",
      "INFO - 2024-04-26T15:36:42Z - Selected dataset version is \"202311\"\n",
      "INFO - 2024-04-26T15:36:42Z - Downloading using service original-files...\n"
     ]
    },
    {
     "name": "stderr",
     "output_type": "stream",
     "text": [
      "100%|██████████| 1/1 [00:13<00:00, 13.27s/it]\n"
     ]
    },
    {
     "name": "stdout",
     "output_type": "stream",
     "text": [
      "ERROR - 2024-04-26T15:37:01Z - Client version 0.10.1 is not compatible with current backend service. Please update to the latest client version.\n",
      "ERROR - 2024-04-26T15:37:01Z - Client version 0.10.1 is not compatible with current backend service. Please update to the latest client version.\n",
      "ERROR - 2024-04-26T15:37:01Z - Client version 0.10.1 is not compatible with current backend service. Please update to the latest client version.\n",
      "INFO - 2024-04-26T15:37:01Z - Selected dataset version is \"202311\"\n",
      "INFO - 2024-04-26T15:37:01Z - Downloading using service original-files...\n"
     ]
    },
    {
     "name": "stderr",
     "output_type": "stream",
     "text": [
      "100%|██████████| 1/1 [00:13<00:00, 13.26s/it]\n"
     ]
    },
    {
     "name": "stdout",
     "output_type": "stream",
     "text": [
      "ERROR - 2024-04-26T15:37:19Z - Client version 0.10.1 is not compatible with current backend service. Please update to the latest client version.\n",
      "ERROR - 2024-04-26T15:37:19Z - Client version 0.10.1 is not compatible with current backend service. Please update to the latest client version.\n",
      "ERROR - 2024-04-26T15:37:19Z - Client version 0.10.1 is not compatible with current backend service. Please update to the latest client version.\n",
      "INFO - 2024-04-26T15:37:19Z - Selected dataset version is \"202311\"\n",
      "INFO - 2024-04-26T15:37:19Z - Downloading using service original-files...\n"
     ]
    },
    {
     "name": "stderr",
     "output_type": "stream",
     "text": [
      "100%|██████████| 1/1 [00:13<00:00, 13.77s/it]\n"
     ]
    },
    {
     "name": "stdout",
     "output_type": "stream",
     "text": [
      "ERROR - 2024-04-26T15:37:38Z - Client version 0.10.1 is not compatible with current backend service. Please update to the latest client version.\n",
      "ERROR - 2024-04-26T15:37:38Z - Client version 0.10.1 is not compatible with current backend service. Please update to the latest client version.\n",
      "ERROR - 2024-04-26T15:37:38Z - Client version 0.10.1 is not compatible with current backend service. Please update to the latest client version.\n",
      "INFO - 2024-04-26T15:37:39Z - Selected dataset version is \"202311\"\n",
      "INFO - 2024-04-26T15:37:39Z - Downloading using service original-files...\n"
     ]
    },
    {
     "name": "stderr",
     "output_type": "stream",
     "text": [
      "100%|██████████| 1/1 [00:13<00:00, 13.37s/it]\n"
     ]
    },
    {
     "name": "stdout",
     "output_type": "stream",
     "text": [
      "ERROR - 2024-04-26T15:37:57Z - Client version 0.10.1 is not compatible with current backend service. Please update to the latest client version.\n",
      "ERROR - 2024-04-26T15:37:57Z - Client version 0.10.1 is not compatible with current backend service. Please update to the latest client version.\n",
      "ERROR - 2024-04-26T15:37:57Z - Client version 0.10.1 is not compatible with current backend service. Please update to the latest client version.\n",
      "INFO - 2024-04-26T15:37:58Z - Selected dataset version is \"202311\"\n",
      "INFO - 2024-04-26T15:37:58Z - Downloading using service original-files...\n"
     ]
    },
    {
     "name": "stderr",
     "output_type": "stream",
     "text": [
      "100%|██████████| 1/1 [00:13<00:00, 13.90s/it]\n"
     ]
    },
    {
     "name": "stdout",
     "output_type": "stream",
     "text": [
      "ERROR - 2024-04-26T15:38:16Z - Client version 0.10.1 is not compatible with current backend service. Please update to the latest client version.\n",
      "ERROR - 2024-04-26T15:38:16Z - Client version 0.10.1 is not compatible with current backend service. Please update to the latest client version.\n",
      "ERROR - 2024-04-26T15:38:16Z - Client version 0.10.1 is not compatible with current backend service. Please update to the latest client version.\n",
      "INFO - 2024-04-26T15:38:17Z - Selected dataset version is \"202311\"\n",
      "INFO - 2024-04-26T15:38:17Z - Downloading using service original-files...\n"
     ]
    },
    {
     "name": "stderr",
     "output_type": "stream",
     "text": [
      "100%|██████████| 1/1 [00:13<00:00, 13.57s/it]\n"
     ]
    },
    {
     "name": "stdout",
     "output_type": "stream",
     "text": [
      "ERROR - 2024-04-26T15:38:35Z - Client version 0.10.1 is not compatible with current backend service. Please update to the latest client version.\n",
      "ERROR - 2024-04-26T15:38:35Z - Client version 0.10.1 is not compatible with current backend service. Please update to the latest client version.\n",
      "ERROR - 2024-04-26T15:38:35Z - Client version 0.10.1 is not compatible with current backend service. Please update to the latest client version.\n",
      "INFO - 2024-04-26T15:38:36Z - Selected dataset version is \"202311\"\n",
      "INFO - 2024-04-26T15:38:36Z - Downloading using service original-files...\n"
     ]
    },
    {
     "name": "stderr",
     "output_type": "stream",
     "text": [
      "100%|██████████| 1/1 [00:13<00:00, 13.63s/it]\n"
     ]
    },
    {
     "name": "stdout",
     "output_type": "stream",
     "text": [
      "ERROR - 2024-04-26T15:38:54Z - Client version 0.10.1 is not compatible with current backend service. Please update to the latest client version.\n",
      "ERROR - 2024-04-26T15:38:54Z - Client version 0.10.1 is not compatible with current backend service. Please update to the latest client version.\n",
      "ERROR - 2024-04-26T15:38:54Z - Client version 0.10.1 is not compatible with current backend service. Please update to the latest client version.\n",
      "INFO - 2024-04-26T15:38:55Z - Selected dataset version is \"202311\"\n",
      "INFO - 2024-04-26T15:38:55Z - Downloading using service original-files...\n"
     ]
    },
    {
     "name": "stderr",
     "output_type": "stream",
     "text": [
      "100%|██████████| 1/1 [00:13<00:00, 13.49s/it]\n"
     ]
    },
    {
     "name": "stdout",
     "output_type": "stream",
     "text": [
      "ERROR - 2024-04-26T15:39:13Z - Client version 0.10.1 is not compatible with current backend service. Please update to the latest client version.\n",
      "ERROR - 2024-04-26T15:39:13Z - Client version 0.10.1 is not compatible with current backend service. Please update to the latest client version.\n",
      "ERROR - 2024-04-26T15:39:13Z - Client version 0.10.1 is not compatible with current backend service. Please update to the latest client version.\n",
      "INFO - 2024-04-26T15:39:14Z - Selected dataset version is \"202311\"\n",
      "INFO - 2024-04-26T15:39:14Z - Downloading using service original-files...\n"
     ]
    },
    {
     "name": "stderr",
     "output_type": "stream",
     "text": [
      "100%|██████████| 1/1 [00:13<00:00, 13.71s/it]\n"
     ]
    },
    {
     "name": "stdout",
     "output_type": "stream",
     "text": [
      "ERROR - 2024-04-26T15:39:33Z - Client version 0.10.1 is not compatible with current backend service. Please update to the latest client version.\n",
      "ERROR - 2024-04-26T15:39:33Z - Client version 0.10.1 is not compatible with current backend service. Please update to the latest client version.\n",
      "ERROR - 2024-04-26T15:39:33Z - Client version 0.10.1 is not compatible with current backend service. Please update to the latest client version.\n",
      "INFO - 2024-04-26T15:39:33Z - Selected dataset version is \"202311\"\n",
      "INFO - 2024-04-26T15:39:33Z - Downloading using service original-files...\n"
     ]
    },
    {
     "name": "stderr",
     "output_type": "stream",
     "text": [
      "100%|██████████| 1/1 [00:13<00:00, 13.73s/it]\n"
     ]
    },
    {
     "name": "stdout",
     "output_type": "stream",
     "text": [
      "ERROR - 2024-04-26T15:39:52Z - Client version 0.10.1 is not compatible with current backend service. Please update to the latest client version.\n",
      "ERROR - 2024-04-26T15:39:52Z - Client version 0.10.1 is not compatible with current backend service. Please update to the latest client version.\n",
      "ERROR - 2024-04-26T15:39:52Z - Client version 0.10.1 is not compatible with current backend service. Please update to the latest client version.\n",
      "INFO - 2024-04-26T15:39:52Z - Selected dataset version is \"202311\"\n",
      "INFO - 2024-04-26T15:39:52Z - Downloading using service original-files...\n"
     ]
    },
    {
     "name": "stderr",
     "output_type": "stream",
     "text": [
      "100%|██████████| 1/1 [00:13<00:00, 13.54s/it]\n"
     ]
    },
    {
     "name": "stdout",
     "output_type": "stream",
     "text": [
      "ERROR - 2024-04-26T15:40:10Z - Client version 0.10.1 is not compatible with current backend service. Please update to the latest client version.\n",
      "ERROR - 2024-04-26T15:40:10Z - Client version 0.10.1 is not compatible with current backend service. Please update to the latest client version.\n",
      "ERROR - 2024-04-26T15:40:10Z - Client version 0.10.1 is not compatible with current backend service. Please update to the latest client version.\n",
      "INFO - 2024-04-26T15:40:11Z - Selected dataset version is \"202311\"\n",
      "INFO - 2024-04-26T15:40:11Z - Downloading using service original-files...\n"
     ]
    },
    {
     "name": "stderr",
     "output_type": "stream",
     "text": [
      "100%|██████████| 1/1 [00:13<00:00, 13.42s/it]\n"
     ]
    },
    {
     "name": "stdout",
     "output_type": "stream",
     "text": [
      "ERROR - 2024-04-26T15:40:29Z - Client version 0.10.1 is not compatible with current backend service. Please update to the latest client version.\n",
      "ERROR - 2024-04-26T15:40:29Z - Client version 0.10.1 is not compatible with current backend service. Please update to the latest client version.\n",
      "ERROR - 2024-04-26T15:40:29Z - Client version 0.10.1 is not compatible with current backend service. Please update to the latest client version.\n",
      "INFO - 2024-04-26T15:40:30Z - Selected dataset version is \"202311\"\n",
      "INFO - 2024-04-26T15:40:30Z - Downloading using service original-files...\n"
     ]
    },
    {
     "name": "stderr",
     "output_type": "stream",
     "text": [
      "100%|██████████| 1/1 [00:13<00:00, 13.52s/it]\n"
     ]
    },
    {
     "name": "stdout",
     "output_type": "stream",
     "text": [
      "ERROR - 2024-04-26T15:40:48Z - Client version 0.10.1 is not compatible with current backend service. Please update to the latest client version.\n",
      "ERROR - 2024-04-26T15:40:48Z - Client version 0.10.1 is not compatible with current backend service. Please update to the latest client version.\n",
      "ERROR - 2024-04-26T15:40:48Z - Client version 0.10.1 is not compatible with current backend service. Please update to the latest client version.\n",
      "INFO - 2024-04-26T15:40:49Z - Selected dataset version is \"202311\"\n",
      "INFO - 2024-04-26T15:40:49Z - Downloading using service original-files...\n"
     ]
    },
    {
     "name": "stderr",
     "output_type": "stream",
     "text": [
      "100%|██████████| 1/1 [00:13<00:00, 13.34s/it]\n"
     ]
    },
    {
     "name": "stdout",
     "output_type": "stream",
     "text": [
      "ERROR - 2024-04-26T15:41:07Z - Client version 0.10.1 is not compatible with current backend service. Please update to the latest client version.\n",
      "ERROR - 2024-04-26T15:41:07Z - Client version 0.10.1 is not compatible with current backend service. Please update to the latest client version.\n",
      "ERROR - 2024-04-26T15:41:07Z - Client version 0.10.1 is not compatible with current backend service. Please update to the latest client version.\n",
      "INFO - 2024-04-26T15:41:08Z - Selected dataset version is \"202311\"\n",
      "INFO - 2024-04-26T15:41:08Z - Downloading using service original-files...\n"
     ]
    },
    {
     "name": "stderr",
     "output_type": "stream",
     "text": [
      "100%|██████████| 1/1 [00:13<00:00, 13.31s/it]\n"
     ]
    },
    {
     "name": "stdout",
     "output_type": "stream",
     "text": [
      "ERROR - 2024-04-26T15:41:26Z - Client version 0.10.1 is not compatible with current backend service. Please update to the latest client version.\n",
      "ERROR - 2024-04-26T15:41:26Z - Client version 0.10.1 is not compatible with current backend service. Please update to the latest client version.\n",
      "ERROR - 2024-04-26T15:41:26Z - Client version 0.10.1 is not compatible with current backend service. Please update to the latest client version.\n",
      "INFO - 2024-04-26T15:41:26Z - Selected dataset version is \"202311\"\n",
      "INFO - 2024-04-26T15:41:26Z - Downloading using service original-files...\n"
     ]
    },
    {
     "name": "stderr",
     "output_type": "stream",
     "text": [
      "100%|██████████| 1/1 [00:13<00:00, 13.41s/it]\n"
     ]
    },
    {
     "name": "stdout",
     "output_type": "stream",
     "text": [
      "ERROR - 2024-04-26T15:41:45Z - Client version 0.10.1 is not compatible with current backend service. Please update to the latest client version.\n",
      "ERROR - 2024-04-26T15:41:45Z - Client version 0.10.1 is not compatible with current backend service. Please update to the latest client version.\n",
      "ERROR - 2024-04-26T15:41:45Z - Client version 0.10.1 is not compatible with current backend service. Please update to the latest client version.\n",
      "INFO - 2024-04-26T15:41:45Z - Selected dataset version is \"202311\"\n",
      "INFO - 2024-04-26T15:41:45Z - Downloading using service original-files...\n"
     ]
    },
    {
     "name": "stderr",
     "output_type": "stream",
     "text": [
      "100%|██████████| 1/1 [00:13<00:00, 13.68s/it]\n"
     ]
    },
    {
     "name": "stdout",
     "output_type": "stream",
     "text": [
      "ERROR - 2024-04-26T15:42:04Z - Client version 0.10.1 is not compatible with current backend service. Please update to the latest client version.\n",
      "ERROR - 2024-04-26T15:42:04Z - Client version 0.10.1 is not compatible with current backend service. Please update to the latest client version.\n",
      "ERROR - 2024-04-26T15:42:04Z - Client version 0.10.1 is not compatible with current backend service. Please update to the latest client version.\n",
      "INFO - 2024-04-26T15:42:04Z - Selected dataset version is \"202311\"\n",
      "INFO - 2024-04-26T15:42:04Z - Downloading using service original-files...\n"
     ]
    },
    {
     "name": "stderr",
     "output_type": "stream",
     "text": [
      "100%|██████████| 1/1 [00:13<00:00, 13.32s/it]\n"
     ]
    },
    {
     "name": "stdout",
     "output_type": "stream",
     "text": [
      "ERROR - 2024-04-26T15:42:23Z - Client version 0.10.1 is not compatible with current backend service. Please update to the latest client version.\n",
      "ERROR - 2024-04-26T15:42:23Z - Client version 0.10.1 is not compatible with current backend service. Please update to the latest client version.\n",
      "ERROR - 2024-04-26T15:42:23Z - Client version 0.10.1 is not compatible with current backend service. Please update to the latest client version.\n",
      "INFO - 2024-04-26T15:42:23Z - Selected dataset version is \"202311\"\n",
      "INFO - 2024-04-26T15:42:23Z - Downloading using service original-files...\n"
     ]
    },
    {
     "name": "stderr",
     "output_type": "stream",
     "text": [
      "100%|██████████| 1/1 [00:13<00:00, 13.54s/it]\n"
     ]
    },
    {
     "name": "stdout",
     "output_type": "stream",
     "text": [
      "ERROR - 2024-04-26T15:42:42Z - Client version 0.10.1 is not compatible with current backend service. Please update to the latest client version.\n",
      "ERROR - 2024-04-26T15:42:42Z - Client version 0.10.1 is not compatible with current backend service. Please update to the latest client version.\n",
      "ERROR - 2024-04-26T15:42:42Z - Client version 0.10.1 is not compatible with current backend service. Please update to the latest client version.\n",
      "INFO - 2024-04-26T15:42:42Z - Selected dataset version is \"202311\"\n",
      "INFO - 2024-04-26T15:42:42Z - Downloading using service original-files...\n"
     ]
    },
    {
     "name": "stderr",
     "output_type": "stream",
     "text": [
      "100%|██████████| 1/1 [00:13<00:00, 13.73s/it]\n"
     ]
    },
    {
     "name": "stdout",
     "output_type": "stream",
     "text": [
      "ERROR - 2024-04-26T15:43:01Z - Client version 0.10.1 is not compatible with current backend service. Please update to the latest client version.\n",
      "ERROR - 2024-04-26T15:43:01Z - Client version 0.10.1 is not compatible with current backend service. Please update to the latest client version.\n",
      "ERROR - 2024-04-26T15:43:01Z - Client version 0.10.1 is not compatible with current backend service. Please update to the latest client version.\n",
      "INFO - 2024-04-26T15:43:01Z - Selected dataset version is \"202311\"\n",
      "INFO - 2024-04-26T15:43:01Z - Downloading using service original-files...\n"
     ]
    },
    {
     "name": "stderr",
     "output_type": "stream",
     "text": [
      "100%|██████████| 1/1 [00:13<00:00, 13.46s/it]\n"
     ]
    },
    {
     "name": "stdout",
     "output_type": "stream",
     "text": [
      "ERROR - 2024-04-26T15:43:20Z - Client version 0.10.1 is not compatible with current backend service. Please update to the latest client version.\n",
      "ERROR - 2024-04-26T15:43:20Z - Client version 0.10.1 is not compatible with current backend service. Please update to the latest client version.\n",
      "ERROR - 2024-04-26T15:43:20Z - Client version 0.10.1 is not compatible with current backend service. Please update to the latest client version.\n",
      "INFO - 2024-04-26T15:43:20Z - Selected dataset version is \"202311\"\n",
      "INFO - 2024-04-26T15:43:20Z - Downloading using service original-files...\n"
     ]
    },
    {
     "name": "stderr",
     "output_type": "stream",
     "text": [
      "100%|██████████| 1/1 [00:13<00:00, 13.62s/it]\n"
     ]
    },
    {
     "name": "stdout",
     "output_type": "stream",
     "text": [
      "ERROR - 2024-04-26T15:43:38Z - Client version 0.10.1 is not compatible with current backend service. Please update to the latest client version.\n",
      "ERROR - 2024-04-26T15:43:38Z - Client version 0.10.1 is not compatible with current backend service. Please update to the latest client version.\n",
      "ERROR - 2024-04-26T15:43:38Z - Client version 0.10.1 is not compatible with current backend service. Please update to the latest client version.\n",
      "INFO - 2024-04-26T15:43:39Z - Selected dataset version is \"202311\"\n",
      "INFO - 2024-04-26T15:43:39Z - Downloading using service original-files...\n"
     ]
    },
    {
     "name": "stderr",
     "output_type": "stream",
     "text": [
      "100%|██████████| 1/1 [00:13<00:00, 13.44s/it]\n"
     ]
    },
    {
     "name": "stdout",
     "output_type": "stream",
     "text": [
      "ERROR - 2024-04-26T15:43:57Z - Client version 0.10.1 is not compatible with current backend service. Please update to the latest client version.\n",
      "ERROR - 2024-04-26T15:43:57Z - Client version 0.10.1 is not compatible with current backend service. Please update to the latest client version.\n",
      "ERROR - 2024-04-26T15:43:57Z - Client version 0.10.1 is not compatible with current backend service. Please update to the latest client version.\n",
      "INFO - 2024-04-26T15:43:57Z - Selected dataset version is \"202311\"\n",
      "INFO - 2024-04-26T15:43:57Z - Downloading using service original-files...\n"
     ]
    },
    {
     "name": "stderr",
     "output_type": "stream",
     "text": [
      "100%|██████████| 1/1 [00:13<00:00, 13.41s/it]\n"
     ]
    },
    {
     "name": "stdout",
     "output_type": "stream",
     "text": [
      "ERROR - 2024-04-26T15:44:16Z - Client version 0.10.1 is not compatible with current backend service. Please update to the latest client version.\n",
      "ERROR - 2024-04-26T15:44:16Z - Client version 0.10.1 is not compatible with current backend service. Please update to the latest client version.\n",
      "ERROR - 2024-04-26T15:44:16Z - Client version 0.10.1 is not compatible with current backend service. Please update to the latest client version.\n",
      "INFO - 2024-04-26T15:44:16Z - Selected dataset version is \"202311\"\n",
      "INFO - 2024-04-26T15:44:16Z - Downloading using service original-files...\n"
     ]
    },
    {
     "name": "stderr",
     "output_type": "stream",
     "text": [
      "100%|██████████| 1/1 [00:13<00:00, 13.73s/it]\n"
     ]
    },
    {
     "name": "stdout",
     "output_type": "stream",
     "text": [
      "ERROR - 2024-04-26T15:44:35Z - Client version 0.10.1 is not compatible with current backend service. Please update to the latest client version.\n",
      "ERROR - 2024-04-26T15:44:35Z - Client version 0.10.1 is not compatible with current backend service. Please update to the latest client version.\n",
      "ERROR - 2024-04-26T15:44:35Z - Client version 0.10.1 is not compatible with current backend service. Please update to the latest client version.\n",
      "INFO - 2024-04-26T15:44:35Z - Selected dataset version is \"202311\"\n",
      "INFO - 2024-04-26T15:44:35Z - Downloading using service original-files...\n"
     ]
    },
    {
     "name": "stderr",
     "output_type": "stream",
     "text": [
      "100%|██████████| 1/1 [00:13<00:00, 13.38s/it]\n"
     ]
    },
    {
     "name": "stdout",
     "output_type": "stream",
     "text": [
      "ERROR - 2024-04-26T15:44:54Z - Client version 0.10.1 is not compatible with current backend service. Please update to the latest client version.\n",
      "ERROR - 2024-04-26T15:44:54Z - Client version 0.10.1 is not compatible with current backend service. Please update to the latest client version.\n",
      "ERROR - 2024-04-26T15:44:54Z - Client version 0.10.1 is not compatible with current backend service. Please update to the latest client version.\n",
      "INFO - 2024-04-26T15:44:54Z - Selected dataset version is \"202311\"\n",
      "INFO - 2024-04-26T15:44:54Z - Downloading using service original-files...\n"
     ]
    },
    {
     "name": "stderr",
     "output_type": "stream",
     "text": [
      "100%|██████████| 1/1 [00:13<00:00, 13.61s/it]\n"
     ]
    },
    {
     "name": "stdout",
     "output_type": "stream",
     "text": [
      "ERROR - 2024-04-26T15:45:13Z - Client version 0.10.1 is not compatible with current backend service. Please update to the latest client version.\n",
      "ERROR - 2024-04-26T15:45:13Z - Client version 0.10.1 is not compatible with current backend service. Please update to the latest client version.\n",
      "ERROR - 2024-04-26T15:45:13Z - Client version 0.10.1 is not compatible with current backend service. Please update to the latest client version.\n",
      "INFO - 2024-04-26T15:45:13Z - Selected dataset version is \"202311\"\n",
      "INFO - 2024-04-26T15:45:13Z - Downloading using service original-files...\n"
     ]
    },
    {
     "name": "stderr",
     "output_type": "stream",
     "text": [
      "100%|██████████| 1/1 [00:13<00:00, 13.43s/it]\n"
     ]
    },
    {
     "name": "stdout",
     "output_type": "stream",
     "text": [
      "ERROR - 2024-04-26T15:45:31Z - Client version 0.10.1 is not compatible with current backend service. Please update to the latest client version.\n",
      "ERROR - 2024-04-26T15:45:31Z - Client version 0.10.1 is not compatible with current backend service. Please update to the latest client version.\n",
      "ERROR - 2024-04-26T15:45:31Z - Client version 0.10.1 is not compatible with current backend service. Please update to the latest client version.\n",
      "INFO - 2024-04-26T15:45:32Z - Selected dataset version is \"202311\"\n",
      "INFO - 2024-04-26T15:45:32Z - Downloading using service original-files...\n"
     ]
    },
    {
     "name": "stderr",
     "output_type": "stream",
     "text": [
      "100%|██████████| 1/1 [00:13<00:00, 13.42s/it]\n"
     ]
    },
    {
     "name": "stdout",
     "output_type": "stream",
     "text": [
      "ERROR - 2024-04-26T15:45:50Z - Client version 0.10.1 is not compatible with current backend service. Please update to the latest client version.\n",
      "ERROR - 2024-04-26T15:45:50Z - Client version 0.10.1 is not compatible with current backend service. Please update to the latest client version.\n",
      "ERROR - 2024-04-26T15:45:50Z - Client version 0.10.1 is not compatible with current backend service. Please update to the latest client version.\n",
      "INFO - 2024-04-26T15:45:51Z - Selected dataset version is \"202311\"\n",
      "INFO - 2024-04-26T15:45:51Z - Downloading using service original-files...\n"
     ]
    },
    {
     "name": "stderr",
     "output_type": "stream",
     "text": [
      "100%|██████████| 1/1 [00:13<00:00, 13.47s/it]\n"
     ]
    },
    {
     "name": "stdout",
     "output_type": "stream",
     "text": [
      "ERROR - 2024-04-26T15:46:09Z - Client version 0.10.1 is not compatible with current backend service. Please update to the latest client version.\n",
      "ERROR - 2024-04-26T15:46:09Z - Client version 0.10.1 is not compatible with current backend service. Please update to the latest client version.\n",
      "ERROR - 2024-04-26T15:46:09Z - Client version 0.10.1 is not compatible with current backend service. Please update to the latest client version.\n",
      "INFO - 2024-04-26T15:46:09Z - Selected dataset version is \"202311\"\n",
      "INFO - 2024-04-26T15:46:09Z - Downloading using service original-files...\n"
     ]
    },
    {
     "name": "stderr",
     "output_type": "stream",
     "text": [
      "100%|██████████| 1/1 [00:13<00:00, 13.54s/it]\n"
     ]
    },
    {
     "name": "stdout",
     "output_type": "stream",
     "text": [
      "ERROR - 2024-04-26T15:46:28Z - Client version 0.10.1 is not compatible with current backend service. Please update to the latest client version.\n",
      "ERROR - 2024-04-26T15:46:28Z - Client version 0.10.1 is not compatible with current backend service. Please update to the latest client version.\n",
      "ERROR - 2024-04-26T15:46:28Z - Client version 0.10.1 is not compatible with current backend service. Please update to the latest client version.\n",
      "INFO - 2024-04-26T15:46:28Z - Selected dataset version is \"202311\"\n",
      "INFO - 2024-04-26T15:46:28Z - Downloading using service original-files...\n"
     ]
    },
    {
     "name": "stderr",
     "output_type": "stream",
     "text": [
      "100%|██████████| 1/1 [00:13<00:00, 13.42s/it]\n"
     ]
    },
    {
     "name": "stdout",
     "output_type": "stream",
     "text": [
      "ERROR - 2024-04-26T15:46:47Z - Client version 0.10.1 is not compatible with current backend service. Please update to the latest client version.\n",
      "ERROR - 2024-04-26T15:46:47Z - Client version 0.10.1 is not compatible with current backend service. Please update to the latest client version.\n",
      "ERROR - 2024-04-26T15:46:47Z - Client version 0.10.1 is not compatible with current backend service. Please update to the latest client version.\n",
      "INFO - 2024-04-26T15:46:47Z - Selected dataset version is \"202311\"\n",
      "INFO - 2024-04-26T15:46:47Z - Downloading using service original-files...\n"
     ]
    },
    {
     "name": "stderr",
     "output_type": "stream",
     "text": [
      "100%|██████████| 1/1 [00:13<00:00, 13.30s/it]\n"
     ]
    },
    {
     "name": "stdout",
     "output_type": "stream",
     "text": [
      "ERROR - 2024-04-26T15:47:05Z - Client version 0.10.1 is not compatible with current backend service. Please update to the latest client version.\n",
      "ERROR - 2024-04-26T15:47:05Z - Client version 0.10.1 is not compatible with current backend service. Please update to the latest client version.\n",
      "ERROR - 2024-04-26T15:47:05Z - Client version 0.10.1 is not compatible with current backend service. Please update to the latest client version.\n",
      "INFO - 2024-04-26T15:47:06Z - Selected dataset version is \"202311\"\n",
      "INFO - 2024-04-26T15:47:06Z - Downloading using service original-files...\n"
     ]
    },
    {
     "name": "stderr",
     "output_type": "stream",
     "text": [
      "100%|██████████| 1/1 [00:13<00:00, 13.52s/it]\n"
     ]
    },
    {
     "name": "stdout",
     "output_type": "stream",
     "text": [
      "ERROR - 2024-04-26T15:47:24Z - Client version 0.10.1 is not compatible with current backend service. Please update to the latest client version.\n",
      "ERROR - 2024-04-26T15:47:24Z - Client version 0.10.1 is not compatible with current backend service. Please update to the latest client version.\n",
      "ERROR - 2024-04-26T15:47:24Z - Client version 0.10.1 is not compatible with current backend service. Please update to the latest client version.\n",
      "INFO - 2024-04-26T15:47:25Z - Selected dataset version is \"202311\"\n",
      "INFO - 2024-04-26T15:47:25Z - Downloading using service original-files...\n"
     ]
    },
    {
     "name": "stderr",
     "output_type": "stream",
     "text": [
      "100%|██████████| 1/1 [00:13<00:00, 13.37s/it]\n"
     ]
    },
    {
     "name": "stdout",
     "output_type": "stream",
     "text": [
      "ERROR - 2024-04-26T15:47:43Z - Client version 0.10.1 is not compatible with current backend service. Please update to the latest client version.\n",
      "ERROR - 2024-04-26T15:47:43Z - Client version 0.10.1 is not compatible with current backend service. Please update to the latest client version.\n",
      "ERROR - 2024-04-26T15:47:43Z - Client version 0.10.1 is not compatible with current backend service. Please update to the latest client version.\n",
      "INFO - 2024-04-26T15:47:44Z - Selected dataset version is \"202311\"\n",
      "INFO - 2024-04-26T15:47:44Z - Downloading using service original-files...\n"
     ]
    },
    {
     "name": "stderr",
     "output_type": "stream",
     "text": [
      "100%|██████████| 1/1 [00:13<00:00, 13.39s/it]\n"
     ]
    },
    {
     "name": "stdout",
     "output_type": "stream",
     "text": [
      "ERROR - 2024-04-26T15:48:02Z - Client version 0.10.1 is not compatible with current backend service. Please update to the latest client version.\n",
      "ERROR - 2024-04-26T15:48:02Z - Client version 0.10.1 is not compatible with current backend service. Please update to the latest client version.\n",
      "ERROR - 2024-04-26T15:48:02Z - Client version 0.10.1 is not compatible with current backend service. Please update to the latest client version.\n",
      "INFO - 2024-04-26T15:48:02Z - Selected dataset version is \"202311\"\n",
      "INFO - 2024-04-26T15:48:02Z - Downloading using service original-files...\n"
     ]
    },
    {
     "name": "stderr",
     "output_type": "stream",
     "text": [
      "100%|██████████| 1/1 [00:13<00:00, 13.46s/it]\n"
     ]
    },
    {
     "name": "stdout",
     "output_type": "stream",
     "text": [
      "ERROR - 2024-04-26T15:48:21Z - Client version 0.10.1 is not compatible with current backend service. Please update to the latest client version.\n",
      "ERROR - 2024-04-26T15:48:21Z - Client version 0.10.1 is not compatible with current backend service. Please update to the latest client version.\n",
      "ERROR - 2024-04-26T15:48:21Z - Client version 0.10.1 is not compatible with current backend service. Please update to the latest client version.\n",
      "INFO - 2024-04-26T15:48:21Z - Selected dataset version is \"202311\"\n",
      "INFO - 2024-04-26T15:48:21Z - Downloading using service original-files...\n"
     ]
    },
    {
     "name": "stderr",
     "output_type": "stream",
     "text": [
      "100%|██████████| 1/1 [00:13<00:00, 13.39s/it]\n"
     ]
    },
    {
     "name": "stdout",
     "output_type": "stream",
     "text": [
      "ERROR - 2024-04-26T15:48:40Z - Client version 0.10.1 is not compatible with current backend service. Please update to the latest client version.\n",
      "ERROR - 2024-04-26T15:48:40Z - Client version 0.10.1 is not compatible with current backend service. Please update to the latest client version.\n",
      "ERROR - 2024-04-26T15:48:40Z - Client version 0.10.1 is not compatible with current backend service. Please update to the latest client version.\n",
      "INFO - 2024-04-26T15:48:40Z - Selected dataset version is \"202311\"\n",
      "INFO - 2024-04-26T15:48:40Z - Downloading using service original-files...\n"
     ]
    },
    {
     "name": "stderr",
     "output_type": "stream",
     "text": [
      "100%|██████████| 1/1 [00:13<00:00, 13.37s/it]\n"
     ]
    },
    {
     "name": "stdout",
     "output_type": "stream",
     "text": [
      "ERROR - 2024-04-26T15:48:58Z - Client version 0.10.1 is not compatible with current backend service. Please update to the latest client version.\n",
      "ERROR - 2024-04-26T15:48:58Z - Client version 0.10.1 is not compatible with current backend service. Please update to the latest client version.\n",
      "ERROR - 2024-04-26T15:48:58Z - Client version 0.10.1 is not compatible with current backend service. Please update to the latest client version.\n",
      "INFO - 2024-04-26T15:48:59Z - Selected dataset version is \"202311\"\n",
      "INFO - 2024-04-26T15:48:59Z - Downloading using service original-files...\n"
     ]
    },
    {
     "name": "stderr",
     "output_type": "stream",
     "text": [
      "100%|██████████| 1/1 [00:13<00:00, 13.61s/it]\n"
     ]
    },
    {
     "name": "stdout",
     "output_type": "stream",
     "text": [
      "ERROR - 2024-04-26T15:49:18Z - Client version 0.10.1 is not compatible with current backend service. Please update to the latest client version.\n",
      "ERROR - 2024-04-26T15:49:18Z - Client version 0.10.1 is not compatible with current backend service. Please update to the latest client version.\n",
      "ERROR - 2024-04-26T15:49:18Z - Client version 0.10.1 is not compatible with current backend service. Please update to the latest client version.\n",
      "INFO - 2024-04-26T15:49:18Z - Selected dataset version is \"202311\"\n",
      "INFO - 2024-04-26T15:49:18Z - Downloading using service original-files...\n"
     ]
    },
    {
     "name": "stderr",
     "output_type": "stream",
     "text": [
      "100%|██████████| 1/1 [00:13<00:00, 13.63s/it]\n"
     ]
    },
    {
     "name": "stdout",
     "output_type": "stream",
     "text": [
      "ERROR - 2024-04-26T15:49:37Z - Client version 0.10.1 is not compatible with current backend service. Please update to the latest client version.\n",
      "ERROR - 2024-04-26T15:49:37Z - Client version 0.10.1 is not compatible with current backend service. Please update to the latest client version.\n",
      "ERROR - 2024-04-26T15:49:37Z - Client version 0.10.1 is not compatible with current backend service. Please update to the latest client version.\n",
      "INFO - 2024-04-26T15:49:37Z - Selected dataset version is \"202311\"\n",
      "INFO - 2024-04-26T15:49:37Z - Downloading using service original-files...\n"
     ]
    },
    {
     "name": "stderr",
     "output_type": "stream",
     "text": [
      "100%|██████████| 1/1 [00:13<00:00, 13.35s/it]\n"
     ]
    },
    {
     "name": "stdout",
     "output_type": "stream",
     "text": [
      "ERROR - 2024-04-26T15:49:55Z - Client version 0.10.1 is not compatible with current backend service. Please update to the latest client version.\n",
      "ERROR - 2024-04-26T15:49:55Z - Client version 0.10.1 is not compatible with current backend service. Please update to the latest client version.\n",
      "ERROR - 2024-04-26T15:49:55Z - Client version 0.10.1 is not compatible with current backend service. Please update to the latest client version.\n",
      "INFO - 2024-04-26T15:49:56Z - Selected dataset version is \"202311\"\n",
      "INFO - 2024-04-26T15:49:56Z - Downloading using service original-files...\n"
     ]
    },
    {
     "name": "stderr",
     "output_type": "stream",
     "text": [
      "100%|██████████| 1/1 [00:13<00:00, 13.38s/it]\n"
     ]
    },
    {
     "name": "stdout",
     "output_type": "stream",
     "text": [
      "ERROR - 2024-04-26T15:50:14Z - Client version 0.10.1 is not compatible with current backend service. Please update to the latest client version.\n",
      "ERROR - 2024-04-26T15:50:14Z - Client version 0.10.1 is not compatible with current backend service. Please update to the latest client version.\n",
      "ERROR - 2024-04-26T15:50:14Z - Client version 0.10.1 is not compatible with current backend service. Please update to the latest client version.\n",
      "INFO - 2024-04-26T15:50:14Z - Selected dataset version is \"202311\"\n",
      "INFO - 2024-04-26T15:50:14Z - Downloading using service original-files...\n"
     ]
    },
    {
     "name": "stderr",
     "output_type": "stream",
     "text": [
      "100%|██████████| 1/1 [00:13<00:00, 13.36s/it]\n"
     ]
    },
    {
     "name": "stdout",
     "output_type": "stream",
     "text": [
      "ERROR - 2024-04-26T15:50:33Z - Client version 0.10.1 is not compatible with current backend service. Please update to the latest client version.\n",
      "ERROR - 2024-04-26T15:50:33Z - Client version 0.10.1 is not compatible with current backend service. Please update to the latest client version.\n",
      "ERROR - 2024-04-26T15:50:33Z - Client version 0.10.1 is not compatible with current backend service. Please update to the latest client version.\n",
      "INFO - 2024-04-26T15:50:33Z - Selected dataset version is \"202311\"\n",
      "INFO - 2024-04-26T15:50:33Z - Downloading using service original-files...\n"
     ]
    },
    {
     "name": "stderr",
     "output_type": "stream",
     "text": [
      "100%|██████████| 1/1 [00:13<00:00, 13.53s/it]\n"
     ]
    },
    {
     "name": "stdout",
     "output_type": "stream",
     "text": [
      "ERROR - 2024-04-26T15:50:51Z - Client version 0.10.1 is not compatible with current backend service. Please update to the latest client version.\n",
      "ERROR - 2024-04-26T15:50:51Z - Client version 0.10.1 is not compatible with current backend service. Please update to the latest client version.\n",
      "ERROR - 2024-04-26T15:50:51Z - Client version 0.10.1 is not compatible with current backend service. Please update to the latest client version.\n",
      "INFO - 2024-04-26T15:50:52Z - Selected dataset version is \"202311\"\n",
      "INFO - 2024-04-26T15:50:52Z - Downloading using service original-files...\n"
     ]
    },
    {
     "name": "stderr",
     "output_type": "stream",
     "text": [
      "100%|██████████| 1/1 [00:13<00:00, 13.36s/it]\n"
     ]
    },
    {
     "name": "stdout",
     "output_type": "stream",
     "text": [
      "ERROR - 2024-04-26T15:51:10Z - Client version 0.10.1 is not compatible with current backend service. Please update to the latest client version.\n",
      "ERROR - 2024-04-26T15:51:10Z - Client version 0.10.1 is not compatible with current backend service. Please update to the latest client version.\n",
      "ERROR - 2024-04-26T15:51:10Z - Client version 0.10.1 is not compatible with current backend service. Please update to the latest client version.\n",
      "INFO - 2024-04-26T15:51:10Z - Selected dataset version is \"202311\"\n",
      "INFO - 2024-04-26T15:51:10Z - Downloading using service original-files...\n"
     ]
    },
    {
     "name": "stderr",
     "output_type": "stream",
     "text": [
      "100%|██████████| 1/1 [00:13<00:00, 13.58s/it]\n"
     ]
    },
    {
     "name": "stdout",
     "output_type": "stream",
     "text": [
      "ERROR - 2024-04-26T15:51:29Z - Client version 0.10.1 is not compatible with current backend service. Please update to the latest client version.\n",
      "ERROR - 2024-04-26T15:51:29Z - Client version 0.10.1 is not compatible with current backend service. Please update to the latest client version.\n",
      "ERROR - 2024-04-26T15:51:29Z - Client version 0.10.1 is not compatible with current backend service. Please update to the latest client version.\n",
      "INFO - 2024-04-26T15:51:30Z - Selected dataset version is \"202311\"\n",
      "INFO - 2024-04-26T15:51:30Z - Downloading using service original-files...\n"
     ]
    },
    {
     "name": "stderr",
     "output_type": "stream",
     "text": [
      "100%|██████████| 1/1 [00:13<00:00, 13.67s/it]\n"
     ]
    },
    {
     "name": "stdout",
     "output_type": "stream",
     "text": [
      "ERROR - 2024-04-26T15:51:48Z - Client version 0.10.1 is not compatible with current backend service. Please update to the latest client version.\n",
      "ERROR - 2024-04-26T15:51:48Z - Client version 0.10.1 is not compatible with current backend service. Please update to the latest client version.\n",
      "ERROR - 2024-04-26T15:51:48Z - Client version 0.10.1 is not compatible with current backend service. Please update to the latest client version.\n",
      "INFO - 2024-04-26T15:51:49Z - Selected dataset version is \"202311\"\n",
      "INFO - 2024-04-26T15:51:49Z - Downloading using service original-files...\n"
     ]
    },
    {
     "name": "stderr",
     "output_type": "stream",
     "text": [
      "100%|██████████| 1/1 [00:13<00:00, 13.41s/it]\n"
     ]
    },
    {
     "name": "stdout",
     "output_type": "stream",
     "text": [
      "ERROR - 2024-04-26T15:52:07Z - Client version 0.10.1 is not compatible with current backend service. Please update to the latest client version.\n",
      "ERROR - 2024-04-26T15:52:07Z - Client version 0.10.1 is not compatible with current backend service. Please update to the latest client version.\n",
      "ERROR - 2024-04-26T15:52:07Z - Client version 0.10.1 is not compatible with current backend service. Please update to the latest client version.\n",
      "INFO - 2024-04-26T15:52:08Z - Selected dataset version is \"202311\"\n",
      "INFO - 2024-04-26T15:52:08Z - Downloading using service original-files...\n"
     ]
    },
    {
     "name": "stderr",
     "output_type": "stream",
     "text": [
      "100%|██████████| 1/1 [00:13<00:00, 13.57s/it]\n"
     ]
    },
    {
     "name": "stdout",
     "output_type": "stream",
     "text": [
      "ERROR - 2024-04-26T15:52:26Z - Client version 0.10.1 is not compatible with current backend service. Please update to the latest client version.\n",
      "ERROR - 2024-04-26T15:52:26Z - Client version 0.10.1 is not compatible with current backend service. Please update to the latest client version.\n",
      "ERROR - 2024-04-26T15:52:26Z - Client version 0.10.1 is not compatible with current backend service. Please update to the latest client version.\n",
      "INFO - 2024-04-26T15:52:27Z - Selected dataset version is \"202311\"\n",
      "INFO - 2024-04-26T15:52:27Z - Downloading using service original-files...\n"
     ]
    },
    {
     "name": "stderr",
     "output_type": "stream",
     "text": [
      "100%|██████████| 1/1 [00:13<00:00, 13.87s/it]\n"
     ]
    },
    {
     "name": "stdout",
     "output_type": "stream",
     "text": [
      "ERROR - 2024-04-26T15:52:45Z - Client version 0.10.1 is not compatible with current backend service. Please update to the latest client version.\n",
      "ERROR - 2024-04-26T15:52:46Z - Client version 0.10.1 is not compatible with current backend service. Please update to the latest client version.\n",
      "ERROR - 2024-04-26T15:52:46Z - Client version 0.10.1 is not compatible with current backend service. Please update to the latest client version.\n",
      "INFO - 2024-04-26T15:52:46Z - Selected dataset version is \"202311\"\n",
      "INFO - 2024-04-26T15:52:46Z - Downloading using service original-files...\n"
     ]
    },
    {
     "name": "stderr",
     "output_type": "stream",
     "text": [
      "100%|██████████| 1/1 [00:13<00:00, 13.54s/it]\n"
     ]
    },
    {
     "name": "stdout",
     "output_type": "stream",
     "text": [
      "ERROR - 2024-04-26T15:53:05Z - Client version 0.10.1 is not compatible with current backend service. Please update to the latest client version.\n",
      "ERROR - 2024-04-26T15:53:05Z - Client version 0.10.1 is not compatible with current backend service. Please update to the latest client version.\n",
      "ERROR - 2024-04-26T15:53:05Z - Client version 0.10.1 is not compatible with current backend service. Please update to the latest client version.\n",
      "INFO - 2024-04-26T15:53:05Z - Selected dataset version is \"202311\"\n",
      "INFO - 2024-04-26T15:53:05Z - Downloading using service original-files...\n"
     ]
    },
    {
     "name": "stderr",
     "output_type": "stream",
     "text": [
      "100%|██████████| 1/1 [00:13<00:00, 13.51s/it]\n"
     ]
    },
    {
     "name": "stdout",
     "output_type": "stream",
     "text": [
      "ERROR - 2024-04-26T15:53:24Z - Client version 0.10.1 is not compatible with current backend service. Please update to the latest client version.\n",
      "ERROR - 2024-04-26T15:53:24Z - Client version 0.10.1 is not compatible with current backend service. Please update to the latest client version.\n",
      "ERROR - 2024-04-26T15:53:24Z - Client version 0.10.1 is not compatible with current backend service. Please update to the latest client version.\n",
      "INFO - 2024-04-26T15:53:24Z - Selected dataset version is \"202311\"\n",
      "INFO - 2024-04-26T15:53:24Z - Downloading using service original-files...\n"
     ]
    },
    {
     "name": "stderr",
     "output_type": "stream",
     "text": [
      "100%|██████████| 1/1 [00:13<00:00, 13.67s/it]\n"
     ]
    },
    {
     "name": "stdout",
     "output_type": "stream",
     "text": [
      "ERROR - 2024-04-26T15:53:43Z - Client version 0.10.1 is not compatible with current backend service. Please update to the latest client version.\n",
      "ERROR - 2024-04-26T15:53:43Z - Client version 0.10.1 is not compatible with current backend service. Please update to the latest client version.\n",
      "ERROR - 2024-04-26T15:53:43Z - Client version 0.10.1 is not compatible with current backend service. Please update to the latest client version.\n",
      "INFO - 2024-04-26T15:53:43Z - Selected dataset version is \"202311\"\n",
      "INFO - 2024-04-26T15:53:43Z - Downloading using service original-files...\n"
     ]
    },
    {
     "name": "stderr",
     "output_type": "stream",
     "text": [
      "100%|██████████| 1/1 [00:13<00:00, 13.53s/it]\n"
     ]
    },
    {
     "name": "stdout",
     "output_type": "stream",
     "text": [
      "ERROR - 2024-04-26T15:54:02Z - Client version 0.10.1 is not compatible with current backend service. Please update to the latest client version.\n",
      "ERROR - 2024-04-26T15:54:02Z - Client version 0.10.1 is not compatible with current backend service. Please update to the latest client version.\n",
      "ERROR - 2024-04-26T15:54:02Z - Client version 0.10.1 is not compatible with current backend service. Please update to the latest client version.\n",
      "INFO - 2024-04-26T15:54:02Z - Selected dataset version is \"202311\"\n",
      "INFO - 2024-04-26T15:54:02Z - Downloading using service original-files...\n"
     ]
    },
    {
     "name": "stderr",
     "output_type": "stream",
     "text": [
      "100%|██████████| 1/1 [00:13<00:00, 13.61s/it]\n"
     ]
    },
    {
     "name": "stdout",
     "output_type": "stream",
     "text": [
      "ERROR - 2024-04-26T15:54:20Z - Client version 0.10.1 is not compatible with current backend service. Please update to the latest client version.\n",
      "ERROR - 2024-04-26T15:54:20Z - Client version 0.10.1 is not compatible with current backend service. Please update to the latest client version.\n",
      "ERROR - 2024-04-26T15:54:20Z - Client version 0.10.1 is not compatible with current backend service. Please update to the latest client version.\n",
      "INFO - 2024-04-26T15:54:21Z - Selected dataset version is \"202311\"\n",
      "INFO - 2024-04-26T15:54:21Z - Downloading using service original-files...\n"
     ]
    },
    {
     "name": "stderr",
     "output_type": "stream",
     "text": [
      "100%|██████████| 1/1 [00:13<00:00, 13.60s/it]\n"
     ]
    },
    {
     "name": "stdout",
     "output_type": "stream",
     "text": [
      "ERROR - 2024-04-26T15:54:39Z - Client version 0.10.1 is not compatible with current backend service. Please update to the latest client version.\n",
      "ERROR - 2024-04-26T15:54:39Z - Client version 0.10.1 is not compatible with current backend service. Please update to the latest client version.\n",
      "ERROR - 2024-04-26T15:54:39Z - Client version 0.10.1 is not compatible with current backend service. Please update to the latest client version.\n",
      "INFO - 2024-04-26T15:54:40Z - Selected dataset version is \"202311\"\n",
      "INFO - 2024-04-26T15:54:40Z - Downloading using service original-files...\n"
     ]
    },
    {
     "name": "stderr",
     "output_type": "stream",
     "text": [
      "100%|██████████| 1/1 [00:13<00:00, 13.43s/it]\n"
     ]
    },
    {
     "name": "stdout",
     "output_type": "stream",
     "text": [
      "ERROR - 2024-04-26T15:54:58Z - Client version 0.10.1 is not compatible with current backend service. Please update to the latest client version.\n",
      "ERROR - 2024-04-26T15:54:58Z - Client version 0.10.1 is not compatible with current backend service. Please update to the latest client version.\n",
      "ERROR - 2024-04-26T15:54:58Z - Client version 0.10.1 is not compatible with current backend service. Please update to the latest client version.\n",
      "INFO - 2024-04-26T15:54:59Z - Selected dataset version is \"202311\"\n",
      "INFO - 2024-04-26T15:54:59Z - Downloading using service original-files...\n"
     ]
    },
    {
     "name": "stderr",
     "output_type": "stream",
     "text": [
      "100%|██████████| 1/1 [00:13<00:00, 13.56s/it]\n"
     ]
    },
    {
     "name": "stdout",
     "output_type": "stream",
     "text": [
      "ERROR - 2024-04-26T15:55:17Z - Client version 0.10.1 is not compatible with current backend service. Please update to the latest client version.\n",
      "ERROR - 2024-04-26T15:55:17Z - Client version 0.10.1 is not compatible with current backend service. Please update to the latest client version.\n",
      "ERROR - 2024-04-26T15:55:17Z - Client version 0.10.1 is not compatible with current backend service. Please update to the latest client version.\n",
      "INFO - 2024-04-26T15:55:18Z - Selected dataset version is \"202311\"\n",
      "INFO - 2024-04-26T15:55:18Z - Downloading using service original-files...\n"
     ]
    },
    {
     "name": "stderr",
     "output_type": "stream",
     "text": [
      "100%|██████████| 1/1 [00:13<00:00, 13.39s/it]\n"
     ]
    },
    {
     "name": "stdout",
     "output_type": "stream",
     "text": [
      "ERROR - 2024-04-26T15:55:36Z - Client version 0.10.1 is not compatible with current backend service. Please update to the latest client version.\n",
      "ERROR - 2024-04-26T15:55:36Z - Client version 0.10.1 is not compatible with current backend service. Please update to the latest client version.\n",
      "ERROR - 2024-04-26T15:55:36Z - Client version 0.10.1 is not compatible with current backend service. Please update to the latest client version.\n",
      "INFO - 2024-04-26T15:55:36Z - Selected dataset version is \"202311\"\n",
      "INFO - 2024-04-26T15:55:36Z - Downloading using service original-files...\n"
     ]
    },
    {
     "name": "stderr",
     "output_type": "stream",
     "text": [
      "100%|██████████| 1/1 [00:13<00:00, 13.39s/it]\n"
     ]
    },
    {
     "name": "stdout",
     "output_type": "stream",
     "text": [
      "ERROR - 2024-04-26T15:55:55Z - Client version 0.10.1 is not compatible with current backend service. Please update to the latest client version.\n",
      "ERROR - 2024-04-26T15:55:55Z - Client version 0.10.1 is not compatible with current backend service. Please update to the latest client version.\n",
      "ERROR - 2024-04-26T15:55:55Z - Client version 0.10.1 is not compatible with current backend service. Please update to the latest client version.\n",
      "INFO - 2024-04-26T15:55:55Z - Selected dataset version is \"202311\"\n",
      "INFO - 2024-04-26T15:55:55Z - Downloading using service original-files...\n"
     ]
    },
    {
     "name": "stderr",
     "output_type": "stream",
     "text": [
      "100%|██████████| 1/1 [00:13<00:00, 13.38s/it]\n"
     ]
    },
    {
     "name": "stdout",
     "output_type": "stream",
     "text": [
      "ERROR - 2024-04-26T15:56:13Z - Client version 0.10.1 is not compatible with current backend service. Please update to the latest client version.\n",
      "ERROR - 2024-04-26T15:56:13Z - Client version 0.10.1 is not compatible with current backend service. Please update to the latest client version.\n",
      "ERROR - 2024-04-26T15:56:13Z - Client version 0.10.1 is not compatible with current backend service. Please update to the latest client version.\n",
      "INFO - 2024-04-26T15:56:14Z - Selected dataset version is \"202311\"\n",
      "INFO - 2024-04-26T15:56:14Z - Downloading using service original-files...\n"
     ]
    },
    {
     "name": "stderr",
     "output_type": "stream",
     "text": [
      "100%|██████████| 1/1 [00:13<00:00, 13.72s/it]\n"
     ]
    },
    {
     "name": "stdout",
     "output_type": "stream",
     "text": [
      "ERROR - 2024-04-26T15:56:33Z - Client version 0.10.1 is not compatible with current backend service. Please update to the latest client version.\n",
      "ERROR - 2024-04-26T15:56:33Z - Client version 0.10.1 is not compatible with current backend service. Please update to the latest client version.\n",
      "ERROR - 2024-04-26T15:56:33Z - Client version 0.10.1 is not compatible with current backend service. Please update to the latest client version.\n",
      "INFO - 2024-04-26T15:56:33Z - Selected dataset version is \"202311\"\n",
      "INFO - 2024-04-26T15:56:33Z - Downloading using service original-files...\n"
     ]
    },
    {
     "name": "stderr",
     "output_type": "stream",
     "text": [
      "100%|██████████| 1/1 [00:13<00:00, 13.59s/it]\n"
     ]
    },
    {
     "name": "stdout",
     "output_type": "stream",
     "text": [
      "ERROR - 2024-04-26T15:56:52Z - Client version 0.10.1 is not compatible with current backend service. Please update to the latest client version.\n",
      "ERROR - 2024-04-26T15:56:52Z - Client version 0.10.1 is not compatible with current backend service. Please update to the latest client version.\n",
      "ERROR - 2024-04-26T15:56:52Z - Client version 0.10.1 is not compatible with current backend service. Please update to the latest client version.\n",
      "INFO - 2024-04-26T15:56:52Z - Selected dataset version is \"202311\"\n",
      "INFO - 2024-04-26T15:56:52Z - Downloading using service original-files...\n"
     ]
    },
    {
     "name": "stderr",
     "output_type": "stream",
     "text": [
      "100%|██████████| 1/1 [00:13<00:00, 13.58s/it]\n"
     ]
    },
    {
     "name": "stdout",
     "output_type": "stream",
     "text": [
      "ERROR - 2024-04-26T15:57:11Z - Client version 0.10.1 is not compatible with current backend service. Please update to the latest client version.\n",
      "ERROR - 2024-04-26T15:57:11Z - Client version 0.10.1 is not compatible with current backend service. Please update to the latest client version.\n",
      "ERROR - 2024-04-26T15:57:11Z - Client version 0.10.1 is not compatible with current backend service. Please update to the latest client version.\n",
      "INFO - 2024-04-26T15:57:11Z - Selected dataset version is \"202311\"\n",
      "INFO - 2024-04-26T15:57:11Z - Downloading using service original-files...\n"
     ]
    },
    {
     "name": "stderr",
     "output_type": "stream",
     "text": [
      "100%|██████████| 1/1 [00:13<00:00, 13.48s/it]\n"
     ]
    },
    {
     "name": "stdout",
     "output_type": "stream",
     "text": [
      "ERROR - 2024-04-26T15:57:29Z - Client version 0.10.1 is not compatible with current backend service. Please update to the latest client version.\n",
      "ERROR - 2024-04-26T15:57:29Z - Client version 0.10.1 is not compatible with current backend service. Please update to the latest client version.\n",
      "ERROR - 2024-04-26T15:57:29Z - Client version 0.10.1 is not compatible with current backend service. Please update to the latest client version.\n",
      "INFO - 2024-04-26T15:57:30Z - Selected dataset version is \"202311\"\n",
      "INFO - 2024-04-26T15:57:30Z - Downloading using service original-files...\n"
     ]
    },
    {
     "name": "stderr",
     "output_type": "stream",
     "text": [
      "100%|██████████| 1/1 [00:13<00:00, 13.71s/it]\n"
     ]
    },
    {
     "name": "stdout",
     "output_type": "stream",
     "text": [
      "ERROR - 2024-04-26T15:57:48Z - Client version 0.10.1 is not compatible with current backend service. Please update to the latest client version.\n",
      "ERROR - 2024-04-26T15:57:48Z - Client version 0.10.1 is not compatible with current backend service. Please update to the latest client version.\n",
      "ERROR - 2024-04-26T15:57:48Z - Client version 0.10.1 is not compatible with current backend service. Please update to the latest client version.\n",
      "INFO - 2024-04-26T15:57:49Z - Selected dataset version is \"202311\"\n",
      "INFO - 2024-04-26T15:57:49Z - Downloading using service original-files...\n"
     ]
    },
    {
     "name": "stderr",
     "output_type": "stream",
     "text": [
      "100%|██████████| 1/1 [00:13<00:00, 13.53s/it]\n"
     ]
    },
    {
     "name": "stdout",
     "output_type": "stream",
     "text": [
      "ERROR - 2024-04-26T15:58:07Z - Client version 0.10.1 is not compatible with current backend service. Please update to the latest client version.\n",
      "ERROR - 2024-04-26T15:58:07Z - Client version 0.10.1 is not compatible with current backend service. Please update to the latest client version.\n",
      "ERROR - 2024-04-26T15:58:07Z - Client version 0.10.1 is not compatible with current backend service. Please update to the latest client version.\n",
      "INFO - 2024-04-26T15:58:07Z - Selected dataset version is \"202311\"\n",
      "INFO - 2024-04-26T15:58:07Z - Downloading using service original-files...\n"
     ]
    },
    {
     "name": "stderr",
     "output_type": "stream",
     "text": [
      "100%|██████████| 1/1 [00:13<00:00, 13.47s/it]\n"
     ]
    },
    {
     "name": "stdout",
     "output_type": "stream",
     "text": [
      "ERROR - 2024-04-26T15:58:26Z - Client version 0.10.1 is not compatible with current backend service. Please update to the latest client version.\n",
      "ERROR - 2024-04-26T15:58:26Z - Client version 0.10.1 is not compatible with current backend service. Please update to the latest client version.\n",
      "ERROR - 2024-04-26T15:58:26Z - Client version 0.10.1 is not compatible with current backend service. Please update to the latest client version.\n",
      "INFO - 2024-04-26T15:58:26Z - Selected dataset version is \"202311\"\n",
      "INFO - 2024-04-26T15:58:26Z - Downloading using service original-files...\n"
     ]
    },
    {
     "name": "stderr",
     "output_type": "stream",
     "text": [
      "100%|██████████| 1/1 [00:13<00:00, 13.55s/it]\n"
     ]
    },
    {
     "name": "stdout",
     "output_type": "stream",
     "text": [
      "ERROR - 2024-04-26T15:58:45Z - Client version 0.10.1 is not compatible with current backend service. Please update to the latest client version.\n",
      "ERROR - 2024-04-26T15:58:45Z - Client version 0.10.1 is not compatible with current backend service. Please update to the latest client version.\n",
      "ERROR - 2024-04-26T15:58:45Z - Client version 0.10.1 is not compatible with current backend service. Please update to the latest client version.\n",
      "INFO - 2024-04-26T15:58:45Z - Selected dataset version is \"202311\"\n",
      "INFO - 2024-04-26T15:58:45Z - Downloading using service original-files...\n"
     ]
    },
    {
     "name": "stderr",
     "output_type": "stream",
     "text": [
      "100%|██████████| 1/1 [00:13<00:00, 13.49s/it]\n"
     ]
    },
    {
     "name": "stdout",
     "output_type": "stream",
     "text": [
      "ERROR - 2024-04-26T15:59:04Z - Client version 0.10.1 is not compatible with current backend service. Please update to the latest client version.\n",
      "ERROR - 2024-04-26T15:59:04Z - Client version 0.10.1 is not compatible with current backend service. Please update to the latest client version.\n",
      "ERROR - 2024-04-26T15:59:04Z - Client version 0.10.1 is not compatible with current backend service. Please update to the latest client version.\n",
      "INFO - 2024-04-26T15:59:04Z - Selected dataset version is \"202311\"\n",
      "INFO - 2024-04-26T15:59:04Z - Downloading using service original-files...\n"
     ]
    },
    {
     "name": "stderr",
     "output_type": "stream",
     "text": [
      "100%|██████████| 1/1 [00:13<00:00, 13.51s/it]\n"
     ]
    },
    {
     "name": "stdout",
     "output_type": "stream",
     "text": [
      "ERROR - 2024-04-26T15:59:23Z - Client version 0.10.1 is not compatible with current backend service. Please update to the latest client version.\n",
      "ERROR - 2024-04-26T15:59:23Z - Client version 0.10.1 is not compatible with current backend service. Please update to the latest client version.\n",
      "ERROR - 2024-04-26T15:59:23Z - Client version 0.10.1 is not compatible with current backend service. Please update to the latest client version.\n",
      "INFO - 2024-04-26T15:59:23Z - Selected dataset version is \"202311\"\n",
      "INFO - 2024-04-26T15:59:23Z - Downloading using service original-files...\n"
     ]
    },
    {
     "name": "stderr",
     "output_type": "stream",
     "text": [
      "100%|██████████| 1/1 [00:13<00:00, 13.64s/it]\n"
     ]
    },
    {
     "name": "stdout",
     "output_type": "stream",
     "text": [
      "ERROR - 2024-04-26T15:59:42Z - Client version 0.10.1 is not compatible with current backend service. Please update to the latest client version.\n",
      "ERROR - 2024-04-26T15:59:42Z - Client version 0.10.1 is not compatible with current backend service. Please update to the latest client version.\n",
      "ERROR - 2024-04-26T15:59:42Z - Client version 0.10.1 is not compatible with current backend service. Please update to the latest client version.\n",
      "INFO - 2024-04-26T15:59:42Z - Selected dataset version is \"202311\"\n",
      "INFO - 2024-04-26T15:59:42Z - Downloading using service original-files...\n"
     ]
    },
    {
     "name": "stderr",
     "output_type": "stream",
     "text": [
      "100%|██████████| 1/1 [00:13<00:00, 13.77s/it]\n"
     ]
    },
    {
     "name": "stdout",
     "output_type": "stream",
     "text": [
      "ERROR - 2024-04-26T16:00:01Z - Client version 0.10.1 is not compatible with current backend service. Please update to the latest client version.\n",
      "ERROR - 2024-04-26T16:00:01Z - Client version 0.10.1 is not compatible with current backend service. Please update to the latest client version.\n",
      "ERROR - 2024-04-26T16:00:01Z - Client version 0.10.1 is not compatible with current backend service. Please update to the latest client version.\n",
      "INFO - 2024-04-26T16:00:01Z - Selected dataset version is \"202311\"\n",
      "INFO - 2024-04-26T16:00:01Z - Downloading using service original-files...\n"
     ]
    },
    {
     "name": "stderr",
     "output_type": "stream",
     "text": [
      "100%|██████████| 1/1 [00:13<00:00, 13.62s/it]\n"
     ]
    },
    {
     "name": "stdout",
     "output_type": "stream",
     "text": [
      "ERROR - 2024-04-26T16:00:20Z - Client version 0.10.1 is not compatible with current backend service. Please update to the latest client version.\n",
      "ERROR - 2024-04-26T16:00:20Z - Client version 0.10.1 is not compatible with current backend service. Please update to the latest client version.\n",
      "ERROR - 2024-04-26T16:00:20Z - Client version 0.10.1 is not compatible with current backend service. Please update to the latest client version.\n",
      "INFO - 2024-04-26T16:00:20Z - Selected dataset version is \"202311\"\n",
      "INFO - 2024-04-26T16:00:20Z - Downloading using service original-files...\n"
     ]
    },
    {
     "name": "stderr",
     "output_type": "stream",
     "text": [
      "100%|██████████| 1/1 [00:13<00:00, 13.50s/it]\n"
     ]
    },
    {
     "name": "stdout",
     "output_type": "stream",
     "text": [
      "ERROR - 2024-04-26T16:00:39Z - Client version 0.10.1 is not compatible with current backend service. Please update to the latest client version.\n",
      "ERROR - 2024-04-26T16:00:39Z - Client version 0.10.1 is not compatible with current backend service. Please update to the latest client version.\n",
      "ERROR - 2024-04-26T16:00:39Z - Client version 0.10.1 is not compatible with current backend service. Please update to the latest client version.\n",
      "INFO - 2024-04-26T16:00:39Z - Selected dataset version is \"202311\"\n",
      "INFO - 2024-04-26T16:00:39Z - Downloading using service original-files...\n"
     ]
    },
    {
     "name": "stderr",
     "output_type": "stream",
     "text": [
      "100%|██████████| 1/1 [00:13<00:00, 13.47s/it]\n"
     ]
    },
    {
     "name": "stdout",
     "output_type": "stream",
     "text": [
      "ERROR - 2024-04-26T16:00:58Z - Client version 0.10.1 is not compatible with current backend service. Please update to the latest client version.\n",
      "ERROR - 2024-04-26T16:00:58Z - Client version 0.10.1 is not compatible with current backend service. Please update to the latest client version.\n",
      "ERROR - 2024-04-26T16:00:58Z - Client version 0.10.1 is not compatible with current backend service. Please update to the latest client version.\n",
      "INFO - 2024-04-26T16:00:58Z - Selected dataset version is \"202311\"\n",
      "INFO - 2024-04-26T16:00:58Z - Downloading using service original-files...\n"
     ]
    },
    {
     "name": "stderr",
     "output_type": "stream",
     "text": [
      "100%|██████████| 1/1 [00:13<00:00, 13.74s/it]\n"
     ]
    },
    {
     "name": "stdout",
     "output_type": "stream",
     "text": [
      "ERROR - 2024-04-26T16:01:17Z - Client version 0.10.1 is not compatible with current backend service. Please update to the latest client version.\n",
      "ERROR - 2024-04-26T16:01:17Z - Client version 0.10.1 is not compatible with current backend service. Please update to the latest client version.\n",
      "ERROR - 2024-04-26T16:01:17Z - Client version 0.10.1 is not compatible with current backend service. Please update to the latest client version.\n",
      "INFO - 2024-04-26T16:01:17Z - Selected dataset version is \"202311\"\n",
      "INFO - 2024-04-26T16:01:17Z - Downloading using service original-files...\n"
     ]
    },
    {
     "name": "stderr",
     "output_type": "stream",
     "text": [
      "100%|██████████| 1/1 [00:13<00:00, 13.53s/it]\n"
     ]
    },
    {
     "name": "stdout",
     "output_type": "stream",
     "text": [
      "ERROR - 2024-04-26T16:01:36Z - Client version 0.10.1 is not compatible with current backend service. Please update to the latest client version.\n",
      "ERROR - 2024-04-26T16:01:36Z - Client version 0.10.1 is not compatible with current backend service. Please update to the latest client version.\n",
      "ERROR - 2024-04-26T16:01:36Z - Client version 0.10.1 is not compatible with current backend service. Please update to the latest client version.\n",
      "INFO - 2024-04-26T16:01:36Z - Selected dataset version is \"202311\"\n",
      "INFO - 2024-04-26T16:01:36Z - Downloading using service original-files...\n"
     ]
    },
    {
     "name": "stderr",
     "output_type": "stream",
     "text": [
      "100%|██████████| 1/1 [00:13<00:00, 13.39s/it]\n"
     ]
    },
    {
     "name": "stdout",
     "output_type": "stream",
     "text": [
      "ERROR - 2024-04-26T16:01:55Z - Client version 0.10.1 is not compatible with current backend service. Please update to the latest client version.\n",
      "ERROR - 2024-04-26T16:01:55Z - Client version 0.10.1 is not compatible with current backend service. Please update to the latest client version.\n",
      "ERROR - 2024-04-26T16:01:55Z - Client version 0.10.1 is not compatible with current backend service. Please update to the latest client version.\n",
      "INFO - 2024-04-26T16:01:55Z - Selected dataset version is \"202311\"\n",
      "INFO - 2024-04-26T16:01:55Z - Downloading using service original-files...\n"
     ]
    },
    {
     "name": "stderr",
     "output_type": "stream",
     "text": [
      "100%|██████████| 1/1 [00:13<00:00, 13.42s/it]\n"
     ]
    },
    {
     "name": "stdout",
     "output_type": "stream",
     "text": [
      "ERROR - 2024-04-26T16:02:14Z - Client version 0.10.1 is not compatible with current backend service. Please update to the latest client version.\n",
      "ERROR - 2024-04-26T16:02:14Z - Client version 0.10.1 is not compatible with current backend service. Please update to the latest client version.\n",
      "ERROR - 2024-04-26T16:02:14Z - Client version 0.10.1 is not compatible with current backend service. Please update to the latest client version.\n",
      "INFO - 2024-04-26T16:02:14Z - Selected dataset version is \"202311\"\n",
      "INFO - 2024-04-26T16:02:14Z - Downloading using service original-files...\n"
     ]
    },
    {
     "name": "stderr",
     "output_type": "stream",
     "text": [
      "100%|██████████| 1/1 [00:13<00:00, 13.32s/it]\n"
     ]
    },
    {
     "name": "stdout",
     "output_type": "stream",
     "text": [
      "ERROR - 2024-04-26T16:02:32Z - Client version 0.10.1 is not compatible with current backend service. Please update to the latest client version.\n",
      "ERROR - 2024-04-26T16:02:32Z - Client version 0.10.1 is not compatible with current backend service. Please update to the latest client version.\n",
      "ERROR - 2024-04-26T16:02:32Z - Client version 0.10.1 is not compatible with current backend service. Please update to the latest client version.\n",
      "INFO - 2024-04-26T16:02:33Z - Selected dataset version is \"202311\"\n",
      "INFO - 2024-04-26T16:02:33Z - Downloading using service original-files...\n"
     ]
    },
    {
     "name": "stderr",
     "output_type": "stream",
     "text": [
      "100%|██████████| 1/1 [00:13<00:00, 13.51s/it]\n"
     ]
    },
    {
     "name": "stdout",
     "output_type": "stream",
     "text": [
      "ERROR - 2024-04-26T16:02:51Z - Client version 0.10.1 is not compatible with current backend service. Please update to the latest client version.\n",
      "ERROR - 2024-04-26T16:02:51Z - Client version 0.10.1 is not compatible with current backend service. Please update to the latest client version.\n",
      "ERROR - 2024-04-26T16:02:51Z - Client version 0.10.1 is not compatible with current backend service. Please update to the latest client version.\n",
      "INFO - 2024-04-26T16:02:52Z - Selected dataset version is \"202311\"\n",
      "INFO - 2024-04-26T16:02:52Z - Downloading using service original-files...\n"
     ]
    },
    {
     "name": "stderr",
     "output_type": "stream",
     "text": [
      "100%|██████████| 1/1 [00:13<00:00, 13.59s/it]\n"
     ]
    },
    {
     "name": "stdout",
     "output_type": "stream",
     "text": [
      "ERROR - 2024-04-26T16:03:10Z - Client version 0.10.1 is not compatible with current backend service. Please update to the latest client version.\n",
      "ERROR - 2024-04-26T16:03:10Z - Client version 0.10.1 is not compatible with current backend service. Please update to the latest client version.\n",
      "ERROR - 2024-04-26T16:03:10Z - Client version 0.10.1 is not compatible with current backend service. Please update to the latest client version.\n",
      "INFO - 2024-04-26T16:03:10Z - Selected dataset version is \"202311\"\n",
      "INFO - 2024-04-26T16:03:10Z - Downloading using service original-files...\n"
     ]
    },
    {
     "name": "stderr",
     "output_type": "stream",
     "text": [
      "100%|██████████| 1/1 [00:13<00:00, 13.33s/it]\n"
     ]
    },
    {
     "name": "stdout",
     "output_type": "stream",
     "text": [
      "ERROR - 2024-04-26T16:03:28Z - Client version 0.10.1 is not compatible with current backend service. Please update to the latest client version.\n",
      "ERROR - 2024-04-26T16:03:28Z - Client version 0.10.1 is not compatible with current backend service. Please update to the latest client version.\n",
      "ERROR - 2024-04-26T16:03:28Z - Client version 0.10.1 is not compatible with current backend service. Please update to the latest client version.\n",
      "INFO - 2024-04-26T16:03:29Z - Selected dataset version is \"202311\"\n",
      "INFO - 2024-04-26T16:03:29Z - Downloading using service original-files...\n"
     ]
    },
    {
     "name": "stderr",
     "output_type": "stream",
     "text": [
      "100%|██████████| 1/1 [00:13<00:00, 13.69s/it]\n"
     ]
    },
    {
     "name": "stdout",
     "output_type": "stream",
     "text": [
      "ERROR - 2024-04-26T16:03:48Z - Client version 0.10.1 is not compatible with current backend service. Please update to the latest client version.\n",
      "ERROR - 2024-04-26T16:03:48Z - Client version 0.10.1 is not compatible with current backend service. Please update to the latest client version.\n",
      "ERROR - 2024-04-26T16:03:48Z - Client version 0.10.1 is not compatible with current backend service. Please update to the latest client version.\n",
      "INFO - 2024-04-26T16:03:48Z - Selected dataset version is \"202311\"\n",
      "INFO - 2024-04-26T16:03:48Z - Downloading using service original-files...\n"
     ]
    },
    {
     "name": "stderr",
     "output_type": "stream",
     "text": [
      "100%|██████████| 1/1 [00:13<00:00, 13.44s/it]\n"
     ]
    },
    {
     "name": "stdout",
     "output_type": "stream",
     "text": [
      "ERROR - 2024-04-26T16:04:06Z - Client version 0.10.1 is not compatible with current backend service. Please update to the latest client version.\n",
      "ERROR - 2024-04-26T16:04:06Z - Client version 0.10.1 is not compatible with current backend service. Please update to the latest client version.\n",
      "ERROR - 2024-04-26T16:04:06Z - Client version 0.10.1 is not compatible with current backend service. Please update to the latest client version.\n",
      "INFO - 2024-04-26T16:04:07Z - Selected dataset version is \"202311\"\n",
      "INFO - 2024-04-26T16:04:07Z - Downloading using service original-files...\n"
     ]
    },
    {
     "name": "stderr",
     "output_type": "stream",
     "text": [
      "100%|██████████| 1/1 [00:13<00:00, 13.21s/it]\n"
     ]
    },
    {
     "name": "stdout",
     "output_type": "stream",
     "text": [
      "ERROR - 2024-04-26T16:04:25Z - Client version 0.10.1 is not compatible with current backend service. Please update to the latest client version.\n",
      "ERROR - 2024-04-26T16:04:25Z - Client version 0.10.1 is not compatible with current backend service. Please update to the latest client version.\n",
      "ERROR - 2024-04-26T16:04:25Z - Client version 0.10.1 is not compatible with current backend service. Please update to the latest client version.\n",
      "INFO - 2024-04-26T16:04:26Z - Selected dataset version is \"202311\"\n",
      "INFO - 2024-04-26T16:04:26Z - Downloading using service original-files...\n"
     ]
    },
    {
     "name": "stderr",
     "output_type": "stream",
     "text": [
      "100%|██████████| 1/1 [00:13<00:00, 13.70s/it]\n"
     ]
    },
    {
     "name": "stdout",
     "output_type": "stream",
     "text": [
      "ERROR - 2024-04-26T16:04:44Z - Client version 0.10.1 is not compatible with current backend service. Please update to the latest client version.\n",
      "ERROR - 2024-04-26T16:04:44Z - Client version 0.10.1 is not compatible with current backend service. Please update to the latest client version.\n",
      "ERROR - 2024-04-26T16:04:44Z - Client version 0.10.1 is not compatible with current backend service. Please update to the latest client version.\n",
      "INFO - 2024-04-26T16:04:45Z - Selected dataset version is \"202311\"\n",
      "INFO - 2024-04-26T16:04:45Z - Downloading using service original-files...\n"
     ]
    },
    {
     "name": "stderr",
     "output_type": "stream",
     "text": [
      "100%|██████████| 1/1 [00:13<00:00, 13.72s/it]\n"
     ]
    },
    {
     "name": "stdout",
     "output_type": "stream",
     "text": [
      "ERROR - 2024-04-26T16:05:03Z - Client version 0.10.1 is not compatible with current backend service. Please update to the latest client version.\n",
      "ERROR - 2024-04-26T16:05:03Z - Client version 0.10.1 is not compatible with current backend service. Please update to the latest client version.\n",
      "ERROR - 2024-04-26T16:05:03Z - Client version 0.10.1 is not compatible with current backend service. Please update to the latest client version.\n",
      "INFO - 2024-04-26T16:05:03Z - Selected dataset version is \"202311\"\n",
      "INFO - 2024-04-26T16:05:03Z - Downloading using service original-files...\n"
     ]
    },
    {
     "name": "stderr",
     "output_type": "stream",
     "text": [
      "100%|██████████| 1/1 [00:13<00:00, 13.32s/it]\n"
     ]
    },
    {
     "name": "stdout",
     "output_type": "stream",
     "text": [
      "ERROR - 2024-04-26T16:05:22Z - Client version 0.10.1 is not compatible with current backend service. Please update to the latest client version.\n",
      "ERROR - 2024-04-26T16:05:22Z - Client version 0.10.1 is not compatible with current backend service. Please update to the latest client version.\n",
      "ERROR - 2024-04-26T16:05:22Z - Client version 0.10.1 is not compatible with current backend service. Please update to the latest client version.\n",
      "INFO - 2024-04-26T16:05:22Z - Selected dataset version is \"202311\"\n",
      "INFO - 2024-04-26T16:05:22Z - Downloading using service original-files...\n"
     ]
    },
    {
     "name": "stderr",
     "output_type": "stream",
     "text": [
      "100%|██████████| 1/1 [00:13<00:00, 13.84s/it]\n"
     ]
    },
    {
     "name": "stdout",
     "output_type": "stream",
     "text": [
      "ERROR - 2024-04-26T16:05:41Z - Client version 0.10.1 is not compatible with current backend service. Please update to the latest client version.\n",
      "ERROR - 2024-04-26T16:05:41Z - Client version 0.10.1 is not compatible with current backend service. Please update to the latest client version.\n",
      "ERROR - 2024-04-26T16:05:41Z - Client version 0.10.1 is not compatible with current backend service. Please update to the latest client version.\n",
      "INFO - 2024-04-26T16:05:41Z - Selected dataset version is \"202311\"\n",
      "INFO - 2024-04-26T16:05:41Z - Downloading using service original-files...\n"
     ]
    },
    {
     "name": "stderr",
     "output_type": "stream",
     "text": [
      "100%|██████████| 1/1 [00:13<00:00, 13.83s/it]\n"
     ]
    },
    {
     "name": "stdout",
     "output_type": "stream",
     "text": [
      "ERROR - 2024-04-26T16:06:00Z - Client version 0.10.1 is not compatible with current backend service. Please update to the latest client version.\n",
      "ERROR - 2024-04-26T16:06:00Z - Client version 0.10.1 is not compatible with current backend service. Please update to the latest client version.\n",
      "ERROR - 2024-04-26T16:06:00Z - Client version 0.10.1 is not compatible with current backend service. Please update to the latest client version.\n",
      "INFO - 2024-04-26T16:06:01Z - Selected dataset version is \"202311\"\n",
      "INFO - 2024-04-26T16:06:01Z - Downloading using service original-files...\n"
     ]
    },
    {
     "name": "stderr",
     "output_type": "stream",
     "text": [
      "100%|██████████| 1/1 [00:13<00:00, 13.45s/it]\n"
     ]
    },
    {
     "name": "stdout",
     "output_type": "stream",
     "text": [
      "ERROR - 2024-04-26T16:06:19Z - Client version 0.10.1 is not compatible with current backend service. Please update to the latest client version.\n",
      "ERROR - 2024-04-26T16:06:19Z - Client version 0.10.1 is not compatible with current backend service. Please update to the latest client version.\n",
      "ERROR - 2024-04-26T16:06:19Z - Client version 0.10.1 is not compatible with current backend service. Please update to the latest client version.\n",
      "INFO - 2024-04-26T16:06:20Z - Selected dataset version is \"202311\"\n",
      "INFO - 2024-04-26T16:06:20Z - Downloading using service original-files...\n"
     ]
    },
    {
     "name": "stderr",
     "output_type": "stream",
     "text": [
      "100%|██████████| 1/1 [00:13<00:00, 13.48s/it]\n"
     ]
    },
    {
     "name": "stdout",
     "output_type": "stream",
     "text": [
      "ERROR - 2024-04-26T16:06:38Z - Client version 0.10.1 is not compatible with current backend service. Please update to the latest client version.\n",
      "ERROR - 2024-04-26T16:06:38Z - Client version 0.10.1 is not compatible with current backend service. Please update to the latest client version.\n",
      "ERROR - 2024-04-26T16:06:38Z - Client version 0.10.1 is not compatible with current backend service. Please update to the latest client version.\n",
      "INFO - 2024-04-26T16:06:38Z - Selected dataset version is \"202311\"\n",
      "INFO - 2024-04-26T16:06:38Z - Downloading using service original-files...\n"
     ]
    },
    {
     "name": "stderr",
     "output_type": "stream",
     "text": [
      "100%|██████████| 1/1 [00:13<00:00, 13.76s/it]\n"
     ]
    },
    {
     "name": "stdout",
     "output_type": "stream",
     "text": [
      "ERROR - 2024-04-26T16:06:57Z - Client version 0.10.1 is not compatible with current backend service. Please update to the latest client version.\n",
      "ERROR - 2024-04-26T16:06:57Z - Client version 0.10.1 is not compatible with current backend service. Please update to the latest client version.\n",
      "ERROR - 2024-04-26T16:06:57Z - Client version 0.10.1 is not compatible with current backend service. Please update to the latest client version.\n",
      "INFO - 2024-04-26T16:06:58Z - Selected dataset version is \"202311\"\n",
      "INFO - 2024-04-26T16:06:58Z - Downloading using service original-files...\n"
     ]
    },
    {
     "name": "stderr",
     "output_type": "stream",
     "text": [
      "100%|██████████| 1/1 [00:13<00:00, 13.42s/it]\n"
     ]
    },
    {
     "name": "stdout",
     "output_type": "stream",
     "text": [
      "ERROR - 2024-04-26T16:07:16Z - Client version 0.10.1 is not compatible with current backend service. Please update to the latest client version.\n",
      "ERROR - 2024-04-26T16:07:16Z - Client version 0.10.1 is not compatible with current backend service. Please update to the latest client version.\n",
      "ERROR - 2024-04-26T16:07:16Z - Client version 0.10.1 is not compatible with current backend service. Please update to the latest client version.\n",
      "INFO - 2024-04-26T16:07:16Z - Selected dataset version is \"202311\"\n",
      "INFO - 2024-04-26T16:07:16Z - Downloading using service original-files...\n"
     ]
    },
    {
     "name": "stderr",
     "output_type": "stream",
     "text": [
      "100%|██████████| 1/1 [00:13<00:00, 13.51s/it]\n"
     ]
    },
    {
     "name": "stdout",
     "output_type": "stream",
     "text": [
      "ERROR - 2024-04-26T16:07:35Z - Client version 0.10.1 is not compatible with current backend service. Please update to the latest client version.\n",
      "ERROR - 2024-04-26T16:07:35Z - Client version 0.10.1 is not compatible with current backend service. Please update to the latest client version.\n",
      "ERROR - 2024-04-26T16:07:35Z - Client version 0.10.1 is not compatible with current backend service. Please update to the latest client version.\n",
      "INFO - 2024-04-26T16:07:35Z - Selected dataset version is \"202311\"\n",
      "INFO - 2024-04-26T16:07:35Z - Downloading using service original-files...\n"
     ]
    },
    {
     "name": "stderr",
     "output_type": "stream",
     "text": [
      "100%|██████████| 1/1 [00:13<00:00, 13.63s/it]\n"
     ]
    },
    {
     "name": "stdout",
     "output_type": "stream",
     "text": [
      "ERROR - 2024-04-26T16:07:54Z - Client version 0.10.1 is not compatible with current backend service. Please update to the latest client version.\n",
      "ERROR - 2024-04-26T16:07:54Z - Client version 0.10.1 is not compatible with current backend service. Please update to the latest client version.\n",
      "ERROR - 2024-04-26T16:07:54Z - Client version 0.10.1 is not compatible with current backend service. Please update to the latest client version.\n",
      "INFO - 2024-04-26T16:07:54Z - Selected dataset version is \"202311\"\n",
      "INFO - 2024-04-26T16:07:54Z - Downloading using service original-files...\n"
     ]
    },
    {
     "name": "stderr",
     "output_type": "stream",
     "text": [
      "100%|██████████| 1/1 [00:13<00:00, 13.66s/it]\n"
     ]
    },
    {
     "name": "stdout",
     "output_type": "stream",
     "text": [
      "ERROR - 2024-04-26T16:08:13Z - Client version 0.10.1 is not compatible with current backend service. Please update to the latest client version.\n",
      "ERROR - 2024-04-26T16:08:13Z - Client version 0.10.1 is not compatible with current backend service. Please update to the latest client version.\n",
      "ERROR - 2024-04-26T16:08:13Z - Client version 0.10.1 is not compatible with current backend service. Please update to the latest client version.\n",
      "INFO - 2024-04-26T16:08:13Z - Selected dataset version is \"202311\"\n",
      "INFO - 2024-04-26T16:08:13Z - Downloading using service original-files...\n"
     ]
    },
    {
     "name": "stderr",
     "output_type": "stream",
     "text": [
      "100%|██████████| 1/1 [00:13<00:00, 13.72s/it]\n"
     ]
    },
    {
     "name": "stdout",
     "output_type": "stream",
     "text": [
      "ERROR - 2024-04-26T16:08:32Z - Client version 0.10.1 is not compatible with current backend service. Please update to the latest client version.\n",
      "ERROR - 2024-04-26T16:08:32Z - Client version 0.10.1 is not compatible with current backend service. Please update to the latest client version.\n",
      "ERROR - 2024-04-26T16:08:32Z - Client version 0.10.1 is not compatible with current backend service. Please update to the latest client version.\n",
      "INFO - 2024-04-26T16:08:32Z - Selected dataset version is \"202311\"\n",
      "INFO - 2024-04-26T16:08:32Z - Downloading using service original-files...\n"
     ]
    },
    {
     "name": "stderr",
     "output_type": "stream",
     "text": [
      "100%|██████████| 1/1 [00:13<00:00, 13.45s/it]\n"
     ]
    },
    {
     "name": "stdout",
     "output_type": "stream",
     "text": [
      "ERROR - 2024-04-26T16:08:51Z - Client version 0.10.1 is not compatible with current backend service. Please update to the latest client version.\n",
      "ERROR - 2024-04-26T16:08:51Z - Client version 0.10.1 is not compatible with current backend service. Please update to the latest client version.\n",
      "ERROR - 2024-04-26T16:08:51Z - Client version 0.10.1 is not compatible with current backend service. Please update to the latest client version.\n",
      "INFO - 2024-04-26T16:08:51Z - Selected dataset version is \"202311\"\n",
      "INFO - 2024-04-26T16:08:51Z - Downloading using service original-files...\n"
     ]
    },
    {
     "name": "stderr",
     "output_type": "stream",
     "text": [
      "100%|██████████| 1/1 [00:13<00:00, 13.42s/it]\n"
     ]
    },
    {
     "name": "stdout",
     "output_type": "stream",
     "text": [
      "ERROR - 2024-04-26T16:09:09Z - Client version 0.10.1 is not compatible with current backend service. Please update to the latest client version.\n",
      "ERROR - 2024-04-26T16:09:09Z - Client version 0.10.1 is not compatible with current backend service. Please update to the latest client version.\n",
      "ERROR - 2024-04-26T16:09:09Z - Client version 0.10.1 is not compatible with current backend service. Please update to the latest client version.\n",
      "INFO - 2024-04-26T16:09:10Z - Selected dataset version is \"202311\"\n",
      "INFO - 2024-04-26T16:09:10Z - Downloading using service original-files...\n"
     ]
    },
    {
     "name": "stderr",
     "output_type": "stream",
     "text": [
      "100%|██████████| 1/1 [00:13<00:00, 13.54s/it]\n"
     ]
    },
    {
     "name": "stdout",
     "output_type": "stream",
     "text": [
      "ERROR - 2024-04-26T16:09:28Z - Client version 0.10.1 is not compatible with current backend service. Please update to the latest client version.\n",
      "ERROR - 2024-04-26T16:09:28Z - Client version 0.10.1 is not compatible with current backend service. Please update to the latest client version.\n",
      "ERROR - 2024-04-26T16:09:28Z - Client version 0.10.1 is not compatible with current backend service. Please update to the latest client version.\n",
      "INFO - 2024-04-26T16:09:29Z - Selected dataset version is \"202311\"\n",
      "INFO - 2024-04-26T16:09:29Z - Downloading using service original-files...\n"
     ]
    },
    {
     "name": "stderr",
     "output_type": "stream",
     "text": [
      "100%|██████████| 1/1 [00:13<00:00, 13.67s/it]\n"
     ]
    },
    {
     "name": "stdout",
     "output_type": "stream",
     "text": [
      "ERROR - 2024-04-26T16:09:47Z - Client version 0.10.1 is not compatible with current backend service. Please update to the latest client version.\n",
      "ERROR - 2024-04-26T16:09:47Z - Client version 0.10.1 is not compatible with current backend service. Please update to the latest client version.\n",
      "ERROR - 2024-04-26T16:09:47Z - Client version 0.10.1 is not compatible with current backend service. Please update to the latest client version.\n",
      "INFO - 2024-04-26T16:09:48Z - Selected dataset version is \"202311\"\n",
      "INFO - 2024-04-26T16:09:48Z - Downloading using service original-files...\n"
     ]
    },
    {
     "name": "stderr",
     "output_type": "stream",
     "text": [
      "100%|██████████| 1/1 [00:13<00:00, 13.53s/it]\n"
     ]
    },
    {
     "name": "stdout",
     "output_type": "stream",
     "text": [
      "ERROR - 2024-04-26T16:10:06Z - Client version 0.10.1 is not compatible with current backend service. Please update to the latest client version.\n",
      "ERROR - 2024-04-26T16:10:06Z - Client version 0.10.1 is not compatible with current backend service. Please update to the latest client version.\n",
      "ERROR - 2024-04-26T16:10:06Z - Client version 0.10.1 is not compatible with current backend service. Please update to the latest client version.\n",
      "INFO - 2024-04-26T16:10:06Z - Selected dataset version is \"202311\"\n",
      "INFO - 2024-04-26T16:10:06Z - Downloading using service original-files...\n"
     ]
    },
    {
     "name": "stderr",
     "output_type": "stream",
     "text": [
      "100%|██████████| 1/1 [00:13<00:00, 13.49s/it]\n"
     ]
    },
    {
     "name": "stdout",
     "output_type": "stream",
     "text": [
      "ERROR - 2024-04-26T16:10:25Z - Client version 0.10.1 is not compatible with current backend service. Please update to the latest client version.\n",
      "ERROR - 2024-04-26T16:10:25Z - Client version 0.10.1 is not compatible with current backend service. Please update to the latest client version.\n",
      "ERROR - 2024-04-26T16:10:25Z - Client version 0.10.1 is not compatible with current backend service. Please update to the latest client version.\n",
      "INFO - 2024-04-26T16:10:25Z - Selected dataset version is \"202311\"\n",
      "INFO - 2024-04-26T16:10:25Z - Downloading using service original-files...\n"
     ]
    },
    {
     "name": "stderr",
     "output_type": "stream",
     "text": [
      "100%|██████████| 1/1 [00:13<00:00, 13.46s/it]\n"
     ]
    },
    {
     "name": "stdout",
     "output_type": "stream",
     "text": [
      "ERROR - 2024-04-26T16:10:44Z - Client version 0.10.1 is not compatible with current backend service. Please update to the latest client version.\n",
      "ERROR - 2024-04-26T16:10:44Z - Client version 0.10.1 is not compatible with current backend service. Please update to the latest client version.\n",
      "ERROR - 2024-04-26T16:10:44Z - Client version 0.10.1 is not compatible with current backend service. Please update to the latest client version.\n",
      "INFO - 2024-04-26T16:10:44Z - Selected dataset version is \"202311\"\n",
      "INFO - 2024-04-26T16:10:44Z - Downloading using service original-files...\n"
     ]
    },
    {
     "name": "stderr",
     "output_type": "stream",
     "text": [
      "100%|██████████| 1/1 [00:13<00:00, 13.42s/it]\n"
     ]
    },
    {
     "name": "stdout",
     "output_type": "stream",
     "text": [
      "ERROR - 2024-04-26T16:11:03Z - Client version 0.10.1 is not compatible with current backend service. Please update to the latest client version.\n",
      "ERROR - 2024-04-26T16:11:03Z - Client version 0.10.1 is not compatible with current backend service. Please update to the latest client version.\n",
      "ERROR - 2024-04-26T16:11:03Z - Client version 0.10.1 is not compatible with current backend service. Please update to the latest client version.\n",
      "INFO - 2024-04-26T16:11:03Z - Selected dataset version is \"202311\"\n",
      "INFO - 2024-04-26T16:11:03Z - Downloading using service original-files...\n"
     ]
    },
    {
     "name": "stderr",
     "output_type": "stream",
     "text": [
      "100%|██████████| 1/1 [00:13<00:00, 13.43s/it]\n"
     ]
    },
    {
     "name": "stdout",
     "output_type": "stream",
     "text": [
      "ERROR - 2024-04-26T16:11:22Z - Client version 0.10.1 is not compatible with current backend service. Please update to the latest client version.\n",
      "ERROR - 2024-04-26T16:11:22Z - Client version 0.10.1 is not compatible with current backend service. Please update to the latest client version.\n",
      "ERROR - 2024-04-26T16:11:22Z - Client version 0.10.1 is not compatible with current backend service. Please update to the latest client version.\n",
      "INFO - 2024-04-26T16:11:22Z - Selected dataset version is \"202311\"\n",
      "INFO - 2024-04-26T16:11:22Z - Downloading using service original-files...\n"
     ]
    },
    {
     "name": "stderr",
     "output_type": "stream",
     "text": [
      "100%|██████████| 1/1 [00:13<00:00, 13.43s/it]\n"
     ]
    },
    {
     "name": "stdout",
     "output_type": "stream",
     "text": [
      "ERROR - 2024-04-26T16:11:40Z - Client version 0.10.1 is not compatible with current backend service. Please update to the latest client version.\n",
      "ERROR - 2024-04-26T16:11:40Z - Client version 0.10.1 is not compatible with current backend service. Please update to the latest client version.\n",
      "ERROR - 2024-04-26T16:11:40Z - Client version 0.10.1 is not compatible with current backend service. Please update to the latest client version.\n",
      "INFO - 2024-04-26T16:11:41Z - Selected dataset version is \"202311\"\n",
      "INFO - 2024-04-26T16:11:41Z - Downloading using service original-files...\n"
     ]
    },
    {
     "name": "stderr",
     "output_type": "stream",
     "text": [
      "100%|██████████| 1/1 [00:13<00:00, 13.74s/it]\n"
     ]
    },
    {
     "name": "stdout",
     "output_type": "stream",
     "text": [
      "ERROR - 2024-04-26T16:11:59Z - Client version 0.10.1 is not compatible with current backend service. Please update to the latest client version.\n",
      "ERROR - 2024-04-26T16:11:59Z - Client version 0.10.1 is not compatible with current backend service. Please update to the latest client version.\n",
      "ERROR - 2024-04-26T16:11:59Z - Client version 0.10.1 is not compatible with current backend service. Please update to the latest client version.\n",
      "INFO - 2024-04-26T16:12:00Z - Selected dataset version is \"202311\"\n",
      "INFO - 2024-04-26T16:12:00Z - Downloading using service original-files...\n"
     ]
    },
    {
     "name": "stderr",
     "output_type": "stream",
     "text": [
      "100%|██████████| 1/1 [00:13<00:00, 13.42s/it]\n"
     ]
    },
    {
     "name": "stdout",
     "output_type": "stream",
     "text": [
      "ERROR - 2024-04-26T16:12:18Z - Client version 0.10.1 is not compatible with current backend service. Please update to the latest client version.\n",
      "ERROR - 2024-04-26T16:12:18Z - Client version 0.10.1 is not compatible with current backend service. Please update to the latest client version.\n",
      "ERROR - 2024-04-26T16:12:18Z - Client version 0.10.1 is not compatible with current backend service. Please update to the latest client version.\n",
      "INFO - 2024-04-26T16:12:19Z - Selected dataset version is \"202311\"\n",
      "INFO - 2024-04-26T16:12:19Z - Downloading using service original-files...\n"
     ]
    },
    {
     "name": "stderr",
     "output_type": "stream",
     "text": [
      "100%|██████████| 1/1 [00:13<00:00, 13.51s/it]\n"
     ]
    },
    {
     "name": "stdout",
     "output_type": "stream",
     "text": [
      "ERROR - 2024-04-26T16:12:37Z - Client version 0.10.1 is not compatible with current backend service. Please update to the latest client version.\n",
      "ERROR - 2024-04-26T16:12:37Z - Client version 0.10.1 is not compatible with current backend service. Please update to the latest client version.\n",
      "ERROR - 2024-04-26T16:12:37Z - Client version 0.10.1 is not compatible with current backend service. Please update to the latest client version.\n",
      "INFO - 2024-04-26T16:12:38Z - Selected dataset version is \"202311\"\n",
      "INFO - 2024-04-26T16:12:38Z - Downloading using service original-files...\n"
     ]
    },
    {
     "name": "stderr",
     "output_type": "stream",
     "text": [
      "100%|██████████| 1/1 [00:13<00:00, 13.85s/it]\n"
     ]
    },
    {
     "name": "stdout",
     "output_type": "stream",
     "text": [
      "ERROR - 2024-04-26T16:12:56Z - Client version 0.10.1 is not compatible with current backend service. Please update to the latest client version.\n",
      "ERROR - 2024-04-26T16:12:57Z - Client version 0.10.1 is not compatible with current backend service. Please update to the latest client version.\n",
      "ERROR - 2024-04-26T16:12:57Z - Client version 0.10.1 is not compatible with current backend service. Please update to the latest client version.\n",
      "INFO - 2024-04-26T16:12:57Z - Selected dataset version is \"202311\"\n",
      "INFO - 2024-04-26T16:12:57Z - Downloading using service original-files...\n"
     ]
    },
    {
     "name": "stderr",
     "output_type": "stream",
     "text": [
      "100%|██████████| 1/1 [00:13<00:00, 13.75s/it]\n"
     ]
    },
    {
     "name": "stdout",
     "output_type": "stream",
     "text": [
      "ERROR - 2024-04-26T16:13:16Z - Client version 0.10.1 is not compatible with current backend service. Please update to the latest client version.\n",
      "ERROR - 2024-04-26T16:13:16Z - Client version 0.10.1 is not compatible with current backend service. Please update to the latest client version.\n",
      "ERROR - 2024-04-26T16:13:16Z - Client version 0.10.1 is not compatible with current backend service. Please update to the latest client version.\n",
      "INFO - 2024-04-26T16:13:16Z - Selected dataset version is \"202311\"\n",
      "INFO - 2024-04-26T16:13:16Z - Downloading using service original-files...\n"
     ]
    },
    {
     "name": "stderr",
     "output_type": "stream",
     "text": [
      "100%|██████████| 1/1 [00:13<00:00, 13.59s/it]\n"
     ]
    },
    {
     "name": "stdout",
     "output_type": "stream",
     "text": [
      "ERROR - 2024-04-26T16:13:35Z - Client version 0.10.1 is not compatible with current backend service. Please update to the latest client version.\n",
      "ERROR - 2024-04-26T16:13:35Z - Client version 0.10.1 is not compatible with current backend service. Please update to the latest client version.\n",
      "ERROR - 2024-04-26T16:13:35Z - Client version 0.10.1 is not compatible with current backend service. Please update to the latest client version.\n",
      "INFO - 2024-04-26T16:13:35Z - Selected dataset version is \"202311\"\n",
      "INFO - 2024-04-26T16:13:35Z - Downloading using service original-files...\n"
     ]
    },
    {
     "name": "stderr",
     "output_type": "stream",
     "text": [
      "100%|██████████| 1/1 [00:13<00:00, 13.47s/it]\n"
     ]
    },
    {
     "name": "stdout",
     "output_type": "stream",
     "text": [
      "ERROR - 2024-04-26T16:13:54Z - Client version 0.10.1 is not compatible with current backend service. Please update to the latest client version.\n",
      "ERROR - 2024-04-26T16:13:54Z - Client version 0.10.1 is not compatible with current backend service. Please update to the latest client version.\n",
      "ERROR - 2024-04-26T16:13:54Z - Client version 0.10.1 is not compatible with current backend service. Please update to the latest client version.\n",
      "INFO - 2024-04-26T16:13:54Z - Selected dataset version is \"202311\"\n",
      "INFO - 2024-04-26T16:13:54Z - Downloading using service original-files...\n"
     ]
    },
    {
     "name": "stderr",
     "output_type": "stream",
     "text": [
      "100%|██████████| 1/1 [00:13<00:00, 13.39s/it]\n"
     ]
    },
    {
     "name": "stdout",
     "output_type": "stream",
     "text": [
      "ERROR - 2024-04-26T16:14:13Z - Client version 0.10.1 is not compatible with current backend service. Please update to the latest client version.\n",
      "ERROR - 2024-04-26T16:14:13Z - Client version 0.10.1 is not compatible with current backend service. Please update to the latest client version.\n",
      "ERROR - 2024-04-26T16:14:13Z - Client version 0.10.1 is not compatible with current backend service. Please update to the latest client version.\n",
      "INFO - 2024-04-26T16:14:13Z - Selected dataset version is \"202311\"\n",
      "INFO - 2024-04-26T16:14:13Z - Downloading using service original-files...\n"
     ]
    },
    {
     "name": "stderr",
     "output_type": "stream",
     "text": [
      "100%|██████████| 1/1 [00:13<00:00, 13.42s/it]\n"
     ]
    },
    {
     "name": "stdout",
     "output_type": "stream",
     "text": [
      "ERROR - 2024-04-26T16:14:31Z - Client version 0.10.1 is not compatible with current backend service. Please update to the latest client version.\n",
      "ERROR - 2024-04-26T16:14:31Z - Client version 0.10.1 is not compatible with current backend service. Please update to the latest client version.\n",
      "ERROR - 2024-04-26T16:14:31Z - Client version 0.10.1 is not compatible with current backend service. Please update to the latest client version.\n",
      "INFO - 2024-04-26T16:14:32Z - Selected dataset version is \"202311\"\n",
      "INFO - 2024-04-26T16:14:32Z - Downloading using service original-files...\n"
     ]
    },
    {
     "name": "stderr",
     "output_type": "stream",
     "text": [
      "100%|██████████| 1/1 [00:13<00:00, 13.73s/it]\n"
     ]
    },
    {
     "name": "stdout",
     "output_type": "stream",
     "text": [
      "ERROR - 2024-04-26T16:14:51Z - Client version 0.10.1 is not compatible with current backend service. Please update to the latest client version.\n",
      "ERROR - 2024-04-26T16:14:51Z - Client version 0.10.1 is not compatible with current backend service. Please update to the latest client version.\n",
      "ERROR - 2024-04-26T16:14:51Z - Client version 0.10.1 is not compatible with current backend service. Please update to the latest client version.\n",
      "INFO - 2024-04-26T16:14:51Z - Selected dataset version is \"202311\"\n",
      "INFO - 2024-04-26T16:14:51Z - Downloading using service original-files...\n"
     ]
    },
    {
     "name": "stderr",
     "output_type": "stream",
     "text": [
      "100%|██████████| 1/1 [00:13<00:00, 13.73s/it]\n"
     ]
    },
    {
     "name": "stdout",
     "output_type": "stream",
     "text": [
      "ERROR - 2024-04-26T16:15:09Z - Client version 0.10.1 is not compatible with current backend service. Please update to the latest client version.\n",
      "ERROR - 2024-04-26T16:15:09Z - Client version 0.10.1 is not compatible with current backend service. Please update to the latest client version.\n",
      "ERROR - 2024-04-26T16:15:09Z - Client version 0.10.1 is not compatible with current backend service. Please update to the latest client version.\n",
      "INFO - 2024-04-26T16:15:10Z - Selected dataset version is \"202311\"\n",
      "INFO - 2024-04-26T16:15:10Z - Downloading using service original-files...\n"
     ]
    },
    {
     "name": "stderr",
     "output_type": "stream",
     "text": [
      "100%|██████████| 1/1 [00:13<00:00, 13.40s/it]\n"
     ]
    },
    {
     "name": "stdout",
     "output_type": "stream",
     "text": [
      "ERROR - 2024-04-26T16:15:28Z - Client version 0.10.1 is not compatible with current backend service. Please update to the latest client version.\n",
      "ERROR - 2024-04-26T16:15:28Z - Client version 0.10.1 is not compatible with current backend service. Please update to the latest client version.\n",
      "ERROR - 2024-04-26T16:15:28Z - Client version 0.10.1 is not compatible with current backend service. Please update to the latest client version.\n",
      "INFO - 2024-04-26T16:15:28Z - Selected dataset version is \"202311\"\n",
      "INFO - 2024-04-26T16:15:28Z - Downloading using service original-files...\n"
     ]
    },
    {
     "name": "stderr",
     "output_type": "stream",
     "text": [
      "100%|██████████| 1/1 [00:13<00:00, 13.73s/it]\n"
     ]
    },
    {
     "name": "stdout",
     "output_type": "stream",
     "text": [
      "ERROR - 2024-04-26T16:15:47Z - Client version 0.10.1 is not compatible with current backend service. Please update to the latest client version.\n",
      "ERROR - 2024-04-26T16:15:47Z - Client version 0.10.1 is not compatible with current backend service. Please update to the latest client version.\n",
      "ERROR - 2024-04-26T16:15:47Z - Client version 0.10.1 is not compatible with current backend service. Please update to the latest client version.\n",
      "INFO - 2024-04-26T16:15:48Z - Selected dataset version is \"202311\"\n",
      "INFO - 2024-04-26T16:15:48Z - Downloading using service original-files...\n"
     ]
    },
    {
     "name": "stderr",
     "output_type": "stream",
     "text": [
      "100%|██████████| 1/1 [00:13<00:00, 13.46s/it]\n"
     ]
    },
    {
     "name": "stdout",
     "output_type": "stream",
     "text": [
      "ERROR - 2024-04-26T16:16:06Z - Client version 0.10.1 is not compatible with current backend service. Please update to the latest client version.\n",
      "ERROR - 2024-04-26T16:16:06Z - Client version 0.10.1 is not compatible with current backend service. Please update to the latest client version.\n",
      "ERROR - 2024-04-26T16:16:06Z - Client version 0.10.1 is not compatible with current backend service. Please update to the latest client version.\n",
      "INFO - 2024-04-26T16:16:06Z - Selected dataset version is \"202311\"\n",
      "INFO - 2024-04-26T16:16:06Z - Downloading using service original-files...\n"
     ]
    },
    {
     "name": "stderr",
     "output_type": "stream",
     "text": [
      "100%|██████████| 1/1 [00:13<00:00, 13.36s/it]\n"
     ]
    },
    {
     "name": "stdout",
     "output_type": "stream",
     "text": [
      "ERROR - 2024-04-26T16:16:25Z - Client version 0.10.1 is not compatible with current backend service. Please update to the latest client version.\n",
      "ERROR - 2024-04-26T16:16:25Z - Client version 0.10.1 is not compatible with current backend service. Please update to the latest client version.\n",
      "ERROR - 2024-04-26T16:16:25Z - Client version 0.10.1 is not compatible with current backend service. Please update to the latest client version.\n",
      "INFO - 2024-04-26T16:16:25Z - Selected dataset version is \"202311\"\n",
      "INFO - 2024-04-26T16:16:25Z - Downloading using service original-files...\n"
     ]
    },
    {
     "name": "stderr",
     "output_type": "stream",
     "text": [
      "100%|██████████| 1/1 [00:13<00:00, 13.65s/it]\n"
     ]
    },
    {
     "name": "stdout",
     "output_type": "stream",
     "text": [
      "ERROR - 2024-04-26T16:16:44Z - Client version 0.10.1 is not compatible with current backend service. Please update to the latest client version.\n",
      "ERROR - 2024-04-26T16:16:44Z - Client version 0.10.1 is not compatible with current backend service. Please update to the latest client version.\n",
      "ERROR - 2024-04-26T16:16:44Z - Client version 0.10.1 is not compatible with current backend service. Please update to the latest client version.\n",
      "INFO - 2024-04-26T16:16:44Z - Selected dataset version is \"202311\"\n",
      "INFO - 2024-04-26T16:16:44Z - Downloading using service original-files...\n"
     ]
    },
    {
     "name": "stderr",
     "output_type": "stream",
     "text": [
      "100%|██████████| 1/1 [00:13<00:00, 13.85s/it]\n"
     ]
    },
    {
     "name": "stdout",
     "output_type": "stream",
     "text": [
      "ERROR - 2024-04-26T16:17:03Z - Client version 0.10.1 is not compatible with current backend service. Please update to the latest client version.\n",
      "ERROR - 2024-04-26T16:17:03Z - Client version 0.10.1 is not compatible with current backend service. Please update to the latest client version.\n",
      "ERROR - 2024-04-26T16:17:03Z - Client version 0.10.1 is not compatible with current backend service. Please update to the latest client version.\n",
      "INFO - 2024-04-26T16:17:03Z - Selected dataset version is \"202311\"\n",
      "INFO - 2024-04-26T16:17:03Z - Downloading using service original-files...\n"
     ]
    },
    {
     "name": "stderr",
     "output_type": "stream",
     "text": [
      "100%|██████████| 1/1 [00:13<00:00, 13.55s/it]\n"
     ]
    },
    {
     "name": "stdout",
     "output_type": "stream",
     "text": [
      "ERROR - 2024-04-26T16:17:22Z - Client version 0.10.1 is not compatible with current backend service. Please update to the latest client version.\n",
      "ERROR - 2024-04-26T16:17:22Z - Client version 0.10.1 is not compatible with current backend service. Please update to the latest client version.\n",
      "ERROR - 2024-04-26T16:17:22Z - Client version 0.10.1 is not compatible with current backend service. Please update to the latest client version.\n",
      "INFO - 2024-04-26T16:17:22Z - Selected dataset version is \"202311\"\n",
      "INFO - 2024-04-26T16:17:22Z - Downloading using service original-files...\n"
     ]
    },
    {
     "name": "stderr",
     "output_type": "stream",
     "text": [
      "100%|██████████| 1/1 [00:13<00:00, 13.27s/it]\n"
     ]
    },
    {
     "name": "stdout",
     "output_type": "stream",
     "text": [
      "ERROR - 2024-04-26T16:17:40Z - Client version 0.10.1 is not compatible with current backend service. Please update to the latest client version.\n",
      "ERROR - 2024-04-26T16:17:40Z - Client version 0.10.1 is not compatible with current backend service. Please update to the latest client version.\n",
      "ERROR - 2024-04-26T16:17:40Z - Client version 0.10.1 is not compatible with current backend service. Please update to the latest client version.\n",
      "INFO - 2024-04-26T16:17:41Z - Selected dataset version is \"202311\"\n",
      "INFO - 2024-04-26T16:17:41Z - Downloading using service original-files...\n"
     ]
    },
    {
     "name": "stderr",
     "output_type": "stream",
     "text": [
      "100%|██████████| 1/1 [00:13<00:00, 13.54s/it]\n"
     ]
    },
    {
     "name": "stdout",
     "output_type": "stream",
     "text": [
      "ERROR - 2024-04-26T16:17:59Z - Client version 0.10.1 is not compatible with current backend service. Please update to the latest client version.\n",
      "ERROR - 2024-04-26T16:17:59Z - Client version 0.10.1 is not compatible with current backend service. Please update to the latest client version.\n",
      "ERROR - 2024-04-26T16:17:59Z - Client version 0.10.1 is not compatible with current backend service. Please update to the latest client version.\n",
      "INFO - 2024-04-26T16:18:00Z - Selected dataset version is \"202311\"\n",
      "INFO - 2024-04-26T16:18:00Z - Downloading using service original-files...\n"
     ]
    },
    {
     "name": "stderr",
     "output_type": "stream",
     "text": [
      "100%|██████████| 1/1 [00:13<00:00, 13.82s/it]\n"
     ]
    },
    {
     "name": "stdout",
     "output_type": "stream",
     "text": [
      "ERROR - 2024-04-26T16:18:18Z - Client version 0.10.1 is not compatible with current backend service. Please update to the latest client version.\n",
      "ERROR - 2024-04-26T16:18:18Z - Client version 0.10.1 is not compatible with current backend service. Please update to the latest client version.\n",
      "ERROR - 2024-04-26T16:18:18Z - Client version 0.10.1 is not compatible with current backend service. Please update to the latest client version.\n",
      "INFO - 2024-04-26T16:18:19Z - Selected dataset version is \"202311\"\n",
      "INFO - 2024-04-26T16:18:19Z - Downloading using service original-files...\n"
     ]
    },
    {
     "name": "stderr",
     "output_type": "stream",
     "text": [
      "100%|██████████| 1/1 [00:13<00:00, 13.43s/it]\n"
     ]
    },
    {
     "name": "stdout",
     "output_type": "stream",
     "text": [
      "ERROR - 2024-04-26T16:18:37Z - Client version 0.10.1 is not compatible with current backend service. Please update to the latest client version.\n",
      "ERROR - 2024-04-26T16:18:37Z - Client version 0.10.1 is not compatible with current backend service. Please update to the latest client version.\n",
      "ERROR - 2024-04-26T16:18:37Z - Client version 0.10.1 is not compatible with current backend service. Please update to the latest client version.\n",
      "INFO - 2024-04-26T16:18:38Z - Selected dataset version is \"202311\"\n",
      "INFO - 2024-04-26T16:18:38Z - Downloading using service original-files...\n"
     ]
    },
    {
     "name": "stderr",
     "output_type": "stream",
     "text": [
      "100%|██████████| 1/1 [00:13<00:00, 13.61s/it]\n"
     ]
    },
    {
     "name": "stdout",
     "output_type": "stream",
     "text": [
      "ERROR - 2024-04-26T16:18:56Z - Client version 0.10.1 is not compatible with current backend service. Please update to the latest client version.\n",
      "ERROR - 2024-04-26T16:18:56Z - Client version 0.10.1 is not compatible with current backend service. Please update to the latest client version.\n",
      "ERROR - 2024-04-26T16:18:56Z - Client version 0.10.1 is not compatible with current backend service. Please update to the latest client version.\n",
      "INFO - 2024-04-26T16:18:57Z - Selected dataset version is \"202311\"\n",
      "INFO - 2024-04-26T16:18:57Z - Downloading using service original-files...\n"
     ]
    },
    {
     "name": "stderr",
     "output_type": "stream",
     "text": [
      "100%|██████████| 1/1 [00:13<00:00, 13.25s/it]\n"
     ]
    },
    {
     "name": "stdout",
     "output_type": "stream",
     "text": [
      "ERROR - 2024-04-26T16:19:15Z - Client version 0.10.1 is not compatible with current backend service. Please update to the latest client version.\n",
      "ERROR - 2024-04-26T16:19:15Z - Client version 0.10.1 is not compatible with current backend service. Please update to the latest client version.\n",
      "ERROR - 2024-04-26T16:19:15Z - Client version 0.10.1 is not compatible with current backend service. Please update to the latest client version.\n",
      "INFO - 2024-04-26T16:19:15Z - Selected dataset version is \"202311\"\n",
      "INFO - 2024-04-26T16:19:15Z - Downloading using service original-files...\n"
     ]
    },
    {
     "name": "stderr",
     "output_type": "stream",
     "text": [
      "100%|██████████| 1/1 [00:13<00:00, 13.39s/it]\n"
     ]
    },
    {
     "name": "stdout",
     "output_type": "stream",
     "text": [
      "ERROR - 2024-04-26T16:19:34Z - Client version 0.10.1 is not compatible with current backend service. Please update to the latest client version.\n",
      "ERROR - 2024-04-26T16:19:34Z - Client version 0.10.1 is not compatible with current backend service. Please update to the latest client version.\n",
      "ERROR - 2024-04-26T16:19:34Z - Client version 0.10.1 is not compatible with current backend service. Please update to the latest client version.\n",
      "INFO - 2024-04-26T16:19:34Z - Selected dataset version is \"202311\"\n",
      "INFO - 2024-04-26T16:19:34Z - Downloading using service original-files...\n"
     ]
    },
    {
     "name": "stderr",
     "output_type": "stream",
     "text": [
      "100%|██████████| 1/1 [00:13<00:00, 13.89s/it]\n"
     ]
    },
    {
     "name": "stdout",
     "output_type": "stream",
     "text": [
      "ERROR - 2024-04-26T16:19:53Z - Client version 0.10.1 is not compatible with current backend service. Please update to the latest client version.\n",
      "ERROR - 2024-04-26T16:19:53Z - Client version 0.10.1 is not compatible with current backend service. Please update to the latest client version.\n",
      "ERROR - 2024-04-26T16:19:53Z - Client version 0.10.1 is not compatible with current backend service. Please update to the latest client version.\n",
      "INFO - 2024-04-26T16:19:53Z - Selected dataset version is \"202311\"\n",
      "INFO - 2024-04-26T16:19:53Z - Downloading using service original-files...\n"
     ]
    },
    {
     "name": "stderr",
     "output_type": "stream",
     "text": [
      "100%|██████████| 1/1 [00:13<00:00, 13.68s/it]\n"
     ]
    },
    {
     "name": "stdout",
     "output_type": "stream",
     "text": [
      "ERROR - 2024-04-26T16:20:12Z - Client version 0.10.1 is not compatible with current backend service. Please update to the latest client version.\n",
      "ERROR - 2024-04-26T16:20:12Z - Client version 0.10.1 is not compatible with current backend service. Please update to the latest client version.\n",
      "ERROR - 2024-04-26T16:20:12Z - Client version 0.10.1 is not compatible with current backend service. Please update to the latest client version.\n",
      "INFO - 2024-04-26T16:20:12Z - Selected dataset version is \"202311\"\n",
      "INFO - 2024-04-26T16:20:12Z - Downloading using service original-files...\n"
     ]
    },
    {
     "name": "stderr",
     "output_type": "stream",
     "text": [
      "100%|██████████| 1/1 [00:13<00:00, 13.69s/it]\n"
     ]
    },
    {
     "name": "stdout",
     "output_type": "stream",
     "text": [
      "ERROR - 2024-04-26T16:20:30Z - Client version 0.10.1 is not compatible with current backend service. Please update to the latest client version.\n",
      "ERROR - 2024-04-26T16:20:30Z - Client version 0.10.1 is not compatible with current backend service. Please update to the latest client version.\n",
      "ERROR - 2024-04-26T16:20:31Z - Client version 0.10.1 is not compatible with current backend service. Please update to the latest client version.\n",
      "INFO - 2024-04-26T16:20:31Z - Selected dataset version is \"202311\"\n",
      "INFO - 2024-04-26T16:20:31Z - Downloading using service original-files...\n"
     ]
    },
    {
     "name": "stderr",
     "output_type": "stream",
     "text": [
      "100%|██████████| 1/1 [00:13<00:00, 13.67s/it]\n"
     ]
    },
    {
     "name": "stdout",
     "output_type": "stream",
     "text": [
      "ERROR - 2024-04-26T16:20:49Z - Client version 0.10.1 is not compatible with current backend service. Please update to the latest client version.\n",
      "ERROR - 2024-04-26T16:20:49Z - Client version 0.10.1 is not compatible with current backend service. Please update to the latest client version.\n",
      "ERROR - 2024-04-26T16:20:49Z - Client version 0.10.1 is not compatible with current backend service. Please update to the latest client version.\n",
      "INFO - 2024-04-26T16:20:50Z - Selected dataset version is \"202311\"\n",
      "INFO - 2024-04-26T16:20:50Z - Downloading using service original-files...\n"
     ]
    },
    {
     "name": "stderr",
     "output_type": "stream",
     "text": [
      "100%|██████████| 1/1 [00:13<00:00, 13.27s/it]\n"
     ]
    },
    {
     "name": "stdout",
     "output_type": "stream",
     "text": [
      "ERROR - 2024-04-26T16:21:08Z - Client version 0.10.1 is not compatible with current backend service. Please update to the latest client version.\n",
      "ERROR - 2024-04-26T16:21:08Z - Client version 0.10.1 is not compatible with current backend service. Please update to the latest client version.\n",
      "ERROR - 2024-04-26T16:21:08Z - Client version 0.10.1 is not compatible with current backend service. Please update to the latest client version.\n",
      "INFO - 2024-04-26T16:21:09Z - Selected dataset version is \"202311\"\n",
      "INFO - 2024-04-26T16:21:09Z - Downloading using service original-files...\n"
     ]
    },
    {
     "name": "stderr",
     "output_type": "stream",
     "text": [
      "100%|██████████| 1/1 [00:13<00:00, 13.41s/it]\n"
     ]
    },
    {
     "name": "stdout",
     "output_type": "stream",
     "text": [
      "ERROR - 2024-04-26T16:21:27Z - Client version 0.10.1 is not compatible with current backend service. Please update to the latest client version.\n",
      "ERROR - 2024-04-26T16:21:27Z - Client version 0.10.1 is not compatible with current backend service. Please update to the latest client version.\n",
      "ERROR - 2024-04-26T16:21:27Z - Client version 0.10.1 is not compatible with current backend service. Please update to the latest client version.\n",
      "INFO - 2024-04-26T16:21:27Z - Selected dataset version is \"202311\"\n",
      "INFO - 2024-04-26T16:21:27Z - Downloading using service original-files...\n"
     ]
    },
    {
     "name": "stderr",
     "output_type": "stream",
     "text": [
      "100%|██████████| 1/1 [00:13<00:00, 13.42s/it]\n"
     ]
    },
    {
     "name": "stdout",
     "output_type": "stream",
     "text": [
      "ERROR - 2024-04-26T16:21:46Z - Client version 0.10.1 is not compatible with current backend service. Please update to the latest client version.\n",
      "ERROR - 2024-04-26T16:21:46Z - Client version 0.10.1 is not compatible with current backend service. Please update to the latest client version.\n",
      "ERROR - 2024-04-26T16:21:46Z - Client version 0.10.1 is not compatible with current backend service. Please update to the latest client version.\n",
      "INFO - 2024-04-26T16:21:46Z - Selected dataset version is \"202311\"\n",
      "INFO - 2024-04-26T16:21:46Z - Downloading using service original-files...\n"
     ]
    },
    {
     "name": "stderr",
     "output_type": "stream",
     "text": [
      "100%|██████████| 1/1 [00:13<00:00, 13.57s/it]\n"
     ]
    },
    {
     "name": "stdout",
     "output_type": "stream",
     "text": [
      "ERROR - 2024-04-26T16:22:05Z - Client version 0.10.1 is not compatible with current backend service. Please update to the latest client version.\n",
      "ERROR - 2024-04-26T16:22:05Z - Client version 0.10.1 is not compatible with current backend service. Please update to the latest client version.\n",
      "ERROR - 2024-04-26T16:22:05Z - Client version 0.10.1 is not compatible with current backend service. Please update to the latest client version.\n",
      "INFO - 2024-04-26T16:22:06Z - Selected dataset version is \"202311\"\n",
      "INFO - 2024-04-26T16:22:06Z - Downloading using service original-files...\n"
     ]
    },
    {
     "name": "stderr",
     "output_type": "stream",
     "text": [
      "100%|██████████| 1/1 [00:13<00:00, 13.48s/it]\n"
     ]
    },
    {
     "name": "stdout",
     "output_type": "stream",
     "text": [
      "ERROR - 2024-04-26T16:22:24Z - Client version 0.10.1 is not compatible with current backend service. Please update to the latest client version.\n",
      "ERROR - 2024-04-26T16:22:24Z - Client version 0.10.1 is not compatible with current backend service. Please update to the latest client version.\n",
      "ERROR - 2024-04-26T16:22:24Z - Client version 0.10.1 is not compatible with current backend service. Please update to the latest client version.\n",
      "INFO - 2024-04-26T16:22:25Z - Selected dataset version is \"202311\"\n",
      "INFO - 2024-04-26T16:22:25Z - Downloading using service original-files...\n"
     ]
    },
    {
     "name": "stderr",
     "output_type": "stream",
     "text": [
      "100%|██████████| 1/1 [00:13<00:00, 13.40s/it]\n"
     ]
    },
    {
     "name": "stdout",
     "output_type": "stream",
     "text": [
      "ERROR - 2024-04-26T16:22:43Z - Client version 0.10.1 is not compatible with current backend service. Please update to the latest client version.\n",
      "ERROR - 2024-04-26T16:22:43Z - Client version 0.10.1 is not compatible with current backend service. Please update to the latest client version.\n",
      "ERROR - 2024-04-26T16:22:43Z - Client version 0.10.1 is not compatible with current backend service. Please update to the latest client version.\n",
      "INFO - 2024-04-26T16:22:44Z - Selected dataset version is \"202311\"\n",
      "INFO - 2024-04-26T16:22:44Z - Downloading using service original-files...\n"
     ]
    },
    {
     "name": "stderr",
     "output_type": "stream",
     "text": [
      "100%|██████████| 1/1 [00:13<00:00, 13.32s/it]\n"
     ]
    },
    {
     "name": "stdout",
     "output_type": "stream",
     "text": [
      "ERROR - 2024-04-26T16:23:02Z - Client version 0.10.1 is not compatible with current backend service. Please update to the latest client version.\n",
      "ERROR - 2024-04-26T16:23:02Z - Client version 0.10.1 is not compatible with current backend service. Please update to the latest client version.\n",
      "ERROR - 2024-04-26T16:23:02Z - Client version 0.10.1 is not compatible with current backend service. Please update to the latest client version.\n",
      "INFO - 2024-04-26T16:23:02Z - Selected dataset version is \"202311\"\n",
      "INFO - 2024-04-26T16:23:02Z - Downloading using service original-files...\n"
     ]
    },
    {
     "name": "stderr",
     "output_type": "stream",
     "text": [
      "100%|██████████| 1/1 [00:13<00:00, 13.66s/it]\n"
     ]
    },
    {
     "name": "stdout",
     "output_type": "stream",
     "text": [
      "ERROR - 2024-04-26T16:23:21Z - Client version 0.10.1 is not compatible with current backend service. Please update to the latest client version.\n",
      "ERROR - 2024-04-26T16:23:21Z - Client version 0.10.1 is not compatible with current backend service. Please update to the latest client version.\n",
      "ERROR - 2024-04-26T16:23:21Z - Client version 0.10.1 is not compatible with current backend service. Please update to the latest client version.\n",
      "INFO - 2024-04-26T16:23:21Z - Selected dataset version is \"202311\"\n",
      "INFO - 2024-04-26T16:23:21Z - Downloading using service original-files...\n"
     ]
    },
    {
     "name": "stderr",
     "output_type": "stream",
     "text": [
      "100%|██████████| 1/1 [00:13<00:00, 13.76s/it]\n"
     ]
    },
    {
     "name": "stdout",
     "output_type": "stream",
     "text": [
      "ERROR - 2024-04-26T16:23:40Z - Client version 0.10.1 is not compatible with current backend service. Please update to the latest client version.\n",
      "ERROR - 2024-04-26T16:23:40Z - Client version 0.10.1 is not compatible with current backend service. Please update to the latest client version.\n",
      "ERROR - 2024-04-26T16:23:40Z - Client version 0.10.1 is not compatible with current backend service. Please update to the latest client version.\n",
      "INFO - 2024-04-26T16:23:40Z - Selected dataset version is \"202311\"\n",
      "INFO - 2024-04-26T16:23:40Z - Downloading using service original-files...\n"
     ]
    },
    {
     "name": "stderr",
     "output_type": "stream",
     "text": [
      "100%|██████████| 1/1 [00:13<00:00, 13.64s/it]\n"
     ]
    },
    {
     "name": "stdout",
     "output_type": "stream",
     "text": [
      "ERROR - 2024-04-26T16:23:59Z - Client version 0.10.1 is not compatible with current backend service. Please update to the latest client version.\n",
      "ERROR - 2024-04-26T16:23:59Z - Client version 0.10.1 is not compatible with current backend service. Please update to the latest client version.\n",
      "ERROR - 2024-04-26T16:23:59Z - Client version 0.10.1 is not compatible with current backend service. Please update to the latest client version.\n",
      "INFO - 2024-04-26T16:23:59Z - Selected dataset version is \"202311\"\n",
      "INFO - 2024-04-26T16:23:59Z - Downloading using service original-files...\n"
     ]
    },
    {
     "name": "stderr",
     "output_type": "stream",
     "text": [
      "100%|██████████| 1/1 [00:13<00:00, 13.52s/it]\n"
     ]
    },
    {
     "name": "stdout",
     "output_type": "stream",
     "text": [
      "ERROR - 2024-04-26T16:24:18Z - Client version 0.10.1 is not compatible with current backend service. Please update to the latest client version.\n",
      "ERROR - 2024-04-26T16:24:18Z - Client version 0.10.1 is not compatible with current backend service. Please update to the latest client version.\n",
      "ERROR - 2024-04-26T16:24:18Z - Client version 0.10.1 is not compatible with current backend service. Please update to the latest client version.\n",
      "INFO - 2024-04-26T16:24:18Z - Selected dataset version is \"202311\"\n",
      "INFO - 2024-04-26T16:24:18Z - Downloading using service original-files...\n"
     ]
    },
    {
     "name": "stderr",
     "output_type": "stream",
     "text": [
      "100%|██████████| 1/1 [00:13<00:00, 13.40s/it]\n"
     ]
    },
    {
     "name": "stdout",
     "output_type": "stream",
     "text": [
      "ERROR - 2024-04-26T16:24:36Z - Client version 0.10.1 is not compatible with current backend service. Please update to the latest client version.\n",
      "ERROR - 2024-04-26T16:24:36Z - Client version 0.10.1 is not compatible with current backend service. Please update to the latest client version.\n",
      "ERROR - 2024-04-26T16:24:36Z - Client version 0.10.1 is not compatible with current backend service. Please update to the latest client version.\n",
      "INFO - 2024-04-26T16:24:37Z - Selected dataset version is \"202311\"\n",
      "INFO - 2024-04-26T16:24:37Z - Downloading using service original-files...\n"
     ]
    },
    {
     "name": "stderr",
     "output_type": "stream",
     "text": [
      "100%|██████████| 1/1 [00:13<00:00, 13.53s/it]\n"
     ]
    },
    {
     "name": "stdout",
     "output_type": "stream",
     "text": [
      "ERROR - 2024-04-26T16:24:55Z - Client version 0.10.1 is not compatible with current backend service. Please update to the latest client version.\n",
      "ERROR - 2024-04-26T16:24:55Z - Client version 0.10.1 is not compatible with current backend service. Please update to the latest client version.\n",
      "ERROR - 2024-04-26T16:24:55Z - Client version 0.10.1 is not compatible with current backend service. Please update to the latest client version.\n",
      "INFO - 2024-04-26T16:24:56Z - Selected dataset version is \"202311\"\n",
      "INFO - 2024-04-26T16:24:56Z - Downloading using service original-files...\n"
     ]
    },
    {
     "name": "stderr",
     "output_type": "stream",
     "text": [
      "100%|██████████| 1/1 [00:13<00:00, 13.44s/it]\n"
     ]
    },
    {
     "name": "stdout",
     "output_type": "stream",
     "text": [
      "ERROR - 2024-04-26T16:25:14Z - Client version 0.10.1 is not compatible with current backend service. Please update to the latest client version.\n",
      "ERROR - 2024-04-26T16:25:14Z - Client version 0.10.1 is not compatible with current backend service. Please update to the latest client version.\n",
      "ERROR - 2024-04-26T16:25:14Z - Client version 0.10.1 is not compatible with current backend service. Please update to the latest client version.\n",
      "INFO - 2024-04-26T16:25:14Z - Selected dataset version is \"202311\"\n",
      "INFO - 2024-04-26T16:25:14Z - Downloading using service original-files...\n"
     ]
    },
    {
     "name": "stderr",
     "output_type": "stream",
     "text": [
      "100%|██████████| 1/1 [00:13<00:00, 13.54s/it]\n"
     ]
    },
    {
     "name": "stdout",
     "output_type": "stream",
     "text": [
      "ERROR - 2024-04-26T16:25:33Z - Client version 0.10.1 is not compatible with current backend service. Please update to the latest client version.\n",
      "ERROR - 2024-04-26T16:25:33Z - Client version 0.10.1 is not compatible with current backend service. Please update to the latest client version.\n",
      "ERROR - 2024-04-26T16:25:33Z - Client version 0.10.1 is not compatible with current backend service. Please update to the latest client version.\n",
      "INFO - 2024-04-26T16:25:33Z - Selected dataset version is \"202311\"\n",
      "INFO - 2024-04-26T16:25:33Z - Downloading using service original-files...\n"
     ]
    },
    {
     "name": "stderr",
     "output_type": "stream",
     "text": [
      "100%|██████████| 1/1 [00:13<00:00, 13.59s/it]\n"
     ]
    },
    {
     "name": "stdout",
     "output_type": "stream",
     "text": [
      "ERROR - 2024-04-26T16:25:52Z - Client version 0.10.1 is not compatible with current backend service. Please update to the latest client version.\n",
      "ERROR - 2024-04-26T16:25:52Z - Client version 0.10.1 is not compatible with current backend service. Please update to the latest client version.\n",
      "ERROR - 2024-04-26T16:25:52Z - Client version 0.10.1 is not compatible with current backend service. Please update to the latest client version.\n",
      "INFO - 2024-04-26T16:25:52Z - Selected dataset version is \"202311\"\n",
      "INFO - 2024-04-26T16:25:52Z - Downloading using service original-files...\n"
     ]
    },
    {
     "name": "stderr",
     "output_type": "stream",
     "text": [
      "100%|██████████| 1/1 [00:13<00:00, 13.61s/it]\n"
     ]
    },
    {
     "name": "stdout",
     "output_type": "stream",
     "text": [
      "ERROR - 2024-04-26T16:26:11Z - Client version 0.10.1 is not compatible with current backend service. Please update to the latest client version.\n",
      "ERROR - 2024-04-26T16:26:11Z - Client version 0.10.1 is not compatible with current backend service. Please update to the latest client version.\n",
      "ERROR - 2024-04-26T16:26:11Z - Client version 0.10.1 is not compatible with current backend service. Please update to the latest client version.\n",
      "INFO - 2024-04-26T16:26:11Z - Selected dataset version is \"202311\"\n",
      "INFO - 2024-04-26T16:26:11Z - Downloading using service original-files...\n"
     ]
    },
    {
     "name": "stderr",
     "output_type": "stream",
     "text": [
      "100%|██████████| 1/1 [00:13<00:00, 13.57s/it]\n"
     ]
    },
    {
     "name": "stdout",
     "output_type": "stream",
     "text": [
      "ERROR - 2024-04-26T16:26:30Z - Client version 0.10.1 is not compatible with current backend service. Please update to the latest client version.\n",
      "ERROR - 2024-04-26T16:26:30Z - Client version 0.10.1 is not compatible with current backend service. Please update to the latest client version.\n",
      "ERROR - 2024-04-26T16:26:30Z - Client version 0.10.1 is not compatible with current backend service. Please update to the latest client version.\n",
      "INFO - 2024-04-26T16:26:30Z - Selected dataset version is \"202311\"\n",
      "INFO - 2024-04-26T16:26:30Z - Downloading using service original-files...\n"
     ]
    },
    {
     "name": "stderr",
     "output_type": "stream",
     "text": [
      "100%|██████████| 1/1 [00:13<00:00, 13.72s/it]\n"
     ]
    },
    {
     "name": "stdout",
     "output_type": "stream",
     "text": [
      "ERROR - 2024-04-26T16:26:49Z - Client version 0.10.1 is not compatible with current backend service. Please update to the latest client version.\n",
      "ERROR - 2024-04-26T16:26:49Z - Client version 0.10.1 is not compatible with current backend service. Please update to the latest client version.\n",
      "ERROR - 2024-04-26T16:26:49Z - Client version 0.10.1 is not compatible with current backend service. Please update to the latest client version.\n",
      "INFO - 2024-04-26T16:26:49Z - Selected dataset version is \"202311\"\n",
      "INFO - 2024-04-26T16:26:49Z - Downloading using service original-files...\n"
     ]
    },
    {
     "name": "stderr",
     "output_type": "stream",
     "text": [
      "100%|██████████| 1/1 [00:13<00:00, 13.52s/it]\n"
     ]
    },
    {
     "name": "stdout",
     "output_type": "stream",
     "text": [
      "ERROR - 2024-04-26T16:27:08Z - Client version 0.10.1 is not compatible with current backend service. Please update to the latest client version.\n",
      "ERROR - 2024-04-26T16:27:08Z - Client version 0.10.1 is not compatible with current backend service. Please update to the latest client version.\n",
      "ERROR - 2024-04-26T16:27:08Z - Client version 0.10.1 is not compatible with current backend service. Please update to the latest client version.\n",
      "INFO - 2024-04-26T16:27:08Z - Selected dataset version is \"202311\"\n",
      "INFO - 2024-04-26T16:27:08Z - Downloading using service original-files...\n"
     ]
    },
    {
     "name": "stderr",
     "output_type": "stream",
     "text": [
      "100%|██████████| 1/1 [00:13<00:00, 13.66s/it]\n"
     ]
    },
    {
     "name": "stdout",
     "output_type": "stream",
     "text": [
      "ERROR - 2024-04-26T16:27:27Z - Client version 0.10.1 is not compatible with current backend service. Please update to the latest client version.\n",
      "ERROR - 2024-04-26T16:27:27Z - Client version 0.10.1 is not compatible with current backend service. Please update to the latest client version.\n",
      "ERROR - 2024-04-26T16:27:27Z - Client version 0.10.1 is not compatible with current backend service. Please update to the latest client version.\n",
      "INFO - 2024-04-26T16:27:27Z - Selected dataset version is \"202311\"\n",
      "INFO - 2024-04-26T16:27:27Z - Downloading using service original-files...\n"
     ]
    },
    {
     "name": "stderr",
     "output_type": "stream",
     "text": [
      "100%|██████████| 1/1 [00:13<00:00, 13.34s/it]\n"
     ]
    },
    {
     "name": "stdout",
     "output_type": "stream",
     "text": [
      "ERROR - 2024-04-26T16:27:46Z - Client version 0.10.1 is not compatible with current backend service. Please update to the latest client version.\n",
      "ERROR - 2024-04-26T16:27:46Z - Client version 0.10.1 is not compatible with current backend service. Please update to the latest client version.\n",
      "ERROR - 2024-04-26T16:27:46Z - Client version 0.10.1 is not compatible with current backend service. Please update to the latest client version.\n",
      "INFO - 2024-04-26T16:27:46Z - Selected dataset version is \"202311\"\n",
      "INFO - 2024-04-26T16:27:46Z - Downloading using service original-files...\n"
     ]
    },
    {
     "name": "stderr",
     "output_type": "stream",
     "text": [
      "100%|██████████| 1/1 [00:13<00:00, 13.65s/it]\n"
     ]
    },
    {
     "name": "stdout",
     "output_type": "stream",
     "text": [
      "ERROR - 2024-04-26T16:28:05Z - Client version 0.10.1 is not compatible with current backend service. Please update to the latest client version.\n",
      "ERROR - 2024-04-26T16:28:05Z - Client version 0.10.1 is not compatible with current backend service. Please update to the latest client version.\n",
      "ERROR - 2024-04-26T16:28:05Z - Client version 0.10.1 is not compatible with current backend service. Please update to the latest client version.\n",
      "INFO - 2024-04-26T16:28:05Z - Selected dataset version is \"202311\"\n",
      "INFO - 2024-04-26T16:28:05Z - Downloading using service original-files...\n"
     ]
    },
    {
     "name": "stderr",
     "output_type": "stream",
     "text": [
      "100%|██████████| 1/1 [00:13<00:00, 13.67s/it]\n"
     ]
    },
    {
     "name": "stdout",
     "output_type": "stream",
     "text": [
      "ERROR - 2024-04-26T16:28:24Z - Client version 0.10.1 is not compatible with current backend service. Please update to the latest client version.\n",
      "ERROR - 2024-04-26T16:28:24Z - Client version 0.10.1 is not compatible with current backend service. Please update to the latest client version.\n",
      "ERROR - 2024-04-26T16:28:24Z - Client version 0.10.1 is not compatible with current backend service. Please update to the latest client version.\n",
      "INFO - 2024-04-26T16:28:24Z - Selected dataset version is \"202311\"\n",
      "INFO - 2024-04-26T16:28:24Z - Downloading using service original-files...\n"
     ]
    },
    {
     "name": "stderr",
     "output_type": "stream",
     "text": [
      "100%|██████████| 1/1 [00:13<00:00, 13.85s/it]\n"
     ]
    },
    {
     "name": "stdout",
     "output_type": "stream",
     "text": [
      "ERROR - 2024-04-26T16:28:43Z - Client version 0.10.1 is not compatible with current backend service. Please update to the latest client version.\n",
      "ERROR - 2024-04-26T16:28:43Z - Client version 0.10.1 is not compatible with current backend service. Please update to the latest client version.\n",
      "ERROR - 2024-04-26T16:28:43Z - Client version 0.10.1 is not compatible with current backend service. Please update to the latest client version.\n",
      "INFO - 2024-04-26T16:28:43Z - Selected dataset version is \"202311\"\n",
      "INFO - 2024-04-26T16:28:43Z - Downloading using service original-files...\n"
     ]
    },
    {
     "name": "stderr",
     "output_type": "stream",
     "text": [
      "100%|██████████| 1/1 [00:13<00:00, 13.59s/it]\n"
     ]
    },
    {
     "name": "stdout",
     "output_type": "stream",
     "text": [
      "ERROR - 2024-04-26T16:29:02Z - Client version 0.10.1 is not compatible with current backend service. Please update to the latest client version.\n",
      "ERROR - 2024-04-26T16:29:02Z - Client version 0.10.1 is not compatible with current backend service. Please update to the latest client version.\n",
      "ERROR - 2024-04-26T16:29:02Z - Client version 0.10.1 is not compatible with current backend service. Please update to the latest client version.\n",
      "INFO - 2024-04-26T16:29:02Z - Selected dataset version is \"202311\"\n",
      "INFO - 2024-04-26T16:29:02Z - Downloading using service original-files...\n"
     ]
    },
    {
     "name": "stderr",
     "output_type": "stream",
     "text": [
      "100%|██████████| 1/1 [00:13<00:00, 13.59s/it]\n"
     ]
    },
    {
     "name": "stdout",
     "output_type": "stream",
     "text": [
      "ERROR - 2024-04-26T16:29:21Z - Client version 0.10.1 is not compatible with current backend service. Please update to the latest client version.\n",
      "ERROR - 2024-04-26T16:29:21Z - Client version 0.10.1 is not compatible with current backend service. Please update to the latest client version.\n",
      "ERROR - 2024-04-26T16:29:21Z - Client version 0.10.1 is not compatible with current backend service. Please update to the latest client version.\n",
      "INFO - 2024-04-26T16:29:21Z - Selected dataset version is \"202311\"\n",
      "INFO - 2024-04-26T16:29:21Z - Downloading using service original-files...\n"
     ]
    },
    {
     "name": "stderr",
     "output_type": "stream",
     "text": [
      "100%|██████████| 1/1 [00:13<00:00, 13.59s/it]\n"
     ]
    },
    {
     "name": "stdout",
     "output_type": "stream",
     "text": [
      "ERROR - 2024-04-26T16:29:40Z - Client version 0.10.1 is not compatible with current backend service. Please update to the latest client version.\n",
      "ERROR - 2024-04-26T16:29:40Z - Client version 0.10.1 is not compatible with current backend service. Please update to the latest client version.\n",
      "ERROR - 2024-04-26T16:29:40Z - Client version 0.10.1 is not compatible with current backend service. Please update to the latest client version.\n",
      "INFO - 2024-04-26T16:29:40Z - Selected dataset version is \"202311\"\n",
      "INFO - 2024-04-26T16:29:40Z - Downloading using service original-files...\n"
     ]
    },
    {
     "name": "stderr",
     "output_type": "stream",
     "text": [
      "100%|██████████| 1/1 [00:13<00:00, 13.69s/it]\n"
     ]
    },
    {
     "name": "stdout",
     "output_type": "stream",
     "text": [
      "ERROR - 2024-04-26T16:29:59Z - Client version 0.10.1 is not compatible with current backend service. Please update to the latest client version.\n",
      "ERROR - 2024-04-26T16:29:59Z - Client version 0.10.1 is not compatible with current backend service. Please update to the latest client version.\n",
      "ERROR - 2024-04-26T16:29:59Z - Client version 0.10.1 is not compatible with current backend service. Please update to the latest client version.\n",
      "INFO - 2024-04-26T16:29:59Z - Selected dataset version is \"202311\"\n",
      "INFO - 2024-04-26T16:29:59Z - Downloading using service original-files...\n"
     ]
    },
    {
     "name": "stderr",
     "output_type": "stream",
     "text": [
      "100%|██████████| 1/1 [00:13<00:00, 13.61s/it]\n"
     ]
    },
    {
     "name": "stdout",
     "output_type": "stream",
     "text": [
      "ERROR - 2024-04-26T16:30:18Z - Client version 0.10.1 is not compatible with current backend service. Please update to the latest client version.\n",
      "ERROR - 2024-04-26T16:30:18Z - Client version 0.10.1 is not compatible with current backend service. Please update to the latest client version.\n",
      "ERROR - 2024-04-26T16:30:18Z - Client version 0.10.1 is not compatible with current backend service. Please update to the latest client version.\n",
      "INFO - 2024-04-26T16:30:18Z - Selected dataset version is \"202311\"\n",
      "INFO - 2024-04-26T16:30:18Z - Downloading using service original-files...\n"
     ]
    },
    {
     "name": "stderr",
     "output_type": "stream",
     "text": [
      "100%|██████████| 1/1 [00:13<00:00, 13.71s/it]\n"
     ]
    },
    {
     "name": "stdout",
     "output_type": "stream",
     "text": [
      "ERROR - 2024-04-26T16:30:37Z - Client version 0.10.1 is not compatible with current backend service. Please update to the latest client version.\n",
      "ERROR - 2024-04-26T16:30:37Z - Client version 0.10.1 is not compatible with current backend service. Please update to the latest client version.\n",
      "ERROR - 2024-04-26T16:30:37Z - Client version 0.10.1 is not compatible with current backend service. Please update to the latest client version.\n",
      "INFO - 2024-04-26T16:30:37Z - Selected dataset version is \"202311\"\n",
      "INFO - 2024-04-26T16:30:37Z - Downloading using service original-files...\n"
     ]
    },
    {
     "name": "stderr",
     "output_type": "stream",
     "text": [
      "100%|██████████| 1/1 [00:13<00:00, 13.74s/it]\n"
     ]
    },
    {
     "name": "stdout",
     "output_type": "stream",
     "text": [
      "ERROR - 2024-04-26T16:30:56Z - Client version 0.10.1 is not compatible with current backend service. Please update to the latest client version.\n",
      "ERROR - 2024-04-26T16:30:56Z - Client version 0.10.1 is not compatible with current backend service. Please update to the latest client version.\n",
      "ERROR - 2024-04-26T16:30:56Z - Client version 0.10.1 is not compatible with current backend service. Please update to the latest client version.\n",
      "INFO - 2024-04-26T16:30:56Z - Selected dataset version is \"202311\"\n",
      "INFO - 2024-04-26T16:30:56Z - Downloading using service original-files...\n"
     ]
    },
    {
     "name": "stderr",
     "output_type": "stream",
     "text": [
      "100%|██████████| 1/1 [00:13<00:00, 13.60s/it]\n"
     ]
    },
    {
     "name": "stdout",
     "output_type": "stream",
     "text": [
      "ERROR - 2024-04-26T16:31:15Z - Client version 0.10.1 is not compatible with current backend service. Please update to the latest client version.\n",
      "ERROR - 2024-04-26T16:31:15Z - Client version 0.10.1 is not compatible with current backend service. Please update to the latest client version.\n",
      "ERROR - 2024-04-26T16:31:15Z - Client version 0.10.1 is not compatible with current backend service. Please update to the latest client version.\n",
      "INFO - 2024-04-26T16:31:15Z - Selected dataset version is \"202311\"\n",
      "INFO - 2024-04-26T16:31:15Z - Downloading using service original-files...\n"
     ]
    },
    {
     "name": "stderr",
     "output_type": "stream",
     "text": [
      "100%|██████████| 1/1 [00:13<00:00, 13.52s/it]\n"
     ]
    },
    {
     "name": "stdout",
     "output_type": "stream",
     "text": [
      "ERROR - 2024-04-26T16:31:33Z - Client version 0.10.1 is not compatible with current backend service. Please update to the latest client version.\n",
      "ERROR - 2024-04-26T16:31:33Z - Client version 0.10.1 is not compatible with current backend service. Please update to the latest client version.\n",
      "ERROR - 2024-04-26T16:31:33Z - Client version 0.10.1 is not compatible with current backend service. Please update to the latest client version.\n",
      "INFO - 2024-04-26T16:31:34Z - Selected dataset version is \"202311\"\n",
      "INFO - 2024-04-26T16:31:34Z - Downloading using service original-files...\n"
     ]
    },
    {
     "name": "stderr",
     "output_type": "stream",
     "text": [
      "100%|██████████| 1/1 [00:13<00:00, 13.26s/it]\n"
     ]
    },
    {
     "name": "stdout",
     "output_type": "stream",
     "text": [
      "ERROR - 2024-04-26T16:31:52Z - Client version 0.10.1 is not compatible with current backend service. Please update to the latest client version.\n",
      "ERROR - 2024-04-26T16:31:52Z - Client version 0.10.1 is not compatible with current backend service. Please update to the latest client version.\n",
      "ERROR - 2024-04-26T16:31:52Z - Client version 0.10.1 is not compatible with current backend service. Please update to the latest client version.\n",
      "INFO - 2024-04-26T16:31:53Z - Selected dataset version is \"202311\"\n",
      "INFO - 2024-04-26T16:31:53Z - Downloading using service original-files...\n"
     ]
    },
    {
     "name": "stderr",
     "output_type": "stream",
     "text": [
      "100%|██████████| 1/1 [00:13<00:00, 13.94s/it]\n"
     ]
    },
    {
     "name": "stdout",
     "output_type": "stream",
     "text": [
      "ERROR - 2024-04-26T16:32:11Z - Client version 0.10.1 is not compatible with current backend service. Please update to the latest client version.\n",
      "ERROR - 2024-04-26T16:32:11Z - Client version 0.10.1 is not compatible with current backend service. Please update to the latest client version.\n",
      "ERROR - 2024-04-26T16:32:11Z - Client version 0.10.1 is not compatible with current backend service. Please update to the latest client version.\n",
      "INFO - 2024-04-26T16:32:12Z - Selected dataset version is \"202311\"\n",
      "INFO - 2024-04-26T16:32:12Z - Downloading using service original-files...\n"
     ]
    },
    {
     "name": "stderr",
     "output_type": "stream",
     "text": [
      "100%|██████████| 1/1 [00:13<00:00, 13.51s/it]\n"
     ]
    },
    {
     "name": "stdout",
     "output_type": "stream",
     "text": [
      "ERROR - 2024-04-26T16:32:30Z - Client version 0.10.1 is not compatible with current backend service. Please update to the latest client version.\n",
      "ERROR - 2024-04-26T16:32:30Z - Client version 0.10.1 is not compatible with current backend service. Please update to the latest client version.\n",
      "ERROR - 2024-04-26T16:32:30Z - Client version 0.10.1 is not compatible with current backend service. Please update to the latest client version.\n",
      "INFO - 2024-04-26T16:32:31Z - Selected dataset version is \"202311\"\n",
      "INFO - 2024-04-26T16:32:31Z - Downloading using service original-files...\n"
     ]
    },
    {
     "name": "stderr",
     "output_type": "stream",
     "text": [
      "100%|██████████| 1/1 [00:13<00:00, 13.71s/it]\n"
     ]
    },
    {
     "name": "stdout",
     "output_type": "stream",
     "text": [
      "ERROR - 2024-04-26T16:32:49Z - Client version 0.10.1 is not compatible with current backend service. Please update to the latest client version.\n",
      "ERROR - 2024-04-26T16:32:49Z - Client version 0.10.1 is not compatible with current backend service. Please update to the latest client version.\n",
      "ERROR - 2024-04-26T16:32:49Z - Client version 0.10.1 is not compatible with current backend service. Please update to the latest client version.\n",
      "INFO - 2024-04-26T16:32:50Z - Selected dataset version is \"202311\"\n",
      "INFO - 2024-04-26T16:32:50Z - Downloading using service original-files...\n"
     ]
    },
    {
     "name": "stderr",
     "output_type": "stream",
     "text": [
      "100%|██████████| 1/1 [00:13<00:00, 13.72s/it]\n"
     ]
    },
    {
     "name": "stdout",
     "output_type": "stream",
     "text": [
      "ERROR - 2024-04-26T16:33:08Z - Client version 0.10.1 is not compatible with current backend service. Please update to the latest client version.\n",
      "ERROR - 2024-04-26T16:33:08Z - Client version 0.10.1 is not compatible with current backend service. Please update to the latest client version.\n",
      "ERROR - 2024-04-26T16:33:08Z - Client version 0.10.1 is not compatible with current backend service. Please update to the latest client version.\n",
      "INFO - 2024-04-26T16:33:09Z - Selected dataset version is \"202311\"\n",
      "INFO - 2024-04-26T16:33:09Z - Downloading using service original-files...\n"
     ]
    },
    {
     "name": "stderr",
     "output_type": "stream",
     "text": [
      "100%|██████████| 1/1 [00:13<00:00, 13.53s/it]\n"
     ]
    },
    {
     "name": "stdout",
     "output_type": "stream",
     "text": [
      "ERROR - 2024-04-26T16:33:28Z - Client version 0.10.1 is not compatible with current backend service. Please update to the latest client version.\n",
      "ERROR - 2024-04-26T16:33:28Z - Client version 0.10.1 is not compatible with current backend service. Please update to the latest client version.\n",
      "ERROR - 2024-04-26T16:33:28Z - Client version 0.10.1 is not compatible with current backend service. Please update to the latest client version.\n",
      "INFO - 2024-04-26T16:33:28Z - Selected dataset version is \"202311\"\n",
      "INFO - 2024-04-26T16:33:28Z - Downloading using service original-files...\n"
     ]
    },
    {
     "name": "stderr",
     "output_type": "stream",
     "text": [
      "100%|██████████| 1/1 [00:13<00:00, 13.32s/it]\n"
     ]
    },
    {
     "name": "stdout",
     "output_type": "stream",
     "text": [
      "ERROR - 2024-04-26T16:33:46Z - Client version 0.10.1 is not compatible with current backend service. Please update to the latest client version.\n",
      "ERROR - 2024-04-26T16:33:46Z - Client version 0.10.1 is not compatible with current backend service. Please update to the latest client version.\n",
      "ERROR - 2024-04-26T16:33:46Z - Client version 0.10.1 is not compatible with current backend service. Please update to the latest client version.\n",
      "INFO - 2024-04-26T16:33:47Z - Selected dataset version is \"202311\"\n",
      "INFO - 2024-04-26T16:33:47Z - Downloading using service original-files...\n"
     ]
    },
    {
     "name": "stderr",
     "output_type": "stream",
     "text": [
      "100%|██████████| 1/1 [00:13<00:00, 13.56s/it]\n"
     ]
    },
    {
     "name": "stdout",
     "output_type": "stream",
     "text": [
      "ERROR - 2024-04-26T16:34:05Z - Client version 0.10.1 is not compatible with current backend service. Please update to the latest client version.\n",
      "ERROR - 2024-04-26T16:34:05Z - Client version 0.10.1 is not compatible with current backend service. Please update to the latest client version.\n",
      "ERROR - 2024-04-26T16:34:05Z - Client version 0.10.1 is not compatible with current backend service. Please update to the latest client version.\n",
      "INFO - 2024-04-26T16:34:05Z - Selected dataset version is \"202311\"\n",
      "INFO - 2024-04-26T16:34:05Z - Downloading using service original-files...\n"
     ]
    },
    {
     "name": "stderr",
     "output_type": "stream",
     "text": [
      "100%|██████████| 1/1 [00:13<00:00, 13.52s/it]\n"
     ]
    },
    {
     "name": "stdout",
     "output_type": "stream",
     "text": [
      "ERROR - 2024-04-26T16:34:24Z - Client version 0.10.1 is not compatible with current backend service. Please update to the latest client version.\n",
      "ERROR - 2024-04-26T16:34:24Z - Client version 0.10.1 is not compatible with current backend service. Please update to the latest client version.\n",
      "ERROR - 2024-04-26T16:34:24Z - Client version 0.10.1 is not compatible with current backend service. Please update to the latest client version.\n",
      "INFO - 2024-04-26T16:34:25Z - Selected dataset version is \"202311\"\n",
      "INFO - 2024-04-26T16:34:25Z - Downloading using service original-files...\n"
     ]
    },
    {
     "name": "stderr",
     "output_type": "stream",
     "text": [
      "100%|██████████| 1/1 [00:13<00:00, 13.48s/it]\n"
     ]
    },
    {
     "name": "stdout",
     "output_type": "stream",
     "text": [
      "ERROR - 2024-04-26T16:34:43Z - Client version 0.10.1 is not compatible with current backend service. Please update to the latest client version.\n",
      "ERROR - 2024-04-26T16:34:43Z - Client version 0.10.1 is not compatible with current backend service. Please update to the latest client version.\n",
      "ERROR - 2024-04-26T16:34:43Z - Client version 0.10.1 is not compatible with current backend service. Please update to the latest client version.\n",
      "INFO - 2024-04-26T16:34:44Z - Selected dataset version is \"202311\"\n",
      "INFO - 2024-04-26T16:34:44Z - Downloading using service original-files...\n"
     ]
    },
    {
     "name": "stderr",
     "output_type": "stream",
     "text": [
      "100%|██████████| 1/1 [00:13<00:00, 13.68s/it]\n"
     ]
    },
    {
     "name": "stdout",
     "output_type": "stream",
     "text": [
      "ERROR - 2024-04-26T16:35:03Z - Client version 0.10.1 is not compatible with current backend service. Please update to the latest client version.\n",
      "ERROR - 2024-04-26T16:35:03Z - Client version 0.10.1 is not compatible with current backend service. Please update to the latest client version.\n",
      "ERROR - 2024-04-26T16:35:03Z - Client version 0.10.1 is not compatible with current backend service. Please update to the latest client version.\n",
      "INFO - 2024-04-26T16:35:03Z - Selected dataset version is \"202311\"\n",
      "INFO - 2024-04-26T16:35:03Z - Downloading using service original-files...\n"
     ]
    },
    {
     "name": "stderr",
     "output_type": "stream",
     "text": [
      "100%|██████████| 1/1 [00:13<00:00, 13.43s/it]\n"
     ]
    },
    {
     "name": "stdout",
     "output_type": "stream",
     "text": [
      "ERROR - 2024-04-26T16:35:22Z - Client version 0.10.1 is not compatible with current backend service. Please update to the latest client version.\n",
      "ERROR - 2024-04-26T16:35:22Z - Client version 0.10.1 is not compatible with current backend service. Please update to the latest client version.\n",
      "ERROR - 2024-04-26T16:35:22Z - Client version 0.10.1 is not compatible with current backend service. Please update to the latest client version.\n",
      "INFO - 2024-04-26T16:35:22Z - Selected dataset version is \"202311\"\n",
      "INFO - 2024-04-26T16:35:22Z - Downloading using service original-files...\n"
     ]
    },
    {
     "name": "stderr",
     "output_type": "stream",
     "text": [
      "100%|██████████| 1/1 [00:13<00:00, 13.39s/it]\n"
     ]
    },
    {
     "name": "stdout",
     "output_type": "stream",
     "text": [
      "ERROR - 2024-04-26T16:35:40Z - Client version 0.10.1 is not compatible with current backend service. Please update to the latest client version.\n",
      "ERROR - 2024-04-26T16:35:40Z - Client version 0.10.1 is not compatible with current backend service. Please update to the latest client version.\n",
      "ERROR - 2024-04-26T16:35:40Z - Client version 0.10.1 is not compatible with current backend service. Please update to the latest client version.\n",
      "INFO - 2024-04-26T16:35:41Z - Selected dataset version is \"202311\"\n",
      "INFO - 2024-04-26T16:35:41Z - Downloading using service original-files...\n"
     ]
    },
    {
     "name": "stderr",
     "output_type": "stream",
     "text": [
      "100%|██████████| 1/1 [00:13<00:00, 13.92s/it]\n"
     ]
    },
    {
     "name": "stdout",
     "output_type": "stream",
     "text": [
      "ERROR - 2024-04-26T16:36:00Z - Client version 0.10.1 is not compatible with current backend service. Please update to the latest client version.\n",
      "ERROR - 2024-04-26T16:36:00Z - Client version 0.10.1 is not compatible with current backend service. Please update to the latest client version.\n",
      "ERROR - 2024-04-26T16:36:00Z - Client version 0.10.1 is not compatible with current backend service. Please update to the latest client version.\n",
      "INFO - 2024-04-26T16:36:00Z - Selected dataset version is \"202311\"\n",
      "INFO - 2024-04-26T16:36:00Z - Downloading using service original-files...\n"
     ]
    },
    {
     "name": "stderr",
     "output_type": "stream",
     "text": [
      "100%|██████████| 1/1 [00:13<00:00, 13.64s/it]\n"
     ]
    },
    {
     "name": "stdout",
     "output_type": "stream",
     "text": [
      "ERROR - 2024-04-26T16:36:19Z - Client version 0.10.1 is not compatible with current backend service. Please update to the latest client version.\n",
      "ERROR - 2024-04-26T16:36:19Z - Client version 0.10.1 is not compatible with current backend service. Please update to the latest client version.\n",
      "ERROR - 2024-04-26T16:36:19Z - Client version 0.10.1 is not compatible with current backend service. Please update to the latest client version.\n",
      "INFO - 2024-04-26T16:36:19Z - Selected dataset version is \"202311\"\n",
      "INFO - 2024-04-26T16:36:19Z - Downloading using service original-files...\n"
     ]
    },
    {
     "name": "stderr",
     "output_type": "stream",
     "text": [
      "100%|██████████| 1/1 [00:13<00:00, 13.58s/it]\n"
     ]
    },
    {
     "name": "stdout",
     "output_type": "stream",
     "text": [
      "ERROR - 2024-04-26T16:36:38Z - Client version 0.10.1 is not compatible with current backend service. Please update to the latest client version.\n",
      "ERROR - 2024-04-26T16:36:38Z - Client version 0.10.1 is not compatible with current backend service. Please update to the latest client version.\n",
      "ERROR - 2024-04-26T16:36:38Z - Client version 0.10.1 is not compatible with current backend service. Please update to the latest client version.\n",
      "INFO - 2024-04-26T16:36:38Z - Selected dataset version is \"202311\"\n",
      "INFO - 2024-04-26T16:36:38Z - Downloading using service original-files...\n"
     ]
    },
    {
     "name": "stderr",
     "output_type": "stream",
     "text": [
      "100%|██████████| 1/1 [00:13<00:00, 13.36s/it]\n"
     ]
    },
    {
     "name": "stdout",
     "output_type": "stream",
     "text": [
      "ERROR - 2024-04-26T16:36:57Z - Client version 0.10.1 is not compatible with current backend service. Please update to the latest client version.\n",
      "ERROR - 2024-04-26T16:36:57Z - Client version 0.10.1 is not compatible with current backend service. Please update to the latest client version.\n",
      "ERROR - 2024-04-26T16:36:57Z - Client version 0.10.1 is not compatible with current backend service. Please update to the latest client version.\n",
      "INFO - 2024-04-26T16:36:57Z - Selected dataset version is \"202311\"\n",
      "INFO - 2024-04-26T16:36:57Z - Downloading using service original-files...\n"
     ]
    },
    {
     "name": "stderr",
     "output_type": "stream",
     "text": [
      "100%|██████████| 1/1 [00:13<00:00, 13.61s/it]\n"
     ]
    },
    {
     "name": "stdout",
     "output_type": "stream",
     "text": [
      "ERROR - 2024-04-26T16:37:16Z - Client version 0.10.1 is not compatible with current backend service. Please update to the latest client version.\n",
      "ERROR - 2024-04-26T16:37:16Z - Client version 0.10.1 is not compatible with current backend service. Please update to the latest client version.\n",
      "ERROR - 2024-04-26T16:37:16Z - Client version 0.10.1 is not compatible with current backend service. Please update to the latest client version.\n",
      "INFO - 2024-04-26T16:37:16Z - Selected dataset version is \"202311\"\n",
      "INFO - 2024-04-26T16:37:16Z - Downloading using service original-files...\n"
     ]
    },
    {
     "name": "stderr",
     "output_type": "stream",
     "text": [
      "100%|██████████| 1/1 [00:13<00:00, 13.70s/it]\n"
     ]
    },
    {
     "name": "stdout",
     "output_type": "stream",
     "text": [
      "ERROR - 2024-04-26T16:37:35Z - Client version 0.10.1 is not compatible with current backend service. Please update to the latest client version.\n",
      "ERROR - 2024-04-26T16:37:35Z - Client version 0.10.1 is not compatible with current backend service. Please update to the latest client version.\n",
      "ERROR - 2024-04-26T16:37:35Z - Client version 0.10.1 is not compatible with current backend service. Please update to the latest client version.\n",
      "INFO - 2024-04-26T16:37:35Z - Selected dataset version is \"202311\"\n",
      "INFO - 2024-04-26T16:37:35Z - Downloading using service original-files...\n"
     ]
    },
    {
     "name": "stderr",
     "output_type": "stream",
     "text": [
      "100%|██████████| 1/1 [00:13<00:00, 13.39s/it]\n"
     ]
    },
    {
     "name": "stdout",
     "output_type": "stream",
     "text": [
      "ERROR - 2024-04-26T16:37:54Z - Client version 0.10.1 is not compatible with current backend service. Please update to the latest client version.\n",
      "ERROR - 2024-04-26T16:37:54Z - Client version 0.10.1 is not compatible with current backend service. Please update to the latest client version.\n",
      "ERROR - 2024-04-26T16:37:54Z - Client version 0.10.1 is not compatible with current backend service. Please update to the latest client version.\n",
      "INFO - 2024-04-26T16:37:54Z - Selected dataset version is \"202311\"\n",
      "INFO - 2024-04-26T16:37:54Z - Downloading using service original-files...\n"
     ]
    },
    {
     "name": "stderr",
     "output_type": "stream",
     "text": [
      "100%|██████████| 1/1 [00:13<00:00, 13.68s/it]\n"
     ]
    },
    {
     "name": "stdout",
     "output_type": "stream",
     "text": [
      "ERROR - 2024-04-26T16:38:13Z - Client version 0.10.1 is not compatible with current backend service. Please update to the latest client version.\n",
      "ERROR - 2024-04-26T16:38:13Z - Client version 0.10.1 is not compatible with current backend service. Please update to the latest client version.\n",
      "ERROR - 2024-04-26T16:38:13Z - Client version 0.10.1 is not compatible with current backend service. Please update to the latest client version.\n",
      "INFO - 2024-04-26T16:38:13Z - Selected dataset version is \"202311\"\n",
      "INFO - 2024-04-26T16:38:13Z - Downloading using service original-files...\n"
     ]
    },
    {
     "name": "stderr",
     "output_type": "stream",
     "text": [
      "100%|██████████| 1/1 [00:13<00:00, 13.52s/it]\n"
     ]
    },
    {
     "name": "stdout",
     "output_type": "stream",
     "text": [
      "ERROR - 2024-04-26T16:38:32Z - Client version 0.10.1 is not compatible with current backend service. Please update to the latest client version.\n",
      "ERROR - 2024-04-26T16:38:32Z - Client version 0.10.1 is not compatible with current backend service. Please update to the latest client version.\n",
      "ERROR - 2024-04-26T16:38:32Z - Client version 0.10.1 is not compatible with current backend service. Please update to the latest client version.\n",
      "INFO - 2024-04-26T16:38:32Z - Selected dataset version is \"202311\"\n",
      "INFO - 2024-04-26T16:38:32Z - Downloading using service original-files...\n"
     ]
    },
    {
     "name": "stderr",
     "output_type": "stream",
     "text": [
      "100%|██████████| 1/1 [00:13<00:00, 13.68s/it]\n"
     ]
    },
    {
     "name": "stdout",
     "output_type": "stream",
     "text": [
      "ERROR - 2024-04-26T16:38:51Z - Client version 0.10.1 is not compatible with current backend service. Please update to the latest client version.\n",
      "ERROR - 2024-04-26T16:38:51Z - Client version 0.10.1 is not compatible with current backend service. Please update to the latest client version.\n",
      "ERROR - 2024-04-26T16:38:51Z - Client version 0.10.1 is not compatible with current backend service. Please update to the latest client version.\n",
      "INFO - 2024-04-26T16:38:52Z - Selected dataset version is \"202311\"\n",
      "INFO - 2024-04-26T16:38:52Z - Downloading using service original-files...\n"
     ]
    },
    {
     "name": "stderr",
     "output_type": "stream",
     "text": [
      "100%|██████████| 1/1 [00:13<00:00, 13.60s/it]\n"
     ]
    },
    {
     "name": "stdout",
     "output_type": "stream",
     "text": [
      "ERROR - 2024-04-26T16:39:10Z - Client version 0.10.1 is not compatible with current backend service. Please update to the latest client version.\n",
      "ERROR - 2024-04-26T16:39:10Z - Client version 0.10.1 is not compatible with current backend service. Please update to the latest client version.\n",
      "ERROR - 2024-04-26T16:39:10Z - Client version 0.10.1 is not compatible with current backend service. Please update to the latest client version.\n",
      "INFO - 2024-04-26T16:39:11Z - Selected dataset version is \"202311\"\n",
      "INFO - 2024-04-26T16:39:11Z - Downloading using service original-files...\n"
     ]
    },
    {
     "name": "stderr",
     "output_type": "stream",
     "text": [
      "100%|██████████| 1/1 [00:13<00:00, 13.45s/it]\n"
     ]
    },
    {
     "name": "stdout",
     "output_type": "stream",
     "text": [
      "ERROR - 2024-04-26T16:39:29Z - Client version 0.10.1 is not compatible with current backend service. Please update to the latest client version.\n",
      "ERROR - 2024-04-26T16:39:29Z - Client version 0.10.1 is not compatible with current backend service. Please update to the latest client version.\n",
      "ERROR - 2024-04-26T16:39:29Z - Client version 0.10.1 is not compatible with current backend service. Please update to the latest client version.\n",
      "INFO - 2024-04-26T16:39:29Z - Selected dataset version is \"202311\"\n",
      "INFO - 2024-04-26T16:39:29Z - Downloading using service original-files...\n"
     ]
    },
    {
     "name": "stderr",
     "output_type": "stream",
     "text": [
      "100%|██████████| 1/1 [00:13<00:00, 13.36s/it]\n"
     ]
    },
    {
     "name": "stdout",
     "output_type": "stream",
     "text": [
      "ERROR - 2024-04-26T16:39:48Z - Client version 0.10.1 is not compatible with current backend service. Please update to the latest client version.\n",
      "ERROR - 2024-04-26T16:39:48Z - Client version 0.10.1 is not compatible with current backend service. Please update to the latest client version.\n",
      "ERROR - 2024-04-26T16:39:48Z - Client version 0.10.1 is not compatible with current backend service. Please update to the latest client version.\n",
      "INFO - 2024-04-26T16:39:48Z - Selected dataset version is \"202311\"\n",
      "INFO - 2024-04-26T16:39:48Z - Downloading using service original-files...\n"
     ]
    },
    {
     "name": "stderr",
     "output_type": "stream",
     "text": [
      "100%|██████████| 1/1 [00:13<00:00, 13.59s/it]\n"
     ]
    },
    {
     "name": "stdout",
     "output_type": "stream",
     "text": [
      "ERROR - 2024-04-26T16:40:07Z - Client version 0.10.1 is not compatible with current backend service. Please update to the latest client version.\n",
      "ERROR - 2024-04-26T16:40:07Z - Client version 0.10.1 is not compatible with current backend service. Please update to the latest client version.\n",
      "ERROR - 2024-04-26T16:40:07Z - Client version 0.10.1 is not compatible with current backend service. Please update to the latest client version.\n",
      "INFO - 2024-04-26T16:40:07Z - Selected dataset version is \"202311\"\n",
      "INFO - 2024-04-26T16:40:07Z - Downloading using service original-files...\n"
     ]
    },
    {
     "name": "stderr",
     "output_type": "stream",
     "text": [
      "100%|██████████| 1/1 [00:13<00:00, 13.63s/it]\n"
     ]
    },
    {
     "name": "stdout",
     "output_type": "stream",
     "text": [
      "ERROR - 2024-04-26T16:40:26Z - Client version 0.10.1 is not compatible with current backend service. Please update to the latest client version.\n",
      "ERROR - 2024-04-26T16:40:26Z - Client version 0.10.1 is not compatible with current backend service. Please update to the latest client version.\n",
      "ERROR - 2024-04-26T16:40:26Z - Client version 0.10.1 is not compatible with current backend service. Please update to the latest client version.\n",
      "INFO - 2024-04-26T16:40:26Z - Selected dataset version is \"202311\"\n",
      "INFO - 2024-04-26T16:40:26Z - Downloading using service original-files...\n"
     ]
    },
    {
     "name": "stderr",
     "output_type": "stream",
     "text": [
      "100%|██████████| 1/1 [00:13<00:00, 13.52s/it]\n"
     ]
    },
    {
     "name": "stdout",
     "output_type": "stream",
     "text": [
      "ERROR - 2024-04-26T16:40:45Z - Client version 0.10.1 is not compatible with current backend service. Please update to the latest client version.\n",
      "ERROR - 2024-04-26T16:40:45Z - Client version 0.10.1 is not compatible with current backend service. Please update to the latest client version.\n",
      "ERROR - 2024-04-26T16:40:45Z - Client version 0.10.1 is not compatible with current backend service. Please update to the latest client version.\n",
      "INFO - 2024-04-26T16:40:45Z - Selected dataset version is \"202311\"\n",
      "INFO - 2024-04-26T16:40:45Z - Downloading using service original-files...\n"
     ]
    },
    {
     "name": "stderr",
     "output_type": "stream",
     "text": [
      "100%|██████████| 1/1 [00:13<00:00, 13.69s/it]\n"
     ]
    },
    {
     "name": "stdout",
     "output_type": "stream",
     "text": [
      "ERROR - 2024-04-26T16:41:04Z - Client version 0.10.1 is not compatible with current backend service. Please update to the latest client version.\n",
      "ERROR - 2024-04-26T16:41:04Z - Client version 0.10.1 is not compatible with current backend service. Please update to the latest client version.\n",
      "ERROR - 2024-04-26T16:41:04Z - Client version 0.10.1 is not compatible with current backend service. Please update to the latest client version.\n",
      "INFO - 2024-04-26T16:41:04Z - Selected dataset version is \"202311\"\n",
      "INFO - 2024-04-26T16:41:04Z - Downloading using service original-files...\n"
     ]
    },
    {
     "name": "stderr",
     "output_type": "stream",
     "text": [
      "100%|██████████| 1/1 [00:13<00:00, 13.53s/it]\n"
     ]
    },
    {
     "name": "stdout",
     "output_type": "stream",
     "text": [
      "ERROR - 2024-04-26T16:41:23Z - Client version 0.10.1 is not compatible with current backend service. Please update to the latest client version.\n",
      "ERROR - 2024-04-26T16:41:23Z - Client version 0.10.1 is not compatible with current backend service. Please update to the latest client version.\n",
      "ERROR - 2024-04-26T16:41:23Z - Client version 0.10.1 is not compatible with current backend service. Please update to the latest client version.\n",
      "INFO - 2024-04-26T16:41:23Z - Selected dataset version is \"202311\"\n",
      "INFO - 2024-04-26T16:41:23Z - Downloading using service original-files...\n"
     ]
    },
    {
     "name": "stderr",
     "output_type": "stream",
     "text": [
      "100%|██████████| 1/1 [00:13<00:00, 13.44s/it]\n"
     ]
    },
    {
     "name": "stdout",
     "output_type": "stream",
     "text": [
      "ERROR - 2024-04-26T16:41:41Z - Client version 0.10.1 is not compatible with current backend service. Please update to the latest client version.\n",
      "ERROR - 2024-04-26T16:41:41Z - Client version 0.10.1 is not compatible with current backend service. Please update to the latest client version.\n",
      "ERROR - 2024-04-26T16:41:41Z - Client version 0.10.1 is not compatible with current backend service. Please update to the latest client version.\n",
      "INFO - 2024-04-26T16:41:42Z - Selected dataset version is \"202311\"\n",
      "INFO - 2024-04-26T16:41:42Z - Downloading using service original-files...\n"
     ]
    },
    {
     "name": "stderr",
     "output_type": "stream",
     "text": [
      "100%|██████████| 1/1 [00:13<00:00, 13.51s/it]\n"
     ]
    },
    {
     "name": "stdout",
     "output_type": "stream",
     "text": [
      "ERROR - 2024-04-26T16:42:00Z - Client version 0.10.1 is not compatible with current backend service. Please update to the latest client version.\n",
      "ERROR - 2024-04-26T16:42:00Z - Client version 0.10.1 is not compatible with current backend service. Please update to the latest client version.\n",
      "ERROR - 2024-04-26T16:42:00Z - Client version 0.10.1 is not compatible with current backend service. Please update to the latest client version.\n",
      "INFO - 2024-04-26T16:42:01Z - Selected dataset version is \"202311\"\n",
      "INFO - 2024-04-26T16:42:01Z - Downloading using service original-files...\n"
     ]
    },
    {
     "name": "stderr",
     "output_type": "stream",
     "text": [
      "100%|██████████| 1/1 [00:13<00:00, 13.53s/it]\n"
     ]
    },
    {
     "name": "stdout",
     "output_type": "stream",
     "text": [
      "ERROR - 2024-04-26T16:42:19Z - Client version 0.10.1 is not compatible with current backend service. Please update to the latest client version.\n",
      "ERROR - 2024-04-26T16:42:19Z - Client version 0.10.1 is not compatible with current backend service. Please update to the latest client version.\n",
      "ERROR - 2024-04-26T16:42:19Z - Client version 0.10.1 is not compatible with current backend service. Please update to the latest client version.\n",
      "INFO - 2024-04-26T16:42:19Z - Selected dataset version is \"202311\"\n",
      "INFO - 2024-04-26T16:42:19Z - Downloading using service original-files...\n"
     ]
    },
    {
     "name": "stderr",
     "output_type": "stream",
     "text": [
      "100%|██████████| 1/1 [00:13<00:00, 13.43s/it]\n"
     ]
    },
    {
     "name": "stdout",
     "output_type": "stream",
     "text": [
      "ERROR - 2024-04-26T16:42:38Z - Client version 0.10.1 is not compatible with current backend service. Please update to the latest client version.\n",
      "ERROR - 2024-04-26T16:42:38Z - Client version 0.10.1 is not compatible with current backend service. Please update to the latest client version.\n",
      "ERROR - 2024-04-26T16:42:38Z - Client version 0.10.1 is not compatible with current backend service. Please update to the latest client version.\n",
      "INFO - 2024-04-26T16:42:38Z - Selected dataset version is \"202311\"\n",
      "INFO - 2024-04-26T16:42:38Z - Downloading using service original-files...\n"
     ]
    },
    {
     "name": "stderr",
     "output_type": "stream",
     "text": [
      "100%|██████████| 1/1 [00:13<00:00, 13.46s/it]\n"
     ]
    },
    {
     "name": "stdout",
     "output_type": "stream",
     "text": [
      "ERROR - 2024-04-26T16:42:57Z - Client version 0.10.1 is not compatible with current backend service. Please update to the latest client version.\n",
      "ERROR - 2024-04-26T16:42:57Z - Client version 0.10.1 is not compatible with current backend service. Please update to the latest client version.\n",
      "ERROR - 2024-04-26T16:42:57Z - Client version 0.10.1 is not compatible with current backend service. Please update to the latest client version.\n",
      "INFO - 2024-04-26T16:42:57Z - Selected dataset version is \"202311\"\n",
      "INFO - 2024-04-26T16:42:57Z - Downloading using service original-files...\n"
     ]
    },
    {
     "name": "stderr",
     "output_type": "stream",
     "text": [
      "100%|██████████| 1/1 [00:13<00:00, 13.35s/it]\n"
     ]
    },
    {
     "name": "stdout",
     "output_type": "stream",
     "text": [
      "ERROR - 2024-04-26T16:43:16Z - Client version 0.10.1 is not compatible with current backend service. Please update to the latest client version.\n",
      "ERROR - 2024-04-26T16:43:16Z - Client version 0.10.1 is not compatible with current backend service. Please update to the latest client version.\n",
      "ERROR - 2024-04-26T16:43:16Z - Client version 0.10.1 is not compatible with current backend service. Please update to the latest client version.\n",
      "INFO - 2024-04-26T16:43:16Z - Selected dataset version is \"202311\"\n",
      "INFO - 2024-04-26T16:43:16Z - Downloading using service original-files...\n"
     ]
    },
    {
     "name": "stderr",
     "output_type": "stream",
     "text": [
      "100%|██████████| 1/1 [00:13<00:00, 13.48s/it]\n"
     ]
    },
    {
     "name": "stdout",
     "output_type": "stream",
     "text": [
      "ERROR - 2024-04-26T16:43:34Z - Client version 0.10.1 is not compatible with current backend service. Please update to the latest client version.\n",
      "ERROR - 2024-04-26T16:43:34Z - Client version 0.10.1 is not compatible with current backend service. Please update to the latest client version.\n",
      "ERROR - 2024-04-26T16:43:34Z - Client version 0.10.1 is not compatible with current backend service. Please update to the latest client version.\n",
      "INFO - 2024-04-26T16:43:35Z - Selected dataset version is \"202311\"\n",
      "INFO - 2024-04-26T16:43:35Z - Downloading using service original-files...\n"
     ]
    },
    {
     "name": "stderr",
     "output_type": "stream",
     "text": [
      "100%|██████████| 1/1 [00:13<00:00, 13.50s/it]\n"
     ]
    },
    {
     "name": "stdout",
     "output_type": "stream",
     "text": [
      "ERROR - 2024-04-26T16:43:53Z - Client version 0.10.1 is not compatible with current backend service. Please update to the latest client version.\n",
      "ERROR - 2024-04-26T16:43:53Z - Client version 0.10.1 is not compatible with current backend service. Please update to the latest client version.\n",
      "ERROR - 2024-04-26T16:43:53Z - Client version 0.10.1 is not compatible with current backend service. Please update to the latest client version.\n",
      "INFO - 2024-04-26T16:43:53Z - Selected dataset version is \"202311\"\n",
      "INFO - 2024-04-26T16:43:53Z - Downloading using service original-files...\n"
     ]
    },
    {
     "name": "stderr",
     "output_type": "stream",
     "text": [
      "100%|██████████| 1/1 [00:13<00:00, 13.48s/it]\n"
     ]
    },
    {
     "name": "stdout",
     "output_type": "stream",
     "text": [
      "ERROR - 2024-04-26T16:44:12Z - Client version 0.10.1 is not compatible with current backend service. Please update to the latest client version.\n",
      "ERROR - 2024-04-26T16:44:12Z - Client version 0.10.1 is not compatible with current backend service. Please update to the latest client version.\n",
      "ERROR - 2024-04-26T16:44:12Z - Client version 0.10.1 is not compatible with current backend service. Please update to the latest client version.\n",
      "INFO - 2024-04-26T16:44:12Z - Selected dataset version is \"202311\"\n",
      "INFO - 2024-04-26T16:44:12Z - Downloading using service original-files...\n"
     ]
    },
    {
     "name": "stderr",
     "output_type": "stream",
     "text": [
      "100%|██████████| 1/1 [00:13<00:00, 13.45s/it]\n"
     ]
    },
    {
     "name": "stdout",
     "output_type": "stream",
     "text": [
      "ERROR - 2024-04-26T16:44:31Z - Client version 0.10.1 is not compatible with current backend service. Please update to the latest client version.\n",
      "ERROR - 2024-04-26T16:44:31Z - Client version 0.10.1 is not compatible with current backend service. Please update to the latest client version.\n",
      "ERROR - 2024-04-26T16:44:31Z - Client version 0.10.1 is not compatible with current backend service. Please update to the latest client version.\n",
      "INFO - 2024-04-26T16:44:31Z - Selected dataset version is \"202311\"\n",
      "INFO - 2024-04-26T16:44:31Z - Downloading using service original-files...\n"
     ]
    },
    {
     "name": "stderr",
     "output_type": "stream",
     "text": [
      "100%|██████████| 1/1 [00:13<00:00, 13.43s/it]\n"
     ]
    },
    {
     "name": "stdout",
     "output_type": "stream",
     "text": [
      "ERROR - 2024-04-26T16:44:50Z - Client version 0.10.1 is not compatible with current backend service. Please update to the latest client version.\n",
      "ERROR - 2024-04-26T16:44:50Z - Client version 0.10.1 is not compatible with current backend service. Please update to the latest client version.\n",
      "ERROR - 2024-04-26T16:44:50Z - Client version 0.10.1 is not compatible with current backend service. Please update to the latest client version.\n",
      "INFO - 2024-04-26T16:44:50Z - Selected dataset version is \"202311\"\n",
      "INFO - 2024-04-26T16:44:50Z - Downloading using service original-files...\n"
     ]
    },
    {
     "name": "stderr",
     "output_type": "stream",
     "text": [
      "100%|██████████| 1/1 [00:13<00:00, 13.96s/it]\n"
     ]
    },
    {
     "name": "stdout",
     "output_type": "stream",
     "text": [
      "ERROR - 2024-04-26T16:45:09Z - Client version 0.10.1 is not compatible with current backend service. Please update to the latest client version.\n",
      "ERROR - 2024-04-26T16:45:09Z - Client version 0.10.1 is not compatible with current backend service. Please update to the latest client version.\n",
      "ERROR - 2024-04-26T16:45:09Z - Client version 0.10.1 is not compatible with current backend service. Please update to the latest client version.\n",
      "INFO - 2024-04-26T16:45:10Z - Selected dataset version is \"202311\"\n",
      "INFO - 2024-04-26T16:45:10Z - Downloading using service original-files...\n"
     ]
    },
    {
     "name": "stderr",
     "output_type": "stream",
     "text": [
      "100%|██████████| 1/1 [00:13<00:00, 13.55s/it]\n"
     ]
    },
    {
     "name": "stdout",
     "output_type": "stream",
     "text": [
      "ERROR - 2024-04-26T16:45:28Z - Client version 0.10.1 is not compatible with current backend service. Please update to the latest client version.\n",
      "ERROR - 2024-04-26T16:45:28Z - Client version 0.10.1 is not compatible with current backend service. Please update to the latest client version.\n",
      "ERROR - 2024-04-26T16:45:28Z - Client version 0.10.1 is not compatible with current backend service. Please update to the latest client version.\n",
      "INFO - 2024-04-26T16:45:28Z - Selected dataset version is \"202311\"\n",
      "INFO - 2024-04-26T16:45:28Z - Downloading using service original-files...\n"
     ]
    },
    {
     "name": "stderr",
     "output_type": "stream",
     "text": [
      "100%|██████████| 1/1 [00:13<00:00, 13.47s/it]\n"
     ]
    },
    {
     "name": "stdout",
     "output_type": "stream",
     "text": [
      "ERROR - 2024-04-26T16:45:47Z - Client version 0.10.1 is not compatible with current backend service. Please update to the latest client version.\n",
      "ERROR - 2024-04-26T16:45:47Z - Client version 0.10.1 is not compatible with current backend service. Please update to the latest client version.\n",
      "ERROR - 2024-04-26T16:45:47Z - Client version 0.10.1 is not compatible with current backend service. Please update to the latest client version.\n",
      "INFO - 2024-04-26T16:45:47Z - Selected dataset version is \"202311\"\n",
      "INFO - 2024-04-26T16:45:47Z - Downloading using service original-files...\n"
     ]
    },
    {
     "name": "stderr",
     "output_type": "stream",
     "text": [
      "100%|██████████| 1/1 [00:13<00:00, 13.52s/it]\n"
     ]
    },
    {
     "name": "stdout",
     "output_type": "stream",
     "text": [
      "ERROR - 2024-04-26T16:46:06Z - Client version 0.10.1 is not compatible with current backend service. Please update to the latest client version.\n",
      "ERROR - 2024-04-26T16:46:06Z - Client version 0.10.1 is not compatible with current backend service. Please update to the latest client version.\n",
      "ERROR - 2024-04-26T16:46:06Z - Client version 0.10.1 is not compatible with current backend service. Please update to the latest client version.\n",
      "INFO - 2024-04-26T16:46:06Z - Selected dataset version is \"202311\"\n",
      "INFO - 2024-04-26T16:46:06Z - Downloading using service original-files...\n"
     ]
    },
    {
     "name": "stderr",
     "output_type": "stream",
     "text": [
      "100%|██████████| 1/1 [00:13<00:00, 13.56s/it]\n"
     ]
    },
    {
     "name": "stdout",
     "output_type": "stream",
     "text": [
      "ERROR - 2024-04-26T16:46:25Z - Client version 0.10.1 is not compatible with current backend service. Please update to the latest client version.\n",
      "ERROR - 2024-04-26T16:46:25Z - Client version 0.10.1 is not compatible with current backend service. Please update to the latest client version.\n",
      "ERROR - 2024-04-26T16:46:25Z - Client version 0.10.1 is not compatible with current backend service. Please update to the latest client version.\n",
      "INFO - 2024-04-26T16:46:25Z - Selected dataset version is \"202311\"\n",
      "INFO - 2024-04-26T16:46:25Z - Downloading using service original-files...\n"
     ]
    },
    {
     "name": "stderr",
     "output_type": "stream",
     "text": [
      "100%|██████████| 1/1 [00:13<00:00, 13.56s/it]\n"
     ]
    },
    {
     "name": "stdout",
     "output_type": "stream",
     "text": [
      "ERROR - 2024-04-26T16:46:44Z - Client version 0.10.1 is not compatible with current backend service. Please update to the latest client version.\n",
      "ERROR - 2024-04-26T16:46:44Z - Client version 0.10.1 is not compatible with current backend service. Please update to the latest client version.\n",
      "ERROR - 2024-04-26T16:46:44Z - Client version 0.10.1 is not compatible with current backend service. Please update to the latest client version.\n",
      "INFO - 2024-04-26T16:46:44Z - Selected dataset version is \"202311\"\n",
      "INFO - 2024-04-26T16:46:44Z - Downloading using service original-files...\n"
     ]
    },
    {
     "name": "stderr",
     "output_type": "stream",
     "text": [
      "100%|██████████| 1/1 [00:13<00:00, 13.40s/it]\n"
     ]
    },
    {
     "name": "stdout",
     "output_type": "stream",
     "text": [
      "ERROR - 2024-04-26T16:47:03Z - Client version 0.10.1 is not compatible with current backend service. Please update to the latest client version.\n",
      "ERROR - 2024-04-26T16:47:03Z - Client version 0.10.1 is not compatible with current backend service. Please update to the latest client version.\n",
      "ERROR - 2024-04-26T16:47:03Z - Client version 0.10.1 is not compatible with current backend service. Please update to the latest client version.\n",
      "INFO - 2024-04-26T16:47:03Z - Selected dataset version is \"202311\"\n",
      "INFO - 2024-04-26T16:47:03Z - Downloading using service original-files...\n"
     ]
    },
    {
     "name": "stderr",
     "output_type": "stream",
     "text": [
      "100%|██████████| 1/1 [00:13<00:00, 13.44s/it]\n"
     ]
    },
    {
     "name": "stdout",
     "output_type": "stream",
     "text": [
      "ERROR - 2024-04-26T16:47:22Z - Client version 0.10.1 is not compatible with current backend service. Please update to the latest client version.\n",
      "ERROR - 2024-04-26T16:47:22Z - Client version 0.10.1 is not compatible with current backend service. Please update to the latest client version.\n",
      "ERROR - 2024-04-26T16:47:22Z - Client version 0.10.1 is not compatible with current backend service. Please update to the latest client version.\n",
      "INFO - 2024-04-26T16:47:22Z - Selected dataset version is \"202311\"\n",
      "INFO - 2024-04-26T16:47:22Z - Downloading using service original-files...\n"
     ]
    },
    {
     "name": "stderr",
     "output_type": "stream",
     "text": [
      "100%|██████████| 1/1 [00:13<00:00, 13.73s/it]\n"
     ]
    },
    {
     "name": "stdout",
     "output_type": "stream",
     "text": [
      "ERROR - 2024-04-26T16:47:41Z - Client version 0.10.1 is not compatible with current backend service. Please update to the latest client version.\n",
      "ERROR - 2024-04-26T16:47:41Z - Client version 0.10.1 is not compatible with current backend service. Please update to the latest client version.\n",
      "ERROR - 2024-04-26T16:47:41Z - Client version 0.10.1 is not compatible with current backend service. Please update to the latest client version.\n",
      "INFO - 2024-04-26T16:47:41Z - Selected dataset version is \"202311\"\n",
      "INFO - 2024-04-26T16:47:41Z - Downloading using service original-files...\n"
     ]
    },
    {
     "name": "stderr",
     "output_type": "stream",
     "text": [
      "100%|██████████| 1/1 [00:13<00:00, 13.63s/it]\n"
     ]
    },
    {
     "name": "stdout",
     "output_type": "stream",
     "text": [
      "ERROR - 2024-04-26T16:48:00Z - Client version 0.10.1 is not compatible with current backend service. Please update to the latest client version.\n",
      "ERROR - 2024-04-26T16:48:00Z - Client version 0.10.1 is not compatible with current backend service. Please update to the latest client version.\n",
      "ERROR - 2024-04-26T16:48:00Z - Client version 0.10.1 is not compatible with current backend service. Please update to the latest client version.\n",
      "INFO - 2024-04-26T16:48:00Z - Selected dataset version is \"202311\"\n",
      "INFO - 2024-04-26T16:48:00Z - Downloading using service original-files...\n"
     ]
    },
    {
     "name": "stderr",
     "output_type": "stream",
     "text": [
      "100%|██████████| 1/1 [00:13<00:00, 13.43s/it]\n"
     ]
    },
    {
     "name": "stdout",
     "output_type": "stream",
     "text": [
      "ERROR - 2024-04-26T16:48:19Z - Client version 0.10.1 is not compatible with current backend service. Please update to the latest client version.\n",
      "ERROR - 2024-04-26T16:48:19Z - Client version 0.10.1 is not compatible with current backend service. Please update to the latest client version.\n",
      "ERROR - 2024-04-26T16:48:19Z - Client version 0.10.1 is not compatible with current backend service. Please update to the latest client version.\n",
      "INFO - 2024-04-26T16:48:19Z - Selected dataset version is \"202311\"\n",
      "INFO - 2024-04-26T16:48:19Z - Downloading using service original-files...\n"
     ]
    },
    {
     "name": "stderr",
     "output_type": "stream",
     "text": [
      "100%|██████████| 1/1 [00:13<00:00, 13.59s/it]\n"
     ]
    },
    {
     "name": "stdout",
     "output_type": "stream",
     "text": [
      "ERROR - 2024-04-26T16:48:38Z - Client version 0.10.1 is not compatible with current backend service. Please update to the latest client version.\n",
      "ERROR - 2024-04-26T16:48:38Z - Client version 0.10.1 is not compatible with current backend service. Please update to the latest client version.\n",
      "ERROR - 2024-04-26T16:48:38Z - Client version 0.10.1 is not compatible with current backend service. Please update to the latest client version.\n",
      "INFO - 2024-04-26T16:48:38Z - Selected dataset version is \"202311\"\n",
      "INFO - 2024-04-26T16:48:38Z - Downloading using service original-files...\n"
     ]
    },
    {
     "name": "stderr",
     "output_type": "stream",
     "text": [
      "100%|██████████| 1/1 [00:13<00:00, 13.41s/it]\n"
     ]
    },
    {
     "name": "stdout",
     "output_type": "stream",
     "text": [
      "ERROR - 2024-04-26T16:48:56Z - Client version 0.10.1 is not compatible with current backend service. Please update to the latest client version.\n",
      "ERROR - 2024-04-26T16:48:56Z - Client version 0.10.1 is not compatible with current backend service. Please update to the latest client version.\n",
      "ERROR - 2024-04-26T16:48:56Z - Client version 0.10.1 is not compatible with current backend service. Please update to the latest client version.\n",
      "INFO - 2024-04-26T16:48:57Z - Selected dataset version is \"202311\"\n",
      "INFO - 2024-04-26T16:48:57Z - Downloading using service original-files...\n"
     ]
    },
    {
     "name": "stderr",
     "output_type": "stream",
     "text": [
      "100%|██████████| 1/1 [00:13<00:00, 13.60s/it]\n"
     ]
    },
    {
     "name": "stdout",
     "output_type": "stream",
     "text": [
      "ERROR - 2024-04-26T16:49:15Z - Client version 0.10.1 is not compatible with current backend service. Please update to the latest client version.\n",
      "ERROR - 2024-04-26T16:49:15Z - Client version 0.10.1 is not compatible with current backend service. Please update to the latest client version.\n",
      "ERROR - 2024-04-26T16:49:15Z - Client version 0.10.1 is not compatible with current backend service. Please update to the latest client version.\n",
      "INFO - 2024-04-26T16:49:16Z - Selected dataset version is \"202311\"\n",
      "INFO - 2024-04-26T16:49:16Z - Downloading using service original-files...\n"
     ]
    },
    {
     "name": "stderr",
     "output_type": "stream",
     "text": [
      "100%|██████████| 1/1 [00:13<00:00, 13.56s/it]\n"
     ]
    },
    {
     "name": "stdout",
     "output_type": "stream",
     "text": [
      "ERROR - 2024-04-26T16:49:35Z - Client version 0.10.1 is not compatible with current backend service. Please update to the latest client version.\n",
      "ERROR - 2024-04-26T16:49:35Z - Client version 0.10.1 is not compatible with current backend service. Please update to the latest client version.\n",
      "ERROR - 2024-04-26T16:49:35Z - Client version 0.10.1 is not compatible with current backend service. Please update to the latest client version.\n",
      "INFO - 2024-04-26T16:49:35Z - Selected dataset version is \"202311\"\n",
      "INFO - 2024-04-26T16:49:35Z - Downloading using service original-files...\n"
     ]
    },
    {
     "name": "stderr",
     "output_type": "stream",
     "text": [
      "100%|██████████| 1/1 [00:13<00:00, 13.53s/it]\n"
     ]
    },
    {
     "name": "stdout",
     "output_type": "stream",
     "text": [
      "ERROR - 2024-04-26T16:49:54Z - Client version 0.10.1 is not compatible with current backend service. Please update to the latest client version.\n",
      "ERROR - 2024-04-26T16:49:54Z - Client version 0.10.1 is not compatible with current backend service. Please update to the latest client version.\n",
      "ERROR - 2024-04-26T16:49:54Z - Client version 0.10.1 is not compatible with current backend service. Please update to the latest client version.\n",
      "INFO - 2024-04-26T16:49:54Z - Selected dataset version is \"202311\"\n",
      "INFO - 2024-04-26T16:49:54Z - Downloading using service original-files...\n"
     ]
    },
    {
     "name": "stderr",
     "output_type": "stream",
     "text": [
      "100%|██████████| 1/1 [00:13<00:00, 13.38s/it]\n"
     ]
    },
    {
     "name": "stdout",
     "output_type": "stream",
     "text": [
      "ERROR - 2024-04-26T16:50:12Z - Client version 0.10.1 is not compatible with current backend service. Please update to the latest client version.\n",
      "ERROR - 2024-04-26T16:50:12Z - Client version 0.10.1 is not compatible with current backend service. Please update to the latest client version.\n",
      "ERROR - 2024-04-26T16:50:12Z - Client version 0.10.1 is not compatible with current backend service. Please update to the latest client version.\n",
      "INFO - 2024-04-26T16:50:13Z - Selected dataset version is \"202311\"\n",
      "INFO - 2024-04-26T16:50:13Z - Downloading using service original-files...\n"
     ]
    },
    {
     "name": "stderr",
     "output_type": "stream",
     "text": [
      "100%|██████████| 1/1 [00:13<00:00, 13.87s/it]\n"
     ]
    },
    {
     "name": "stdout",
     "output_type": "stream",
     "text": [
      "ERROR - 2024-04-26T16:50:31Z - Client version 0.10.1 is not compatible with current backend service. Please update to the latest client version.\n",
      "ERROR - 2024-04-26T16:50:31Z - Client version 0.10.1 is not compatible with current backend service. Please update to the latest client version.\n",
      "ERROR - 2024-04-26T16:50:31Z - Client version 0.10.1 is not compatible with current backend service. Please update to the latest client version.\n",
      "INFO - 2024-04-26T16:50:32Z - Selected dataset version is \"202311\"\n",
      "INFO - 2024-04-26T16:50:32Z - Downloading using service original-files...\n"
     ]
    },
    {
     "name": "stderr",
     "output_type": "stream",
     "text": [
      "100%|██████████| 1/1 [00:13<00:00, 13.52s/it]\n"
     ]
    },
    {
     "name": "stdout",
     "output_type": "stream",
     "text": [
      "ERROR - 2024-04-26T16:50:50Z - Client version 0.10.1 is not compatible with current backend service. Please update to the latest client version.\n",
      "ERROR - 2024-04-26T16:50:50Z - Client version 0.10.1 is not compatible with current backend service. Please update to the latest client version.\n",
      "ERROR - 2024-04-26T16:50:50Z - Client version 0.10.1 is not compatible with current backend service. Please update to the latest client version.\n",
      "INFO - 2024-04-26T16:50:50Z - Selected dataset version is \"202311\"\n",
      "INFO - 2024-04-26T16:50:50Z - Downloading using service original-files...\n"
     ]
    },
    {
     "name": "stderr",
     "output_type": "stream",
     "text": [
      "100%|██████████| 1/1 [00:13<00:00, 13.46s/it]\n"
     ]
    },
    {
     "name": "stdout",
     "output_type": "stream",
     "text": [
      "ERROR - 2024-04-26T16:51:09Z - Client version 0.10.1 is not compatible with current backend service. Please update to the latest client version.\n",
      "ERROR - 2024-04-26T16:51:09Z - Client version 0.10.1 is not compatible with current backend service. Please update to the latest client version.\n",
      "ERROR - 2024-04-26T16:51:09Z - Client version 0.10.1 is not compatible with current backend service. Please update to the latest client version.\n",
      "INFO - 2024-04-26T16:51:09Z - Selected dataset version is \"202311\"\n",
      "INFO - 2024-04-26T16:51:09Z - Downloading using service original-files...\n"
     ]
    },
    {
     "name": "stderr",
     "output_type": "stream",
     "text": [
      "100%|██████████| 1/1 [00:13<00:00, 13.70s/it]\n"
     ]
    },
    {
     "name": "stdout",
     "output_type": "stream",
     "text": [
      "ERROR - 2024-04-26T16:51:28Z - Client version 0.10.1 is not compatible with current backend service. Please update to the latest client version.\n",
      "ERROR - 2024-04-26T16:51:28Z - Client version 0.10.1 is not compatible with current backend service. Please update to the latest client version.\n",
      "ERROR - 2024-04-26T16:51:28Z - Client version 0.10.1 is not compatible with current backend service. Please update to the latest client version.\n",
      "INFO - 2024-04-26T16:51:29Z - Selected dataset version is \"202311\"\n",
      "INFO - 2024-04-26T16:51:29Z - Downloading using service original-files...\n"
     ]
    },
    {
     "name": "stderr",
     "output_type": "stream",
     "text": [
      "100%|██████████| 1/1 [00:13<00:00, 13.72s/it]\n"
     ]
    },
    {
     "name": "stdout",
     "output_type": "stream",
     "text": [
      "ERROR - 2024-04-26T16:51:47Z - Client version 0.10.1 is not compatible with current backend service. Please update to the latest client version.\n",
      "ERROR - 2024-04-26T16:51:47Z - Client version 0.10.1 is not compatible with current backend service. Please update to the latest client version.\n",
      "ERROR - 2024-04-26T16:51:47Z - Client version 0.10.1 is not compatible with current backend service. Please update to the latest client version.\n",
      "INFO - 2024-04-26T16:51:48Z - Selected dataset version is \"202311\"\n",
      "INFO - 2024-04-26T16:51:48Z - Downloading using service original-files...\n"
     ]
    },
    {
     "name": "stderr",
     "output_type": "stream",
     "text": [
      "100%|██████████| 1/1 [00:13<00:00, 13.61s/it]\n"
     ]
    },
    {
     "name": "stdout",
     "output_type": "stream",
     "text": [
      "ERROR - 2024-04-26T16:52:06Z - Client version 0.10.1 is not compatible with current backend service. Please update to the latest client version.\n",
      "ERROR - 2024-04-26T16:52:06Z - Client version 0.10.1 is not compatible with current backend service. Please update to the latest client version.\n",
      "ERROR - 2024-04-26T16:52:06Z - Client version 0.10.1 is not compatible with current backend service. Please update to the latest client version.\n",
      "INFO - 2024-04-26T16:52:07Z - Selected dataset version is \"202311\"\n",
      "INFO - 2024-04-26T16:52:07Z - Downloading using service original-files...\n"
     ]
    },
    {
     "name": "stderr",
     "output_type": "stream",
     "text": [
      "100%|██████████| 1/1 [00:13<00:00, 13.53s/it]\n"
     ]
    },
    {
     "name": "stdout",
     "output_type": "stream",
     "text": [
      "ERROR - 2024-04-26T16:52:25Z - Client version 0.10.1 is not compatible with current backend service. Please update to the latest client version.\n",
      "ERROR - 2024-04-26T16:52:25Z - Client version 0.10.1 is not compatible with current backend service. Please update to the latest client version.\n",
      "ERROR - 2024-04-26T16:52:25Z - Client version 0.10.1 is not compatible with current backend service. Please update to the latest client version.\n",
      "INFO - 2024-04-26T16:52:26Z - Selected dataset version is \"202311\"\n",
      "INFO - 2024-04-26T16:52:26Z - Downloading using service original-files...\n"
     ]
    },
    {
     "name": "stderr",
     "output_type": "stream",
     "text": [
      "100%|██████████| 1/1 [00:13<00:00, 13.42s/it]\n"
     ]
    },
    {
     "name": "stdout",
     "output_type": "stream",
     "text": [
      "ERROR - 2024-04-26T16:52:44Z - Client version 0.10.1 is not compatible with current backend service. Please update to the latest client version.\n",
      "ERROR - 2024-04-26T16:52:44Z - Client version 0.10.1 is not compatible with current backend service. Please update to the latest client version.\n",
      "ERROR - 2024-04-26T16:52:44Z - Client version 0.10.1 is not compatible with current backend service. Please update to the latest client version.\n",
      "INFO - 2024-04-26T16:52:44Z - Selected dataset version is \"202311\"\n",
      "INFO - 2024-04-26T16:52:44Z - Downloading using service original-files...\n"
     ]
    },
    {
     "name": "stderr",
     "output_type": "stream",
     "text": [
      "100%|██████████| 1/1 [00:13<00:00, 13.72s/it]\n"
     ]
    },
    {
     "name": "stdout",
     "output_type": "stream",
     "text": [
      "ERROR - 2024-04-26T16:53:03Z - Client version 0.10.1 is not compatible with current backend service. Please update to the latest client version.\n",
      "ERROR - 2024-04-26T16:53:03Z - Client version 0.10.1 is not compatible with current backend service. Please update to the latest client version.\n",
      "ERROR - 2024-04-26T16:53:03Z - Client version 0.10.1 is not compatible with current backend service. Please update to the latest client version.\n",
      "INFO - 2024-04-26T16:53:04Z - Selected dataset version is \"202311\"\n",
      "INFO - 2024-04-26T16:53:04Z - Downloading using service original-files...\n"
     ]
    },
    {
     "name": "stderr",
     "output_type": "stream",
     "text": [
      "100%|██████████| 1/1 [00:13<00:00, 13.57s/it]\n"
     ]
    },
    {
     "name": "stdout",
     "output_type": "stream",
     "text": [
      "ERROR - 2024-04-26T16:53:22Z - Client version 0.10.1 is not compatible with current backend service. Please update to the latest client version.\n",
      "ERROR - 2024-04-26T16:53:22Z - Client version 0.10.1 is not compatible with current backend service. Please update to the latest client version.\n",
      "ERROR - 2024-04-26T16:53:22Z - Client version 0.10.1 is not compatible with current backend service. Please update to the latest client version.\n",
      "INFO - 2024-04-26T16:53:22Z - Selected dataset version is \"202311\"\n",
      "INFO - 2024-04-26T16:53:22Z - Downloading using service original-files...\n"
     ]
    },
    {
     "name": "stderr",
     "output_type": "stream",
     "text": [
      "100%|██████████| 1/1 [00:13<00:00, 13.56s/it]\n"
     ]
    },
    {
     "name": "stdout",
     "output_type": "stream",
     "text": [
      "ERROR - 2024-04-26T16:53:41Z - Client version 0.10.1 is not compatible with current backend service. Please update to the latest client version.\n",
      "ERROR - 2024-04-26T16:53:41Z - Client version 0.10.1 is not compatible with current backend service. Please update to the latest client version.\n",
      "ERROR - 2024-04-26T16:53:41Z - Client version 0.10.1 is not compatible with current backend service. Please update to the latest client version.\n",
      "INFO - 2024-04-26T16:53:41Z - Selected dataset version is \"202311\"\n",
      "INFO - 2024-04-26T16:53:41Z - Downloading using service original-files...\n"
     ]
    },
    {
     "name": "stderr",
     "output_type": "stream",
     "text": [
      "100%|██████████| 1/1 [00:13<00:00, 13.54s/it]\n"
     ]
    },
    {
     "name": "stdout",
     "output_type": "stream",
     "text": [
      "ERROR - 2024-04-26T16:54:00Z - Client version 0.10.1 is not compatible with current backend service. Please update to the latest client version.\n",
      "ERROR - 2024-04-26T16:54:00Z - Client version 0.10.1 is not compatible with current backend service. Please update to the latest client version.\n",
      "ERROR - 2024-04-26T16:54:00Z - Client version 0.10.1 is not compatible with current backend service. Please update to the latest client version.\n",
      "INFO - 2024-04-26T16:54:00Z - Selected dataset version is \"202311\"\n",
      "INFO - 2024-04-26T16:54:00Z - Downloading using service original-files...\n"
     ]
    },
    {
     "name": "stderr",
     "output_type": "stream",
     "text": [
      "100%|██████████| 1/1 [00:13<00:00, 13.39s/it]\n"
     ]
    },
    {
     "name": "stdout",
     "output_type": "stream",
     "text": [
      "ERROR - 2024-04-26T16:54:19Z - Client version 0.10.1 is not compatible with current backend service. Please update to the latest client version.\n",
      "ERROR - 2024-04-26T16:54:19Z - Client version 0.10.1 is not compatible with current backend service. Please update to the latest client version.\n",
      "ERROR - 2024-04-26T16:54:19Z - Client version 0.10.1 is not compatible with current backend service. Please update to the latest client version.\n",
      "INFO - 2024-04-26T16:54:19Z - Selected dataset version is \"202311\"\n",
      "INFO - 2024-04-26T16:54:19Z - Downloading using service original-files...\n"
     ]
    },
    {
     "name": "stderr",
     "output_type": "stream",
     "text": [
      "100%|██████████| 1/1 [00:13<00:00, 13.64s/it]\n"
     ]
    },
    {
     "name": "stdout",
     "output_type": "stream",
     "text": [
      "ERROR - 2024-04-26T16:54:38Z - Client version 0.10.1 is not compatible with current backend service. Please update to the latest client version.\n",
      "ERROR - 2024-04-26T16:54:38Z - Client version 0.10.1 is not compatible with current backend service. Please update to the latest client version.\n",
      "ERROR - 2024-04-26T16:54:38Z - Client version 0.10.1 is not compatible with current backend service. Please update to the latest client version.\n",
      "INFO - 2024-04-26T16:54:38Z - Selected dataset version is \"202311\"\n",
      "INFO - 2024-04-26T16:54:38Z - Downloading using service original-files...\n"
     ]
    },
    {
     "name": "stderr",
     "output_type": "stream",
     "text": [
      "100%|██████████| 1/1 [00:13<00:00, 13.61s/it]\n"
     ]
    },
    {
     "name": "stdout",
     "output_type": "stream",
     "text": [
      "ERROR - 2024-04-26T16:54:57Z - Client version 0.10.1 is not compatible with current backend service. Please update to the latest client version.\n",
      "ERROR - 2024-04-26T16:54:57Z - Client version 0.10.1 is not compatible with current backend service. Please update to the latest client version.\n",
      "ERROR - 2024-04-26T16:54:57Z - Client version 0.10.1 is not compatible with current backend service. Please update to the latest client version.\n",
      "INFO - 2024-04-26T16:54:57Z - Selected dataset version is \"202311\"\n",
      "INFO - 2024-04-26T16:54:57Z - Downloading using service original-files...\n"
     ]
    },
    {
     "name": "stderr",
     "output_type": "stream",
     "text": [
      "100%|██████████| 1/1 [00:13<00:00, 13.75s/it]\n"
     ]
    },
    {
     "name": "stdout",
     "output_type": "stream",
     "text": [
      "ERROR - 2024-04-26T16:55:16Z - Client version 0.10.1 is not compatible with current backend service. Please update to the latest client version.\n",
      "ERROR - 2024-04-26T16:55:16Z - Client version 0.10.1 is not compatible with current backend service. Please update to the latest client version.\n",
      "ERROR - 2024-04-26T16:55:16Z - Client version 0.10.1 is not compatible with current backend service. Please update to the latest client version.\n",
      "INFO - 2024-04-26T16:55:16Z - Selected dataset version is \"202311\"\n",
      "INFO - 2024-04-26T16:55:16Z - Downloading using service original-files...\n"
     ]
    },
    {
     "name": "stderr",
     "output_type": "stream",
     "text": [
      "100%|██████████| 1/1 [00:13<00:00, 13.41s/it]\n"
     ]
    },
    {
     "name": "stdout",
     "output_type": "stream",
     "text": [
      "ERROR - 2024-04-26T16:55:35Z - Client version 0.10.1 is not compatible with current backend service. Please update to the latest client version.\n",
      "ERROR - 2024-04-26T16:55:35Z - Client version 0.10.1 is not compatible with current backend service. Please update to the latest client version.\n",
      "ERROR - 2024-04-26T16:55:35Z - Client version 0.10.1 is not compatible with current backend service. Please update to the latest client version.\n",
      "INFO - 2024-04-26T16:55:35Z - Selected dataset version is \"202311\"\n",
      "INFO - 2024-04-26T16:55:35Z - Downloading using service original-files...\n"
     ]
    },
    {
     "name": "stderr",
     "output_type": "stream",
     "text": [
      "100%|██████████| 1/1 [00:13<00:00, 13.74s/it]\n"
     ]
    },
    {
     "name": "stdout",
     "output_type": "stream",
     "text": [
      "ERROR - 2024-04-26T16:55:54Z - Client version 0.10.1 is not compatible with current backend service. Please update to the latest client version.\n",
      "ERROR - 2024-04-26T16:55:54Z - Client version 0.10.1 is not compatible with current backend service. Please update to the latest client version.\n",
      "ERROR - 2024-04-26T16:55:54Z - Client version 0.10.1 is not compatible with current backend service. Please update to the latest client version.\n",
      "INFO - 2024-04-26T16:55:54Z - Selected dataset version is \"202311\"\n",
      "INFO - 2024-04-26T16:55:54Z - Downloading using service original-files...\n"
     ]
    },
    {
     "name": "stderr",
     "output_type": "stream",
     "text": [
      "100%|██████████| 1/1 [00:13<00:00, 13.37s/it]\n"
     ]
    },
    {
     "name": "stdout",
     "output_type": "stream",
     "text": [
      "ERROR - 2024-04-26T16:56:13Z - Client version 0.10.1 is not compatible with current backend service. Please update to the latest client version.\n",
      "ERROR - 2024-04-26T16:56:13Z - Client version 0.10.1 is not compatible with current backend service. Please update to the latest client version.\n",
      "ERROR - 2024-04-26T16:56:13Z - Client version 0.10.1 is not compatible with current backend service. Please update to the latest client version.\n",
      "INFO - 2024-04-26T16:56:13Z - Selected dataset version is \"202311\"\n",
      "INFO - 2024-04-26T16:56:13Z - Downloading using service original-files...\n"
     ]
    },
    {
     "name": "stderr",
     "output_type": "stream",
     "text": [
      "100%|██████████| 1/1 [00:13<00:00, 13.45s/it]\n"
     ]
    },
    {
     "name": "stdout",
     "output_type": "stream",
     "text": [
      "ERROR - 2024-04-26T16:56:31Z - Client version 0.10.1 is not compatible with current backend service. Please update to the latest client version.\n",
      "ERROR - 2024-04-26T16:56:31Z - Client version 0.10.1 is not compatible with current backend service. Please update to the latest client version.\n",
      "ERROR - 2024-04-26T16:56:31Z - Client version 0.10.1 is not compatible with current backend service. Please update to the latest client version.\n",
      "INFO - 2024-04-26T16:56:31Z - Selected dataset version is \"202311\"\n",
      "INFO - 2024-04-26T16:56:31Z - Downloading using service original-files...\n"
     ]
    },
    {
     "name": "stderr",
     "output_type": "stream",
     "text": [
      "100%|██████████| 1/1 [00:13<00:00, 13.64s/it]\n"
     ]
    },
    {
     "name": "stdout",
     "output_type": "stream",
     "text": [
      "ERROR - 2024-04-26T16:56:50Z - Client version 0.10.1 is not compatible with current backend service. Please update to the latest client version.\n",
      "ERROR - 2024-04-26T16:56:50Z - Client version 0.10.1 is not compatible with current backend service. Please update to the latest client version.\n",
      "ERROR - 2024-04-26T16:56:50Z - Client version 0.10.1 is not compatible with current backend service. Please update to the latest client version.\n",
      "INFO - 2024-04-26T16:56:51Z - Selected dataset version is \"202311\"\n",
      "INFO - 2024-04-26T16:56:51Z - Downloading using service original-files...\n"
     ]
    },
    {
     "name": "stderr",
     "output_type": "stream",
     "text": [
      "100%|██████████| 1/1 [00:13<00:00, 13.75s/it]\n"
     ]
    },
    {
     "name": "stdout",
     "output_type": "stream",
     "text": [
      "ERROR - 2024-04-26T16:57:09Z - Client version 0.10.1 is not compatible with current backend service. Please update to the latest client version.\n",
      "ERROR - 2024-04-26T16:57:09Z - Client version 0.10.1 is not compatible with current backend service. Please update to the latest client version.\n",
      "ERROR - 2024-04-26T16:57:09Z - Client version 0.10.1 is not compatible with current backend service. Please update to the latest client version.\n",
      "INFO - 2024-04-26T16:57:10Z - Selected dataset version is \"202311\"\n",
      "INFO - 2024-04-26T16:57:10Z - Downloading using service original-files...\n"
     ]
    },
    {
     "name": "stderr",
     "output_type": "stream",
     "text": [
      "100%|██████████| 1/1 [00:13<00:00, 13.36s/it]\n"
     ]
    },
    {
     "name": "stdout",
     "output_type": "stream",
     "text": [
      "ERROR - 2024-04-26T16:57:28Z - Client version 0.10.1 is not compatible with current backend service. Please update to the latest client version.\n",
      "ERROR - 2024-04-26T16:57:28Z - Client version 0.10.1 is not compatible with current backend service. Please update to the latest client version.\n",
      "ERROR - 2024-04-26T16:57:28Z - Client version 0.10.1 is not compatible with current backend service. Please update to the latest client version.\n",
      "INFO - 2024-04-26T16:57:28Z - Selected dataset version is \"202311\"\n",
      "INFO - 2024-04-26T16:57:28Z - Downloading using service original-files...\n"
     ]
    },
    {
     "name": "stderr",
     "output_type": "stream",
     "text": [
      "100%|██████████| 1/1 [00:13<00:00, 13.58s/it]\n"
     ]
    },
    {
     "name": "stdout",
     "output_type": "stream",
     "text": [
      "ERROR - 2024-04-26T16:57:47Z - Client version 0.10.1 is not compatible with current backend service. Please update to the latest client version.\n",
      "ERROR - 2024-04-26T16:57:47Z - Client version 0.10.1 is not compatible with current backend service. Please update to the latest client version.\n",
      "ERROR - 2024-04-26T16:57:47Z - Client version 0.10.1 is not compatible with current backend service. Please update to the latest client version.\n",
      "INFO - 2024-04-26T16:57:47Z - Selected dataset version is \"202311\"\n",
      "INFO - 2024-04-26T16:57:47Z - Downloading using service original-files...\n"
     ]
    },
    {
     "name": "stderr",
     "output_type": "stream",
     "text": [
      "100%|██████████| 1/1 [00:13<00:00, 13.54s/it]\n"
     ]
    },
    {
     "name": "stdout",
     "output_type": "stream",
     "text": [
      "ERROR - 2024-04-26T16:58:06Z - Client version 0.10.1 is not compatible with current backend service. Please update to the latest client version.\n",
      "ERROR - 2024-04-26T16:58:06Z - Client version 0.10.1 is not compatible with current backend service. Please update to the latest client version.\n",
      "ERROR - 2024-04-26T16:58:06Z - Client version 0.10.1 is not compatible with current backend service. Please update to the latest client version.\n",
      "INFO - 2024-04-26T16:58:06Z - Selected dataset version is \"202311\"\n",
      "INFO - 2024-04-26T16:58:06Z - Downloading using service original-files...\n"
     ]
    },
    {
     "name": "stderr",
     "output_type": "stream",
     "text": [
      "100%|██████████| 1/1 [00:13<00:00, 13.98s/it]\n"
     ]
    },
    {
     "name": "stdout",
     "output_type": "stream",
     "text": [
      "ERROR - 2024-04-26T16:58:25Z - Client version 0.10.1 is not compatible with current backend service. Please update to the latest client version.\n",
      "ERROR - 2024-04-26T16:58:25Z - Client version 0.10.1 is not compatible with current backend service. Please update to the latest client version.\n",
      "ERROR - 2024-04-26T16:58:25Z - Client version 0.10.1 is not compatible with current backend service. Please update to the latest client version.\n",
      "INFO - 2024-04-26T16:58:25Z - Selected dataset version is \"202311\"\n",
      "INFO - 2024-04-26T16:58:25Z - Downloading using service original-files...\n"
     ]
    },
    {
     "name": "stderr",
     "output_type": "stream",
     "text": [
      "100%|██████████| 1/1 [00:13<00:00, 13.49s/it]\n"
     ]
    },
    {
     "name": "stdout",
     "output_type": "stream",
     "text": [
      "ERROR - 2024-04-26T16:58:44Z - Client version 0.10.1 is not compatible with current backend service. Please update to the latest client version.\n",
      "ERROR - 2024-04-26T16:58:44Z - Client version 0.10.1 is not compatible with current backend service. Please update to the latest client version.\n",
      "ERROR - 2024-04-26T16:58:44Z - Client version 0.10.1 is not compatible with current backend service. Please update to the latest client version.\n",
      "INFO - 2024-04-26T16:58:44Z - Selected dataset version is \"202311\"\n",
      "INFO - 2024-04-26T16:58:44Z - Downloading using service original-files...\n"
     ]
    },
    {
     "name": "stderr",
     "output_type": "stream",
     "text": [
      "100%|██████████| 1/1 [00:13<00:00, 13.52s/it]\n"
     ]
    },
    {
     "name": "stdout",
     "output_type": "stream",
     "text": [
      "ERROR - 2024-04-26T16:59:03Z - Client version 0.10.1 is not compatible with current backend service. Please update to the latest client version.\n",
      "ERROR - 2024-04-26T16:59:03Z - Client version 0.10.1 is not compatible with current backend service. Please update to the latest client version.\n",
      "ERROR - 2024-04-26T16:59:03Z - Client version 0.10.1 is not compatible with current backend service. Please update to the latest client version.\n",
      "INFO - 2024-04-26T16:59:03Z - Selected dataset version is \"202311\"\n",
      "INFO - 2024-04-26T16:59:03Z - Downloading using service original-files...\n"
     ]
    },
    {
     "name": "stderr",
     "output_type": "stream",
     "text": [
      "100%|██████████| 1/1 [00:13<00:00, 13.72s/it]\n"
     ]
    },
    {
     "name": "stdout",
     "output_type": "stream",
     "text": [
      "ERROR - 2024-04-26T16:59:22Z - Client version 0.10.1 is not compatible with current backend service. Please update to the latest client version.\n",
      "ERROR - 2024-04-26T16:59:22Z - Client version 0.10.1 is not compatible with current backend service. Please update to the latest client version.\n",
      "ERROR - 2024-04-26T16:59:22Z - Client version 0.10.1 is not compatible with current backend service. Please update to the latest client version.\n",
      "INFO - 2024-04-26T16:59:22Z - Selected dataset version is \"202311\"\n",
      "INFO - 2024-04-26T16:59:22Z - Downloading using service original-files...\n"
     ]
    },
    {
     "name": "stderr",
     "output_type": "stream",
     "text": [
      "100%|██████████| 1/1 [00:13<00:00, 13.45s/it]\n"
     ]
    },
    {
     "name": "stdout",
     "output_type": "stream",
     "text": [
      "ERROR - 2024-04-26T16:59:41Z - Client version 0.10.1 is not compatible with current backend service. Please update to the latest client version.\n",
      "ERROR - 2024-04-26T16:59:41Z - Client version 0.10.1 is not compatible with current backend service. Please update to the latest client version.\n",
      "ERROR - 2024-04-26T16:59:41Z - Client version 0.10.1 is not compatible with current backend service. Please update to the latest client version.\n",
      "INFO - 2024-04-26T16:59:41Z - Selected dataset version is \"202311\"\n",
      "INFO - 2024-04-26T16:59:41Z - Downloading using service original-files...\n"
     ]
    },
    {
     "name": "stderr",
     "output_type": "stream",
     "text": [
      "100%|██████████| 1/1 [00:13<00:00, 13.95s/it]\n"
     ]
    },
    {
     "name": "stdout",
     "output_type": "stream",
     "text": [
      "ERROR - 2024-04-26T17:00:00Z - Client version 0.10.1 is not compatible with current backend service. Please update to the latest client version.\n",
      "ERROR - 2024-04-26T17:00:00Z - Client version 0.10.1 is not compatible with current backend service. Please update to the latest client version.\n",
      "ERROR - 2024-04-26T17:00:00Z - Client version 0.10.1 is not compatible with current backend service. Please update to the latest client version.\n",
      "INFO - 2024-04-26T17:00:01Z - Selected dataset version is \"202311\"\n",
      "INFO - 2024-04-26T17:00:01Z - Downloading using service original-files...\n"
     ]
    },
    {
     "name": "stderr",
     "output_type": "stream",
     "text": [
      "100%|██████████| 1/1 [00:13<00:00, 13.44s/it]\n"
     ]
    },
    {
     "name": "stdout",
     "output_type": "stream",
     "text": [
      "ERROR - 2024-04-26T17:00:19Z - Client version 0.10.1 is not compatible with current backend service. Please update to the latest client version.\n",
      "ERROR - 2024-04-26T17:00:19Z - Client version 0.10.1 is not compatible with current backend service. Please update to the latest client version.\n",
      "ERROR - 2024-04-26T17:00:19Z - Client version 0.10.1 is not compatible with current backend service. Please update to the latest client version.\n",
      "INFO - 2024-04-26T17:00:19Z - Selected dataset version is \"202311\"\n",
      "INFO - 2024-04-26T17:00:19Z - Downloading using service original-files...\n"
     ]
    },
    {
     "name": "stderr",
     "output_type": "stream",
     "text": [
      "100%|██████████| 1/1 [00:13<00:00, 13.42s/it]\n"
     ]
    },
    {
     "name": "stdout",
     "output_type": "stream",
     "text": [
      "ERROR - 2024-04-26T17:00:38Z - Client version 0.10.1 is not compatible with current backend service. Please update to the latest client version.\n",
      "ERROR - 2024-04-26T17:00:38Z - Client version 0.10.1 is not compatible with current backend service. Please update to the latest client version.\n",
      "ERROR - 2024-04-26T17:00:38Z - Client version 0.10.1 is not compatible with current backend service. Please update to the latest client version.\n",
      "INFO - 2024-04-26T17:00:38Z - Selected dataset version is \"202311\"\n",
      "INFO - 2024-04-26T17:00:38Z - Downloading using service original-files...\n"
     ]
    },
    {
     "name": "stderr",
     "output_type": "stream",
     "text": [
      "100%|██████████| 1/1 [00:13<00:00, 13.61s/it]\n"
     ]
    },
    {
     "name": "stdout",
     "output_type": "stream",
     "text": [
      "ERROR - 2024-04-26T17:00:57Z - Client version 0.10.1 is not compatible with current backend service. Please update to the latest client version.\n",
      "ERROR - 2024-04-26T17:00:57Z - Client version 0.10.1 is not compatible with current backend service. Please update to the latest client version.\n",
      "ERROR - 2024-04-26T17:00:57Z - Client version 0.10.1 is not compatible with current backend service. Please update to the latest client version.\n",
      "INFO - 2024-04-26T17:00:57Z - Selected dataset version is \"202311\"\n",
      "INFO - 2024-04-26T17:00:57Z - Downloading using service original-files...\n"
     ]
    },
    {
     "name": "stderr",
     "output_type": "stream",
     "text": [
      "100%|██████████| 1/1 [00:13<00:00, 13.39s/it]\n"
     ]
    },
    {
     "name": "stdout",
     "output_type": "stream",
     "text": [
      "ERROR - 2024-04-26T17:01:16Z - Client version 0.10.1 is not compatible with current backend service. Please update to the latest client version.\n",
      "ERROR - 2024-04-26T17:01:16Z - Client version 0.10.1 is not compatible with current backend service. Please update to the latest client version.\n",
      "ERROR - 2024-04-26T17:01:16Z - Client version 0.10.1 is not compatible with current backend service. Please update to the latest client version.\n",
      "INFO - 2024-04-26T17:01:16Z - Selected dataset version is \"202311\"\n",
      "INFO - 2024-04-26T17:01:16Z - Downloading using service original-files...\n"
     ]
    },
    {
     "name": "stderr",
     "output_type": "stream",
     "text": [
      "100%|██████████| 1/1 [00:13<00:00, 13.52s/it]\n"
     ]
    },
    {
     "name": "stdout",
     "output_type": "stream",
     "text": [
      "ERROR - 2024-04-26T17:01:35Z - Client version 0.10.1 is not compatible with current backend service. Please update to the latest client version.\n",
      "ERROR - 2024-04-26T17:01:35Z - Client version 0.10.1 is not compatible with current backend service. Please update to the latest client version.\n",
      "ERROR - 2024-04-26T17:01:35Z - Client version 0.10.1 is not compatible with current backend service. Please update to the latest client version.\n",
      "INFO - 2024-04-26T17:01:35Z - Selected dataset version is \"202311\"\n",
      "INFO - 2024-04-26T17:01:35Z - Downloading using service original-files...\n"
     ]
    },
    {
     "name": "stderr",
     "output_type": "stream",
     "text": [
      "100%|██████████| 1/1 [00:13<00:00, 13.18s/it]\n"
     ]
    },
    {
     "name": "stdout",
     "output_type": "stream",
     "text": [
      "ERROR - 2024-04-26T17:01:53Z - Client version 0.10.1 is not compatible with current backend service. Please update to the latest client version.\n",
      "ERROR - 2024-04-26T17:01:53Z - Client version 0.10.1 is not compatible with current backend service. Please update to the latest client version.\n",
      "ERROR - 2024-04-26T17:01:53Z - Client version 0.10.1 is not compatible with current backend service. Please update to the latest client version.\n",
      "INFO - 2024-04-26T17:01:54Z - Selected dataset version is \"202311\"\n",
      "INFO - 2024-04-26T17:01:54Z - Downloading using service original-files...\n"
     ]
    },
    {
     "name": "stderr",
     "output_type": "stream",
     "text": [
      "100%|██████████| 1/1 [00:13<00:00, 13.50s/it]\n"
     ]
    },
    {
     "name": "stdout",
     "output_type": "stream",
     "text": [
      "ERROR - 2024-04-26T17:02:12Z - Client version 0.10.1 is not compatible with current backend service. Please update to the latest client version.\n",
      "ERROR - 2024-04-26T17:02:12Z - Client version 0.10.1 is not compatible with current backend service. Please update to the latest client version.\n",
      "ERROR - 2024-04-26T17:02:12Z - Client version 0.10.1 is not compatible with current backend service. Please update to the latest client version.\n",
      "INFO - 2024-04-26T17:02:13Z - Selected dataset version is \"202311\"\n",
      "INFO - 2024-04-26T17:02:13Z - Downloading using service original-files...\n"
     ]
    },
    {
     "name": "stderr",
     "output_type": "stream",
     "text": [
      "100%|██████████| 1/1 [00:13<00:00, 13.62s/it]\n"
     ]
    },
    {
     "name": "stdout",
     "output_type": "stream",
     "text": [
      "ERROR - 2024-04-26T17:02:31Z - Client version 0.10.1 is not compatible with current backend service. Please update to the latest client version.\n",
      "ERROR - 2024-04-26T17:02:31Z - Client version 0.10.1 is not compatible with current backend service. Please update to the latest client version.\n",
      "ERROR - 2024-04-26T17:02:31Z - Client version 0.10.1 is not compatible with current backend service. Please update to the latest client version.\n",
      "INFO - 2024-04-26T17:02:32Z - Selected dataset version is \"202311\"\n",
      "INFO - 2024-04-26T17:02:32Z - Downloading using service original-files...\n"
     ]
    },
    {
     "name": "stderr",
     "output_type": "stream",
     "text": [
      "100%|██████████| 1/1 [00:13<00:00, 13.55s/it]\n"
     ]
    },
    {
     "name": "stdout",
     "output_type": "stream",
     "text": [
      "ERROR - 2024-04-26T17:02:50Z - Client version 0.10.1 is not compatible with current backend service. Please update to the latest client version.\n",
      "ERROR - 2024-04-26T17:02:50Z - Client version 0.10.1 is not compatible with current backend service. Please update to the latest client version.\n",
      "ERROR - 2024-04-26T17:02:50Z - Client version 0.10.1 is not compatible with current backend service. Please update to the latest client version.\n",
      "INFO - 2024-04-26T17:02:51Z - Selected dataset version is \"202311\"\n",
      "INFO - 2024-04-26T17:02:51Z - Downloading using service original-files...\n"
     ]
    },
    {
     "name": "stderr",
     "output_type": "stream",
     "text": [
      "100%|██████████| 1/1 [00:13<00:00, 13.58s/it]\n"
     ]
    },
    {
     "name": "stdout",
     "output_type": "stream",
     "text": [
      "ERROR - 2024-04-26T17:03:09Z - Client version 0.10.1 is not compatible with current backend service. Please update to the latest client version.\n",
      "ERROR - 2024-04-26T17:03:09Z - Client version 0.10.1 is not compatible with current backend service. Please update to the latest client version.\n",
      "ERROR - 2024-04-26T17:03:09Z - Client version 0.10.1 is not compatible with current backend service. Please update to the latest client version.\n",
      "INFO - 2024-04-26T17:03:10Z - Selected dataset version is \"202311\"\n",
      "INFO - 2024-04-26T17:03:10Z - Downloading using service original-files...\n"
     ]
    },
    {
     "name": "stderr",
     "output_type": "stream",
     "text": [
      "100%|██████████| 1/1 [00:13<00:00, 13.55s/it]\n"
     ]
    },
    {
     "name": "stdout",
     "output_type": "stream",
     "text": [
      "ERROR - 2024-04-26T17:03:28Z - Client version 0.10.1 is not compatible with current backend service. Please update to the latest client version.\n",
      "ERROR - 2024-04-26T17:03:28Z - Client version 0.10.1 is not compatible with current backend service. Please update to the latest client version.\n",
      "ERROR - 2024-04-26T17:03:28Z - Client version 0.10.1 is not compatible with current backend service. Please update to the latest client version.\n",
      "INFO - 2024-04-26T17:03:29Z - Selected dataset version is \"202311\"\n",
      "INFO - 2024-04-26T17:03:29Z - Downloading using service original-files...\n"
     ]
    },
    {
     "name": "stderr",
     "output_type": "stream",
     "text": [
      "100%|██████████| 1/1 [00:13<00:00, 13.63s/it]\n"
     ]
    },
    {
     "name": "stdout",
     "output_type": "stream",
     "text": [
      "ERROR - 2024-04-26T17:03:47Z - Client version 0.10.1 is not compatible with current backend service. Please update to the latest client version.\n",
      "ERROR - 2024-04-26T17:03:47Z - Client version 0.10.1 is not compatible with current backend service. Please update to the latest client version.\n",
      "ERROR - 2024-04-26T17:03:47Z - Client version 0.10.1 is not compatible with current backend service. Please update to the latest client version.\n",
      "INFO - 2024-04-26T17:03:48Z - Selected dataset version is \"202311\"\n",
      "INFO - 2024-04-26T17:03:48Z - Downloading using service original-files...\n"
     ]
    },
    {
     "name": "stderr",
     "output_type": "stream",
     "text": [
      "100%|██████████| 1/1 [00:13<00:00, 13.31s/it]\n"
     ]
    },
    {
     "name": "stdout",
     "output_type": "stream",
     "text": [
      "ERROR - 2024-04-26T17:04:06Z - Client version 0.10.1 is not compatible with current backend service. Please update to the latest client version.\n",
      "ERROR - 2024-04-26T17:04:06Z - Client version 0.10.1 is not compatible with current backend service. Please update to the latest client version.\n",
      "ERROR - 2024-04-26T17:04:06Z - Client version 0.10.1 is not compatible with current backend service. Please update to the latest client version.\n",
      "INFO - 2024-04-26T17:04:06Z - Selected dataset version is \"202311\"\n",
      "INFO - 2024-04-26T17:04:06Z - Downloading using service original-files...\n"
     ]
    },
    {
     "name": "stderr",
     "output_type": "stream",
     "text": [
      "100%|██████████| 1/1 [00:13<00:00, 13.46s/it]\n"
     ]
    },
    {
     "name": "stdout",
     "output_type": "stream",
     "text": [
      "ERROR - 2024-04-26T17:04:25Z - Client version 0.10.1 is not compatible with current backend service. Please update to the latest client version.\n",
      "ERROR - 2024-04-26T17:04:25Z - Client version 0.10.1 is not compatible with current backend service. Please update to the latest client version.\n",
      "ERROR - 2024-04-26T17:04:25Z - Client version 0.10.1 is not compatible with current backend service. Please update to the latest client version.\n",
      "INFO - 2024-04-26T17:04:25Z - Selected dataset version is \"202311\"\n",
      "INFO - 2024-04-26T17:04:25Z - Downloading using service original-files...\n"
     ]
    },
    {
     "name": "stderr",
     "output_type": "stream",
     "text": [
      "100%|██████████| 1/1 [00:13<00:00, 13.34s/it]\n"
     ]
    },
    {
     "name": "stdout",
     "output_type": "stream",
     "text": [
      "ERROR - 2024-04-26T17:04:44Z - Client version 0.10.1 is not compatible with current backend service. Please update to the latest client version.\n",
      "ERROR - 2024-04-26T17:04:44Z - Client version 0.10.1 is not compatible with current backend service. Please update to the latest client version.\n",
      "ERROR - 2024-04-26T17:04:44Z - Client version 0.10.1 is not compatible with current backend service. Please update to the latest client version.\n",
      "INFO - 2024-04-26T17:04:44Z - Selected dataset version is \"202311\"\n",
      "INFO - 2024-04-26T17:04:44Z - Downloading using service original-files...\n"
     ]
    },
    {
     "name": "stderr",
     "output_type": "stream",
     "text": [
      "100%|██████████| 1/1 [00:13<00:00, 13.62s/it]\n"
     ]
    },
    {
     "name": "stdout",
     "output_type": "stream",
     "text": [
      "ERROR - 2024-04-26T17:05:02Z - Client version 0.10.1 is not compatible with current backend service. Please update to the latest client version.\n",
      "ERROR - 2024-04-26T17:05:02Z - Client version 0.10.1 is not compatible with current backend service. Please update to the latest client version.\n",
      "ERROR - 2024-04-26T17:05:02Z - Client version 0.10.1 is not compatible with current backend service. Please update to the latest client version.\n",
      "INFO - 2024-04-26T17:05:03Z - Selected dataset version is \"202311\"\n",
      "INFO - 2024-04-26T17:05:03Z - Downloading using service original-files...\n"
     ]
    },
    {
     "name": "stderr",
     "output_type": "stream",
     "text": [
      "100%|██████████| 1/1 [00:13<00:00, 13.57s/it]\n"
     ]
    },
    {
     "name": "stdout",
     "output_type": "stream",
     "text": [
      "ERROR - 2024-04-26T17:05:21Z - Client version 0.10.1 is not compatible with current backend service. Please update to the latest client version.\n",
      "ERROR - 2024-04-26T17:05:21Z - Client version 0.10.1 is not compatible with current backend service. Please update to the latest client version.\n",
      "ERROR - 2024-04-26T17:05:21Z - Client version 0.10.1 is not compatible with current backend service. Please update to the latest client version.\n",
      "INFO - 2024-04-26T17:05:21Z - Selected dataset version is \"202311\"\n",
      "INFO - 2024-04-26T17:05:21Z - Downloading using service original-files...\n"
     ]
    },
    {
     "name": "stderr",
     "output_type": "stream",
     "text": [
      "100%|██████████| 1/1 [00:13<00:00, 13.34s/it]\n"
     ]
    },
    {
     "name": "stdout",
     "output_type": "stream",
     "text": [
      "ERROR - 2024-04-26T17:05:40Z - Client version 0.10.1 is not compatible with current backend service. Please update to the latest client version.\n",
      "ERROR - 2024-04-26T17:05:40Z - Client version 0.10.1 is not compatible with current backend service. Please update to the latest client version.\n",
      "ERROR - 2024-04-26T17:05:40Z - Client version 0.10.1 is not compatible with current backend service. Please update to the latest client version.\n",
      "INFO - 2024-04-26T17:05:40Z - Selected dataset version is \"202311\"\n",
      "INFO - 2024-04-26T17:05:40Z - Downloading using service original-files...\n"
     ]
    },
    {
     "name": "stderr",
     "output_type": "stream",
     "text": [
      "100%|██████████| 1/1 [00:13<00:00, 13.52s/it]\n"
     ]
    },
    {
     "name": "stdout",
     "output_type": "stream",
     "text": [
      "ERROR - 2024-04-26T17:05:59Z - Client version 0.10.1 is not compatible with current backend service. Please update to the latest client version.\n",
      "ERROR - 2024-04-26T17:05:59Z - Client version 0.10.1 is not compatible with current backend service. Please update to the latest client version.\n",
      "ERROR - 2024-04-26T17:05:59Z - Client version 0.10.1 is not compatible with current backend service. Please update to the latest client version.\n",
      "INFO - 2024-04-26T17:05:59Z - Selected dataset version is \"202311\"\n",
      "INFO - 2024-04-26T17:05:59Z - Downloading using service original-files...\n"
     ]
    },
    {
     "name": "stderr",
     "output_type": "stream",
     "text": [
      "100%|██████████| 1/1 [00:13<00:00, 13.65s/it]\n"
     ]
    },
    {
     "name": "stdout",
     "output_type": "stream",
     "text": [
      "ERROR - 2024-04-26T17:06:18Z - Client version 0.10.1 is not compatible with current backend service. Please update to the latest client version.\n",
      "ERROR - 2024-04-26T17:06:18Z - Client version 0.10.1 is not compatible with current backend service. Please update to the latest client version.\n",
      "ERROR - 2024-04-26T17:06:18Z - Client version 0.10.1 is not compatible with current backend service. Please update to the latest client version.\n",
      "INFO - 2024-04-26T17:06:18Z - Selected dataset version is \"202311\"\n",
      "INFO - 2024-04-26T17:06:18Z - Downloading using service original-files...\n"
     ]
    },
    {
     "name": "stderr",
     "output_type": "stream",
     "text": [
      "100%|██████████| 1/1 [00:13<00:00, 13.72s/it]\n"
     ]
    },
    {
     "name": "stdout",
     "output_type": "stream",
     "text": [
      "ERROR - 2024-04-26T17:06:37Z - Client version 0.10.1 is not compatible with current backend service. Please update to the latest client version.\n",
      "ERROR - 2024-04-26T17:06:37Z - Client version 0.10.1 is not compatible with current backend service. Please update to the latest client version.\n",
      "ERROR - 2024-04-26T17:06:37Z - Client version 0.10.1 is not compatible with current backend service. Please update to the latest client version.\n",
      "INFO - 2024-04-26T17:06:37Z - Selected dataset version is \"202311\"\n",
      "INFO - 2024-04-26T17:06:37Z - Downloading using service original-files...\n"
     ]
    },
    {
     "name": "stderr",
     "output_type": "stream",
     "text": [
      "100%|██████████| 1/1 [00:13<00:00, 13.45s/it]\n"
     ]
    },
    {
     "name": "stdout",
     "output_type": "stream",
     "text": [
      "ERROR - 2024-04-26T17:06:56Z - Client version 0.10.1 is not compatible with current backend service. Please update to the latest client version.\n",
      "ERROR - 2024-04-26T17:06:56Z - Client version 0.10.1 is not compatible with current backend service. Please update to the latest client version.\n",
      "ERROR - 2024-04-26T17:06:56Z - Client version 0.10.1 is not compatible with current backend service. Please update to the latest client version.\n",
      "INFO - 2024-04-26T17:06:56Z - Selected dataset version is \"202311\"\n",
      "INFO - 2024-04-26T17:06:56Z - Downloading using service original-files...\n"
     ]
    },
    {
     "name": "stderr",
     "output_type": "stream",
     "text": [
      "100%|██████████| 1/1 [00:13<00:00, 13.61s/it]\n"
     ]
    },
    {
     "name": "stdout",
     "output_type": "stream",
     "text": [
      "ERROR - 2024-04-26T17:07:15Z - Client version 0.10.1 is not compatible with current backend service. Please update to the latest client version.\n",
      "ERROR - 2024-04-26T17:07:15Z - Client version 0.10.1 is not compatible with current backend service. Please update to the latest client version.\n",
      "ERROR - 2024-04-26T17:07:15Z - Client version 0.10.1 is not compatible with current backend service. Please update to the latest client version.\n",
      "INFO - 2024-04-26T17:07:15Z - Selected dataset version is \"202311\"\n",
      "INFO - 2024-04-26T17:07:15Z - Downloading using service original-files...\n"
     ]
    },
    {
     "name": "stderr",
     "output_type": "stream",
     "text": [
      "100%|██████████| 1/1 [00:13<00:00, 13.48s/it]\n"
     ]
    },
    {
     "name": "stdout",
     "output_type": "stream",
     "text": [
      "ERROR - 2024-04-26T17:07:34Z - Client version 0.10.1 is not compatible with current backend service. Please update to the latest client version.\n",
      "ERROR - 2024-04-26T17:07:34Z - Client version 0.10.1 is not compatible with current backend service. Please update to the latest client version.\n",
      "ERROR - 2024-04-26T17:07:34Z - Client version 0.10.1 is not compatible with current backend service. Please update to the latest client version.\n",
      "INFO - 2024-04-26T17:07:34Z - Selected dataset version is \"202311\"\n",
      "INFO - 2024-04-26T17:07:34Z - Downloading using service original-files...\n"
     ]
    },
    {
     "name": "stderr",
     "output_type": "stream",
     "text": [
      "100%|██████████| 1/1 [00:13<00:00, 13.30s/it]\n"
     ]
    },
    {
     "name": "stdout",
     "output_type": "stream",
     "text": [
      "ERROR - 2024-04-26T17:07:52Z - Client version 0.10.1 is not compatible with current backend service. Please update to the latest client version.\n",
      "ERROR - 2024-04-26T17:07:52Z - Client version 0.10.1 is not compatible with current backend service. Please update to the latest client version.\n",
      "ERROR - 2024-04-26T17:07:52Z - Client version 0.10.1 is not compatible with current backend service. Please update to the latest client version.\n",
      "INFO - 2024-04-26T17:07:53Z - Selected dataset version is \"202311\"\n",
      "INFO - 2024-04-26T17:07:53Z - Downloading using service original-files...\n"
     ]
    },
    {
     "name": "stderr",
     "output_type": "stream",
     "text": [
      "100%|██████████| 1/1 [00:13<00:00, 13.51s/it]\n"
     ]
    },
    {
     "name": "stdout",
     "output_type": "stream",
     "text": [
      "ERROR - 2024-04-26T17:08:11Z - Client version 0.10.1 is not compatible with current backend service. Please update to the latest client version.\n",
      "ERROR - 2024-04-26T17:08:11Z - Client version 0.10.1 is not compatible with current backend service. Please update to the latest client version.\n",
      "ERROR - 2024-04-26T17:08:11Z - Client version 0.10.1 is not compatible with current backend service. Please update to the latest client version.\n",
      "INFO - 2024-04-26T17:08:12Z - Selected dataset version is \"202311\"\n",
      "INFO - 2024-04-26T17:08:12Z - Downloading using service original-files...\n"
     ]
    },
    {
     "name": "stderr",
     "output_type": "stream",
     "text": [
      "100%|██████████| 1/1 [00:13<00:00, 13.27s/it]\n"
     ]
    },
    {
     "name": "stdout",
     "output_type": "stream",
     "text": [
      "ERROR - 2024-04-26T17:08:30Z - Client version 0.10.1 is not compatible with current backend service. Please update to the latest client version.\n",
      "ERROR - 2024-04-26T17:08:30Z - Client version 0.10.1 is not compatible with current backend service. Please update to the latest client version.\n",
      "ERROR - 2024-04-26T17:08:30Z - Client version 0.10.1 is not compatible with current backend service. Please update to the latest client version.\n",
      "INFO - 2024-04-26T17:08:31Z - Selected dataset version is \"202311\"\n",
      "INFO - 2024-04-26T17:08:31Z - Downloading using service original-files...\n"
     ]
    },
    {
     "name": "stderr",
     "output_type": "stream",
     "text": [
      "100%|██████████| 1/1 [00:13<00:00, 13.65s/it]\n"
     ]
    },
    {
     "name": "stdout",
     "output_type": "stream",
     "text": [
      "ERROR - 2024-04-26T17:08:49Z - Client version 0.10.1 is not compatible with current backend service. Please update to the latest client version.\n",
      "ERROR - 2024-04-26T17:08:49Z - Client version 0.10.1 is not compatible with current backend service. Please update to the latest client version.\n",
      "ERROR - 2024-04-26T17:08:49Z - Client version 0.10.1 is not compatible with current backend service. Please update to the latest client version.\n",
      "INFO - 2024-04-26T17:08:50Z - Selected dataset version is \"202311\"\n",
      "INFO - 2024-04-26T17:08:50Z - Downloading using service original-files...\n"
     ]
    },
    {
     "name": "stderr",
     "output_type": "stream",
     "text": [
      "100%|██████████| 1/1 [00:13<00:00, 13.22s/it]\n"
     ]
    },
    {
     "name": "stdout",
     "output_type": "stream",
     "text": [
      "ERROR - 2024-04-26T17:09:08Z - Client version 0.10.1 is not compatible with current backend service. Please update to the latest client version.\n",
      "ERROR - 2024-04-26T17:09:08Z - Client version 0.10.1 is not compatible with current backend service. Please update to the latest client version.\n",
      "ERROR - 2024-04-26T17:09:08Z - Client version 0.10.1 is not compatible with current backend service. Please update to the latest client version.\n",
      "INFO - 2024-04-26T17:09:09Z - Selected dataset version is \"202311\"\n",
      "INFO - 2024-04-26T17:09:09Z - Downloading using service original-files...\n"
     ]
    },
    {
     "name": "stderr",
     "output_type": "stream",
     "text": [
      "100%|██████████| 1/1 [00:13<00:00, 13.31s/it]\n"
     ]
    },
    {
     "name": "stdout",
     "output_type": "stream",
     "text": [
      "ERROR - 2024-04-26T17:09:27Z - Client version 0.10.1 is not compatible with current backend service. Please update to the latest client version.\n",
      "ERROR - 2024-04-26T17:09:27Z - Client version 0.10.1 is not compatible with current backend service. Please update to the latest client version.\n",
      "ERROR - 2024-04-26T17:09:27Z - Client version 0.10.1 is not compatible with current backend service. Please update to the latest client version.\n",
      "INFO - 2024-04-26T17:09:27Z - Selected dataset version is \"202311\"\n",
      "INFO - 2024-04-26T17:09:27Z - Downloading using service original-files...\n"
     ]
    },
    {
     "name": "stderr",
     "output_type": "stream",
     "text": [
      "100%|██████████| 1/1 [00:13<00:00, 13.49s/it]\n"
     ]
    },
    {
     "name": "stdout",
     "output_type": "stream",
     "text": [
      "ERROR - 2024-04-26T17:09:46Z - Client version 0.10.1 is not compatible with current backend service. Please update to the latest client version.\n",
      "ERROR - 2024-04-26T17:09:46Z - Client version 0.10.1 is not compatible with current backend service. Please update to the latest client version.\n",
      "ERROR - 2024-04-26T17:09:46Z - Client version 0.10.1 is not compatible with current backend service. Please update to the latest client version.\n",
      "INFO - 2024-04-26T17:09:46Z - Selected dataset version is \"202311\"\n",
      "INFO - 2024-04-26T17:09:46Z - Downloading using service original-files...\n"
     ]
    },
    {
     "name": "stderr",
     "output_type": "stream",
     "text": [
      "100%|██████████| 1/1 [00:13<00:00, 13.53s/it]\n"
     ]
    },
    {
     "name": "stdout",
     "output_type": "stream",
     "text": [
      "ERROR - 2024-04-26T17:10:05Z - Client version 0.10.1 is not compatible with current backend service. Please update to the latest client version.\n",
      "ERROR - 2024-04-26T17:10:05Z - Client version 0.10.1 is not compatible with current backend service. Please update to the latest client version.\n",
      "ERROR - 2024-04-26T17:10:05Z - Client version 0.10.1 is not compatible with current backend service. Please update to the latest client version.\n",
      "INFO - 2024-04-26T17:10:05Z - Selected dataset version is \"202311\"\n",
      "INFO - 2024-04-26T17:10:05Z - Downloading using service original-files...\n"
     ]
    },
    {
     "name": "stderr",
     "output_type": "stream",
     "text": [
      "100%|██████████| 1/1 [00:13<00:00, 13.72s/it]\n"
     ]
    },
    {
     "name": "stdout",
     "output_type": "stream",
     "text": [
      "ERROR - 2024-04-26T17:10:24Z - Client version 0.10.1 is not compatible with current backend service. Please update to the latest client version.\n",
      "ERROR - 2024-04-26T17:10:24Z - Client version 0.10.1 is not compatible with current backend service. Please update to the latest client version.\n",
      "ERROR - 2024-04-26T17:10:24Z - Client version 0.10.1 is not compatible with current backend service. Please update to the latest client version.\n",
      "INFO - 2024-04-26T17:10:24Z - Selected dataset version is \"202311\"\n",
      "INFO - 2024-04-26T17:10:24Z - Downloading using service original-files...\n"
     ]
    },
    {
     "name": "stderr",
     "output_type": "stream",
     "text": [
      "100%|██████████| 1/1 [00:13<00:00, 13.55s/it]\n"
     ]
    },
    {
     "name": "stdout",
     "output_type": "stream",
     "text": [
      "ERROR - 2024-04-26T17:10:43Z - Client version 0.10.1 is not compatible with current backend service. Please update to the latest client version.\n",
      "ERROR - 2024-04-26T17:10:43Z - Client version 0.10.1 is not compatible with current backend service. Please update to the latest client version.\n",
      "ERROR - 2024-04-26T17:10:43Z - Client version 0.10.1 is not compatible with current backend service. Please update to the latest client version.\n",
      "INFO - 2024-04-26T17:10:43Z - Selected dataset version is \"202311\"\n",
      "INFO - 2024-04-26T17:10:43Z - Downloading using service original-files...\n"
     ]
    },
    {
     "name": "stderr",
     "output_type": "stream",
     "text": [
      "100%|██████████| 1/1 [00:13<00:00, 13.47s/it]\n"
     ]
    },
    {
     "name": "stdout",
     "output_type": "stream",
     "text": [
      "ERROR - 2024-04-26T17:11:02Z - Client version 0.10.1 is not compatible with current backend service. Please update to the latest client version.\n",
      "ERROR - 2024-04-26T17:11:02Z - Client version 0.10.1 is not compatible with current backend service. Please update to the latest client version.\n",
      "ERROR - 2024-04-26T17:11:02Z - Client version 0.10.1 is not compatible with current backend service. Please update to the latest client version.\n",
      "INFO - 2024-04-26T17:11:02Z - Selected dataset version is \"202311\"\n",
      "INFO - 2024-04-26T17:11:02Z - Downloading using service original-files...\n"
     ]
    },
    {
     "name": "stderr",
     "output_type": "stream",
     "text": [
      "100%|██████████| 1/1 [00:13<00:00, 13.60s/it]\n"
     ]
    },
    {
     "name": "stdout",
     "output_type": "stream",
     "text": [
      "ERROR - 2024-04-26T17:11:21Z - Client version 0.10.1 is not compatible with current backend service. Please update to the latest client version.\n",
      "ERROR - 2024-04-26T17:11:21Z - Client version 0.10.1 is not compatible with current backend service. Please update to the latest client version.\n",
      "ERROR - 2024-04-26T17:11:21Z - Client version 0.10.1 is not compatible with current backend service. Please update to the latest client version.\n",
      "INFO - 2024-04-26T17:11:21Z - Selected dataset version is \"202311\"\n",
      "INFO - 2024-04-26T17:11:21Z - Downloading using service original-files...\n"
     ]
    },
    {
     "name": "stderr",
     "output_type": "stream",
     "text": [
      "100%|██████████| 1/1 [00:13<00:00, 13.58s/it]\n"
     ]
    },
    {
     "name": "stdout",
     "output_type": "stream",
     "text": [
      "ERROR - 2024-04-26T17:11:40Z - Client version 0.10.1 is not compatible with current backend service. Please update to the latest client version.\n",
      "ERROR - 2024-04-26T17:11:40Z - Client version 0.10.1 is not compatible with current backend service. Please update to the latest client version.\n",
      "ERROR - 2024-04-26T17:11:40Z - Client version 0.10.1 is not compatible with current backend service. Please update to the latest client version.\n",
      "INFO - 2024-04-26T17:11:40Z - Selected dataset version is \"202311\"\n",
      "INFO - 2024-04-26T17:11:40Z - Downloading using service original-files...\n"
     ]
    },
    {
     "name": "stderr",
     "output_type": "stream",
     "text": [
      "100%|██████████| 1/1 [00:13<00:00, 13.29s/it]\n"
     ]
    },
    {
     "name": "stdout",
     "output_type": "stream",
     "text": [
      "ERROR - 2024-04-26T17:11:58Z - Client version 0.10.1 is not compatible with current backend service. Please update to the latest client version.\n",
      "ERROR - 2024-04-26T17:11:58Z - Client version 0.10.1 is not compatible with current backend service. Please update to the latest client version.\n",
      "ERROR - 2024-04-26T17:11:58Z - Client version 0.10.1 is not compatible with current backend service. Please update to the latest client version.\n",
      "INFO - 2024-04-26T17:11:59Z - Selected dataset version is \"202311\"\n",
      "INFO - 2024-04-26T17:11:59Z - Downloading using service original-files...\n"
     ]
    },
    {
     "name": "stderr",
     "output_type": "stream",
     "text": [
      "100%|██████████| 1/1 [00:13<00:00, 13.21s/it]\n"
     ]
    },
    {
     "name": "stdout",
     "output_type": "stream",
     "text": [
      "ERROR - 2024-04-26T17:12:17Z - Client version 0.10.1 is not compatible with current backend service. Please update to the latest client version.\n",
      "ERROR - 2024-04-26T17:12:17Z - Client version 0.10.1 is not compatible with current backend service. Please update to the latest client version.\n",
      "ERROR - 2024-04-26T17:12:17Z - Client version 0.10.1 is not compatible with current backend service. Please update to the latest client version.\n",
      "INFO - 2024-04-26T17:12:18Z - Selected dataset version is \"202311\"\n",
      "INFO - 2024-04-26T17:12:18Z - Downloading using service original-files...\n"
     ]
    },
    {
     "name": "stderr",
     "output_type": "stream",
     "text": [
      "100%|██████████| 1/1 [00:13<00:00, 13.61s/it]\n"
     ]
    },
    {
     "name": "stdout",
     "output_type": "stream",
     "text": [
      "ERROR - 2024-04-26T17:12:36Z - Client version 0.10.1 is not compatible with current backend service. Please update to the latest client version.\n",
      "ERROR - 2024-04-26T17:12:36Z - Client version 0.10.1 is not compatible with current backend service. Please update to the latest client version.\n",
      "ERROR - 2024-04-26T17:12:36Z - Client version 0.10.1 is not compatible with current backend service. Please update to the latest client version.\n",
      "INFO - 2024-04-26T17:12:37Z - Selected dataset version is \"202311\"\n",
      "INFO - 2024-04-26T17:12:37Z - Downloading using service original-files...\n"
     ]
    },
    {
     "name": "stderr",
     "output_type": "stream",
     "text": [
      "100%|██████████| 1/1 [00:13<00:00, 13.57s/it]\n"
     ]
    },
    {
     "name": "stdout",
     "output_type": "stream",
     "text": [
      "ERROR - 2024-04-26T17:12:55Z - Client version 0.10.1 is not compatible with current backend service. Please update to the latest client version.\n",
      "ERROR - 2024-04-26T17:12:55Z - Client version 0.10.1 is not compatible with current backend service. Please update to the latest client version.\n",
      "ERROR - 2024-04-26T17:12:55Z - Client version 0.10.1 is not compatible with current backend service. Please update to the latest client version.\n",
      "INFO - 2024-04-26T17:12:55Z - Selected dataset version is \"202311\"\n",
      "INFO - 2024-04-26T17:12:55Z - Downloading using service original-files...\n"
     ]
    },
    {
     "name": "stderr",
     "output_type": "stream",
     "text": [
      "100%|██████████| 1/1 [00:13<00:00, 13.54s/it]\n"
     ]
    },
    {
     "name": "stdout",
     "output_type": "stream",
     "text": [
      "ERROR - 2024-04-26T17:13:14Z - Client version 0.10.1 is not compatible with current backend service. Please update to the latest client version.\n",
      "ERROR - 2024-04-26T17:13:14Z - Client version 0.10.1 is not compatible with current backend service. Please update to the latest client version.\n",
      "ERROR - 2024-04-26T17:13:14Z - Client version 0.10.1 is not compatible with current backend service. Please update to the latest client version.\n",
      "INFO - 2024-04-26T17:13:14Z - Selected dataset version is \"202311\"\n",
      "INFO - 2024-04-26T17:13:14Z - Downloading using service original-files...\n"
     ]
    },
    {
     "name": "stderr",
     "output_type": "stream",
     "text": [
      "100%|██████████| 1/1 [00:13<00:00, 13.41s/it]\n"
     ]
    },
    {
     "name": "stdout",
     "output_type": "stream",
     "text": [
      "ERROR - 2024-04-26T17:13:33Z - Client version 0.10.1 is not compatible with current backend service. Please update to the latest client version.\n",
      "ERROR - 2024-04-26T17:13:33Z - Client version 0.10.1 is not compatible with current backend service. Please update to the latest client version.\n",
      "ERROR - 2024-04-26T17:13:33Z - Client version 0.10.1 is not compatible with current backend service. Please update to the latest client version.\n",
      "INFO - 2024-04-26T17:13:33Z - Selected dataset version is \"202311\"\n",
      "INFO - 2024-04-26T17:13:33Z - Downloading using service original-files...\n"
     ]
    },
    {
     "name": "stderr",
     "output_type": "stream",
     "text": [
      "100%|██████████| 1/1 [00:13<00:00, 13.62s/it]\n"
     ]
    },
    {
     "name": "stdout",
     "output_type": "stream",
     "text": [
      "ERROR - 2024-04-26T17:13:52Z - Client version 0.10.1 is not compatible with current backend service. Please update to the latest client version.\n",
      "ERROR - 2024-04-26T17:13:52Z - Client version 0.10.1 is not compatible with current backend service. Please update to the latest client version.\n",
      "ERROR - 2024-04-26T17:13:52Z - Client version 0.10.1 is not compatible with current backend service. Please update to the latest client version.\n",
      "INFO - 2024-04-26T17:13:52Z - Selected dataset version is \"202311\"\n",
      "INFO - 2024-04-26T17:13:52Z - Downloading using service original-files...\n"
     ]
    },
    {
     "name": "stderr",
     "output_type": "stream",
     "text": [
      "100%|██████████| 1/1 [00:13<00:00, 13.63s/it]\n"
     ]
    },
    {
     "name": "stdout",
     "output_type": "stream",
     "text": [
      "ERROR - 2024-04-26T17:14:11Z - Client version 0.10.1 is not compatible with current backend service. Please update to the latest client version.\n",
      "ERROR - 2024-04-26T17:14:11Z - Client version 0.10.1 is not compatible with current backend service. Please update to the latest client version.\n",
      "ERROR - 2024-04-26T17:14:11Z - Client version 0.10.1 is not compatible with current backend service. Please update to the latest client version.\n",
      "INFO - 2024-04-26T17:14:11Z - Selected dataset version is \"202311\"\n",
      "INFO - 2024-04-26T17:14:11Z - Downloading using service original-files...\n"
     ]
    },
    {
     "name": "stderr",
     "output_type": "stream",
     "text": [
      "100%|██████████| 1/1 [00:13<00:00, 13.43s/it]\n"
     ]
    },
    {
     "name": "stdout",
     "output_type": "stream",
     "text": [
      "ERROR - 2024-04-26T17:14:30Z - Client version 0.10.1 is not compatible with current backend service. Please update to the latest client version.\n",
      "ERROR - 2024-04-26T17:14:30Z - Client version 0.10.1 is not compatible with current backend service. Please update to the latest client version.\n",
      "ERROR - 2024-04-26T17:14:30Z - Client version 0.10.1 is not compatible with current backend service. Please update to the latest client version.\n",
      "INFO - 2024-04-26T17:14:30Z - Selected dataset version is \"202311\"\n",
      "INFO - 2024-04-26T17:14:30Z - Downloading using service original-files...\n"
     ]
    },
    {
     "name": "stderr",
     "output_type": "stream",
     "text": [
      "100%|██████████| 1/1 [00:13<00:00, 13.61s/it]\n"
     ]
    },
    {
     "name": "stdout",
     "output_type": "stream",
     "text": [
      "ERROR - 2024-04-26T17:14:49Z - Client version 0.10.1 is not compatible with current backend service. Please update to the latest client version.\n",
      "ERROR - 2024-04-26T17:14:49Z - Client version 0.10.1 is not compatible with current backend service. Please update to the latest client version.\n",
      "ERROR - 2024-04-26T17:14:49Z - Client version 0.10.1 is not compatible with current backend service. Please update to the latest client version.\n",
      "INFO - 2024-04-26T17:14:49Z - Selected dataset version is \"202311\"\n",
      "INFO - 2024-04-26T17:14:49Z - Downloading using service original-files...\n"
     ]
    },
    {
     "name": "stderr",
     "output_type": "stream",
     "text": [
      "100%|██████████| 1/1 [00:13<00:00, 13.66s/it]\n"
     ]
    },
    {
     "name": "stdout",
     "output_type": "stream",
     "text": [
      "ERROR - 2024-04-26T17:15:08Z - Client version 0.10.1 is not compatible with current backend service. Please update to the latest client version.\n",
      "ERROR - 2024-04-26T17:15:08Z - Client version 0.10.1 is not compatible with current backend service. Please update to the latest client version.\n",
      "ERROR - 2024-04-26T17:15:08Z - Client version 0.10.1 is not compatible with current backend service. Please update to the latest client version.\n",
      "INFO - 2024-04-26T17:15:08Z - Selected dataset version is \"202311\"\n",
      "INFO - 2024-04-26T17:15:08Z - Downloading using service original-files...\n"
     ]
    },
    {
     "name": "stderr",
     "output_type": "stream",
     "text": [
      "100%|██████████| 1/1 [00:13<00:00, 13.63s/it]\n"
     ]
    },
    {
     "name": "stdout",
     "output_type": "stream",
     "text": [
      "ERROR - 2024-04-26T17:15:27Z - Client version 0.10.1 is not compatible with current backend service. Please update to the latest client version.\n",
      "ERROR - 2024-04-26T17:15:27Z - Client version 0.10.1 is not compatible with current backend service. Please update to the latest client version.\n",
      "ERROR - 2024-04-26T17:15:27Z - Client version 0.10.1 is not compatible with current backend service. Please update to the latest client version.\n",
      "INFO - 2024-04-26T17:15:27Z - Selected dataset version is \"202311\"\n",
      "INFO - 2024-04-26T17:15:27Z - Downloading using service original-files...\n"
     ]
    },
    {
     "name": "stderr",
     "output_type": "stream",
     "text": [
      "100%|██████████| 1/1 [00:13<00:00, 13.66s/it]\n"
     ]
    },
    {
     "name": "stdout",
     "output_type": "stream",
     "text": [
      "ERROR - 2024-04-26T17:15:46Z - Client version 0.10.1 is not compatible with current backend service. Please update to the latest client version.\n",
      "ERROR - 2024-04-26T17:15:46Z - Client version 0.10.1 is not compatible with current backend service. Please update to the latest client version.\n",
      "ERROR - 2024-04-26T17:15:46Z - Client version 0.10.1 is not compatible with current backend service. Please update to the latest client version.\n",
      "INFO - 2024-04-26T17:15:46Z - Selected dataset version is \"202311\"\n",
      "INFO - 2024-04-26T17:15:46Z - Downloading using service original-files...\n"
     ]
    },
    {
     "name": "stderr",
     "output_type": "stream",
     "text": [
      "100%|██████████| 1/1 [00:13<00:00, 13.35s/it]\n"
     ]
    },
    {
     "name": "stdout",
     "output_type": "stream",
     "text": [
      "ERROR - 2024-04-26T17:16:05Z - Client version 0.10.1 is not compatible with current backend service. Please update to the latest client version.\n",
      "ERROR - 2024-04-26T17:16:05Z - Client version 0.10.1 is not compatible with current backend service. Please update to the latest client version.\n",
      "ERROR - 2024-04-26T17:16:05Z - Client version 0.10.1 is not compatible with current backend service. Please update to the latest client version.\n",
      "INFO - 2024-04-26T17:16:05Z - Selected dataset version is \"202311\"\n",
      "INFO - 2024-04-26T17:16:05Z - Downloading using service original-files...\n"
     ]
    },
    {
     "name": "stderr",
     "output_type": "stream",
     "text": [
      "100%|██████████| 1/1 [00:13<00:00, 13.78s/it]\n"
     ]
    },
    {
     "name": "stdout",
     "output_type": "stream",
     "text": [
      "ERROR - 2024-04-26T17:16:24Z - Client version 0.10.1 is not compatible with current backend service. Please update to the latest client version.\n",
      "ERROR - 2024-04-26T17:16:24Z - Client version 0.10.1 is not compatible with current backend service. Please update to the latest client version.\n",
      "ERROR - 2024-04-26T17:16:24Z - Client version 0.10.1 is not compatible with current backend service. Please update to the latest client version.\n",
      "INFO - 2024-04-26T17:16:24Z - Selected dataset version is \"202311\"\n",
      "INFO - 2024-04-26T17:16:24Z - Downloading using service original-files...\n"
     ]
    },
    {
     "name": "stderr",
     "output_type": "stream",
     "text": [
      "100%|██████████| 1/1 [00:13<00:00, 13.58s/it]\n"
     ]
    },
    {
     "name": "stdout",
     "output_type": "stream",
     "text": [
      "ERROR - 2024-04-26T17:16:42Z - Client version 0.10.1 is not compatible with current backend service. Please update to the latest client version.\n",
      "ERROR - 2024-04-26T17:16:42Z - Client version 0.10.1 is not compatible with current backend service. Please update to the latest client version.\n",
      "ERROR - 2024-04-26T17:16:42Z - Client version 0.10.1 is not compatible with current backend service. Please update to the latest client version.\n",
      "INFO - 2024-04-26T17:16:43Z - Selected dataset version is \"202311\"\n",
      "INFO - 2024-04-26T17:16:43Z - Downloading using service original-files...\n"
     ]
    },
    {
     "name": "stderr",
     "output_type": "stream",
     "text": [
      "100%|██████████| 1/1 [00:13<00:00, 13.20s/it]\n"
     ]
    },
    {
     "name": "stdout",
     "output_type": "stream",
     "text": [
      "ERROR - 2024-04-26T17:17:01Z - Client version 0.10.1 is not compatible with current backend service. Please update to the latest client version.\n",
      "ERROR - 2024-04-26T17:17:01Z - Client version 0.10.1 is not compatible with current backend service. Please update to the latest client version.\n",
      "ERROR - 2024-04-26T17:17:01Z - Client version 0.10.1 is not compatible with current backend service. Please update to the latest client version.\n",
      "INFO - 2024-04-26T17:17:01Z - Selected dataset version is \"202311\"\n",
      "INFO - 2024-04-26T17:17:01Z - Downloading using service original-files...\n"
     ]
    },
    {
     "name": "stderr",
     "output_type": "stream",
     "text": [
      "100%|██████████| 1/1 [00:13<00:00, 13.65s/it]\n"
     ]
    },
    {
     "name": "stdout",
     "output_type": "stream",
     "text": [
      "ERROR - 2024-04-26T17:17:20Z - Client version 0.10.1 is not compatible with current backend service. Please update to the latest client version.\n",
      "ERROR - 2024-04-26T17:17:20Z - Client version 0.10.1 is not compatible with current backend service. Please update to the latest client version.\n",
      "ERROR - 2024-04-26T17:17:20Z - Client version 0.10.1 is not compatible with current backend service. Please update to the latest client version.\n",
      "INFO - 2024-04-26T17:17:21Z - Selected dataset version is \"202311\"\n",
      "INFO - 2024-04-26T17:17:21Z - Downloading using service original-files...\n"
     ]
    },
    {
     "name": "stderr",
     "output_type": "stream",
     "text": [
      "100%|██████████| 1/1 [00:13<00:00, 13.50s/it]\n"
     ]
    },
    {
     "name": "stdout",
     "output_type": "stream",
     "text": [
      "ERROR - 2024-04-26T17:17:39Z - Client version 0.10.1 is not compatible with current backend service. Please update to the latest client version.\n",
      "ERROR - 2024-04-26T17:17:39Z - Client version 0.10.1 is not compatible with current backend service. Please update to the latest client version.\n",
      "ERROR - 2024-04-26T17:17:39Z - Client version 0.10.1 is not compatible with current backend service. Please update to the latest client version.\n",
      "INFO - 2024-04-26T17:17:39Z - Selected dataset version is \"202311\"\n",
      "INFO - 2024-04-26T17:17:39Z - Downloading using service original-files...\n"
     ]
    },
    {
     "name": "stderr",
     "output_type": "stream",
     "text": [
      "100%|██████████| 1/1 [00:13<00:00, 13.47s/it]\n"
     ]
    },
    {
     "name": "stdout",
     "output_type": "stream",
     "text": [
      "ERROR - 2024-04-26T17:17:58Z - Client version 0.10.1 is not compatible with current backend service. Please update to the latest client version.\n",
      "ERROR - 2024-04-26T17:17:58Z - Client version 0.10.1 is not compatible with current backend service. Please update to the latest client version.\n",
      "ERROR - 2024-04-26T17:17:58Z - Client version 0.10.1 is not compatible with current backend service. Please update to the latest client version.\n",
      "INFO - 2024-04-26T17:17:59Z - Selected dataset version is \"202311\"\n",
      "INFO - 2024-04-26T17:17:59Z - Downloading using service original-files...\n"
     ]
    },
    {
     "name": "stderr",
     "output_type": "stream",
     "text": [
      "100%|██████████| 1/1 [00:13<00:00, 13.53s/it]\n"
     ]
    },
    {
     "name": "stdout",
     "output_type": "stream",
     "text": [
      "ERROR - 2024-04-26T17:18:17Z - Client version 0.10.1 is not compatible with current backend service. Please update to the latest client version.\n",
      "ERROR - 2024-04-26T17:18:17Z - Client version 0.10.1 is not compatible with current backend service. Please update to the latest client version.\n",
      "ERROR - 2024-04-26T17:18:17Z - Client version 0.10.1 is not compatible with current backend service. Please update to the latest client version.\n",
      "INFO - 2024-04-26T17:18:18Z - Selected dataset version is \"202311\"\n",
      "INFO - 2024-04-26T17:18:18Z - Downloading using service original-files...\n"
     ]
    },
    {
     "name": "stderr",
     "output_type": "stream",
     "text": [
      "100%|██████████| 1/1 [00:13<00:00, 13.47s/it]\n"
     ]
    },
    {
     "name": "stdout",
     "output_type": "stream",
     "text": [
      "ERROR - 2024-04-26T17:18:36Z - Client version 0.10.1 is not compatible with current backend service. Please update to the latest client version.\n",
      "ERROR - 2024-04-26T17:18:36Z - Client version 0.10.1 is not compatible with current backend service. Please update to the latest client version.\n",
      "ERROR - 2024-04-26T17:18:36Z - Client version 0.10.1 is not compatible with current backend service. Please update to the latest client version.\n",
      "INFO - 2024-04-26T17:18:36Z - Selected dataset version is \"202311\"\n",
      "INFO - 2024-04-26T17:18:36Z - Downloading using service original-files...\n"
     ]
    },
    {
     "name": "stderr",
     "output_type": "stream",
     "text": [
      "100%|██████████| 1/1 [00:13<00:00, 13.35s/it]\n"
     ]
    },
    {
     "name": "stdout",
     "output_type": "stream",
     "text": [
      "ERROR - 2024-04-26T17:18:55Z - Client version 0.10.1 is not compatible with current backend service. Please update to the latest client version.\n",
      "ERROR - 2024-04-26T17:18:55Z - Client version 0.10.1 is not compatible with current backend service. Please update to the latest client version.\n",
      "ERROR - 2024-04-26T17:18:55Z - Client version 0.10.1 is not compatible with current backend service. Please update to the latest client version.\n",
      "INFO - 2024-04-26T17:18:55Z - Selected dataset version is \"202311\"\n",
      "INFO - 2024-04-26T17:18:55Z - Downloading using service original-files...\n"
     ]
    },
    {
     "name": "stderr",
     "output_type": "stream",
     "text": [
      "100%|██████████| 1/1 [00:13<00:00, 13.43s/it]\n"
     ]
    },
    {
     "name": "stdout",
     "output_type": "stream",
     "text": [
      "ERROR - 2024-04-26T17:19:14Z - Client version 0.10.1 is not compatible with current backend service. Please update to the latest client version.\n",
      "ERROR - 2024-04-26T17:19:14Z - Client version 0.10.1 is not compatible with current backend service. Please update to the latest client version.\n",
      "ERROR - 2024-04-26T17:19:14Z - Client version 0.10.1 is not compatible with current backend service. Please update to the latest client version.\n",
      "INFO - 2024-04-26T17:19:14Z - Selected dataset version is \"202311\"\n",
      "INFO - 2024-04-26T17:19:14Z - Downloading using service original-files...\n"
     ]
    },
    {
     "name": "stderr",
     "output_type": "stream",
     "text": [
      "100%|██████████| 1/1 [00:13<00:00, 13.54s/it]\n"
     ]
    },
    {
     "name": "stdout",
     "output_type": "stream",
     "text": [
      "ERROR - 2024-04-26T17:19:33Z - Client version 0.10.1 is not compatible with current backend service. Please update to the latest client version.\n",
      "ERROR - 2024-04-26T17:19:33Z - Client version 0.10.1 is not compatible with current backend service. Please update to the latest client version.\n",
      "ERROR - 2024-04-26T17:19:33Z - Client version 0.10.1 is not compatible with current backend service. Please update to the latest client version.\n",
      "INFO - 2024-04-26T17:19:33Z - Selected dataset version is \"202311\"\n",
      "INFO - 2024-04-26T17:19:33Z - Downloading using service original-files...\n"
     ]
    },
    {
     "name": "stderr",
     "output_type": "stream",
     "text": [
      "100%|██████████| 1/1 [00:13<00:00, 13.66s/it]\n"
     ]
    },
    {
     "name": "stdout",
     "output_type": "stream",
     "text": [
      "ERROR - 2024-04-26T17:19:52Z - Client version 0.10.1 is not compatible with current backend service. Please update to the latest client version.\n",
      "ERROR - 2024-04-26T17:19:52Z - Client version 0.10.1 is not compatible with current backend service. Please update to the latest client version.\n",
      "ERROR - 2024-04-26T17:19:52Z - Client version 0.10.1 is not compatible with current backend service. Please update to the latest client version.\n",
      "INFO - 2024-04-26T17:19:52Z - Selected dataset version is \"202311\"\n",
      "INFO - 2024-04-26T17:19:52Z - Downloading using service original-files...\n"
     ]
    },
    {
     "name": "stderr",
     "output_type": "stream",
     "text": [
      "100%|██████████| 1/1 [00:13<00:00, 13.37s/it]\n"
     ]
    },
    {
     "name": "stdout",
     "output_type": "stream",
     "text": [
      "ERROR - 2024-04-26T17:20:10Z - Client version 0.10.1 is not compatible with current backend service. Please update to the latest client version.\n",
      "ERROR - 2024-04-26T17:20:10Z - Client version 0.10.1 is not compatible with current backend service. Please update to the latest client version.\n",
      "ERROR - 2024-04-26T17:20:10Z - Client version 0.10.1 is not compatible with current backend service. Please update to the latest client version.\n",
      "INFO - 2024-04-26T17:20:11Z - Selected dataset version is \"202311\"\n",
      "INFO - 2024-04-26T17:20:11Z - Downloading using service original-files...\n"
     ]
    },
    {
     "name": "stderr",
     "output_type": "stream",
     "text": [
      "100%|██████████| 1/1 [00:13<00:00, 13.39s/it]\n"
     ]
    },
    {
     "name": "stdout",
     "output_type": "stream",
     "text": [
      "ERROR - 2024-04-26T17:20:29Z - Client version 0.10.1 is not compatible with current backend service. Please update to the latest client version.\n",
      "ERROR - 2024-04-26T17:20:29Z - Client version 0.10.1 is not compatible with current backend service. Please update to the latest client version.\n",
      "ERROR - 2024-04-26T17:20:29Z - Client version 0.10.1 is not compatible with current backend service. Please update to the latest client version.\n",
      "INFO - 2024-04-26T17:20:30Z - Selected dataset version is \"202311\"\n",
      "INFO - 2024-04-26T17:20:30Z - Downloading using service original-files...\n"
     ]
    },
    {
     "name": "stderr",
     "output_type": "stream",
     "text": [
      "100%|██████████| 1/1 [00:13<00:00, 13.36s/it]\n"
     ]
    },
    {
     "name": "stdout",
     "output_type": "stream",
     "text": [
      "ERROR - 2024-04-26T17:20:48Z - Client version 0.10.1 is not compatible with current backend service. Please update to the latest client version.\n",
      "ERROR - 2024-04-26T17:20:48Z - Client version 0.10.1 is not compatible with current backend service. Please update to the latest client version.\n",
      "ERROR - 2024-04-26T17:20:48Z - Client version 0.10.1 is not compatible with current backend service. Please update to the latest client version.\n",
      "INFO - 2024-04-26T17:20:48Z - Selected dataset version is \"202311\"\n",
      "INFO - 2024-04-26T17:20:48Z - Downloading using service original-files...\n"
     ]
    },
    {
     "name": "stderr",
     "output_type": "stream",
     "text": [
      "100%|██████████| 1/1 [00:13<00:00, 13.57s/it]\n"
     ]
    },
    {
     "name": "stdout",
     "output_type": "stream",
     "text": [
      "ERROR - 2024-04-26T17:21:07Z - Client version 0.10.1 is not compatible with current backend service. Please update to the latest client version.\n",
      "ERROR - 2024-04-26T17:21:07Z - Client version 0.10.1 is not compatible with current backend service. Please update to the latest client version.\n",
      "ERROR - 2024-04-26T17:21:07Z - Client version 0.10.1 is not compatible with current backend service. Please update to the latest client version.\n",
      "INFO - 2024-04-26T17:21:07Z - Selected dataset version is \"202311\"\n",
      "INFO - 2024-04-26T17:21:07Z - Downloading using service original-files...\n"
     ]
    },
    {
     "name": "stderr",
     "output_type": "stream",
     "text": [
      "100%|██████████| 1/1 [00:13<00:00, 13.34s/it]\n"
     ]
    },
    {
     "name": "stdout",
     "output_type": "stream",
     "text": [
      "ERROR - 2024-04-26T17:21:25Z - Client version 0.10.1 is not compatible with current backend service. Please update to the latest client version.\n",
      "ERROR - 2024-04-26T17:21:25Z - Client version 0.10.1 is not compatible with current backend service. Please update to the latest client version.\n",
      "ERROR - 2024-04-26T17:21:25Z - Client version 0.10.1 is not compatible with current backend service. Please update to the latest client version.\n",
      "INFO - 2024-04-26T17:21:26Z - Selected dataset version is \"202311\"\n",
      "INFO - 2024-04-26T17:21:26Z - Downloading using service original-files...\n"
     ]
    },
    {
     "name": "stderr",
     "output_type": "stream",
     "text": [
      "100%|██████████| 1/1 [00:13<00:00, 13.55s/it]\n"
     ]
    },
    {
     "name": "stdout",
     "output_type": "stream",
     "text": [
      "ERROR - 2024-04-26T17:21:44Z - Client version 0.10.1 is not compatible with current backend service. Please update to the latest client version.\n",
      "ERROR - 2024-04-26T17:21:44Z - Client version 0.10.1 is not compatible with current backend service. Please update to the latest client version.\n",
      "ERROR - 2024-04-26T17:21:44Z - Client version 0.10.1 is not compatible with current backend service. Please update to the latest client version.\n",
      "INFO - 2024-04-26T17:21:45Z - Selected dataset version is \"202311\"\n",
      "INFO - 2024-04-26T17:21:45Z - Downloading using service original-files...\n"
     ]
    },
    {
     "name": "stderr",
     "output_type": "stream",
     "text": [
      "100%|██████████| 1/1 [00:13<00:00, 13.90s/it]\n"
     ]
    },
    {
     "name": "stdout",
     "output_type": "stream",
     "text": [
      "ERROR - 2024-04-26T17:22:04Z - Client version 0.10.1 is not compatible with current backend service. Please update to the latest client version.\n",
      "ERROR - 2024-04-26T17:22:04Z - Client version 0.10.1 is not compatible with current backend service. Please update to the latest client version.\n",
      "ERROR - 2024-04-26T17:22:04Z - Client version 0.10.1 is not compatible with current backend service. Please update to the latest client version.\n",
      "INFO - 2024-04-26T17:22:04Z - Selected dataset version is \"202311\"\n",
      "INFO - 2024-04-26T17:22:04Z - Downloading using service original-files...\n"
     ]
    },
    {
     "name": "stderr",
     "output_type": "stream",
     "text": [
      "100%|██████████| 1/1 [00:13<00:00, 13.74s/it]\n"
     ]
    },
    {
     "name": "stdout",
     "output_type": "stream",
     "text": [
      "ERROR - 2024-04-26T17:22:23Z - Client version 0.10.1 is not compatible with current backend service. Please update to the latest client version.\n",
      "ERROR - 2024-04-26T17:22:23Z - Client version 0.10.1 is not compatible with current backend service. Please update to the latest client version.\n",
      "ERROR - 2024-04-26T17:22:23Z - Client version 0.10.1 is not compatible with current backend service. Please update to the latest client version.\n",
      "INFO - 2024-04-26T17:22:23Z - Selected dataset version is \"202311\"\n",
      "INFO - 2024-04-26T17:22:23Z - Downloading using service original-files...\n"
     ]
    },
    {
     "name": "stderr",
     "output_type": "stream",
     "text": [
      "100%|██████████| 1/1 [00:13<00:00, 13.43s/it]\n"
     ]
    },
    {
     "name": "stdout",
     "output_type": "stream",
     "text": [
      "ERROR - 2024-04-26T17:22:41Z - Client version 0.10.1 is not compatible with current backend service. Please update to the latest client version.\n",
      "ERROR - 2024-04-26T17:22:41Z - Client version 0.10.1 is not compatible with current backend service. Please update to the latest client version.\n",
      "ERROR - 2024-04-26T17:22:41Z - Client version 0.10.1 is not compatible with current backend service. Please update to the latest client version.\n",
      "INFO - 2024-04-26T17:22:42Z - Selected dataset version is \"202311\"\n",
      "INFO - 2024-04-26T17:22:42Z - Downloading using service original-files...\n"
     ]
    },
    {
     "name": "stderr",
     "output_type": "stream",
     "text": [
      "100%|██████████| 1/1 [00:13<00:00, 13.35s/it]\n"
     ]
    },
    {
     "name": "stdout",
     "output_type": "stream",
     "text": [
      "ERROR - 2024-04-26T17:23:00Z - Client version 0.10.1 is not compatible with current backend service. Please update to the latest client version.\n",
      "ERROR - 2024-04-26T17:23:00Z - Client version 0.10.1 is not compatible with current backend service. Please update to the latest client version.\n",
      "ERROR - 2024-04-26T17:23:00Z - Client version 0.10.1 is not compatible with current backend service. Please update to the latest client version.\n",
      "INFO - 2024-04-26T17:23:00Z - Selected dataset version is \"202311\"\n",
      "INFO - 2024-04-26T17:23:00Z - Downloading using service original-files...\n"
     ]
    },
    {
     "name": "stderr",
     "output_type": "stream",
     "text": [
      "100%|██████████| 1/1 [00:13<00:00, 13.55s/it]\n"
     ]
    },
    {
     "name": "stdout",
     "output_type": "stream",
     "text": [
      "ERROR - 2024-04-26T17:23:19Z - Client version 0.10.1 is not compatible with current backend service. Please update to the latest client version.\n",
      "ERROR - 2024-04-26T17:23:19Z - Client version 0.10.1 is not compatible with current backend service. Please update to the latest client version.\n",
      "ERROR - 2024-04-26T17:23:19Z - Client version 0.10.1 is not compatible with current backend service. Please update to the latest client version.\n",
      "INFO - 2024-04-26T17:23:19Z - Selected dataset version is \"202311\"\n",
      "INFO - 2024-04-26T17:23:19Z - Downloading using service original-files...\n"
     ]
    },
    {
     "name": "stderr",
     "output_type": "stream",
     "text": [
      "100%|██████████| 1/1 [00:13<00:00, 13.40s/it]\n"
     ]
    },
    {
     "name": "stdout",
     "output_type": "stream",
     "text": [
      "ERROR - 2024-04-26T17:23:38Z - Client version 0.10.1 is not compatible with current backend service. Please update to the latest client version.\n",
      "ERROR - 2024-04-26T17:23:38Z - Client version 0.10.1 is not compatible with current backend service. Please update to the latest client version.\n",
      "ERROR - 2024-04-26T17:23:38Z - Client version 0.10.1 is not compatible with current backend service. Please update to the latest client version.\n",
      "INFO - 2024-04-26T17:23:38Z - Selected dataset version is \"202311\"\n",
      "INFO - 2024-04-26T17:23:38Z - Downloading using service original-files...\n"
     ]
    },
    {
     "name": "stderr",
     "output_type": "stream",
     "text": [
      "100%|██████████| 1/1 [00:13<00:00, 13.68s/it]\n"
     ]
    },
    {
     "name": "stdout",
     "output_type": "stream",
     "text": [
      "ERROR - 2024-04-26T17:23:57Z - Client version 0.10.1 is not compatible with current backend service. Please update to the latest client version.\n",
      "ERROR - 2024-04-26T17:23:57Z - Client version 0.10.1 is not compatible with current backend service. Please update to the latest client version.\n",
      "ERROR - 2024-04-26T17:23:57Z - Client version 0.10.1 is not compatible with current backend service. Please update to the latest client version.\n",
      "INFO - 2024-04-26T17:23:57Z - Selected dataset version is \"202311\"\n",
      "INFO - 2024-04-26T17:23:57Z - Downloading using service original-files...\n"
     ]
    },
    {
     "name": "stderr",
     "output_type": "stream",
     "text": [
      "100%|██████████| 1/1 [00:13<00:00, 13.75s/it]\n"
     ]
    },
    {
     "name": "stdout",
     "output_type": "stream",
     "text": [
      "ERROR - 2024-04-26T17:24:16Z - Client version 0.10.1 is not compatible with current backend service. Please update to the latest client version.\n",
      "ERROR - 2024-04-26T17:24:16Z - Client version 0.10.1 is not compatible with current backend service. Please update to the latest client version.\n",
      "ERROR - 2024-04-26T17:24:16Z - Client version 0.10.1 is not compatible with current backend service. Please update to the latest client version.\n",
      "INFO - 2024-04-26T17:24:16Z - Selected dataset version is \"202311\"\n",
      "INFO - 2024-04-26T17:24:16Z - Downloading using service original-files...\n"
     ]
    },
    {
     "name": "stderr",
     "output_type": "stream",
     "text": [
      "100%|██████████| 1/1 [00:13<00:00, 13.41s/it]\n"
     ]
    },
    {
     "name": "stdout",
     "output_type": "stream",
     "text": [
      "ERROR - 2024-04-26T17:24:34Z - Client version 0.10.1 is not compatible with current backend service. Please update to the latest client version.\n",
      "ERROR - 2024-04-26T17:24:34Z - Client version 0.10.1 is not compatible with current backend service. Please update to the latest client version.\n",
      "ERROR - 2024-04-26T17:24:34Z - Client version 0.10.1 is not compatible with current backend service. Please update to the latest client version.\n",
      "INFO - 2024-04-26T17:24:35Z - Selected dataset version is \"202311\"\n",
      "INFO - 2024-04-26T17:24:35Z - Downloading using service original-files...\n"
     ]
    },
    {
     "name": "stderr",
     "output_type": "stream",
     "text": [
      "100%|██████████| 1/1 [00:13<00:00, 13.53s/it]\n"
     ]
    },
    {
     "name": "stdout",
     "output_type": "stream",
     "text": [
      "ERROR - 2024-04-26T17:24:53Z - Client version 0.10.1 is not compatible with current backend service. Please update to the latest client version.\n",
      "ERROR - 2024-04-26T17:24:53Z - Client version 0.10.1 is not compatible with current backend service. Please update to the latest client version.\n",
      "ERROR - 2024-04-26T17:24:53Z - Client version 0.10.1 is not compatible with current backend service. Please update to the latest client version.\n",
      "INFO - 2024-04-26T17:24:54Z - Selected dataset version is \"202311\"\n",
      "INFO - 2024-04-26T17:24:54Z - Downloading using service original-files...\n"
     ]
    },
    {
     "name": "stderr",
     "output_type": "stream",
     "text": [
      "100%|██████████| 1/1 [00:13<00:00, 13.50s/it]\n"
     ]
    },
    {
     "name": "stdout",
     "output_type": "stream",
     "text": [
      "ERROR - 2024-04-26T17:25:12Z - Client version 0.10.1 is not compatible with current backend service. Please update to the latest client version.\n",
      "ERROR - 2024-04-26T17:25:12Z - Client version 0.10.1 is not compatible with current backend service. Please update to the latest client version.\n",
      "ERROR - 2024-04-26T17:25:12Z - Client version 0.10.1 is not compatible with current backend service. Please update to the latest client version.\n",
      "INFO - 2024-04-26T17:25:12Z - Selected dataset version is \"202311\"\n",
      "INFO - 2024-04-26T17:25:12Z - Downloading using service original-files...\n"
     ]
    },
    {
     "name": "stderr",
     "output_type": "stream",
     "text": [
      "100%|██████████| 1/1 [00:13<00:00, 13.44s/it]\n"
     ]
    },
    {
     "name": "stdout",
     "output_type": "stream",
     "text": [
      "ERROR - 2024-04-26T17:25:31Z - Client version 0.10.1 is not compatible with current backend service. Please update to the latest client version.\n",
      "ERROR - 2024-04-26T17:25:31Z - Client version 0.10.1 is not compatible with current backend service. Please update to the latest client version.\n",
      "ERROR - 2024-04-26T17:25:31Z - Client version 0.10.1 is not compatible with current backend service. Please update to the latest client version.\n",
      "INFO - 2024-04-26T17:25:31Z - Selected dataset version is \"202311\"\n",
      "INFO - 2024-04-26T17:25:31Z - Downloading using service original-files...\n"
     ]
    },
    {
     "name": "stderr",
     "output_type": "stream",
     "text": [
      "100%|██████████| 1/1 [00:13<00:00, 13.51s/it]\n"
     ]
    },
    {
     "name": "stdout",
     "output_type": "stream",
     "text": [
      "ERROR - 2024-04-26T17:25:50Z - Client version 0.10.1 is not compatible with current backend service. Please update to the latest client version.\n",
      "ERROR - 2024-04-26T17:25:50Z - Client version 0.10.1 is not compatible with current backend service. Please update to the latest client version.\n",
      "ERROR - 2024-04-26T17:25:50Z - Client version 0.10.1 is not compatible with current backend service. Please update to the latest client version.\n",
      "INFO - 2024-04-26T17:25:50Z - Selected dataset version is \"202311\"\n",
      "INFO - 2024-04-26T17:25:50Z - Downloading using service original-files...\n"
     ]
    },
    {
     "name": "stderr",
     "output_type": "stream",
     "text": [
      "100%|██████████| 1/1 [00:13<00:00, 13.49s/it]\n"
     ]
    },
    {
     "name": "stdout",
     "output_type": "stream",
     "text": [
      "ERROR - 2024-04-26T17:26:08Z - Client version 0.10.1 is not compatible with current backend service. Please update to the latest client version.\n",
      "ERROR - 2024-04-26T17:26:08Z - Client version 0.10.1 is not compatible with current backend service. Please update to the latest client version.\n",
      "ERROR - 2024-04-26T17:26:08Z - Client version 0.10.1 is not compatible with current backend service. Please update to the latest client version.\n",
      "INFO - 2024-04-26T17:26:09Z - Selected dataset version is \"202311\"\n",
      "INFO - 2024-04-26T17:26:09Z - Downloading using service original-files...\n"
     ]
    },
    {
     "name": "stderr",
     "output_type": "stream",
     "text": [
      "100%|██████████| 1/1 [00:13<00:00, 13.77s/it]\n"
     ]
    },
    {
     "name": "stdout",
     "output_type": "stream",
     "text": [
      "ERROR - 2024-04-26T17:26:28Z - Client version 0.10.1 is not compatible with current backend service. Please update to the latest client version.\n",
      "ERROR - 2024-04-26T17:26:28Z - Client version 0.10.1 is not compatible with current backend service. Please update to the latest client version.\n",
      "ERROR - 2024-04-26T17:26:28Z - Client version 0.10.1 is not compatible with current backend service. Please update to the latest client version.\n",
      "INFO - 2024-04-26T17:26:28Z - Selected dataset version is \"202311\"\n",
      "INFO - 2024-04-26T17:26:28Z - Downloading using service original-files...\n"
     ]
    },
    {
     "name": "stderr",
     "output_type": "stream",
     "text": [
      "100%|██████████| 1/1 [00:13<00:00, 13.66s/it]\n"
     ]
    },
    {
     "name": "stdout",
     "output_type": "stream",
     "text": [
      "ERROR - 2024-04-26T17:26:47Z - Client version 0.10.1 is not compatible with current backend service. Please update to the latest client version.\n",
      "ERROR - 2024-04-26T17:26:47Z - Client version 0.10.1 is not compatible with current backend service. Please update to the latest client version.\n",
      "ERROR - 2024-04-26T17:26:47Z - Client version 0.10.1 is not compatible with current backend service. Please update to the latest client version.\n",
      "INFO - 2024-04-26T17:26:47Z - Selected dataset version is \"202311\"\n",
      "INFO - 2024-04-26T17:26:47Z - Downloading using service original-files...\n"
     ]
    },
    {
     "name": "stderr",
     "output_type": "stream",
     "text": [
      "100%|██████████| 1/1 [00:13<00:00, 13.31s/it]\n"
     ]
    },
    {
     "name": "stdout",
     "output_type": "stream",
     "text": [
      "ERROR - 2024-04-26T17:27:06Z - Client version 0.10.1 is not compatible with current backend service. Please update to the latest client version.\n",
      "ERROR - 2024-04-26T17:27:06Z - Client version 0.10.1 is not compatible with current backend service. Please update to the latest client version.\n",
      "ERROR - 2024-04-26T17:27:06Z - Client version 0.10.1 is not compatible with current backend service. Please update to the latest client version.\n",
      "INFO - 2024-04-26T17:27:06Z - Selected dataset version is \"202311\"\n",
      "INFO - 2024-04-26T17:27:06Z - Downloading using service original-files...\n"
     ]
    },
    {
     "name": "stderr",
     "output_type": "stream",
     "text": [
      "100%|██████████| 1/1 [00:13<00:00, 13.40s/it]\n"
     ]
    },
    {
     "name": "stdout",
     "output_type": "stream",
     "text": [
      "ERROR - 2024-04-26T17:27:24Z - Client version 0.10.1 is not compatible with current backend service. Please update to the latest client version.\n",
      "ERROR - 2024-04-26T17:27:24Z - Client version 0.10.1 is not compatible with current backend service. Please update to the latest client version.\n",
      "ERROR - 2024-04-26T17:27:24Z - Client version 0.10.1 is not compatible with current backend service. Please update to the latest client version.\n",
      "INFO - 2024-04-26T17:27:25Z - Selected dataset version is \"202311\"\n",
      "INFO - 2024-04-26T17:27:25Z - Downloading using service original-files...\n"
     ]
    },
    {
     "name": "stderr",
     "output_type": "stream",
     "text": [
      "100%|██████████| 1/1 [00:13<00:00, 13.48s/it]\n"
     ]
    },
    {
     "name": "stdout",
     "output_type": "stream",
     "text": [
      "ERROR - 2024-04-26T17:27:43Z - Client version 0.10.1 is not compatible with current backend service. Please update to the latest client version.\n",
      "ERROR - 2024-04-26T17:27:43Z - Client version 0.10.1 is not compatible with current backend service. Please update to the latest client version.\n",
      "ERROR - 2024-04-26T17:27:43Z - Client version 0.10.1 is not compatible with current backend service. Please update to the latest client version.\n",
      "INFO - 2024-04-26T17:27:44Z - Selected dataset version is \"202311\"\n",
      "INFO - 2024-04-26T17:27:44Z - Downloading using service original-files...\n"
     ]
    },
    {
     "name": "stderr",
     "output_type": "stream",
     "text": [
      "100%|██████████| 1/1 [00:13<00:00, 13.48s/it]\n"
     ]
    },
    {
     "name": "stdout",
     "output_type": "stream",
     "text": [
      "ERROR - 2024-04-26T17:28:02Z - Client version 0.10.1 is not compatible with current backend service. Please update to the latest client version.\n",
      "ERROR - 2024-04-26T17:28:02Z - Client version 0.10.1 is not compatible with current backend service. Please update to the latest client version.\n",
      "ERROR - 2024-04-26T17:28:02Z - Client version 0.10.1 is not compatible with current backend service. Please update to the latest client version.\n",
      "INFO - 2024-04-26T17:28:02Z - Selected dataset version is \"202311\"\n",
      "INFO - 2024-04-26T17:28:02Z - Downloading using service original-files...\n"
     ]
    },
    {
     "name": "stderr",
     "output_type": "stream",
     "text": [
      "100%|██████████| 1/1 [00:13<00:00, 13.30s/it]\n"
     ]
    },
    {
     "name": "stdout",
     "output_type": "stream",
     "text": [
      "ERROR - 2024-04-26T17:28:21Z - Client version 0.10.1 is not compatible with current backend service. Please update to the latest client version.\n",
      "ERROR - 2024-04-26T17:28:21Z - Client version 0.10.1 is not compatible with current backend service. Please update to the latest client version.\n",
      "ERROR - 2024-04-26T17:28:21Z - Client version 0.10.1 is not compatible with current backend service. Please update to the latest client version.\n",
      "INFO - 2024-04-26T17:28:21Z - Selected dataset version is \"202311\"\n",
      "INFO - 2024-04-26T17:28:21Z - Downloading using service original-files...\n"
     ]
    },
    {
     "name": "stderr",
     "output_type": "stream",
     "text": [
      "100%|██████████| 1/1 [00:13<00:00, 13.47s/it]\n"
     ]
    },
    {
     "name": "stdout",
     "output_type": "stream",
     "text": [
      "ERROR - 2024-04-26T17:28:40Z - Client version 0.10.1 is not compatible with current backend service. Please update to the latest client version.\n",
      "ERROR - 2024-04-26T17:28:40Z - Client version 0.10.1 is not compatible with current backend service. Please update to the latest client version.\n",
      "ERROR - 2024-04-26T17:28:40Z - Client version 0.10.1 is not compatible with current backend service. Please update to the latest client version.\n",
      "INFO - 2024-04-26T17:28:40Z - Selected dataset version is \"202311\"\n",
      "INFO - 2024-04-26T17:28:40Z - Downloading using service original-files...\n"
     ]
    },
    {
     "name": "stderr",
     "output_type": "stream",
     "text": [
      "100%|██████████| 1/1 [00:13<00:00, 13.39s/it]\n"
     ]
    },
    {
     "name": "stdout",
     "output_type": "stream",
     "text": [
      "ERROR - 2024-04-26T17:28:59Z - Client version 0.10.1 is not compatible with current backend service. Please update to the latest client version.\n",
      "ERROR - 2024-04-26T17:28:59Z - Client version 0.10.1 is not compatible with current backend service. Please update to the latest client version.\n",
      "ERROR - 2024-04-26T17:28:59Z - Client version 0.10.1 is not compatible with current backend service. Please update to the latest client version.\n",
      "INFO - 2024-04-26T17:28:59Z - Selected dataset version is \"202311\"\n",
      "INFO - 2024-04-26T17:28:59Z - Downloading using service original-files...\n"
     ]
    },
    {
     "name": "stderr",
     "output_type": "stream",
     "text": [
      "100%|██████████| 1/1 [00:13<00:00, 13.66s/it]\n"
     ]
    },
    {
     "name": "stdout",
     "output_type": "stream",
     "text": [
      "ERROR - 2024-04-26T17:29:18Z - Client version 0.10.1 is not compatible with current backend service. Please update to the latest client version.\n",
      "ERROR - 2024-04-26T17:29:18Z - Client version 0.10.1 is not compatible with current backend service. Please update to the latest client version.\n",
      "ERROR - 2024-04-26T17:29:18Z - Client version 0.10.1 is not compatible with current backend service. Please update to the latest client version.\n",
      "INFO - 2024-04-26T17:29:18Z - Selected dataset version is \"202311\"\n",
      "INFO - 2024-04-26T17:29:18Z - Downloading using service original-files...\n"
     ]
    },
    {
     "name": "stderr",
     "output_type": "stream",
     "text": [
      "100%|██████████| 1/1 [00:13<00:00, 13.57s/it]\n"
     ]
    },
    {
     "name": "stdout",
     "output_type": "stream",
     "text": [
      "ERROR - 2024-04-26T17:29:37Z - Client version 0.10.1 is not compatible with current backend service. Please update to the latest client version.\n",
      "ERROR - 2024-04-26T17:29:37Z - Client version 0.10.1 is not compatible with current backend service. Please update to the latest client version.\n",
      "ERROR - 2024-04-26T17:29:37Z - Client version 0.10.1 is not compatible with current backend service. Please update to the latest client version.\n",
      "INFO - 2024-04-26T17:29:37Z - Selected dataset version is \"202311\"\n",
      "INFO - 2024-04-26T17:29:37Z - Downloading using service original-files...\n"
     ]
    },
    {
     "name": "stderr",
     "output_type": "stream",
     "text": [
      "100%|██████████| 1/1 [00:13<00:00, 13.58s/it]\n"
     ]
    },
    {
     "name": "stdout",
     "output_type": "stream",
     "text": [
      "ERROR - 2024-04-26T17:29:56Z - Client version 0.10.1 is not compatible with current backend service. Please update to the latest client version.\n",
      "ERROR - 2024-04-26T17:29:56Z - Client version 0.10.1 is not compatible with current backend service. Please update to the latest client version.\n",
      "ERROR - 2024-04-26T17:29:56Z - Client version 0.10.1 is not compatible with current backend service. Please update to the latest client version.\n",
      "INFO - 2024-04-26T17:29:57Z - Selected dataset version is \"202311\"\n",
      "INFO - 2024-04-26T17:29:57Z - Downloading using service original-files...\n"
     ]
    },
    {
     "name": "stderr",
     "output_type": "stream",
     "text": [
      "100%|██████████| 1/1 [00:13<00:00, 13.57s/it]\n"
     ]
    },
    {
     "name": "stdout",
     "output_type": "stream",
     "text": [
      "ERROR - 2024-04-26T17:30:15Z - Client version 0.10.1 is not compatible with current backend service. Please update to the latest client version.\n",
      "ERROR - 2024-04-26T17:30:15Z - Client version 0.10.1 is not compatible with current backend service. Please update to the latest client version.\n",
      "ERROR - 2024-04-26T17:30:15Z - Client version 0.10.1 is not compatible with current backend service. Please update to the latest client version.\n",
      "INFO - 2024-04-26T17:30:15Z - Selected dataset version is \"202311\"\n",
      "INFO - 2024-04-26T17:30:15Z - Downloading using service original-files...\n"
     ]
    },
    {
     "name": "stderr",
     "output_type": "stream",
     "text": [
      "100%|██████████| 1/1 [00:13<00:00, 13.62s/it]\n"
     ]
    },
    {
     "name": "stdout",
     "output_type": "stream",
     "text": [
      "ERROR - 2024-04-26T17:30:34Z - Client version 0.10.1 is not compatible with current backend service. Please update to the latest client version.\n",
      "ERROR - 2024-04-26T17:30:34Z - Client version 0.10.1 is not compatible with current backend service. Please update to the latest client version.\n",
      "ERROR - 2024-04-26T17:30:34Z - Client version 0.10.1 is not compatible with current backend service. Please update to the latest client version.\n",
      "INFO - 2024-04-26T17:30:34Z - Selected dataset version is \"202311\"\n",
      "INFO - 2024-04-26T17:30:34Z - Downloading using service original-files...\n"
     ]
    },
    {
     "name": "stderr",
     "output_type": "stream",
     "text": [
      "100%|██████████| 1/1 [00:13<00:00, 13.91s/it]\n"
     ]
    },
    {
     "name": "stdout",
     "output_type": "stream",
     "text": [
      "ERROR - 2024-04-26T17:30:53Z - Client version 0.10.1 is not compatible with current backend service. Please update to the latest client version.\n",
      "ERROR - 2024-04-26T17:30:53Z - Client version 0.10.1 is not compatible with current backend service. Please update to the latest client version.\n",
      "ERROR - 2024-04-26T17:30:53Z - Client version 0.10.1 is not compatible with current backend service. Please update to the latest client version.\n",
      "INFO - 2024-04-26T17:30:54Z - Selected dataset version is \"202311\"\n",
      "INFO - 2024-04-26T17:30:54Z - Downloading using service original-files...\n"
     ]
    },
    {
     "name": "stderr",
     "output_type": "stream",
     "text": [
      "100%|██████████| 1/1 [00:13<00:00, 13.40s/it]\n"
     ]
    },
    {
     "name": "stdout",
     "output_type": "stream",
     "text": [
      "ERROR - 2024-04-26T17:31:12Z - Client version 0.10.1 is not compatible with current backend service. Please update to the latest client version.\n",
      "ERROR - 2024-04-26T17:31:12Z - Client version 0.10.1 is not compatible with current backend service. Please update to the latest client version.\n",
      "ERROR - 2024-04-26T17:31:12Z - Client version 0.10.1 is not compatible with current backend service. Please update to the latest client version.\n",
      "INFO - 2024-04-26T17:31:13Z - Selected dataset version is \"202311\"\n",
      "INFO - 2024-04-26T17:31:13Z - Downloading using service original-files...\n"
     ]
    },
    {
     "name": "stderr",
     "output_type": "stream",
     "text": [
      "100%|██████████| 1/1 [00:13<00:00, 13.52s/it]\n"
     ]
    },
    {
     "name": "stdout",
     "output_type": "stream",
     "text": [
      "ERROR - 2024-04-26T17:31:31Z - Client version 0.10.1 is not compatible with current backend service. Please update to the latest client version.\n",
      "ERROR - 2024-04-26T17:31:31Z - Client version 0.10.1 is not compatible with current backend service. Please update to the latest client version.\n",
      "ERROR - 2024-04-26T17:31:31Z - Client version 0.10.1 is not compatible with current backend service. Please update to the latest client version.\n",
      "INFO - 2024-04-26T17:31:31Z - Selected dataset version is \"202311\"\n",
      "INFO - 2024-04-26T17:31:31Z - Downloading using service original-files...\n"
     ]
    },
    {
     "name": "stderr",
     "output_type": "stream",
     "text": [
      "100%|██████████| 1/1 [00:13<00:00, 13.55s/it]\n"
     ]
    },
    {
     "name": "stdout",
     "output_type": "stream",
     "text": [
      "ERROR - 2024-04-26T17:31:50Z - Client version 0.10.1 is not compatible with current backend service. Please update to the latest client version.\n",
      "ERROR - 2024-04-26T17:31:50Z - Client version 0.10.1 is not compatible with current backend service. Please update to the latest client version.\n",
      "ERROR - 2024-04-26T17:31:50Z - Client version 0.10.1 is not compatible with current backend service. Please update to the latest client version.\n",
      "INFO - 2024-04-26T17:31:50Z - Selected dataset version is \"202311\"\n",
      "INFO - 2024-04-26T17:31:50Z - Downloading using service original-files...\n"
     ]
    },
    {
     "name": "stderr",
     "output_type": "stream",
     "text": [
      "100%|██████████| 1/1 [00:13<00:00, 13.59s/it]\n"
     ]
    },
    {
     "name": "stdout",
     "output_type": "stream",
     "text": [
      "ERROR - 2024-04-26T17:32:09Z - Client version 0.10.1 is not compatible with current backend service. Please update to the latest client version.\n",
      "ERROR - 2024-04-26T17:32:09Z - Client version 0.10.1 is not compatible with current backend service. Please update to the latest client version.\n",
      "ERROR - 2024-04-26T17:32:09Z - Client version 0.10.1 is not compatible with current backend service. Please update to the latest client version.\n",
      "INFO - 2024-04-26T17:32:09Z - Selected dataset version is \"202311\"\n",
      "INFO - 2024-04-26T17:32:09Z - Downloading using service original-files...\n"
     ]
    },
    {
     "name": "stderr",
     "output_type": "stream",
     "text": [
      "100%|██████████| 1/1 [00:13<00:00, 13.34s/it]\n"
     ]
    },
    {
     "name": "stdout",
     "output_type": "stream",
     "text": [
      "ERROR - 2024-04-26T17:32:28Z - Client version 0.10.1 is not compatible with current backend service. Please update to the latest client version.\n",
      "ERROR - 2024-04-26T17:32:28Z - Client version 0.10.1 is not compatible with current backend service. Please update to the latest client version.\n",
      "ERROR - 2024-04-26T17:32:28Z - Client version 0.10.1 is not compatible with current backend service. Please update to the latest client version.\n",
      "INFO - 2024-04-26T17:32:28Z - Selected dataset version is \"202311\"\n",
      "INFO - 2024-04-26T17:32:28Z - Downloading using service original-files...\n"
     ]
    },
    {
     "name": "stderr",
     "output_type": "stream",
     "text": [
      "100%|██████████| 1/1 [00:13<00:00, 13.61s/it]\n"
     ]
    },
    {
     "name": "stdout",
     "output_type": "stream",
     "text": [
      "ERROR - 2024-04-26T17:32:47Z - Client version 0.10.1 is not compatible with current backend service. Please update to the latest client version.\n",
      "ERROR - 2024-04-26T17:32:47Z - Client version 0.10.1 is not compatible with current backend service. Please update to the latest client version.\n",
      "ERROR - 2024-04-26T17:32:47Z - Client version 0.10.1 is not compatible with current backend service. Please update to the latest client version.\n",
      "INFO - 2024-04-26T17:32:47Z - Selected dataset version is \"202311\"\n",
      "INFO - 2024-04-26T17:32:47Z - Downloading using service original-files...\n"
     ]
    },
    {
     "name": "stderr",
     "output_type": "stream",
     "text": [
      "100%|██████████| 1/1 [00:13<00:00, 13.37s/it]\n"
     ]
    },
    {
     "name": "stdout",
     "output_type": "stream",
     "text": [
      "ERROR - 2024-04-26T17:33:06Z - Client version 0.10.1 is not compatible with current backend service. Please update to the latest client version.\n",
      "ERROR - 2024-04-26T17:33:06Z - Client version 0.10.1 is not compatible with current backend service. Please update to the latest client version.\n",
      "ERROR - 2024-04-26T17:33:06Z - Client version 0.10.1 is not compatible with current backend service. Please update to the latest client version.\n",
      "INFO - 2024-04-26T17:33:06Z - Selected dataset version is \"202311\"\n",
      "INFO - 2024-04-26T17:33:06Z - Downloading using service original-files...\n"
     ]
    },
    {
     "name": "stderr",
     "output_type": "stream",
     "text": [
      "100%|██████████| 1/1 [00:13<00:00, 13.67s/it]\n"
     ]
    },
    {
     "name": "stdout",
     "output_type": "stream",
     "text": [
      "ERROR - 2024-04-26T17:33:24Z - Client version 0.10.1 is not compatible with current backend service. Please update to the latest client version.\n",
      "ERROR - 2024-04-26T17:33:24Z - Client version 0.10.1 is not compatible with current backend service. Please update to the latest client version.\n",
      "ERROR - 2024-04-26T17:33:24Z - Client version 0.10.1 is not compatible with current backend service. Please update to the latest client version.\n",
      "INFO - 2024-04-26T17:33:25Z - Selected dataset version is \"202311\"\n",
      "INFO - 2024-04-26T17:33:25Z - Downloading using service original-files...\n"
     ]
    },
    {
     "name": "stderr",
     "output_type": "stream",
     "text": [
      "100%|██████████| 1/1 [00:13<00:00, 13.55s/it]\n"
     ]
    },
    {
     "name": "stdout",
     "output_type": "stream",
     "text": [
      "ERROR - 2024-04-26T17:33:43Z - Client version 0.10.1 is not compatible with current backend service. Please update to the latest client version.\n",
      "ERROR - 2024-04-26T17:33:43Z - Client version 0.10.1 is not compatible with current backend service. Please update to the latest client version.\n",
      "ERROR - 2024-04-26T17:33:43Z - Client version 0.10.1 is not compatible with current backend service. Please update to the latest client version.\n",
      "INFO - 2024-04-26T17:33:44Z - Selected dataset version is \"202311\"\n",
      "INFO - 2024-04-26T17:33:44Z - Downloading using service original-files...\n"
     ]
    },
    {
     "name": "stderr",
     "output_type": "stream",
     "text": [
      "100%|██████████| 1/1 [00:13<00:00, 13.78s/it]\n"
     ]
    },
    {
     "name": "stdout",
     "output_type": "stream",
     "text": [
      "ERROR - 2024-04-26T17:34:02Z - Client version 0.10.1 is not compatible with current backend service. Please update to the latest client version.\n",
      "ERROR - 2024-04-26T17:34:02Z - Client version 0.10.1 is not compatible with current backend service. Please update to the latest client version.\n",
      "ERROR - 2024-04-26T17:34:02Z - Client version 0.10.1 is not compatible with current backend service. Please update to the latest client version.\n",
      "INFO - 2024-04-26T17:34:03Z - Selected dataset version is \"202311\"\n",
      "INFO - 2024-04-26T17:34:03Z - Downloading using service original-files...\n"
     ]
    },
    {
     "name": "stderr",
     "output_type": "stream",
     "text": [
      "100%|██████████| 1/1 [00:13<00:00, 13.34s/it]\n"
     ]
    },
    {
     "name": "stdout",
     "output_type": "stream",
     "text": [
      "ERROR - 2024-04-26T17:34:21Z - Client version 0.10.1 is not compatible with current backend service. Please update to the latest client version.\n",
      "ERROR - 2024-04-26T17:34:21Z - Client version 0.10.1 is not compatible with current backend service. Please update to the latest client version.\n",
      "ERROR - 2024-04-26T17:34:21Z - Client version 0.10.1 is not compatible with current backend service. Please update to the latest client version.\n",
      "INFO - 2024-04-26T17:34:21Z - Selected dataset version is \"202311\"\n",
      "INFO - 2024-04-26T17:34:21Z - Downloading using service original-files...\n"
     ]
    },
    {
     "name": "stderr",
     "output_type": "stream",
     "text": [
      "100%|██████████| 1/1 [00:13<00:00, 13.60s/it]\n"
     ]
    },
    {
     "name": "stdout",
     "output_type": "stream",
     "text": [
      "ERROR - 2024-04-26T17:34:40Z - Client version 0.10.1 is not compatible with current backend service. Please update to the latest client version.\n",
      "ERROR - 2024-04-26T17:34:40Z - Client version 0.10.1 is not compatible with current backend service. Please update to the latest client version.\n",
      "ERROR - 2024-04-26T17:34:40Z - Client version 0.10.1 is not compatible with current backend service. Please update to the latest client version.\n",
      "INFO - 2024-04-26T17:34:40Z - Selected dataset version is \"202311\"\n",
      "INFO - 2024-04-26T17:34:40Z - Downloading using service original-files...\n"
     ]
    },
    {
     "name": "stderr",
     "output_type": "stream",
     "text": [
      "100%|██████████| 1/1 [00:13<00:00, 13.53s/it]\n"
     ]
    },
    {
     "name": "stdout",
     "output_type": "stream",
     "text": [
      "ERROR - 2024-04-26T17:34:59Z - Client version 0.10.1 is not compatible with current backend service. Please update to the latest client version.\n",
      "ERROR - 2024-04-26T17:34:59Z - Client version 0.10.1 is not compatible with current backend service. Please update to the latest client version.\n",
      "ERROR - 2024-04-26T17:34:59Z - Client version 0.10.1 is not compatible with current backend service. Please update to the latest client version.\n",
      "INFO - 2024-04-26T17:34:59Z - Selected dataset version is \"202311\"\n",
      "INFO - 2024-04-26T17:34:59Z - Downloading using service original-files...\n"
     ]
    },
    {
     "name": "stderr",
     "output_type": "stream",
     "text": [
      "100%|██████████| 1/1 [00:14<00:00, 14.37s/it]\n"
     ]
    },
    {
     "name": "stdout",
     "output_type": "stream",
     "text": [
      "ERROR - 2024-04-26T17:35:18Z - Client version 0.10.1 is not compatible with current backend service. Please update to the latest client version.\n",
      "ERROR - 2024-04-26T17:35:18Z - Client version 0.10.1 is not compatible with current backend service. Please update to the latest client version.\n",
      "ERROR - 2024-04-26T17:35:18Z - Client version 0.10.1 is not compatible with current backend service. Please update to the latest client version.\n",
      "INFO - 2024-04-26T17:35:19Z - Selected dataset version is \"202311\"\n",
      "INFO - 2024-04-26T17:35:19Z - Downloading using service original-files...\n"
     ]
    },
    {
     "name": "stderr",
     "output_type": "stream",
     "text": [
      "100%|██████████| 1/1 [00:13<00:00, 13.47s/it]\n"
     ]
    },
    {
     "name": "stdout",
     "output_type": "stream",
     "text": [
      "ERROR - 2024-04-26T17:35:37Z - Client version 0.10.1 is not compatible with current backend service. Please update to the latest client version.\n",
      "ERROR - 2024-04-26T17:35:37Z - Client version 0.10.1 is not compatible with current backend service. Please update to the latest client version.\n",
      "ERROR - 2024-04-26T17:35:37Z - Client version 0.10.1 is not compatible with current backend service. Please update to the latest client version.\n",
      "INFO - 2024-04-26T17:35:37Z - Selected dataset version is \"202311\"\n",
      "INFO - 2024-04-26T17:35:37Z - Downloading using service original-files...\n"
     ]
    },
    {
     "name": "stderr",
     "output_type": "stream",
     "text": [
      "100%|██████████| 1/1 [00:13<00:00, 13.63s/it]\n"
     ]
    },
    {
     "name": "stdout",
     "output_type": "stream",
     "text": [
      "ERROR - 2024-04-26T17:35:56Z - Client version 0.10.1 is not compatible with current backend service. Please update to the latest client version.\n",
      "ERROR - 2024-04-26T17:35:56Z - Client version 0.10.1 is not compatible with current backend service. Please update to the latest client version.\n",
      "ERROR - 2024-04-26T17:35:56Z - Client version 0.10.1 is not compatible with current backend service. Please update to the latest client version.\n",
      "INFO - 2024-04-26T17:35:57Z - Selected dataset version is \"202311\"\n",
      "INFO - 2024-04-26T17:35:57Z - Downloading using service original-files...\n"
     ]
    },
    {
     "name": "stderr",
     "output_type": "stream",
     "text": [
      "100%|██████████| 1/1 [00:13<00:00, 13.51s/it]\n"
     ]
    },
    {
     "name": "stdout",
     "output_type": "stream",
     "text": [
      "ERROR - 2024-04-26T17:36:15Z - Client version 0.10.1 is not compatible with current backend service. Please update to the latest client version.\n",
      "ERROR - 2024-04-26T17:36:15Z - Client version 0.10.1 is not compatible with current backend service. Please update to the latest client version.\n",
      "ERROR - 2024-04-26T17:36:15Z - Client version 0.10.1 is not compatible with current backend service. Please update to the latest client version.\n",
      "INFO - 2024-04-26T17:36:16Z - Selected dataset version is \"202311\"\n",
      "INFO - 2024-04-26T17:36:16Z - Downloading using service original-files...\n"
     ]
    },
    {
     "name": "stderr",
     "output_type": "stream",
     "text": [
      "100%|██████████| 1/1 [00:13<00:00, 13.34s/it]\n"
     ]
    },
    {
     "name": "stdout",
     "output_type": "stream",
     "text": [
      "ERROR - 2024-04-26T17:36:34Z - Client version 0.10.1 is not compatible with current backend service. Please update to the latest client version.\n",
      "ERROR - 2024-04-26T17:36:34Z - Client version 0.10.1 is not compatible with current backend service. Please update to the latest client version.\n",
      "ERROR - 2024-04-26T17:36:34Z - Client version 0.10.1 is not compatible with current backend service. Please update to the latest client version.\n",
      "INFO - 2024-04-26T17:36:34Z - Selected dataset version is \"202311\"\n",
      "INFO - 2024-04-26T17:36:34Z - Downloading using service original-files...\n"
     ]
    },
    {
     "name": "stderr",
     "output_type": "stream",
     "text": [
      "100%|██████████| 1/1 [00:13<00:00, 13.39s/it]\n"
     ]
    },
    {
     "name": "stdout",
     "output_type": "stream",
     "text": [
      "ERROR - 2024-04-26T17:36:53Z - Client version 0.10.1 is not compatible with current backend service. Please update to the latest client version.\n",
      "ERROR - 2024-04-26T17:36:53Z - Client version 0.10.1 is not compatible with current backend service. Please update to the latest client version.\n",
      "ERROR - 2024-04-26T17:36:53Z - Client version 0.10.1 is not compatible with current backend service. Please update to the latest client version.\n",
      "INFO - 2024-04-26T17:36:53Z - Selected dataset version is \"202311\"\n",
      "INFO - 2024-04-26T17:36:53Z - Downloading using service original-files...\n"
     ]
    },
    {
     "name": "stderr",
     "output_type": "stream",
     "text": [
      "100%|██████████| 1/1 [00:13<00:00, 13.32s/it]\n"
     ]
    },
    {
     "name": "stdout",
     "output_type": "stream",
     "text": [
      "ERROR - 2024-04-26T17:37:12Z - Client version 0.10.1 is not compatible with current backend service. Please update to the latest client version.\n",
      "ERROR - 2024-04-26T17:37:12Z - Client version 0.10.1 is not compatible with current backend service. Please update to the latest client version.\n",
      "ERROR - 2024-04-26T17:37:12Z - Client version 0.10.1 is not compatible with current backend service. Please update to the latest client version.\n",
      "INFO - 2024-04-26T17:37:12Z - Selected dataset version is \"202311\"\n",
      "INFO - 2024-04-26T17:37:12Z - Downloading using service original-files...\n"
     ]
    },
    {
     "name": "stderr",
     "output_type": "stream",
     "text": [
      "100%|██████████| 1/1 [00:13<00:00, 13.61s/it]\n"
     ]
    },
    {
     "name": "stdout",
     "output_type": "stream",
     "text": [
      "ERROR - 2024-04-26T17:37:31Z - Client version 0.10.1 is not compatible with current backend service. Please update to the latest client version.\n",
      "ERROR - 2024-04-26T17:37:31Z - Client version 0.10.1 is not compatible with current backend service. Please update to the latest client version.\n",
      "ERROR - 2024-04-26T17:37:31Z - Client version 0.10.1 is not compatible with current backend service. Please update to the latest client version.\n",
      "INFO - 2024-04-26T17:37:31Z - Selected dataset version is \"202311\"\n",
      "INFO - 2024-04-26T17:37:31Z - Downloading using service original-files...\n"
     ]
    },
    {
     "name": "stderr",
     "output_type": "stream",
     "text": [
      "100%|██████████| 1/1 [00:13<00:00, 13.55s/it]\n"
     ]
    },
    {
     "name": "stdout",
     "output_type": "stream",
     "text": [
      "ERROR - 2024-04-26T17:37:50Z - Client version 0.10.1 is not compatible with current backend service. Please update to the latest client version.\n",
      "ERROR - 2024-04-26T17:37:50Z - Client version 0.10.1 is not compatible with current backend service. Please update to the latest client version.\n",
      "ERROR - 2024-04-26T17:37:50Z - Client version 0.10.1 is not compatible with current backend service. Please update to the latest client version.\n",
      "INFO - 2024-04-26T17:37:50Z - Selected dataset version is \"202311\"\n",
      "INFO - 2024-04-26T17:37:50Z - Downloading using service original-files...\n"
     ]
    },
    {
     "name": "stderr",
     "output_type": "stream",
     "text": [
      "100%|██████████| 1/1 [00:13<00:00, 13.37s/it]\n"
     ]
    },
    {
     "name": "stdout",
     "output_type": "stream",
     "text": [
      "ERROR - 2024-04-26T17:38:08Z - Client version 0.10.1 is not compatible with current backend service. Please update to the latest client version.\n",
      "ERROR - 2024-04-26T17:38:08Z - Client version 0.10.1 is not compatible with current backend service. Please update to the latest client version.\n",
      "ERROR - 2024-04-26T17:38:08Z - Client version 0.10.1 is not compatible with current backend service. Please update to the latest client version.\n",
      "INFO - 2024-04-26T17:38:09Z - Selected dataset version is \"202311\"\n",
      "INFO - 2024-04-26T17:38:09Z - Downloading using service original-files...\n"
     ]
    },
    {
     "name": "stderr",
     "output_type": "stream",
     "text": [
      "100%|██████████| 1/1 [00:13<00:00, 13.49s/it]\n"
     ]
    },
    {
     "name": "stdout",
     "output_type": "stream",
     "text": [
      "ERROR - 2024-04-26T17:38:28Z - Client version 0.10.1 is not compatible with current backend service. Please update to the latest client version.\n",
      "ERROR - 2024-04-26T17:38:28Z - Client version 0.10.1 is not compatible with current backend service. Please update to the latest client version.\n",
      "ERROR - 2024-04-26T17:38:28Z - Client version 0.10.1 is not compatible with current backend service. Please update to the latest client version.\n",
      "INFO - 2024-04-26T17:38:28Z - Selected dataset version is \"202311\"\n",
      "INFO - 2024-04-26T17:38:28Z - Downloading using service original-files...\n"
     ]
    },
    {
     "name": "stderr",
     "output_type": "stream",
     "text": [
      "100%|██████████| 1/1 [00:13<00:00, 13.74s/it]\n"
     ]
    },
    {
     "name": "stdout",
     "output_type": "stream",
     "text": [
      "ERROR - 2024-04-26T17:38:47Z - Client version 0.10.1 is not compatible with current backend service. Please update to the latest client version.\n",
      "ERROR - 2024-04-26T17:38:47Z - Client version 0.10.1 is not compatible with current backend service. Please update to the latest client version.\n",
      "ERROR - 2024-04-26T17:38:47Z - Client version 0.10.1 is not compatible with current backend service. Please update to the latest client version.\n",
      "INFO - 2024-04-26T17:38:47Z - Selected dataset version is \"202311\"\n",
      "INFO - 2024-04-26T17:38:47Z - Downloading using service original-files...\n"
     ]
    },
    {
     "name": "stderr",
     "output_type": "stream",
     "text": [
      "100%|██████████| 1/1 [00:13<00:00, 13.63s/it]\n"
     ]
    },
    {
     "name": "stdout",
     "output_type": "stream",
     "text": [
      "ERROR - 2024-04-26T17:39:06Z - Client version 0.10.1 is not compatible with current backend service. Please update to the latest client version.\n",
      "ERROR - 2024-04-26T17:39:06Z - Client version 0.10.1 is not compatible with current backend service. Please update to the latest client version.\n",
      "ERROR - 2024-04-26T17:39:06Z - Client version 0.10.1 is not compatible with current backend service. Please update to the latest client version.\n",
      "INFO - 2024-04-26T17:39:06Z - Selected dataset version is \"202311\"\n",
      "INFO - 2024-04-26T17:39:06Z - Downloading using service original-files...\n"
     ]
    },
    {
     "name": "stderr",
     "output_type": "stream",
     "text": [
      "100%|██████████| 1/1 [00:13<00:00, 13.39s/it]\n"
     ]
    },
    {
     "name": "stdout",
     "output_type": "stream",
     "text": [
      "ERROR - 2024-04-26T17:39:24Z - Client version 0.10.1 is not compatible with current backend service. Please update to the latest client version.\n",
      "ERROR - 2024-04-26T17:39:24Z - Client version 0.10.1 is not compatible with current backend service. Please update to the latest client version.\n",
      "ERROR - 2024-04-26T17:39:24Z - Client version 0.10.1 is not compatible with current backend service. Please update to the latest client version.\n",
      "INFO - 2024-04-26T17:39:25Z - Selected dataset version is \"202311\"\n",
      "INFO - 2024-04-26T17:39:25Z - Downloading using service original-files...\n"
     ]
    },
    {
     "name": "stderr",
     "output_type": "stream",
     "text": [
      "100%|██████████| 1/1 [00:13<00:00, 13.57s/it]\n"
     ]
    },
    {
     "name": "stdout",
     "output_type": "stream",
     "text": [
      "ERROR - 2024-04-26T17:39:43Z - Client version 0.10.1 is not compatible with current backend service. Please update to the latest client version.\n",
      "ERROR - 2024-04-26T17:39:43Z - Client version 0.10.1 is not compatible with current backend service. Please update to the latest client version.\n",
      "ERROR - 2024-04-26T17:39:43Z - Client version 0.10.1 is not compatible with current backend service. Please update to the latest client version.\n",
      "INFO - 2024-04-26T17:39:44Z - Selected dataset version is \"202311\"\n",
      "INFO - 2024-04-26T17:39:44Z - Downloading using service original-files...\n"
     ]
    },
    {
     "name": "stderr",
     "output_type": "stream",
     "text": [
      "100%|██████████| 1/1 [00:13<00:00, 13.42s/it]\n"
     ]
    },
    {
     "name": "stdout",
     "output_type": "stream",
     "text": [
      "ERROR - 2024-04-26T17:40:02Z - Client version 0.10.1 is not compatible with current backend service. Please update to the latest client version.\n",
      "ERROR - 2024-04-26T17:40:02Z - Client version 0.10.1 is not compatible with current backend service. Please update to the latest client version.\n",
      "ERROR - 2024-04-26T17:40:02Z - Client version 0.10.1 is not compatible with current backend service. Please update to the latest client version.\n",
      "INFO - 2024-04-26T17:40:03Z - Selected dataset version is \"202311\"\n",
      "INFO - 2024-04-26T17:40:03Z - Downloading using service original-files...\n"
     ]
    },
    {
     "name": "stderr",
     "output_type": "stream",
     "text": [
      "100%|██████████| 1/1 [00:13<00:00, 13.54s/it]\n"
     ]
    },
    {
     "name": "stdout",
     "output_type": "stream",
     "text": [
      "ERROR - 2024-04-26T17:40:21Z - Client version 0.10.1 is not compatible with current backend service. Please update to the latest client version.\n",
      "ERROR - 2024-04-26T17:40:21Z - Client version 0.10.1 is not compatible with current backend service. Please update to the latest client version.\n",
      "ERROR - 2024-04-26T17:40:21Z - Client version 0.10.1 is not compatible with current backend service. Please update to the latest client version.\n",
      "INFO - 2024-04-26T17:40:22Z - Selected dataset version is \"202311\"\n",
      "INFO - 2024-04-26T17:40:22Z - Downloading using service original-files...\n"
     ]
    },
    {
     "name": "stderr",
     "output_type": "stream",
     "text": [
      "100%|██████████| 1/1 [00:13<00:00, 13.56s/it]\n"
     ]
    },
    {
     "name": "stdout",
     "output_type": "stream",
     "text": [
      "ERROR - 2024-04-26T17:40:40Z - Client version 0.10.1 is not compatible with current backend service. Please update to the latest client version.\n",
      "ERROR - 2024-04-26T17:40:40Z - Client version 0.10.1 is not compatible with current backend service. Please update to the latest client version.\n",
      "ERROR - 2024-04-26T17:40:40Z - Client version 0.10.1 is not compatible with current backend service. Please update to the latest client version.\n",
      "INFO - 2024-04-26T17:40:41Z - Selected dataset version is \"202311\"\n",
      "INFO - 2024-04-26T17:40:41Z - Downloading using service original-files...\n"
     ]
    },
    {
     "name": "stderr",
     "output_type": "stream",
     "text": [
      "100%|██████████| 1/1 [00:13<00:00, 13.64s/it]\n"
     ]
    },
    {
     "name": "stdout",
     "output_type": "stream",
     "text": [
      "ERROR - 2024-04-26T17:40:59Z - Client version 0.10.1 is not compatible with current backend service. Please update to the latest client version.\n",
      "ERROR - 2024-04-26T17:40:59Z - Client version 0.10.1 is not compatible with current backend service. Please update to the latest client version.\n",
      "ERROR - 2024-04-26T17:40:59Z - Client version 0.10.1 is not compatible with current backend service. Please update to the latest client version.\n",
      "INFO - 2024-04-26T17:41:00Z - Selected dataset version is \"202311\"\n",
      "INFO - 2024-04-26T17:41:00Z - Downloading using service original-files...\n"
     ]
    },
    {
     "name": "stderr",
     "output_type": "stream",
     "text": [
      "100%|██████████| 1/1 [00:13<00:00, 13.85s/it]\n"
     ]
    },
    {
     "name": "stdout",
     "output_type": "stream",
     "text": [
      "ERROR - 2024-04-26T17:41:19Z - Client version 0.10.1 is not compatible with current backend service. Please update to the latest client version.\n",
      "ERROR - 2024-04-26T17:41:19Z - Client version 0.10.1 is not compatible with current backend service. Please update to the latest client version.\n",
      "ERROR - 2024-04-26T17:41:19Z - Client version 0.10.1 is not compatible with current backend service. Please update to the latest client version.\n",
      "INFO - 2024-04-26T17:41:19Z - Selected dataset version is \"202311\"\n",
      "INFO - 2024-04-26T17:41:19Z - Downloading using service original-files...\n"
     ]
    },
    {
     "name": "stderr",
     "output_type": "stream",
     "text": [
      "100%|██████████| 1/1 [00:13<00:00, 13.47s/it]\n"
     ]
    },
    {
     "name": "stdout",
     "output_type": "stream",
     "text": [
      "ERROR - 2024-04-26T17:41:37Z - Client version 0.10.1 is not compatible with current backend service. Please update to the latest client version.\n",
      "ERROR - 2024-04-26T17:41:37Z - Client version 0.10.1 is not compatible with current backend service. Please update to the latest client version.\n",
      "ERROR - 2024-04-26T17:41:37Z - Client version 0.10.1 is not compatible with current backend service. Please update to the latest client version.\n",
      "INFO - 2024-04-26T17:41:38Z - Selected dataset version is \"202311\"\n",
      "INFO - 2024-04-26T17:41:38Z - Downloading using service original-files...\n"
     ]
    },
    {
     "name": "stderr",
     "output_type": "stream",
     "text": [
      "100%|██████████| 1/1 [00:13<00:00, 13.64s/it]\n"
     ]
    },
    {
     "name": "stdout",
     "output_type": "stream",
     "text": [
      "ERROR - 2024-04-26T17:41:56Z - Client version 0.10.1 is not compatible with current backend service. Please update to the latest client version.\n",
      "ERROR - 2024-04-26T17:41:56Z - Client version 0.10.1 is not compatible with current backend service. Please update to the latest client version.\n",
      "ERROR - 2024-04-26T17:41:56Z - Client version 0.10.1 is not compatible with current backend service. Please update to the latest client version.\n",
      "INFO - 2024-04-26T17:41:57Z - Selected dataset version is \"202311\"\n",
      "INFO - 2024-04-26T17:41:57Z - Downloading using service original-files...\n"
     ]
    },
    {
     "name": "stderr",
     "output_type": "stream",
     "text": [
      "100%|██████████| 1/1 [00:13<00:00, 13.37s/it]\n"
     ]
    },
    {
     "name": "stdout",
     "output_type": "stream",
     "text": [
      "ERROR - 2024-04-26T17:42:15Z - Client version 0.10.1 is not compatible with current backend service. Please update to the latest client version.\n",
      "ERROR - 2024-04-26T17:42:15Z - Client version 0.10.1 is not compatible with current backend service. Please update to the latest client version.\n",
      "ERROR - 2024-04-26T17:42:15Z - Client version 0.10.1 is not compatible with current backend service. Please update to the latest client version.\n",
      "INFO - 2024-04-26T17:42:16Z - Selected dataset version is \"202311\"\n",
      "INFO - 2024-04-26T17:42:16Z - Downloading using service original-files...\n"
     ]
    },
    {
     "name": "stderr",
     "output_type": "stream",
     "text": [
      "100%|██████████| 1/1 [00:13<00:00, 13.74s/it]\n"
     ]
    },
    {
     "name": "stdout",
     "output_type": "stream",
     "text": [
      "ERROR - 2024-04-26T17:42:34Z - Client version 0.10.1 is not compatible with current backend service. Please update to the latest client version.\n",
      "ERROR - 2024-04-26T17:42:34Z - Client version 0.10.1 is not compatible with current backend service. Please update to the latest client version.\n",
      "ERROR - 2024-04-26T17:42:34Z - Client version 0.10.1 is not compatible with current backend service. Please update to the latest client version.\n",
      "INFO - 2024-04-26T17:42:35Z - Selected dataset version is \"202311\"\n",
      "INFO - 2024-04-26T17:42:35Z - Downloading using service original-files...\n"
     ]
    },
    {
     "name": "stderr",
     "output_type": "stream",
     "text": [
      "100%|██████████| 1/1 [00:13<00:00, 13.88s/it]\n"
     ]
    },
    {
     "name": "stdout",
     "output_type": "stream",
     "text": [
      "ERROR - 2024-04-26T17:42:54Z - Client version 0.10.1 is not compatible with current backend service. Please update to the latest client version.\n",
      "ERROR - 2024-04-26T17:42:54Z - Client version 0.10.1 is not compatible with current backend service. Please update to the latest client version.\n",
      "ERROR - 2024-04-26T17:42:54Z - Client version 0.10.1 is not compatible with current backend service. Please update to the latest client version.\n",
      "INFO - 2024-04-26T17:42:54Z - Selected dataset version is \"202311\"\n",
      "INFO - 2024-04-26T17:42:54Z - Downloading using service original-files...\n"
     ]
    },
    {
     "name": "stderr",
     "output_type": "stream",
     "text": [
      "100%|██████████| 1/1 [00:13<00:00, 13.51s/it]\n"
     ]
    },
    {
     "name": "stdout",
     "output_type": "stream",
     "text": [
      "ERROR - 2024-04-26T17:43:13Z - Client version 0.10.1 is not compatible with current backend service. Please update to the latest client version.\n",
      "ERROR - 2024-04-26T17:43:13Z - Client version 0.10.1 is not compatible with current backend service. Please update to the latest client version.\n",
      "ERROR - 2024-04-26T17:43:13Z - Client version 0.10.1 is not compatible with current backend service. Please update to the latest client version.\n",
      "INFO - 2024-04-26T17:43:13Z - Selected dataset version is \"202311\"\n",
      "INFO - 2024-04-26T17:43:13Z - Downloading using service original-files...\n"
     ]
    },
    {
     "name": "stderr",
     "output_type": "stream",
     "text": [
      "100%|██████████| 1/1 [00:13<00:00, 13.50s/it]\n"
     ]
    },
    {
     "name": "stdout",
     "output_type": "stream",
     "text": [
      "ERROR - 2024-04-26T17:43:32Z - Client version 0.10.1 is not compatible with current backend service. Please update to the latest client version.\n",
      "ERROR - 2024-04-26T17:43:32Z - Client version 0.10.1 is not compatible with current backend service. Please update to the latest client version.\n",
      "ERROR - 2024-04-26T17:43:32Z - Client version 0.10.1 is not compatible with current backend service. Please update to the latest client version.\n",
      "INFO - 2024-04-26T17:43:32Z - Selected dataset version is \"202311\"\n",
      "INFO - 2024-04-26T17:43:32Z - Downloading using service original-files...\n"
     ]
    },
    {
     "name": "stderr",
     "output_type": "stream",
     "text": [
      "100%|██████████| 1/1 [00:13<00:00, 13.77s/it]\n"
     ]
    },
    {
     "name": "stdout",
     "output_type": "stream",
     "text": [
      "ERROR - 2024-04-26T17:43:51Z - Client version 0.10.1 is not compatible with current backend service. Please update to the latest client version.\n",
      "ERROR - 2024-04-26T17:43:51Z - Client version 0.10.1 is not compatible with current backend service. Please update to the latest client version.\n",
      "ERROR - 2024-04-26T17:43:51Z - Client version 0.10.1 is not compatible with current backend service. Please update to the latest client version.\n",
      "INFO - 2024-04-26T17:43:51Z - Selected dataset version is \"202311\"\n",
      "INFO - 2024-04-26T17:43:51Z - Downloading using service original-files...\n"
     ]
    },
    {
     "name": "stderr",
     "output_type": "stream",
     "text": [
      "100%|██████████| 1/1 [00:13<00:00, 13.48s/it]\n"
     ]
    },
    {
     "name": "stdout",
     "output_type": "stream",
     "text": [
      "ERROR - 2024-04-26T17:44:10Z - Client version 0.10.1 is not compatible with current backend service. Please update to the latest client version.\n",
      "ERROR - 2024-04-26T17:44:10Z - Client version 0.10.1 is not compatible with current backend service. Please update to the latest client version.\n",
      "ERROR - 2024-04-26T17:44:10Z - Client version 0.10.1 is not compatible with current backend service. Please update to the latest client version.\n",
      "INFO - 2024-04-26T17:44:10Z - Selected dataset version is \"202311\"\n",
      "INFO - 2024-04-26T17:44:10Z - Downloading using service original-files...\n"
     ]
    },
    {
     "name": "stderr",
     "output_type": "stream",
     "text": [
      "100%|██████████| 1/1 [00:13<00:00, 13.79s/it]\n"
     ]
    },
    {
     "name": "stdout",
     "output_type": "stream",
     "text": [
      "ERROR - 2024-04-26T17:44:29Z - Client version 0.10.1 is not compatible with current backend service. Please update to the latest client version.\n",
      "ERROR - 2024-04-26T17:44:29Z - Client version 0.10.1 is not compatible with current backend service. Please update to the latest client version.\n",
      "ERROR - 2024-04-26T17:44:29Z - Client version 0.10.1 is not compatible with current backend service. Please update to the latest client version.\n",
      "INFO - 2024-04-26T17:44:30Z - Selected dataset version is \"202311\"\n",
      "INFO - 2024-04-26T17:44:30Z - Downloading using service original-files...\n"
     ]
    },
    {
     "name": "stderr",
     "output_type": "stream",
     "text": [
      "100%|██████████| 1/1 [00:13<00:00, 13.59s/it]\n"
     ]
    },
    {
     "name": "stdout",
     "output_type": "stream",
     "text": [
      "ERROR - 2024-04-26T17:44:48Z - Client version 0.10.1 is not compatible with current backend service. Please update to the latest client version.\n",
      "ERROR - 2024-04-26T17:44:48Z - Client version 0.10.1 is not compatible with current backend service. Please update to the latest client version.\n",
      "ERROR - 2024-04-26T17:44:48Z - Client version 0.10.1 is not compatible with current backend service. Please update to the latest client version.\n",
      "INFO - 2024-04-26T17:44:49Z - Selected dataset version is \"202311\"\n",
      "INFO - 2024-04-26T17:44:49Z - Downloading using service original-files...\n"
     ]
    },
    {
     "name": "stderr",
     "output_type": "stream",
     "text": [
      "100%|██████████| 1/1 [00:13<00:00, 13.49s/it]\n"
     ]
    },
    {
     "name": "stdout",
     "output_type": "stream",
     "text": [
      "ERROR - 2024-04-26T17:45:07Z - Client version 0.10.1 is not compatible with current backend service. Please update to the latest client version.\n",
      "ERROR - 2024-04-26T17:45:07Z - Client version 0.10.1 is not compatible with current backend service. Please update to the latest client version.\n",
      "ERROR - 2024-04-26T17:45:07Z - Client version 0.10.1 is not compatible with current backend service. Please update to the latest client version.\n",
      "INFO - 2024-04-26T17:45:07Z - Selected dataset version is \"202311\"\n",
      "INFO - 2024-04-26T17:45:08Z - Downloading using service original-files...\n"
     ]
    },
    {
     "name": "stderr",
     "output_type": "stream",
     "text": [
      "100%|██████████| 1/1 [00:13<00:00, 13.38s/it]\n"
     ]
    },
    {
     "name": "stdout",
     "output_type": "stream",
     "text": [
      "ERROR - 2024-04-26T17:45:26Z - Client version 0.10.1 is not compatible with current backend service. Please update to the latest client version.\n",
      "ERROR - 2024-04-26T17:45:26Z - Client version 0.10.1 is not compatible with current backend service. Please update to the latest client version.\n",
      "ERROR - 2024-04-26T17:45:26Z - Client version 0.10.1 is not compatible with current backend service. Please update to the latest client version.\n",
      "INFO - 2024-04-26T17:45:26Z - Selected dataset version is \"202311\"\n",
      "INFO - 2024-04-26T17:45:26Z - Downloading using service original-files...\n"
     ]
    },
    {
     "name": "stderr",
     "output_type": "stream",
     "text": [
      "100%|██████████| 1/1 [00:13<00:00, 13.48s/it]\n"
     ]
    },
    {
     "name": "stdout",
     "output_type": "stream",
     "text": [
      "ERROR - 2024-04-26T17:45:45Z - Client version 0.10.1 is not compatible with current backend service. Please update to the latest client version.\n",
      "ERROR - 2024-04-26T17:45:45Z - Client version 0.10.1 is not compatible with current backend service. Please update to the latest client version.\n",
      "ERROR - 2024-04-26T17:45:45Z - Client version 0.10.1 is not compatible with current backend service. Please update to the latest client version.\n",
      "INFO - 2024-04-26T17:45:45Z - Selected dataset version is \"202311\"\n",
      "INFO - 2024-04-26T17:45:45Z - Downloading using service original-files...\n"
     ]
    },
    {
     "name": "stderr",
     "output_type": "stream",
     "text": [
      "100%|██████████| 1/1 [00:13<00:00, 13.53s/it]\n"
     ]
    },
    {
     "name": "stdout",
     "output_type": "stream",
     "text": [
      "ERROR - 2024-04-26T17:46:04Z - Client version 0.10.1 is not compatible with current backend service. Please update to the latest client version.\n",
      "ERROR - 2024-04-26T17:46:04Z - Client version 0.10.1 is not compatible with current backend service. Please update to the latest client version.\n",
      "ERROR - 2024-04-26T17:46:04Z - Client version 0.10.1 is not compatible with current backend service. Please update to the latest client version.\n",
      "INFO - 2024-04-26T17:46:04Z - Selected dataset version is \"202311\"\n",
      "INFO - 2024-04-26T17:46:04Z - Downloading using service original-files...\n"
     ]
    },
    {
     "name": "stderr",
     "output_type": "stream",
     "text": [
      "100%|██████████| 1/1 [00:13<00:00, 13.35s/it]\n"
     ]
    },
    {
     "name": "stdout",
     "output_type": "stream",
     "text": [
      "ERROR - 2024-04-26T17:46:23Z - Client version 0.10.1 is not compatible with current backend service. Please update to the latest client version.\n",
      "ERROR - 2024-04-26T17:46:23Z - Client version 0.10.1 is not compatible with current backend service. Please update to the latest client version.\n",
      "ERROR - 2024-04-26T17:46:23Z - Client version 0.10.1 is not compatible with current backend service. Please update to the latest client version.\n",
      "INFO - 2024-04-26T17:46:23Z - Selected dataset version is \"202311\"\n",
      "INFO - 2024-04-26T17:46:23Z - Downloading using service original-files...\n"
     ]
    },
    {
     "name": "stderr",
     "output_type": "stream",
     "text": [
      "100%|██████████| 1/1 [00:13<00:00, 13.47s/it]\n"
     ]
    },
    {
     "name": "stdout",
     "output_type": "stream",
     "text": [
      "ERROR - 2024-04-26T17:46:42Z - Client version 0.10.1 is not compatible with current backend service. Please update to the latest client version.\n",
      "ERROR - 2024-04-26T17:46:42Z - Client version 0.10.1 is not compatible with current backend service. Please update to the latest client version.\n",
      "ERROR - 2024-04-26T17:46:42Z - Client version 0.10.1 is not compatible with current backend service. Please update to the latest client version.\n",
      "INFO - 2024-04-26T17:46:42Z - Selected dataset version is \"202311\"\n",
      "INFO - 2024-04-26T17:46:42Z - Downloading using service original-files...\n"
     ]
    },
    {
     "name": "stderr",
     "output_type": "stream",
     "text": [
      "100%|██████████| 1/1 [00:13<00:00, 13.43s/it]\n"
     ]
    },
    {
     "name": "stdout",
     "output_type": "stream",
     "text": [
      "ERROR - 2024-04-26T17:47:01Z - Client version 0.10.1 is not compatible with current backend service. Please update to the latest client version.\n",
      "ERROR - 2024-04-26T17:47:01Z - Client version 0.10.1 is not compatible with current backend service. Please update to the latest client version.\n",
      "ERROR - 2024-04-26T17:47:01Z - Client version 0.10.1 is not compatible with current backend service. Please update to the latest client version.\n",
      "INFO - 2024-04-26T17:47:01Z - Selected dataset version is \"202311\"\n",
      "INFO - 2024-04-26T17:47:01Z - Downloading using service original-files...\n"
     ]
    },
    {
     "name": "stderr",
     "output_type": "stream",
     "text": [
      "100%|██████████| 1/1 [00:13<00:00, 13.43s/it]\n"
     ]
    },
    {
     "name": "stdout",
     "output_type": "stream",
     "text": [
      "ERROR - 2024-04-26T17:47:19Z - Client version 0.10.1 is not compatible with current backend service. Please update to the latest client version.\n",
      "ERROR - 2024-04-26T17:47:19Z - Client version 0.10.1 is not compatible with current backend service. Please update to the latest client version.\n",
      "ERROR - 2024-04-26T17:47:19Z - Client version 0.10.1 is not compatible with current backend service. Please update to the latest client version.\n",
      "INFO - 2024-04-26T17:47:20Z - Selected dataset version is \"202311\"\n",
      "INFO - 2024-04-26T17:47:20Z - Downloading using service original-files...\n"
     ]
    },
    {
     "name": "stderr",
     "output_type": "stream",
     "text": [
      "100%|██████████| 1/1 [00:13<00:00, 13.80s/it]\n"
     ]
    },
    {
     "name": "stdout",
     "output_type": "stream",
     "text": [
      "ERROR - 2024-04-26T17:47:39Z - Client version 0.10.1 is not compatible with current backend service. Please update to the latest client version.\n",
      "ERROR - 2024-04-26T17:47:39Z - Client version 0.10.1 is not compatible with current backend service. Please update to the latest client version.\n",
      "ERROR - 2024-04-26T17:47:39Z - Client version 0.10.1 is not compatible with current backend service. Please update to the latest client version.\n",
      "INFO - 2024-04-26T17:47:39Z - Selected dataset version is \"202311\"\n",
      "INFO - 2024-04-26T17:47:39Z - Downloading using service original-files...\n"
     ]
    },
    {
     "name": "stderr",
     "output_type": "stream",
     "text": [
      "100%|██████████| 1/1 [00:13<00:00, 13.58s/it]\n"
     ]
    },
    {
     "name": "stdout",
     "output_type": "stream",
     "text": [
      "ERROR - 2024-04-26T17:47:57Z - Client version 0.10.1 is not compatible with current backend service. Please update to the latest client version.\n",
      "ERROR - 2024-04-26T17:47:57Z - Client version 0.10.1 is not compatible with current backend service. Please update to the latest client version.\n",
      "ERROR - 2024-04-26T17:47:57Z - Client version 0.10.1 is not compatible with current backend service. Please update to the latest client version.\n",
      "INFO - 2024-04-26T17:47:58Z - Selected dataset version is \"202311\"\n",
      "INFO - 2024-04-26T17:47:58Z - Downloading using service original-files...\n"
     ]
    },
    {
     "name": "stderr",
     "output_type": "stream",
     "text": [
      "100%|██████████| 1/1 [00:13<00:00, 13.53s/it]\n"
     ]
    },
    {
     "name": "stdout",
     "output_type": "stream",
     "text": [
      "ERROR - 2024-04-26T17:48:16Z - Client version 0.10.1 is not compatible with current backend service. Please update to the latest client version.\n",
      "ERROR - 2024-04-26T17:48:16Z - Client version 0.10.1 is not compatible with current backend service. Please update to the latest client version.\n",
      "ERROR - 2024-04-26T17:48:16Z - Client version 0.10.1 is not compatible with current backend service. Please update to the latest client version.\n",
      "INFO - 2024-04-26T17:48:17Z - Selected dataset version is \"202311\"\n",
      "INFO - 2024-04-26T17:48:17Z - Downloading using service original-files...\n"
     ]
    },
    {
     "name": "stderr",
     "output_type": "stream",
     "text": [
      "100%|██████████| 1/1 [00:13<00:00, 13.58s/it]\n"
     ]
    },
    {
     "name": "stdout",
     "output_type": "stream",
     "text": [
      "ERROR - 2024-04-26T17:48:35Z - Client version 0.10.1 is not compatible with current backend service. Please update to the latest client version.\n",
      "ERROR - 2024-04-26T17:48:35Z - Client version 0.10.1 is not compatible with current backend service. Please update to the latest client version.\n",
      "ERROR - 2024-04-26T17:48:35Z - Client version 0.10.1 is not compatible with current backend service. Please update to the latest client version.\n",
      "INFO - 2024-04-26T17:48:36Z - Selected dataset version is \"202311\"\n",
      "INFO - 2024-04-26T17:48:36Z - Downloading using service original-files...\n"
     ]
    },
    {
     "name": "stderr",
     "output_type": "stream",
     "text": [
      "100%|██████████| 1/1 [00:13<00:00, 13.50s/it]\n"
     ]
    },
    {
     "name": "stdout",
     "output_type": "stream",
     "text": [
      "ERROR - 2024-04-26T17:48:54Z - Client version 0.10.1 is not compatible with current backend service. Please update to the latest client version.\n",
      "ERROR - 2024-04-26T17:48:54Z - Client version 0.10.1 is not compatible with current backend service. Please update to the latest client version.\n",
      "ERROR - 2024-04-26T17:48:54Z - Client version 0.10.1 is not compatible with current backend service. Please update to the latest client version.\n",
      "INFO - 2024-04-26T17:48:55Z - Selected dataset version is \"202311\"\n",
      "INFO - 2024-04-26T17:48:55Z - Downloading using service original-files...\n"
     ]
    },
    {
     "name": "stderr",
     "output_type": "stream",
     "text": [
      "100%|██████████| 1/1 [00:13<00:00, 13.25s/it]\n"
     ]
    },
    {
     "name": "stdout",
     "output_type": "stream",
     "text": [
      "ERROR - 2024-04-26T17:49:13Z - Client version 0.10.1 is not compatible with current backend service. Please update to the latest client version.\n",
      "ERROR - 2024-04-26T17:49:13Z - Client version 0.10.1 is not compatible with current backend service. Please update to the latest client version.\n",
      "ERROR - 2024-04-26T17:49:13Z - Client version 0.10.1 is not compatible with current backend service. Please update to the latest client version.\n",
      "INFO - 2024-04-26T17:49:14Z - Selected dataset version is \"202311\"\n",
      "INFO - 2024-04-26T17:49:14Z - Downloading using service original-files...\n"
     ]
    },
    {
     "name": "stderr",
     "output_type": "stream",
     "text": [
      "100%|██████████| 1/1 [00:13<00:00, 13.66s/it]\n"
     ]
    },
    {
     "name": "stdout",
     "output_type": "stream",
     "text": [
      "ERROR - 2024-04-26T17:49:32Z - Client version 0.10.1 is not compatible with current backend service. Please update to the latest client version.\n",
      "ERROR - 2024-04-26T17:49:32Z - Client version 0.10.1 is not compatible with current backend service. Please update to the latest client version.\n",
      "ERROR - 2024-04-26T17:49:32Z - Client version 0.10.1 is not compatible with current backend service. Please update to the latest client version.\n",
      "INFO - 2024-04-26T17:49:32Z - Selected dataset version is \"202311\"\n",
      "INFO - 2024-04-26T17:49:32Z - Downloading using service original-files...\n"
     ]
    },
    {
     "name": "stderr",
     "output_type": "stream",
     "text": [
      "100%|██████████| 1/1 [00:13<00:00, 13.73s/it]\n"
     ]
    },
    {
     "name": "stdout",
     "output_type": "stream",
     "text": [
      "ERROR - 2024-04-26T17:49:51Z - Client version 0.10.1 is not compatible with current backend service. Please update to the latest client version.\n",
      "ERROR - 2024-04-26T17:49:51Z - Client version 0.10.1 is not compatible with current backend service. Please update to the latest client version.\n",
      "ERROR - 2024-04-26T17:49:51Z - Client version 0.10.1 is not compatible with current backend service. Please update to the latest client version.\n",
      "INFO - 2024-04-26T17:49:51Z - Selected dataset version is \"202311\"\n",
      "INFO - 2024-04-26T17:49:51Z - Downloading using service original-files...\n"
     ]
    },
    {
     "name": "stderr",
     "output_type": "stream",
     "text": [
      "100%|██████████| 1/1 [00:13<00:00, 13.56s/it]\n"
     ]
    },
    {
     "name": "stdout",
     "output_type": "stream",
     "text": [
      "ERROR - 2024-04-26T17:50:10Z - Client version 0.10.1 is not compatible with current backend service. Please update to the latest client version.\n",
      "ERROR - 2024-04-26T17:50:10Z - Client version 0.10.1 is not compatible with current backend service. Please update to the latest client version.\n",
      "ERROR - 2024-04-26T17:50:10Z - Client version 0.10.1 is not compatible with current backend service. Please update to the latest client version.\n",
      "INFO - 2024-04-26T17:50:10Z - Selected dataset version is \"202311\"\n",
      "INFO - 2024-04-26T17:50:10Z - Downloading using service original-files...\n"
     ]
    },
    {
     "name": "stderr",
     "output_type": "stream",
     "text": [
      "100%|██████████| 1/1 [00:13<00:00, 13.28s/it]\n"
     ]
    },
    {
     "name": "stdout",
     "output_type": "stream",
     "text": [
      "ERROR - 2024-04-26T17:50:29Z - Client version 0.10.1 is not compatible with current backend service. Please update to the latest client version.\n",
      "ERROR - 2024-04-26T17:50:29Z - Client version 0.10.1 is not compatible with current backend service. Please update to the latest client version.\n",
      "ERROR - 2024-04-26T17:50:29Z - Client version 0.10.1 is not compatible with current backend service. Please update to the latest client version.\n",
      "INFO - 2024-04-26T17:50:29Z - Selected dataset version is \"202311\"\n",
      "INFO - 2024-04-26T17:50:29Z - Downloading using service original-files...\n"
     ]
    },
    {
     "name": "stderr",
     "output_type": "stream",
     "text": [
      "100%|██████████| 1/1 [00:13<00:00, 13.65s/it]\n"
     ]
    },
    {
     "name": "stdout",
     "output_type": "stream",
     "text": [
      "ERROR - 2024-04-26T17:50:48Z - Client version 0.10.1 is not compatible with current backend service. Please update to the latest client version.\n",
      "ERROR - 2024-04-26T17:50:48Z - Client version 0.10.1 is not compatible with current backend service. Please update to the latest client version.\n",
      "ERROR - 2024-04-26T17:50:48Z - Client version 0.10.1 is not compatible with current backend service. Please update to the latest client version.\n",
      "INFO - 2024-04-26T17:50:48Z - Selected dataset version is \"202311\"\n",
      "INFO - 2024-04-26T17:50:48Z - Downloading using service original-files...\n"
     ]
    },
    {
     "name": "stderr",
     "output_type": "stream",
     "text": [
      "100%|██████████| 1/1 [00:13<00:00, 13.36s/it]\n"
     ]
    },
    {
     "name": "stdout",
     "output_type": "stream",
     "text": [
      "ERROR - 2024-04-26T17:51:06Z - Client version 0.10.1 is not compatible with current backend service. Please update to the latest client version.\n",
      "ERROR - 2024-04-26T17:51:06Z - Client version 0.10.1 is not compatible with current backend service. Please update to the latest client version.\n",
      "ERROR - 2024-04-26T17:51:06Z - Client version 0.10.1 is not compatible with current backend service. Please update to the latest client version.\n",
      "INFO - 2024-04-26T17:51:06Z - Selected dataset version is \"202311\"\n",
      "INFO - 2024-04-26T17:51:06Z - Downloading using service original-files...\n"
     ]
    },
    {
     "name": "stderr",
     "output_type": "stream",
     "text": [
      "100%|██████████| 1/1 [00:13<00:00, 13.41s/it]\n"
     ]
    },
    {
     "name": "stdout",
     "output_type": "stream",
     "text": [
      "ERROR - 2024-04-26T17:51:25Z - Client version 0.10.1 is not compatible with current backend service. Please update to the latest client version.\n",
      "ERROR - 2024-04-26T17:51:25Z - Client version 0.10.1 is not compatible with current backend service. Please update to the latest client version.\n",
      "ERROR - 2024-04-26T17:51:25Z - Client version 0.10.1 is not compatible with current backend service. Please update to the latest client version.\n",
      "INFO - 2024-04-26T17:51:25Z - Selected dataset version is \"202311\"\n",
      "INFO - 2024-04-26T17:51:25Z - Downloading using service original-files...\n"
     ]
    },
    {
     "name": "stderr",
     "output_type": "stream",
     "text": [
      "100%|██████████| 1/1 [00:13<00:00, 13.57s/it]\n"
     ]
    },
    {
     "name": "stdout",
     "output_type": "stream",
     "text": [
      "ERROR - 2024-04-26T17:51:44Z - Client version 0.10.1 is not compatible with current backend service. Please update to the latest client version.\n",
      "ERROR - 2024-04-26T17:51:44Z - Client version 0.10.1 is not compatible with current backend service. Please update to the latest client version.\n",
      "ERROR - 2024-04-26T17:51:44Z - Client version 0.10.1 is not compatible with current backend service. Please update to the latest client version.\n",
      "INFO - 2024-04-26T17:51:45Z - Selected dataset version is \"202311\"\n",
      "INFO - 2024-04-26T17:51:45Z - Downloading using service original-files...\n"
     ]
    },
    {
     "name": "stderr",
     "output_type": "stream",
     "text": [
      "100%|██████████| 1/1 [00:13<00:00, 13.52s/it]\n"
     ]
    },
    {
     "name": "stdout",
     "output_type": "stream",
     "text": [
      "ERROR - 2024-04-26T17:52:03Z - Client version 0.10.1 is not compatible with current backend service. Please update to the latest client version.\n",
      "ERROR - 2024-04-26T17:52:03Z - Client version 0.10.1 is not compatible with current backend service. Please update to the latest client version.\n",
      "ERROR - 2024-04-26T17:52:03Z - Client version 0.10.1 is not compatible with current backend service. Please update to the latest client version.\n",
      "INFO - 2024-04-26T17:52:03Z - Selected dataset version is \"202311\"\n",
      "INFO - 2024-04-26T17:52:03Z - Downloading using service original-files...\n"
     ]
    },
    {
     "name": "stderr",
     "output_type": "stream",
     "text": [
      "100%|██████████| 1/1 [00:13<00:00, 13.48s/it]\n"
     ]
    },
    {
     "name": "stdout",
     "output_type": "stream",
     "text": [
      "ERROR - 2024-04-26T17:52:22Z - Client version 0.10.1 is not compatible with current backend service. Please update to the latest client version.\n",
      "ERROR - 2024-04-26T17:52:22Z - Client version 0.10.1 is not compatible with current backend service. Please update to the latest client version.\n",
      "ERROR - 2024-04-26T17:52:22Z - Client version 0.10.1 is not compatible with current backend service. Please update to the latest client version.\n",
      "INFO - 2024-04-26T17:52:22Z - Selected dataset version is \"202311\"\n",
      "INFO - 2024-04-26T17:52:22Z - Downloading using service original-files...\n"
     ]
    },
    {
     "name": "stderr",
     "output_type": "stream",
     "text": [
      "100%|██████████| 1/1 [00:13<00:00, 13.74s/it]\n"
     ]
    },
    {
     "name": "stdout",
     "output_type": "stream",
     "text": [
      "ERROR - 2024-04-26T17:52:42Z - Client version 0.10.1 is not compatible with current backend service. Please update to the latest client version.\n",
      "ERROR - 2024-04-26T17:52:42Z - Client version 0.10.1 is not compatible with current backend service. Please update to the latest client version.\n",
      "ERROR - 2024-04-26T17:52:42Z - Client version 0.10.1 is not compatible with current backend service. Please update to the latest client version.\n",
      "INFO - 2024-04-26T17:52:42Z - Selected dataset version is \"202311\"\n",
      "INFO - 2024-04-26T17:52:42Z - Downloading using service original-files...\n"
     ]
    },
    {
     "name": "stderr",
     "output_type": "stream",
     "text": [
      "100%|██████████| 1/1 [00:13<00:00, 13.65s/it]\n"
     ]
    }
   ],
   "source": [
    "import datetime\n",
    "import os\n",
    "import xarray as xr\n",
    "import copernicus_marine_client as copernicus_marine\n",
    "\n",
    "regions = [\n",
    "    {\"min_lon\": -79, \"max_lon\": -41, \"min_lat\": 25, \"max_lat\": 44},\n",
    "    {\"min_lon\": -175, \"max_lon\": -135, \"min_lat\": 15, \"max_lat\": 40},\n",
    "]\n",
    "\n",
    "def generate_dates(start_year, end_year):\n",
    "    dates = []\n",
    "    for year in range(start_year, end_year + 1):\n",
    "        for month in range(1, 13):\n",
    "            for day in range(1, 32):\n",
    "                try:\n",
    "                    date = datetime.date(year, month, day)\n",
    "                    dates.append(date.strftime(\"%Y%m%d\"))\n",
    "                except ValueError:\n",
    "                    pass\n",
    "    return dates\n",
    "\n",
    "start_year = 2008\n",
    "end_year = 2009\n",
    "dates_2008_2009 = generate_dates(start_year, end_year)\n",
    "outdir ='model_val'\n",
    "model_dir = 'tmp'\n",
    "\n",
    "for date in dates_2008_2009:\n",
    "    # Load xarray dataset\n",
    "    sst_l3s = copernicus_marine.get(\n",
    "        dataset_id = \"cmems_mod_glo_phy-all_my_0.25deg_P1D-m\",\n",
    "        username = \"\", #fill with user and password\n",
    "        password = \"\",\n",
    "        force_download = True,\n",
    "        filter = '*'+date+'*.nc*',\n",
    "        output_directory= model_dir,\n",
    "        no_directories = True\n",
    "    )\n",
    "\n",
    "    sst_l3s = f'{model_dir}/cmems_mod_glo_phy-all_my_0.25deg_P1D-m-{date}.nc'\n",
    "    ds = xr.open_dataset(sst_l3s)\n",
    "\n",
    "    for i, region in enumerate(regions, start=1):\n",
    "        min_lon = region[\"min_lon\"]\n",
    "        max_lon = region[\"max_lon\"]\n",
    "        min_lat = region[\"min_lat\"]\n",
    "        max_lat = region[\"max_lat\"]\n",
    "\n",
    "        region_data = ds.sel(latitude=slice(min_lat, max_lat), longitude=slice(min_lon, max_lon))\n",
    "\n",
    "        filtered_region = region_data.where(region_data.depth < 1000, drop=True)\n",
    "\n",
    "        filename = f\"{outdir}/{date}_region{i}.nc\"\n",
    "        filtered_region.to_netcdf(filename)\n",
    "\n",
    "    os.remove(sst_l3s)\n"
   ]
  }
 ],
 "metadata": {
  "kernelspec": {
   "display_name": "Python 3 (ipykernel)",
   "language": "python",
   "name": "python3"
  },
  "language_info": {
   "codemirror_mode": {
    "name": "ipython",
    "version": 3
   },
   "file_extension": ".py",
   "mimetype": "text/x-python",
   "name": "python",
   "nbconvert_exporter": "python",
   "pygments_lexer": "ipython3",
   "version": "3.9.18"
  }
 },
 "nbformat": 4,
 "nbformat_minor": 2
}
